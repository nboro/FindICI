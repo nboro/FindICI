{
 "cells": [
  {
   "cell_type": "code",
   "execution_count": 1,
   "metadata": {},
   "outputs": [
    {
     "name": "stderr",
     "output_type": "stream",
     "text": [
      "[nltk_data] Downloading package punkt to\n",
      "[nltk_data]     C:\\Users\\Userpc\\AppData\\Roaming\\nltk_data...\n",
      "[nltk_data]   Package punkt is already up-to-date!\n",
      "[nltk_data] Downloading package stopwords to\n",
      "[nltk_data]     C:\\Users\\Userpc\\AppData\\Roaming\\nltk_data...\n",
      "[nltk_data]   Package stopwords is already up-to-date!\n"
     ]
    },
    {
     "data": {
      "text/plain": [
       "True"
      ]
     },
     "execution_count": 1,
     "metadata": {},
     "output_type": "execute_result"
    }
   ],
   "source": [
    "import pandas as pd\n",
    "import numpy as np\n",
    "import pickle\n",
    "import re\n",
    "from pprint import pprint\n",
    "import matplotlib.pyplot as plt\n",
    "import seaborn as sns\n",
    "from collections import defaultdict\n",
    "sns.set\n",
    "%matplotlib inline\n",
    "import spacy\n",
    "import nltk\n",
    "from nltk import word_tokenize,sent_tokenize\n",
    "from nltk.tokenize import word_tokenize\n",
    "from nltk.corpus import stopwords\n",
    "from nltk.stem import PorterStemmer\n",
    "from gensim import corpora\n",
    "from gensim.models.ldamodel import LdaModel\n",
    "from sklearn.feature_extraction.text import CountVectorizer\n",
    "from sklearn.feature_extraction.text import TfidfVectorizer\n",
    "import pyLDAvis.gensim\n",
    "from sklearn.decomposition import TruncatedSVD\n",
    "from sklearn.decomposition import LatentDirichletAllocation\n",
    "from sklearn.manifold import TSNE\n",
    "from bokeh.plotting import figure, output_file, show\n",
    "from bokeh.models import Label,ColumnDataSource,Legend, LegendItem\n",
    "from bokeh.io import output_notebook\n",
    "from gensim.models import CoherenceModel\n",
    "from collections import Counter\n",
    "nltk.download('punkt')\n",
    "nltk.download('stopwords')"
   ]
  },
  {
   "cell_type": "code",
   "execution_count": 2,
   "metadata": {},
   "outputs": [],
   "source": [
    "commits_df = pd.read_excel('commits_from_merged_repos.xlsx')"
   ]
  },
  {
   "cell_type": "code",
   "execution_count": 3,
   "metadata": {},
   "outputs": [
    {
     "data": {
      "text/html": [
       "<div>\n",
       "<style scoped>\n",
       "    .dataframe tbody tr th:only-of-type {\n",
       "        vertical-align: middle;\n",
       "    }\n",
       "\n",
       "    .dataframe tbody tr th {\n",
       "        vertical-align: top;\n",
       "    }\n",
       "\n",
       "    .dataframe thead th {\n",
       "        text-align: right;\n",
       "    }\n",
       "</style>\n",
       "<table border=\"1\" class=\"dataframe\">\n",
       "  <thead>\n",
       "    <tr style=\"text-align: right;\">\n",
       "      <th></th>\n",
       "      <th>Unnamed: 0</th>\n",
       "      <th>Repo name</th>\n",
       "      <th>Commit hash</th>\n",
       "      <th>Commit msg</th>\n",
       "      <th>keywords</th>\n",
       "      <th>full_commit_url</th>\n",
       "    </tr>\n",
       "  </thead>\n",
       "  <tbody>\n",
       "    <tr>\n",
       "      <th>0</th>\n",
       "      <td>0</td>\n",
       "      <td>hashnfv/hashnfv-qtip</td>\n",
       "      <td>9dec9cdeaafb8c336dda3d61a92542ff63e1c6ff</td>\n",
       "      <td>Resolved bug in sys_info_collection playbook\\n...</td>\n",
       "      <td>{'bug'}</td>\n",
       "      <td>https://github.com/hashnfv/hashnfv-qtip/commit...</td>\n",
       "    </tr>\n",
       "    <tr>\n",
       "      <th>1</th>\n",
       "      <td>1</td>\n",
       "      <td>hashnfv/hashnfv-qtip</td>\n",
       "      <td>4c06a4ed3b3b22e3dbcddb33dda33ca773dfae11</td>\n",
       "      <td>error handling for the files being input to th...</td>\n",
       "      <td>{'fix', 'bug'}</td>\n",
       "      <td>https://github.com/hashnfv/hashnfv-qtip/commit...</td>\n",
       "    </tr>\n",
       "    <tr>\n",
       "      <th>2</th>\n",
       "      <td>2</td>\n",
       "      <td>hashnfv/hashnfv-qtip</td>\n",
       "      <td>3602709256e3e060dbbaf26c85f38891be4c7aa9</td>\n",
       "      <td>Patch for fixing ramspeed result_transform bug...</td>\n",
       "      <td>{'bug'}</td>\n",
       "      <td>https://github.com/hashnfv/hashnfv-qtip/commit...</td>\n",
       "    </tr>\n",
       "    <tr>\n",
       "      <th>3</th>\n",
       "      <td>3</td>\n",
       "      <td>hashnfv/hashnfv-qtip</td>\n",
       "      <td>bec658afadacfeeca9fbfbe598ceb5c5601a3372</td>\n",
       "      <td>run_qtip.sh fix\\n\\nRenamed compute.txt to comp...</td>\n",
       "      <td>{'fix'}</td>\n",
       "      <td>https://github.com/hashnfv/hashnfv-qtip/commit...</td>\n",
       "    </tr>\n",
       "    <tr>\n",
       "      <th>4</th>\n",
       "      <td>4</td>\n",
       "      <td>hashnfv/hashnfv-qtip</td>\n",
       "      <td>9cff8cab939a91867f413d2ecdf09aa93f40bfc0</td>\n",
       "      <td>bug fix in pushtodb\\n\\nChange-Id: I2cba0a80527...</td>\n",
       "      <td>{'fix', 'bug'}</td>\n",
       "      <td>https://github.com/hashnfv/hashnfv-qtip/commit...</td>\n",
       "    </tr>\n",
       "  </tbody>\n",
       "</table>\n",
       "</div>"
      ],
      "text/plain": [
       "   Unnamed: 0             Repo name                               Commit hash  \\\n",
       "0           0  hashnfv/hashnfv-qtip  9dec9cdeaafb8c336dda3d61a92542ff63e1c6ff   \n",
       "1           1  hashnfv/hashnfv-qtip  4c06a4ed3b3b22e3dbcddb33dda33ca773dfae11   \n",
       "2           2  hashnfv/hashnfv-qtip  3602709256e3e060dbbaf26c85f38891be4c7aa9   \n",
       "3           3  hashnfv/hashnfv-qtip  bec658afadacfeeca9fbfbe598ceb5c5601a3372   \n",
       "4           4  hashnfv/hashnfv-qtip  9cff8cab939a91867f413d2ecdf09aa93f40bfc0   \n",
       "\n",
       "                                          Commit msg        keywords  \\\n",
       "0  Resolved bug in sys_info_collection playbook\\n...         {'bug'}   \n",
       "1  error handling for the files being input to th...  {'fix', 'bug'}   \n",
       "2  Patch for fixing ramspeed result_transform bug...         {'bug'}   \n",
       "3  run_qtip.sh fix\\n\\nRenamed compute.txt to comp...         {'fix'}   \n",
       "4  bug fix in pushtodb\\n\\nChange-Id: I2cba0a80527...  {'fix', 'bug'}   \n",
       "\n",
       "                                     full_commit_url  \n",
       "0  https://github.com/hashnfv/hashnfv-qtip/commit...  \n",
       "1  https://github.com/hashnfv/hashnfv-qtip/commit...  \n",
       "2  https://github.com/hashnfv/hashnfv-qtip/commit...  \n",
       "3  https://github.com/hashnfv/hashnfv-qtip/commit...  \n",
       "4  https://github.com/hashnfv/hashnfv-qtip/commit...  "
      ]
     },
     "execution_count": 3,
     "metadata": {},
     "output_type": "execute_result"
    }
   ],
   "source": [
    "commits_df.head()"
   ]
  },
  {
   "cell_type": "code",
   "execution_count": 4,
   "metadata": {},
   "outputs": [
    {
     "data": {
      "text/plain": [
       "0       Resolved bug in sys_info_collection playbook\\n...\n",
       "1       error handling for the files being input to th...\n",
       "2       Patch for fixing ramspeed result_transform bug...\n",
       "3       run_qtip.sh fix\\n\\nRenamed compute.txt to comp...\n",
       "4       bug fix in pushtodb\\n\\nChange-Id: I2cba0a80527...\n",
       "                              ...                        \n",
       "4488    Add support for enabling authentication on the...\n",
       "4489    Clearing things up, add documentation\\n\\nAdd d...\n",
       "4490    grafana: fix gnocchi datasource config\\n\\nGraf...\n",
       "4491    Open gnocchi port - Refactor gnocchi\\n\\nCurren...\n",
       "4492    Check management refactor\\n\\nCurrent Sensu che...\n",
       "Name: Commit msg, Length: 4493, dtype: object"
      ]
     },
     "execution_count": 4,
     "metadata": {},
     "output_type": "execute_result"
    }
   ],
   "source": [
    "commits_df['Commit msg']"
   ]
  },
  {
   "cell_type": "code",
   "execution_count": 5,
   "metadata": {},
   "outputs": [],
   "source": [
    "corpus_commits = [word_tokenize(token) for token in commits_df['Commit msg']]"
   ]
  },
  {
   "cell_type": "code",
   "execution_count": 6,
   "metadata": {},
   "outputs": [],
   "source": [
    "lowercase_commits = [[token.lower() for token in doc] for doc in corpus_commits]"
   ]
  },
  {
   "cell_type": "code",
   "execution_count": 7,
   "metadata": {},
   "outputs": [],
   "source": [
    "alphas_commits = [[token for token in doc if token.isalpha()] for doc in lowercase_commits]"
   ]
  },
  {
   "cell_type": "code",
   "execution_count": 1225,
   "metadata": {},
   "outputs": [],
   "source": [
    "stop_words = stopwords.words('english')\n",
    "stop_words.extend(['workshop','id','han','inaugustcom','corvus','james','blair','fix','change','zabbix','bug','com','boylan','clark','inaugust','ceph',\n",
    "                  'ansible','redhat','gmail','signed','merge','openstack','abrioux','guillaume','ocp','osd','azure','gabrioux','pod','opentic','seb',\n",
    "                  'client','docker','https','yml','org','jenkins','readme','jeremy','stanley','fungi','kevin','carter','dimitri','savineu','monty',\n",
    "                  'tailor','pete','birley','andrew','schoen','openstack_project','yuggoth','zhang','yujun','yujunz','closes','fridim','review','name',\n",
    "                  'common','rgw','adoc','main','lab','rbd','pr','prometheus','oidc','ps','ha','3scale','enmasse', 'cvmfs','pp','git','rhcs',\n",
    "                   'job','debian','keystone','bugzilla','want','python','add','pull','merged','commit','default','test','tests','crabby',\n",
    "                   'i0f6c7c88f5a153efac70c52e3c39a5ab7261f1fc','use','2201','2291','i9d6adbe293543f953b0fd8b94b94cf21e914cc0b',\n",
    "                   'testaccbigquerytable_viewwithlegacysql','1568029','1744','typos','doc','minor','downs','downloaded','drawing','draw','drastically',\n",
    "                   'dramirezp','dramatically','dpkg','drivers','driven','drives','drift','drew','dreamhost','dreaded','drag','drafts','draft','dprince',\n",
    "                   'dpdkctl','loc','telescope','gxadmin','flavours','build_location_urls','drops','dropping','dropped','drmaa','drivers','driver','drive', \n",
    "                   'dpdk','downtime','downstreams','downstreaming','downstream','downsides','i278210477676fdb23db059309b955e7408cf2ec0','downloading', \n",
    "                   'dsavineau','dsavinea','ds','dry','drush','drupal','drop','downside','due','dtdream','dtdg','dsvm','dstat','dss','dsd','opentlc',\n",
    "                   'roles','playbooks','also','puppet','logstash','kibana','instead','gerrit','reverts','identity','comments','taylor','mordred',\n",
    "                  'rabbitmq','grafana','elasticsearch','label','dot','nova','tempest','ipa'])"
   ]
  },
  {
   "cell_type": "code",
   "execution_count": 1226,
   "metadata": {},
   "outputs": [],
   "source": [
    "commits_no_stop = [[token for token in doc if token not in stop_words] for doc in alphas_commits]"
   ]
  },
  {
   "cell_type": "code",
   "execution_count": 1227,
   "metadata": {},
   "outputs": [],
   "source": [
    "commits_clean_no_stem = [ ' '.join(doc) for doc in commits_no_stop]"
   ]
  },
  {
   "cell_type": "code",
   "execution_count": 1228,
   "metadata": {},
   "outputs": [],
   "source": [
    "stemmer = PorterStemmer()\n",
    "stemmed_commits = [[stemmer.stem(token) for token in doc] for doc in commits_no_stop]"
   ]
  },
  {
   "cell_type": "code",
   "execution_count": 1229,
   "metadata": {},
   "outputs": [],
   "source": [
    "commits_clean_str = [ ' '.join(doc) for doc in stemmed_commits]"
   ]
  },
  {
   "cell_type": "markdown",
   "metadata": {},
   "source": [
    "<h4>Counting the ten most common words in the commits</h4>"
   ]
  },
  {
   "cell_type": "code",
   "execution_count": 1230,
   "metadata": {},
   "outputs": [
    {
     "data": {
      "image/png": "[encoded data removed]",
      "text/plain": [
       "<Figure size 864x576 with 1 Axes>"
      ]
     },
     "metadata": {
      "needs_background": "light"
     },
     "output_type": "display_data"
    }
   ],
   "source": [
    "counter = defaultdict(int)\n",
    "for doc in commits_no_stop:\n",
    "    for token in doc:\n",
    "        counter[token] += 1\n",
    "\n",
    "c = Counter(counter)\n",
    "\n",
    "commons = c.most_common(20)\n",
    "x = [x[0] for x in commons]\n",
    "y = [x[1] for x in commons]\n",
    "fig = plt.figure(figsize=(12, 8))\n",
    "ax = fig.add_axes([0,0,1,1])\n",
    "ax.grid(False)\n",
    "plt.bar(x,y)\n",
    "plt.xticks(fontsize=14,rotation=45)\n",
    "plt.yticks(fontsize=14)\n",
    "plt.xlabel('Words', fontsize=15,labelpad=15)\n",
    "plt.ylabel('Occurence\\nnumber', fontsize=15,rotation=0,labelpad=55)\n",
    "# plt.savefig('top10_words_commits.jpg',bbox_inches = 'tight')\n",
    "plt.show()"
   ]
  },
  {
   "cell_type": "markdown",
   "metadata": {},
   "source": [
    "<h4>Topic modelling with LDA</h4>"
   ]
  },
  {
   "cell_type": "code",
   "execution_count": 1231,
   "metadata": {},
   "outputs": [],
   "source": [
    "dictionary = corpora.Dictionary(commits_no_stop)"
   ]
  },
  {
   "cell_type": "code",
   "execution_count": 1232,
   "metadata": {},
   "outputs": [],
   "source": [
    "corpus_1_commits = [dictionary.doc2bow(token) for token in commits_no_stop]"
   ]
  },
  {
   "cell_type": "code",
   "execution_count": 1247,
   "metadata": {},
   "outputs": [
    {
     "name": "stdout",
     "output_type": "stream",
     "text": [
      "Perplexity:  -7.974202961912858\n",
      "Wall time: 47.3 s\n"
     ]
    }
   ],
   "source": [
    "%%time\n",
    "lda_model_commits = LdaModel(corpus = corpus_1_commits, id2word=dictionary, num_topics=10,random_state=58,passes=20,alpha='asymmetric',eta='symmetric')\n",
    "print('Perplexity: ', lda_model_commits.log_perplexity(corpus_1_commits))  "
   ]
  },
  {
   "cell_type": "code",
   "execution_count": 1248,
   "metadata": {},
   "outputs": [
    {
     "name": "stdout",
     "output_type": "stream",
     "text": [
      "Coherence Score:  0.38212978771568895\n"
     ]
    }
   ],
   "source": [
    "coherence_model_lda = CoherenceModel(model=lda_model_commits, texts=commits_no_stop, dictionary=dictionary, coherence='c_v')\n",
    "coherence_lda = coherence_model_lda.get_coherence()\n",
    "print('Coherence Score: ', coherence_lda)"
   ]
  },
  {
   "cell_type": "code",
   "execution_count": 1236,
   "metadata": {},
   "outputs": [
    {
     "name": "stdout",
     "output_type": "stream",
     "text": [
      "[(0,\n",
      "  '0.017*\"container\" + 0.010*\"file\" + 0.009*\"log\" + 0.009*\"request\" + '\n",
      "  '0.008*\"adds\" + 0.008*\"refactor\" + 0.008*\"new\" + 0.007*\"resource\" + '\n",
      "  '0.007*\"changes\" + 0.007*\"support\"'),\n",
      " (1,\n",
      "  '0.017*\"host\" + 0.014*\"role\" + 0.012*\"run\" + 0.011*\"memory\" + '\n",
      "  '0.008*\"playbook\" + 0.008*\"set\" + 0.007*\"nodes\" + 0.007*\"node\" + '\n",
      "  '0.007*\"image\" + 0.007*\"performance\"'),\n",
      " (2,\n",
      "  '0.013*\"file\" + 0.013*\"update\" + 0.010*\"added\" + 0.010*\"typo\" + 0.009*\"role\" '\n",
      "  '+ 0.009*\"install\" + 0.009*\"docs\" + 0.008*\"script\" + 0.008*\"patch\" + '\n",
      "  '0.008*\"updated\"'),\n",
      " (3,\n",
      "  '0.015*\"security\" + 0.012*\"docs\" + 0.011*\"note\" + 0.011*\"within\" + '\n",
      "  '0.010*\"cleanup\" + 0.009*\"hosts\" + 0.009*\"updates\" + 0.009*\"variables\" + '\n",
      "  '0.009*\"updated\" + 0.008*\"role\"'),\n",
      " (4,\n",
      "  '0.018*\"upgrade\" + 0.017*\"neutron\" + 0.017*\"version\" + 0.012*\"update\" + '\n",
      "  '0.010*\"revert\" + 0.010*\"set\" + 0.010*\"tox\" + 0.009*\"file\" + 0.009*\"branch\" '\n",
      "  '+ 0.009*\"value\"'),\n",
      " (5,\n",
      "  '0.013*\"performance\" + 0.012*\"haproxy\" + 0.011*\"jobs\" + 0.009*\"patch\" + '\n",
      "  '0.009*\"apache\" + 0.008*\"variables\" + 0.008*\"configuration\" + '\n",
      "  '0.007*\"opensuse\" + 0.007*\"issue\" + 0.007*\"remove\"'),\n",
      " (6,\n",
      "  '0.016*\"sha\" + 0.014*\"neutron\" + 0.014*\"swap\" + 0.011*\"memory\" + '\n",
      "  '0.011*\"backend\" + 0.010*\"patch\" + 0.010*\"bump\" + 0.009*\"gnocchi\" + '\n",
      "  '0.008*\"role\" + 0.008*\"lvm\"'),\n",
      " (7,\n",
      "  '0.031*\"group\" + 0.025*\"small\" + 0.018*\"keepalived\" + 0.016*\"sébastien\" + '\n",
      "  '0.015*\"services\" + 0.014*\"device\" + 0.014*\"compute\" + 0.012*\"devices\" + '\n",
      "  '0.012*\"resource\" + 0.012*\"purge\"'),\n",
      " (8,\n",
      "  '0.065*\"security\" + 0.034*\"context\" + 0.031*\"error\" + 0.020*\"failed\" + '\n",
      "  '0.014*\"true\" + 0.012*\"false\" + 0.012*\"task\" + 0.010*\"pipeline\" + '\n",
      "  '0.009*\"fixes\" + 0.009*\"include\"'),\n",
      " (9,\n",
      "  '0.026*\"aio\" + 0.016*\"service\" + 0.011*\"rsync\" + 0.011*\"deploy\" + '\n",
      "  '0.010*\"user\" + 0.010*\"wrapper\" + 0.010*\"gate\" + 0.009*\"url\" + '\n",
      "  '0.009*\"authentication\" + 0.009*\"infra\"')]\n"
     ]
    }
   ],
   "source": [
    "pprint(lda_model_commits.print_topics())"
   ]
  },
  {
   "cell_type": "code",
   "execution_count": 1139,
   "metadata": {},
   "outputs": [
    {
     "name": "stdout",
     "output_type": "stream",
     "text": [
      "Topic 0 : file script variable using error path typo log command run\n",
      "-----------\n",
      "Topic 1 : security role jobs remove support request guide resource content configuration\n",
      "-----------\n",
      "Topic 2 : role service host within patch using version set configuration services\n",
      "-----------\n",
      "Topic 3 : neutron patch update release sha branch upgrade upstream implements changes\n",
      "-----------\n",
      "Topic 4 : updates updated update docs cleanup links note swap security url\n",
      "-----------\n",
      "Topic 5 : increase data ssh timeout host branch added jobs master connection\n",
      "-----------\n",
      "Topic 6 : memory file running nodes set node used value time ip\n",
      "-----------\n",
      "Topic 7 : container security context user sébastien template adds rsync ip set\n",
      "-----------\n",
      "Topic 8 : group task failed skip syntax haproxy device docs fixes api\n",
      "-----------\n",
      "Topic 9 : inventory refactor horizon docs documentation heat indentation management suite users\n",
      "-----------\n"
     ]
    }
   ],
   "source": [
    "x=lda_model_commits.show_topics(num_topics=25, num_words=10,formatted=False)\n",
    "topics_words = [(tp[0], [wd[0] for wd in tp[1]]) for tp in x]\n",
    "for topic,words in topics_words:\n",
    "    print('Topic',topic,':',\" \".join(words))\n",
    "    print('-----------')"
   ]
  },
  {
   "cell_type": "code",
   "execution_count": 1140,
   "metadata": {},
   "outputs": [],
   "source": [
    "pyLDAvis.enable_notebook()"
   ]
  },
  {
   "cell_type": "code",
   "execution_count": 1141,
   "metadata": {},
   "outputs": [
    {
     "data": {
      "text/html": [
       "\n",
       "<link rel=\"stylesheet\" type=\"text/css\" href=\"https://cdn.rawgit.com/bmabey/pyLDAvis/files/ldavis.v1.0.0.css\">\n",
       "\n",
       "\n",
       "<div id=\"ldavis_el27041719091812561354480128\"></div>\n",
       "<script type=\"text/javascript\">\n",
       "\n",
       "var ldavis_el27041719091812561354480128_data = {\"mdsDat\": {\"x\": [-0.12612368350757003, -0.1626665307809094, -0.06880991041231323, -0.15017972559765233, 0.04731660787620281, -0.11507753851838395, 0.19683471733119184, 0.126115137923826, 0.12680412449700787, 0.12578680118860044], \"y\": [-0.09204001370351002, -0.10052973503601592, -0.07941885314619111, 0.09850223479494671, -0.1823622489129318, 0.19873284050231066, -0.09877923811404041, 0.035428838361761826, 0.10691819972445157, 0.11354797552921858], \"topics\": [1, 2, 3, 4, 5, 6, 7, 8, 9, 10], \"cluster\": [1, 1, 1, 1, 1, 1, 1, 1, 1, 1], \"Freq\": [24.090627670288086, 22.62191390991211, 16.294538497924805, 8.5914945602417, 6.648596286773682, 6.148962020874023, 5.284608840942383, 4.156904220581055, 3.7356033325195312, 2.4267468452453613]}, \"tinfo\": {\"Term\": [\"container\", \"security\", \"memory\", \"updates\", \"updated\", \"docs\", \"task\", \"refactor\", \"context\", \"inventory\", \"update\", \"role\", \"host\", \"group\", \"user\", \"file\", \"jobs\", \"s\\u00e9bastien\", \"error\", \"list\", \"nodes\", \"set\", \"fixes\", \"neutron\", \"service\", \"branch\", \"cleanup\", \"template\", \"haproxy\", \"running\", \"log\", \"logging\", \"message\", \"undefined\", \"namespace\", \"warnings\", \"shell\", \"edits\", \"debug\", \"purge\", \"invalid\", \"fluentd\", \"memcached\", \"keys\", \"static\", \"dir\", \"logs\", \"appropriately\", \"os\", \"cert\", \"xrange\", \"constrained\", \"stdout\", \"behaviour\", \"stdin\", \"aschoen\", \"strings\", \"registry\", \"real\", \"exit\", \"typo\", \"generate\", \"command\", \"path\", \"permissions\", \"warning\", \"password\", \"storage\", \"error\", \"call\", \"script\", \"line\", \"output\", \"small\", \"directory\", \"variable\", \"file\", \"function\", \"using\", \"run\", \"files\", \"issue\", \"module\", \"request\", \"code\", \"fail\", \"fixes\", \"make\", \"set\", \"used\", \"remove\", \"task\", \"patch\", \"user\", \"check\", \"replace\", \"list\", \"template\", \"changes\", \"pip\", \"venv\", \"bootstrap\", \"ldap\", \"integrated\", \"pattern\", \"distro\", \"built\", \"lxc\", \"included\", \"various\", \"setuptools\", \"implementation\", \"general\", \"amount\", \"plays\", \"known\", \"profile\", \"serial\", \"mechanism\", \"osds\", \"cryptography\", \"sensu\", \"jinja\", \"suse\", \"modified\", \"simplify\", \"wheel\", \"upgradeimpact\", \"reload\", \"within\", \"aio\", \"socket\", \"lvm\", \"service\", \"installed\", \"packages\", \"package\", \"tempest\", \"system\", \"hosts\", \"services\", \"specific\", \"given\", \"process\", \"host\", \"tasks\", \"required\", \"install\", \"role\", \"version\", \"ensure\", \"configuration\", \"removes\", \"repo\", \"patch\", \"new\", \"using\", \"need\", \"set\", \"container\", \"used\", \"containers\", \"removed\", \"playbook\", \"run\", \"gate\", \"update\", \"content\", \"ssl\", \"hardening\", \"chart\", \"feature\", \"firewall\", \"rules\", \"certificate\", \"configuring\", \"pods\", \"monitor\", \"rhel\", \"cipher\", \"stig\", \"jewel\", \"params\", \"query\", \"naming\", \"enables\", \"voting\", \"phase\", \"usability\", \"leap\", \"fs\", \"copied\", \"major\", \"devstack\", \"live\", \"multinode\", \"nodeset\", \"pipeline\", \"opensuse\", \"guide\", \"port\", \"jobs\", \"apache\", \"deployer\", \"security\", \"role\", \"upgrades\", \"protocol\", \"enable\", \"deploy\", \"support\", \"disable\", \"resources\", \"settings\", \"deployment\", \"resource\", \"request\", \"allow\", \"testing\", \"remove\", \"server\", \"configuration\", \"move\", \"refactor\", \"option\", \"documentation\", \"added\", \"docs\", \"config\", \"new\", \"order\", \"install\", \"check\", \"file\", \"node\", \"make\", \"set\", \"deployers\", \"branches\", \"keepalived\", \"sha\", \"pypi\", \"sync\", \"migrations\", \"ironic\", \"partially\", \"juno\", \"developer\", \"team\", \"offline\", \"revision\", \"keyring\", \"selinux\", \"rolling\", \"alembic\", \"expand\", \"bumps\", \"cached\", \"guest\", \"delegate\", \"bugfix\", \"statements\", \"accordingly\", \"resize\", \"overwrite\", \"fstab\", \"classification\", \"middleware\", \"workaround\", \"pin\", \"configurable\", \"kilo\", \"bump\", \"liberty\", \"neutron\", \"stable\", \"release\", \"branch\", \"upstream\", \"db\", \"report\", \"cinder\", \"upgrade\", \"implements\", \"update\", \"master\", \"patch\", \"api\", \"changes\", \"module\", \"see\", \"necessary\", \"blueprint\", \"gate\", \"support\", \"current\", \"version\", \"information\", \"work\", \"new\", \"replace\", \"memory\", \"size\", \"ram\", \"bashate\", \"menu\", \"flush\", \"placement\", \"compression\", \"writing\", \"worker\", \"replication\", \"ownership\", \"macros\", \"hitting\", \"increases\", \"monasca\", \"testenv\", \"basepython\", \"total\", \"vulnerable\", \"cap\", \"rewrite\", \"double\", \"eliminated\", \"redis\", \"linting\", \"smaller\", \"cpus\", \"becomes\", \"templating\", \"much\", \"environments\", \"cpu\", \"linters\", \"every\", \"containerized\", \"nodes\", \"reduce\", \"tox\", \"vm\", \"running\", \"node\", \"ip\", \"limit\", \"number\", \"value\", \"time\", \"file\", \"overrides\", \"usage\", \"used\", \"cluster\", \"set\", \"inventory\", \"upgrade\", \"may\", \"like\", \"environment\", \"host\", \"override\", \"one\", \"version\", \"performance\", \"cleanup\", \"swap\", \"distros\", \"introupdates\", \"linux\", \"closed\", \"event\", \"ping\", \"regex\", \"title\", \"agility\", \"pid\", \"trivial\", \"affinity\", \"inline\", \"cleaned\", \"intro\", \"jumpbox\", \"jumphost\", \"verbiage\", \"copyandpaste\", \"consistancy\", \"asp\", \"fwaas\", \"fedora\", \"merging\", \"smoke\", \"catalog\", \"paste\", \"parsed\", \"document\", \"links\", \"updates\", \"consistency\", \"updated\", \"url\", \"galera\", \"formatting\", \"shas\", \"reflect\", \"docs\", \"note\", \"update\", \"deprecated\", \"glance\", \"status\", \"specify\", \"explicitly\", \"class\", \"include\", \"master\", \"http\", \"example\", \"security\", \"fixed\", \"authentication\", \"service\", \"neutron\", \"check\", \"request\", \"replace\", \"context\", \"rsync\", \"gnocchi\", \"volume\", \"pool\", \"mon\", \"binary\", \"hostvars\", \"mds\", \"mgr\", \"fernet\", \"arp\", \"handler\", \"ips\", \"exporter\", \"partition\", \"sections\", \"conditions\", \"race\", \"variants\", \"arch\", \"whenever\", \"mac\", \"udev\", \"ship\", \"hook\", \"allowprivilegeescalation\", \"gateway\", \"connector\", \"fsid\", \"volumes\", \"interface\", \"container\", \"mount\", \"s\\u00e9bastien\", \"mariadb\", \"condition\", \"security\", \"user\", \"template\", \"ip\", \"false\", \"root\", \"creation\", \"adds\", \"type\", \"containers\", \"set\", \"neutron\", \"swift\", \"increase\", \"utility\", \"bind\", \"linklight\", \"sysctl\", \"active\", \"ops\", \"connections\", \"ring\", \"rings\", \"bastion\", \"pipefail\", \"receive\", \"workload\", \"larger\", \"aad\", \"stream\", \"h\", \"rsyslog\", \"django\", \"tower\", \"sphinxmark\", \"spec\", \"temptest\", \"surrounded\", \"experiencing\", \"unreachable\", \"eoan\", \"unittest\", \"saving\", \"timeout\", \"minutes\", \"ssh\", \"reliability\", \"data\", \"connection\", \"c\", \"filesystem\", \"branch\", \"remote\", \"local\", \"host\", \"entries\", \"added\", \"master\", \"jobs\", \"requirements\", \"development\", \"systems\", \"deploying\", \"config\", \"nova\", \"tempest\", \"true\", \"prevent\", \"nfs\", \"msg\", \"fatal\", \"metal\", \"rst\", \"ports\", \"rc\", \"mistral\", \"hostnames\", \"workflow\", \"apps\", \"uwsgi\", \"supplied\", \"chandan\", \"kumar\", \"authenticate\", \"async\", \"chkumar\", \"device\", \"forcing\", \"bridge\", \"select\", \"constantly\", \"healthy\", \"cmd\", \"blockquote\", \"dban\", \"uefi\", \"multiplehostswithoneiperror\", \"asks\", \"raised\", \"syntax\", \"threads\", \"ocata\", \"skip\", \"length\", \"index\", \"group\", \"failed\", \"haproxy\", \"fixing\", \"task\", \"api\", \"restarted\", \"retry\", \"docs\", \"fixes\", \"adding\", \"list\", \"false\", \"changed\", \"octavia\", \"restart\", \"fails\", \"error\", \"compute\", \"resource\", \"indentation\", \"suite\", \"ovh\", \"listener\", \"virt\", \"frontends\", \"testability\", \"cors\", \"startup\", \"dompe\", \"improvement\", \"telegraf\", \"qemu\", \"occuring\", \"precise\", \"executes\", \"ingress\", \"docstrings\", \"segmenting\", \"maintainability\", \"alternate\", \"corruption\", \"direct\", \"releasenotes\", \"roll\", \"agents\", \"kastl\", \"htk\", \"compliance\", \"diego\", \"horizon\", \"shared\", \"dedicated\", \"ipa\", \"management\", \"inventory\", \"heat\", \"refactor\", \"nested\", \"documentation\", \"spaces\", \"db\", \"execute\", \"users\", \"access\", \"functions\", \"infrastructure\", \"docs\", \"testing\", \"folder\", \"future\", \"configure\", \"host\", \"installation\", \"moved\", \"services\", \"order\"], \"Freq\": [343.0, 436.0, 199.0, 182.0, 201.0, 257.0, 250.0, 168.0, 126.0, 167.0, 364.0, 450.0, 282.0, 137.0, 240.0, 559.0, 231.0, 115.0, 209.0, 161.0, 124.0, 412.0, 246.0, 147.0, 228.0, 115.0, 83.0, 130.0, 99.0, 203.0, 160.65577697753906, 62.57966613769531, 51.92216110229492, 51.796756744384766, 40.68082809448242, 39.75568771362305, 40.69993591308594, 32.661956787109375, 30.4408016204834, 30.250734329223633, 30.98444175720215, 29.33006477355957, 27.627487182617188, 27.84441375732422, 25.60335922241211, 25.2396240234375, 66.93767547607422, 24.97349739074707, 24.61790657043457, 24.610580444335938, 23.07202911376953, 22.642911911010742, 22.22488021850586, 22.10643196105957, 21.456737518310547, 30.57139015197754, 20.4624080657959, 20.088619232177734, 19.76319694519043, 18.66423797607422, 165.3406524658203, 43.521244049072266, 145.77085876464844, 167.744140625, 51.16901397705078, 61.510807037353516, 37.68608856201172, 49.32972717285156, 172.74281311035156, 47.62865447998047, 194.09548950195312, 81.66971588134766, 60.589359283447266, 64.06214904785156, 98.62371063232422, 174.5006103515625, 309.8621826171875, 52.77699661254883, 174.32496643066406, 141.86285400390625, 106.34172058105469, 115.378173828125, 94.33647918701172, 103.7944107055664, 81.97981262207031, 75.00889587402344, 102.00651550292969, 98.76423645019531, 121.98844909667969, 103.2347640991211, 99.79594421386719, 88.79435729980469, 103.27710723876953, 84.09600830078125, 80.1993408203125, 73.75079345703125, 71.83660888671875, 69.05035400390625, 70.4847412109375, 86.92571258544922, 73.7787857055664, 56.66508865356445, 48.1275520324707, 43.76863098144531, 40.37388229370117, 37.52400588989258, 36.72338104248047, 35.80312728881836, 33.99900817871094, 31.428157806396484, 31.267900466918945, 30.13448715209961, 28.308862686157227, 27.092390060424805, 22.946605682373047, 22.449831008911133, 22.23617935180664, 22.152420043945312, 18.930286407470703, 18.58687400817871, 18.05122947692871, 18.048995971679688, 17.65658187866211, 17.639522552490234, 17.399158477783203, 16.534666061401367, 16.410181045532227, 16.259584426879883, 16.25465202331543, 144.72898864746094, 82.9629898071289, 24.244184494018555, 30.648012161254883, 180.09242248535156, 75.89642333984375, 78.01966094970703, 92.86302947998047, 90.48332214355469, 63.28807067871094, 111.79270935058594, 114.30015563964844, 68.35951232910156, 51.093902587890625, 62.81963348388672, 155.3179473876953, 95.9208755493164, 61.610172271728516, 105.74061584472656, 180.20272827148438, 121.68312072753906, 94.39659118652344, 115.52967071533203, 71.3812255859375, 70.6120834350586, 135.05088806152344, 112.1097412109375, 123.38339233398438, 95.25053405761719, 118.61763763427734, 107.15792846679688, 95.27429962158203, 81.90896606445312, 77.24341583251953, 78.4933853149414, 85.71314239501953, 75.87122344970703, 74.84937286376953, 95.44219207763672, 76.57166290283203, 57.624298095703125, 48.319252014160156, 43.14790725708008, 34.64750671386719, 32.14516830444336, 29.798887252807617, 26.365936279296875, 24.15205955505371, 24.058238983154297, 43.143226623535156, 21.208152770996094, 20.68976593017578, 20.340938568115234, 20.014936447143555, 19.636940002441406, 18.971097946166992, 18.547897338867188, 17.789447784423828, 17.769033432006836, 17.74185562133789, 17.594982147216797, 17.242431640625, 17.070049285888672, 16.815881729125977, 16.692842483520508, 16.4149227142334, 16.39967918395996, 16.099504470825195, 44.03436279296875, 38.933021545410156, 101.09806823730469, 60.97513198852539, 172.20228576660156, 39.61037826538086, 21.125457763671875, 239.83724975585938, 233.6417236328125, 41.9246940612793, 23.461963653564453, 62.86530303955078, 63.46314239501953, 110.97699737548828, 48.166866302490234, 36.075050354003906, 51.46006774902344, 85.9650650024414, 99.37084197998047, 104.95075225830078, 72.00968933105469, 63.989158630371094, 111.49581146240234, 48.01865005493164, 93.65235137939453, 63.1066780090332, 73.48072052001953, 66.974609375, 52.104366302490234, 70.91891479492188, 70.60266876220703, 61.58368682861328, 70.2212142944336, 54.63895034790039, 57.60285949707031, 58.16046142578125, 63.48202896118164, 53.59893798828125, 55.91239929199219, 58.063812255859375, 45.48870086669922, 34.93253707885742, 33.68879318237305, 78.46370697021484, 30.029373168945312, 29.763355255126953, 26.110595703125, 25.97149085998535, 24.34244155883789, 22.617124557495117, 22.00065803527832, 18.081275939941406, 17.27821159362793, 17.275066375732422, 17.146331787109375, 16.469501495361328, 15.679241180419922, 15.422757148742676, 14.702238082885742, 12.754249572753906, 11.137296676635742, 10.737007141113281, 10.523818016052246, 10.084623336791992, 18.58709716796875, 8.971384048461914, 8.872025489807129, 8.585420608520508, 8.472214698791504, 8.07115650177002, 41.836055755615234, 48.954017639160156, 19.78965187072754, 24.06939697265625, 56.40884780883789, 32.352500915527344, 27.23581314086914, 93.0364990234375, 36.81169891357422, 78.64740753173828, 70.27217864990234, 63.62933349609375, 31.319067001342773, 30.776613235473633, 33.94691467285156, 65.53056335449219, 60.783233642578125, 85.34838104248047, 52.6372184753418, 88.21784973144531, 41.43434524536133, 60.37371826171875, 54.653934478759766, 43.64645004272461, 34.55869674682617, 42.32586669921875, 45.882537841796875, 48.886940002441406, 38.04783248901367, 48.43709945678711, 34.71060562133789, 37.83141326904297, 36.994667053222656, 35.1089973449707, 198.35870361328125, 46.235599517822266, 28.191858291625977, 20.90959930419922, 20.764516830444336, 20.273494720458984, 16.4892635345459, 15.236177444458008, 14.218118667602539, 14.08452033996582, 14.01646900177002, 13.74902057647705, 13.653291702270508, 13.588847160339355, 12.230402946472168, 12.21064567565918, 12.053357124328613, 11.56060791015625, 11.096757888793945, 10.974771499633789, 10.109424591064453, 10.108855247497559, 9.971049308776855, 9.865718841552734, 9.806681632995605, 9.313009262084961, 9.207194328308105, 9.033973693847656, 8.356192588806152, 8.355314254760742, 24.635812759399414, 42.93745422363281, 19.83936309814453, 29.075559616088867, 35.790992736816406, 27.071697235107422, 72.07495880126953, 39.36643981933594, 39.34296417236328, 24.20075225830078, 80.37915802001953, 57.78855895996094, 46.423179626464844, 25.60807228088379, 33.454490661621094, 50.60680389404297, 47.53317642211914, 96.57557678222656, 23.614301681518555, 31.011293411254883, 57.41071319580078, 31.567901611328125, 62.407283782958984, 39.7798957824707, 39.23638153076172, 33.49456024169922, 31.779407501220703, 32.59461975097656, 37.32989501953125, 25.415084838867188, 27.035160064697266, 27.666345596313477, 26.460783004760742, 82.34207153320312, 43.45026397705078, 23.656631469726562, 21.605819702148438, 18.360103607177734, 16.232576370239258, 15.99675178527832, 15.268386840820312, 15.252647399902344, 14.654617309570312, 13.529773712158203, 12.33759880065918, 11.512307167053223, 11.351140022277832, 11.122722625732422, 19.086111068725586, 10.837749481201172, 10.837749481201172, 10.837749481201172, 10.837749481201172, 10.837749481201172, 10.837749481201172, 10.837749481201172, 10.812740325927734, 10.622576713562012, 9.703397750854492, 9.521245956420898, 9.065717697143555, 9.046154022216797, 9.035799026489258, 24.478836059570312, 48.40932083129883, 150.3336944580078, 27.052167892456055, 132.5912628173828, 41.06825256347656, 36.38808822631836, 27.88541603088379, 17.263246536254883, 15.982579231262207, 90.78616333007812, 48.33626937866211, 105.40415954589844, 25.35464096069336, 33.87409210205078, 15.63774299621582, 29.35979461669922, 18.1273193359375, 27.951374053955078, 31.021461486816406, 34.4117546081543, 31.862520217895508, 25.445995330810547, 42.045719146728516, 28.68532943725586, 25.17511558532715, 30.4975643157959, 25.633882522583008, 27.00749969482422, 26.122495651245117, 24.158496856689453, 125.38915252685547, 42.9454460144043, 33.96756362915039, 30.71320152282715, 27.498031616210938, 27.347787857055664, 25.26466178894043, 20.66640281677246, 19.66042709350586, 19.657556533813477, 18.65907096862793, 18.010581970214844, 32.086997985839844, 16.579730987548828, 15.744572639465332, 15.45783805847168, 15.130998611450195, 14.762177467346191, 13.676335334777832, 13.609363555908203, 13.609363555908203, 13.20284652709961, 12.783561706542969, 12.067343711853027, 11.368779182434082, 11.270210266113281, 11.180407524108887, 10.186341285705566, 9.403615951538086, 9.219132423400879, 18.405176162719727, 28.349531173706055, 230.72744750976562, 35.21841812133789, 75.27322387695312, 27.701080322265625, 38.16633605957031, 132.51438903808594, 77.87548828125, 48.93511199951172, 41.12556838989258, 32.71582794189453, 31.853225708007812, 31.894237518310547, 46.562068939208984, 22.605104446411133, 33.19385528564453, 39.72323226928711, 22.991411209106445, 19.886676788330078, 60.85979461669922, 22.446748733520508, 19.14146614074707, 18.702421188354492, 16.59787368774414, 15.812814712524414, 14.885062217712402, 14.24367618560791, 13.892069816589355, 13.389281272888184, 13.095019340515137, 12.48960018157959, 12.481369972229004, 12.28276538848877, 11.719446182250977, 11.640960693359375, 11.569013595581055, 10.056938171386719, 9.74328327178955, 9.383988380432129, 9.072663307189941, 8.245650291442871, 7.841285228729248, 7.743980407714844, 7.228184223175049, 7.220795154571533, 7.092727184295654, 6.737447738647461, 6.565732955932617, 6.1947526931762695, 44.377891540527344, 20.195775985717773, 45.374366760253906, 14.98918628692627, 54.28065490722656, 26.630754470825195, 12.026163101196289, 17.45514488220215, 39.740352630615234, 14.405019760131836, 21.318559646606445, 43.83108139038086, 14.406615257263184, 36.83454895019531, 28.370895385742188, 31.732622146606445, 19.58116912841797, 15.698917388916016, 13.883431434631348, 14.348440170288086, 16.76324462890625, 15.56750774383545, 15.471644401550293, 15.397490501403809, 14.376253128051758, 23.180622100830078, 24.990745544433594, 24.920917510986328, 20.109834671020508, 17.51660919189453, 15.756061553955078, 15.493112564086914, 13.609517097473145, 12.964020729064941, 11.485063552856445, 10.42920970916748, 9.423622131347656, 8.64376449584961, 8.615939140319824, 8.615939140319824, 8.50415325164795, 8.16491413116455, 8.114344596862793, 43.17202377319336, 7.855219841003418, 7.714828968048096, 7.364678859710693, 7.225191116333008, 7.207406044006348, 7.129011154174805, 6.72472620010376, 6.724671363830566, 6.724671363830566, 6.72442626953125, 6.723885536193848, 6.816617012023926, 45.38196563720703, 23.026527404785156, 21.50177764892578, 45.736759185791016, 14.02170181274414, 16.56344985961914, 72.84619140625, 46.19923782348633, 45.1635856628418, 22.653064727783203, 62.260196685791016, 30.335905075073242, 11.44487476348877, 12.240499496459961, 38.98123550415039, 37.143436431884766, 23.680877685546875, 28.669490814208984, 18.715593338012695, 21.68738555908203, 13.394429206848145, 16.205495834350586, 16.72281265258789, 19.43079948425293, 15.65834903717041, 16.072738647460938, 17.525150299072266, 16.263504028320312, 11.233431816101074, 11.030106544494629, 8.96456241607666, 8.451591491699219, 8.450737953186035, 8.308834075927734, 7.689019680023193, 7.672443389892578, 7.572439670562744, 7.482609272003174, 6.59304666519165, 6.501240253448486, 6.4045329093933105, 6.1698408126831055, 5.997106552124023, 5.659064292907715, 5.658639907836914, 5.658639907836914, 5.658639907836914, 5.656261444091797, 5.514801979064941, 4.671332359313965, 4.551376819610596, 4.549734115600586, 4.385327339172363, 4.382584571838379, 4.248841285705566, 3.8726940155029297, 32.32267379760742, 13.824081420898438, 10.92299747467041, 11.217930793762207, 16.746479034423828, 37.344505310058594, 19.606281280517578, 36.356292724609375, 9.750658988952637, 21.58380699157715, 8.609679222106934, 13.339372634887695, 9.874938011169434, 15.373332023620605, 14.404370307922363, 10.685063362121582, 9.60855484008789, 22.536256790161133, 14.975274085998535, 10.650601387023926, 11.462512969970703, 10.918344497680664, 12.25980281829834, 10.184288024902344, 9.734448432922363, 10.385319709777832, 9.857048988342285], \"Total\": [343.0, 436.0, 199.0, 182.0, 201.0, 257.0, 250.0, 168.0, 126.0, 167.0, 364.0, 450.0, 282.0, 137.0, 240.0, 559.0, 231.0, 115.0, 209.0, 161.0, 124.0, 412.0, 246.0, 147.0, 228.0, 115.0, 83.0, 130.0, 99.0, 203.0, 161.3788604736328, 63.416587829589844, 52.646697998046875, 52.598793029785156, 41.40265655517578, 40.47758483886719, 41.48586654663086, 33.3840217590332, 31.162477493286133, 30.97237205505371, 31.73249626159668, 30.05175018310547, 28.349367141723633, 28.585710525512695, 26.325016021728516, 25.961259841918945, 68.86563110351562, 25.69525909423828, 25.339645385742188, 25.332351684570312, 23.79363441467285, 23.36544418334961, 22.946542739868164, 22.828121185302734, 22.17833137512207, 31.6281681060791, 21.184057235717773, 20.810283660888672, 20.48493766784668, 19.385881423950195, 174.25845336914062, 45.653079986572266, 157.4906768798828, 183.06826782226562, 54.09919357299805, 66.26232147216797, 39.89567565917969, 53.79487609863281, 209.66680908203125, 51.920833587646484, 246.6191864013672, 96.3941879272461, 69.81688690185547, 77.03411102294922, 128.3201904296875, 260.2181091308594, 559.822265625, 65.2608413696289, 385.9253234863281, 304.5897216796875, 206.9051513671875, 238.29400634765625, 182.65692138671875, 235.42825317382812, 156.48980712890625, 132.9011688232422, 246.28579711914062, 232.14955139160156, 412.3522033691406, 284.5846252441406, 296.26495361328125, 250.19288635253906, 391.3891906738281, 240.38088989257812, 229.520751953125, 169.26092529296875, 161.77783203125, 130.19935607910156, 222.19110107421875, 87.67345428466797, 74.52645874023438, 57.41315460205078, 48.87523651123047, 44.51636505126953, 41.12162399291992, 38.27174758911133, 37.471092224121094, 36.55084991455078, 34.74808883666992, 32.1762809753418, 32.015567779541016, 30.883352279663086, 29.056560516357422, 27.840299606323242, 23.69435691833496, 23.19759750366211, 22.98389434814453, 22.9001407623291, 19.678348541259766, 19.334718704223633, 18.798974990844727, 18.796796798706055, 18.40435028076172, 18.387252807617188, 18.146907806396484, 17.282381057739258, 17.157852172851562, 17.007291793823242, 17.008115768432617, 153.3562774658203, 89.18623352050781, 25.49216651916504, 32.82803726196289, 228.10028076171875, 93.29573059082031, 96.35309600830078, 118.05009460449219, 115.06368255615234, 79.10591125488281, 154.39584350585938, 161.9285125732422, 89.75181579589844, 64.02616119384766, 86.45576477050781, 282.8187561035156, 151.616943359375, 88.2646255493164, 198.16554260253906, 450.5373229980469, 250.90003967285156, 176.12001037597656, 248.7268524169922, 115.9140396118164, 118.75536346435547, 391.3891906738281, 286.09503173828125, 385.9253234863281, 230.3454132080078, 412.3522033691406, 343.09576416015625, 284.5846252441406, 186.7713623046875, 166.03497314453125, 186.11004638671875, 304.5897216796875, 162.84027099609375, 364.51568603515625, 96.16717529296875, 77.29685974121094, 58.34923553466797, 49.044559478759766, 43.87296676635742, 35.372676849365234, 32.87686538696289, 30.52387046813965, 27.0909423828125, 24.877126693725586, 24.783374786376953, 44.5410270690918, 21.933156967163086, 21.414709091186523, 21.06601905822754, 20.74008560180664, 20.362058639526367, 19.696115493774414, 19.272912979125977, 18.51445770263672, 18.49408721923828, 18.467355728149414, 18.320056915283203, 17.96751594543457, 17.795080184936523, 17.540847778320312, 17.41789436340332, 17.139995574951172, 17.124671936035156, 16.82443618774414, 46.38282775878906, 42.39437484741211, 118.08421325683594, 72.10945892333984, 231.8371124267578, 48.0391845703125, 22.877246856689453, 436.8248291015625, 450.5373229980469, 53.67113494873047, 26.269887924194336, 96.48229217529297, 97.71626281738281, 217.05747985839844, 71.72451782226562, 47.9141845703125, 79.24943542480469, 166.7753143310547, 216.19235229492188, 235.42825317382812, 138.05538940429688, 116.75761413574219, 296.26495361328125, 75.77098846435547, 248.7268524169922, 123.68737030029297, 168.18606567382812, 171.53228759765625, 94.30862426757812, 256.92724609375, 257.61907958984375, 174.68692016601562, 286.09503173828125, 134.46798706054688, 198.16554260253906, 229.520751953125, 559.822265625, 130.27711486816406, 232.14955139160156, 412.3522033691406, 46.23408508300781, 35.68146896362305, 34.434356689453125, 80.40726470947266, 30.77450942993164, 30.519670486450195, 26.855688095092773, 26.732919692993164, 25.087533950805664, 23.36223793029785, 22.745986938476562, 18.82642936706543, 18.023454666137695, 18.020299911499023, 17.8916015625, 17.214609146118164, 16.42440414428711, 16.167835235595703, 15.44733715057373, 13.499349594116211, 11.882448196411133, 11.482122421264648, 11.269267082214355, 10.829880714416504, 20.034788131713867, 9.716808319091797, 9.617210388183594, 9.330516815185547, 9.217354774475098, 8.816239356994629, 46.6375732421875, 57.847991943359375, 22.310819625854492, 28.190393447875977, 73.29226684570312, 40.14743423461914, 33.993553161621094, 147.25953674316406, 50.21356201171875, 129.41262817382812, 115.85639953613281, 124.9248046875, 45.884849548339844, 45.087684631347656, 55.75400924682617, 166.96685791015625, 156.62135314941406, 364.51568603515625, 144.68150329589844, 391.3891906738281, 92.66801452636719, 222.19110107421875, 182.65692138671875, 113.03681182861328, 65.51338958740234, 118.24266052246094, 162.84027099609375, 217.05747985839844, 94.33771514892578, 250.90003967285156, 73.96807098388672, 151.59857177734375, 286.09503173828125, 169.26092529296875, 199.68031311035156, 46.965110778808594, 28.921348571777344, 21.639144897460938, 21.494220733642578, 21.003047943115234, 17.218921661376953, 15.965692520141602, 14.947707176208496, 14.814043998718262, 14.746195793151855, 14.478561401367188, 14.383014678955078, 14.318406105041504, 12.96015453338623, 12.940144538879395, 12.782821655273438, 12.290069580078125, 11.826257705688477, 11.704533576965332, 10.838922500610352, 10.83840274810791, 10.70058822631836, 10.595244407653809, 10.536164283752441, 10.042510986328125, 9.936688423156738, 9.767495155334473, 9.085732460021973, 9.08486557006836, 27.228851318359375, 48.21147918701172, 23.464324951171875, 36.97151184082031, 48.32707214355469, 36.14543533325195, 124.42147064208984, 63.30983352661133, 68.28123474121094, 36.20865249633789, 203.826171875, 130.27711486816406, 102.34034729003906, 42.81208419799805, 66.32259368896484, 141.65338134765625, 128.3046875, 559.822265625, 42.135498046875, 72.8497543334961, 284.5846252441406, 82.005859375, 412.3522033691406, 167.63848876953125, 166.96685791015625, 114.43598937988281, 122.07261657714844, 139.9856719970703, 282.8187561035156, 60.09713363647461, 139.32962036132812, 250.90003967285156, 152.1765594482422, 83.12031555175781, 44.19484329223633, 24.401134490966797, 22.350255966186523, 19.104644775390625, 16.977066040039062, 16.741819381713867, 16.012861251831055, 15.997198104858398, 15.39997673034668, 14.274210929870605, 13.082117080688477, 12.256768226623535, 12.095720291137695, 11.867265701293945, 20.367036819458008, 11.582186698913574, 11.582186698913574, 11.582186698913574, 11.582186698913574, 11.582186698913574, 11.582186698913574, 11.582186698913574, 11.557182312011719, 11.367063522338867, 10.447900772094727, 10.265724182128906, 9.810291290283203, 9.790613174438477, 9.78096866607666, 26.87444305419922, 55.94879913330078, 182.80322265625, 32.43334197998047, 201.7552490234375, 58.795406341552734, 52.199954986572266, 38.95035171508789, 21.241788864135742, 19.700298309326172, 257.61907958984375, 110.76716613769531, 364.51568603515625, 44.717899322509766, 73.39250946044922, 20.935096740722656, 62.51689147949219, 27.21756362915039, 60.94700241088867, 91.53901672363281, 144.68150329589844, 120.751953125, 74.80796813964844, 436.8248291015625, 148.40235900878906, 97.2805404663086, 228.10028076171875, 147.25953674316406, 229.520751953125, 235.42825317382812, 169.26092529296875, 126.1467056274414, 43.672142028808594, 34.693939208984375, 31.439594268798828, 28.224414825439453, 28.074176788330078, 25.9910888671875, 21.392805099487305, 20.386808395385742, 20.38398551940918, 19.385801315307617, 18.736995697021484, 33.46339797973633, 17.30638885498047, 16.4709529876709, 16.184480667114258, 15.857437133789062, 15.488570213317871, 14.402766227722168, 14.335701942443848, 14.335701942443848, 13.929286003112793, 13.509903907775879, 12.793703079223633, 12.095396995544434, 11.996665954589844, 11.906742095947266, 10.912788391113281, 10.129955291748047, 9.945585250854492, 20.139909744262695, 31.991119384765625, 343.09576416015625, 46.09144592285156, 115.70246887207031, 35.74143981933594, 57.80363464355469, 436.8248291015625, 240.38088989257812, 130.19935607910156, 102.34034729003906, 71.9596176147461, 81.506591796875, 83.4618911743164, 204.48802185058594, 48.392608642578125, 186.7713623046875, 412.3522033691406, 147.25953674316406, 68.7057113647461, 61.587799072265625, 23.174888610839844, 19.869304656982422, 19.430213928222656, 17.325693130493164, 16.54070281982422, 15.613083839416504, 14.971555709838867, 14.619844436645508, 14.117056846618652, 13.82281494140625, 13.21742057800293, 13.209432601928711, 13.010563850402832, 12.447576522827148, 12.368752479553223, 12.296834945678711, 10.784843444824219, 10.47121524810791, 10.111929893493652, 9.800456047058105, 8.973440170288086, 8.574173927307129, 8.471748352050781, 7.956092834472656, 7.9489030838012695, 7.820542812347412, 7.465231895446777, 7.2935686111450195, 6.922725677490234, 49.97981643676758, 23.05880355834961, 55.39577102661133, 17.561763763427734, 75.63270568847656, 38.30762481689453, 16.376983642578125, 29.66181182861328, 115.85639953613281, 24.42877960205078, 53.62442398071289, 282.8187561035156, 25.435710906982422, 256.92724609375, 144.68150329589844, 231.8371124267578, 65.08834075927734, 33.95256805419922, 25.944202423095703, 35.393489837646484, 174.68692016601562, 122.64462280273438, 115.06368255615234, 122.57344055175781, 47.39762878417969, 23.90871238708496, 25.80816078186035, 25.806217193603516, 20.837799072265625, 18.244558334350586, 16.48402214050293, 16.22112274169922, 14.33749008178711, 13.692170143127441, 12.213051795959473, 11.15717887878418, 10.151647567749023, 9.37177562713623, 9.343891143798828, 9.343891143798828, 9.232172012329102, 8.892938613891602, 8.842293739318848, 47.07220458984375, 8.58330249786377, 8.442940711975098, 8.092782974243164, 7.9531707763671875, 7.935848712921143, 7.858888149261475, 7.452671051025391, 7.452619552612305, 7.452619552612305, 7.4523820877075195, 7.451844215393066, 7.557379245758057, 53.54248809814453, 27.032936096191406, 26.549837112426758, 65.64836883544922, 17.2342472076416, 21.721052169799805, 137.06053161621094, 92.37592315673828, 99.21544647216797, 44.63236999511719, 250.19288635253906, 92.66801452636719, 16.560895919799805, 19.926897048950195, 257.61907958984375, 246.28579711914062, 101.83555603027344, 161.77783203125, 71.9596176147461, 114.83438873291016, 26.511951446533203, 65.00846099853516, 75.7845687866211, 209.66680908203125, 56.31339645385742, 216.19235229492188, 18.2669620513916, 17.005353927612305, 11.975464820861816, 11.771895408630371, 9.7063627243042, 9.193382263183594, 9.192548751831055, 9.050619125366211, 8.431183815002441, 8.414220809936523, 8.31439208984375, 8.224425315856934, 7.334863185882568, 7.243067741394043, 7.146336555480957, 6.911679744720459, 6.739067554473877, 6.400848388671875, 6.400428771972656, 6.400428771972656, 6.400428771972656, 6.3981170654296875, 6.256608009338379, 5.413111686706543, 5.293239116668701, 5.291635036468506, 5.127114772796631, 5.124490261077881, 4.990627765655518, 4.614470958709717, 44.43095779418945, 20.016799926757812, 15.771441459655762, 17.270069122314453, 30.116539001464844, 167.63848876953125, 58.428531646728516, 168.18606567382812, 18.67504119873047, 94.30862426757812, 15.162199974060059, 45.884849548339844, 23.438220977783203, 69.3875732421875, 63.451622009277344, 29.601680755615234, 22.1121826171875, 257.61907958984375, 116.75761413574219, 33.96905517578125, 51.51943588256836, 72.70147705078125, 282.8187561035156, 73.42768859863281, 62.394290924072266, 161.9285125732422, 134.46798706054688], \"Category\": [\"Default\", \"Default\", \"Default\", \"Default\", \"Default\", \"Default\", \"Default\", \"Default\", \"Default\", \"Default\", \"Default\", \"Default\", \"Default\", \"Default\", \"Default\", \"Default\", \"Default\", \"Default\", \"Default\", \"Default\", \"Default\", \"Default\", \"Default\", \"Default\", \"Default\", \"Default\", \"Default\", \"Default\", \"Default\", \"Default\", \"Topic1\", \"Topic1\", \"Topic1\", \"Topic1\", \"Topic1\", \"Topic1\", \"Topic1\", \"Topic1\", \"Topic1\", \"Topic1\", \"Topic1\", \"Topic1\", \"Topic1\", \"Topic1\", \"Topic1\", \"Topic1\", \"Topic1\", \"Topic1\", \"Topic1\", \"Topic1\", \"Topic1\", \"Topic1\", \"Topic1\", \"Topic1\", \"Topic1\", \"Topic1\", \"Topic1\", \"Topic1\", \"Topic1\", \"Topic1\", \"Topic1\", \"Topic1\", \"Topic1\", \"Topic1\", \"Topic1\", \"Topic1\", \"Topic1\", \"Topic1\", \"Topic1\", \"Topic1\", \"Topic1\", \"Topic1\", \"Topic1\", \"Topic1\", \"Topic1\", \"Topic1\", \"Topic1\", \"Topic1\", \"Topic1\", \"Topic1\", \"Topic1\", \"Topic1\", \"Topic1\", \"Topic1\", \"Topic1\", \"Topic1\", \"Topic1\", \"Topic1\", \"Topic1\", \"Topic1\", \"Topic1\", \"Topic1\", \"Topic1\", \"Topic1\", \"Topic1\", \"Topic1\", \"Topic1\", \"Topic1\", \"Topic1\", \"Topic2\", \"Topic2\", \"Topic2\", \"Topic2\", \"Topic2\", \"Topic2\", \"Topic2\", \"Topic2\", \"Topic2\", \"Topic2\", \"Topic2\", \"Topic2\", \"Topic2\", \"Topic2\", \"Topic2\", \"Topic2\", \"Topic2\", \"Topic2\", \"Topic2\", \"Topic2\", \"Topic2\", \"Topic2\", \"Topic2\", \"Topic2\", \"Topic2\", \"Topic2\", \"Topic2\", \"Topic2\", \"Topic2\", \"Topic2\", \"Topic2\", \"Topic2\", \"Topic2\", \"Topic2\", \"Topic2\", \"Topic2\", \"Topic2\", \"Topic2\", \"Topic2\", \"Topic2\", \"Topic2\", \"Topic2\", \"Topic2\", \"Topic2\", \"Topic2\", \"Topic2\", \"Topic2\", \"Topic2\", \"Topic2\", \"Topic2\", \"Topic2\", \"Topic2\", \"Topic2\", \"Topic2\", \"Topic2\", \"Topic2\", \"Topic2\", \"Topic2\", \"Topic2\", \"Topic2\", \"Topic2\", \"Topic2\", \"Topic2\", \"Topic2\", \"Topic2\", \"Topic2\", \"Topic2\", \"Topic2\", \"Topic3\", \"Topic3\", \"Topic3\", \"Topic3\", \"Topic3\", \"Topic3\", \"Topic3\", \"Topic3\", \"Topic3\", \"Topic3\", \"Topic3\", \"Topic3\", \"Topic3\", \"Topic3\", \"Topic3\", \"Topic3\", \"Topic3\", \"Topic3\", \"Topic3\", \"Topic3\", \"Topic3\", \"Topic3\", \"Topic3\", \"Topic3\", \"Topic3\", \"Topic3\", \"Topic3\", \"Topic3\", \"Topic3\", \"Topic3\", \"Topic3\", \"Topic3\", \"Topic3\", \"Topic3\", \"Topic3\", \"Topic3\", \"Topic3\", \"Topic3\", \"Topic3\", \"Topic3\", \"Topic3\", \"Topic3\", \"Topic3\", \"Topic3\", \"Topic3\", \"Topic3\", \"Topic3\", \"Topic3\", \"Topic3\", \"Topic3\", \"Topic3\", \"Topic3\", \"Topic3\", \"Topic3\", \"Topic3\", \"Topic3\", \"Topic3\", \"Topic3\", \"Topic3\", \"Topic3\", \"Topic3\", \"Topic3\", \"Topic3\", \"Topic3\", \"Topic3\", \"Topic3\", \"Topic3\", \"Topic3\", \"Topic3\", \"Topic3\", \"Topic4\", \"Topic4\", \"Topic4\", \"Topic4\", \"Topic4\", \"Topic4\", \"Topic4\", \"Topic4\", \"Topic4\", \"Topic4\", \"Topic4\", \"Topic4\", \"Topic4\", \"Topic4\", \"Topic4\", \"Topic4\", \"Topic4\", \"Topic4\", \"Topic4\", \"Topic4\", \"Topic4\", \"Topic4\", \"Topic4\", \"Topic4\", \"Topic4\", \"Topic4\", \"Topic4\", \"Topic4\", \"Topic4\", \"Topic4\", \"Topic4\", \"Topic4\", \"Topic4\", \"Topic4\", \"Topic4\", \"Topic4\", \"Topic4\", \"Topic4\", \"Topic4\", \"Topic4\", \"Topic4\", \"Topic4\", \"Topic4\", \"Topic4\", \"Topic4\", \"Topic4\", \"Topic4\", \"Topic4\", \"Topic4\", \"Topic4\", \"Topic4\", \"Topic4\", \"Topic4\", \"Topic4\", \"Topic4\", \"Topic4\", \"Topic4\", \"Topic4\", \"Topic4\", \"Topic4\", \"Topic4\", \"Topic4\", \"Topic4\", \"Topic4\", \"Topic5\", \"Topic5\", \"Topic5\", \"Topic5\", \"Topic5\", \"Topic5\", \"Topic5\", \"Topic5\", \"Topic5\", \"Topic5\", \"Topic5\", \"Topic5\", \"Topic5\", \"Topic5\", \"Topic5\", \"Topic5\", \"Topic5\", \"Topic5\", \"Topic5\", \"Topic5\", \"Topic5\", \"Topic5\", \"Topic5\", \"Topic5\", \"Topic5\", \"Topic5\", \"Topic5\", \"Topic5\", \"Topic5\", \"Topic5\", \"Topic5\", \"Topic5\", \"Topic5\", \"Topic5\", \"Topic5\", \"Topic5\", \"Topic5\", \"Topic5\", \"Topic5\", \"Topic5\", \"Topic5\", \"Topic5\", \"Topic5\", \"Topic5\", \"Topic5\", \"Topic5\", \"Topic5\", \"Topic5\", \"Topic5\", \"Topic5\", \"Topic5\", \"Topic5\", \"Topic5\", \"Topic5\", \"Topic5\", \"Topic5\", \"Topic5\", \"Topic5\", \"Topic5\", \"Topic5\", \"Topic5\", \"Topic5\", \"Topic5\", \"Topic6\", \"Topic6\", \"Topic6\", \"Topic6\", \"Topic6\", \"Topic6\", \"Topic6\", \"Topic6\", \"Topic6\", \"Topic6\", \"Topic6\", \"Topic6\", \"Topic6\", \"Topic6\", \"Topic6\", \"Topic6\", \"Topic6\", \"Topic6\", \"Topic6\", \"Topic6\", \"Topic6\", \"Topic6\", \"Topic6\", \"Topic6\", \"Topic6\", \"Topic6\", \"Topic6\", \"Topic6\", \"Topic6\", \"Topic6\", \"Topic6\", \"Topic6\", \"Topic6\", \"Topic6\", \"Topic6\", \"Topic6\", \"Topic6\", \"Topic6\", \"Topic6\", \"Topic6\", \"Topic6\", \"Topic6\", \"Topic6\", \"Topic6\", \"Topic6\", \"Topic6\", \"Topic6\", \"Topic6\", \"Topic6\", \"Topic6\", \"Topic6\", \"Topic6\", \"Topic6\", \"Topic6\", \"Topic6\", \"Topic6\", \"Topic6\", \"Topic6\", \"Topic6\", \"Topic6\", \"Topic6\", \"Topic7\", \"Topic7\", \"Topic7\", \"Topic7\", \"Topic7\", \"Topic7\", \"Topic7\", \"Topic7\", \"Topic7\", \"Topic7\", \"Topic7\", \"Topic7\", \"Topic7\", \"Topic7\", \"Topic7\", \"Topic7\", \"Topic7\", \"Topic7\", \"Topic7\", \"Topic7\", \"Topic7\", \"Topic7\", \"Topic7\", \"Topic7\", \"Topic7\", \"Topic7\", \"Topic7\", \"Topic7\", \"Topic7\", \"Topic7\", \"Topic7\", \"Topic7\", \"Topic7\", \"Topic7\", \"Topic7\", \"Topic7\", \"Topic7\", \"Topic7\", \"Topic7\", \"Topic7\", \"Topic7\", \"Topic7\", \"Topic7\", \"Topic7\", \"Topic7\", \"Topic7\", \"Topic7\", \"Topic7\", \"Topic7\", \"Topic7\", \"Topic8\", \"Topic8\", \"Topic8\", \"Topic8\", \"Topic8\", \"Topic8\", \"Topic8\", \"Topic8\", \"Topic8\", \"Topic8\", \"Topic8\", \"Topic8\", \"Topic8\", \"Topic8\", \"Topic8\", \"Topic8\", \"Topic8\", \"Topic8\", \"Topic8\", \"Topic8\", \"Topic8\", \"Topic8\", \"Topic8\", \"Topic8\", \"Topic8\", \"Topic8\", \"Topic8\", \"Topic8\", \"Topic8\", \"Topic8\", \"Topic8\", \"Topic8\", \"Topic8\", \"Topic8\", \"Topic8\", \"Topic8\", \"Topic8\", \"Topic8\", \"Topic8\", \"Topic8\", \"Topic8\", \"Topic8\", \"Topic8\", \"Topic8\", \"Topic8\", \"Topic8\", \"Topic8\", \"Topic8\", \"Topic8\", \"Topic8\", \"Topic8\", \"Topic8\", \"Topic8\", \"Topic8\", \"Topic8\", \"Topic9\", \"Topic9\", \"Topic9\", \"Topic9\", \"Topic9\", \"Topic9\", \"Topic9\", \"Topic9\", \"Topic9\", \"Topic9\", \"Topic9\", \"Topic9\", \"Topic9\", \"Topic9\", \"Topic9\", \"Topic9\", \"Topic9\", \"Topic9\", \"Topic9\", \"Topic9\", \"Topic9\", \"Topic9\", \"Topic9\", \"Topic9\", \"Topic9\", \"Topic9\", \"Topic9\", \"Topic9\", \"Topic9\", \"Topic9\", \"Topic9\", \"Topic9\", \"Topic9\", \"Topic9\", \"Topic9\", \"Topic9\", \"Topic9\", \"Topic9\", \"Topic9\", \"Topic9\", \"Topic9\", \"Topic9\", \"Topic9\", \"Topic9\", \"Topic9\", \"Topic9\", \"Topic9\", \"Topic9\", \"Topic9\", \"Topic9\", \"Topic9\", \"Topic9\", \"Topic9\", \"Topic9\", \"Topic9\", \"Topic9\", \"Topic9\", \"Topic10\", \"Topic10\", \"Topic10\", \"Topic10\", \"Topic10\", \"Topic10\", \"Topic10\", \"Topic10\", \"Topic10\", \"Topic10\", \"Topic10\", \"Topic10\", \"Topic10\", \"Topic10\", \"Topic10\", \"Topic10\", \"Topic10\", \"Topic10\", \"Topic10\", \"Topic10\", \"Topic10\", \"Topic10\", \"Topic10\", \"Topic10\", \"Topic10\", \"Topic10\", \"Topic10\", \"Topic10\", \"Topic10\", \"Topic10\", \"Topic10\", \"Topic10\", \"Topic10\", \"Topic10\", \"Topic10\", \"Topic10\", \"Topic10\", \"Topic10\", \"Topic10\", \"Topic10\", \"Topic10\", \"Topic10\", \"Topic10\", \"Topic10\", \"Topic10\", \"Topic10\", \"Topic10\", \"Topic10\", \"Topic10\", \"Topic10\", \"Topic10\", \"Topic10\", \"Topic10\", \"Topic10\", \"Topic10\", \"Topic10\", \"Topic10\"], \"logprob\": [30.0, 29.0, 28.0, 27.0, 26.0, 25.0, 24.0, 23.0, 22.0, 21.0, 20.0, 19.0, 18.0, 17.0, 16.0, 15.0, 14.0, 13.0, 12.0, 11.0, 10.0, 9.0, 8.0, 7.0, 6.0, 5.0, 4.0, 3.0, 2.0, 1.0, -4.727200031280518, -5.670000076293945, -5.8566999435424805, -5.859099864959717, -6.1006999015808105, -6.123700141906738, -6.100200176239014, -6.320199966430664, -6.390699863433838, -6.396900177001953, -6.373000144958496, -6.427800178527832, -6.487599849700928, -6.479800224304199, -6.563700199127197, -6.578000068664551, -5.602700233459473, -6.588600158691406, -6.603000164031982, -6.603300094604492, -6.667799949645996, -6.686600208282471, -6.7052001953125, -6.710599899291992, -6.7403998374938965, -6.38640022277832, -6.787899971008301, -6.806300163269043, -6.8225998878479, -6.879799842834473, -4.698500156402588, -6.033199787139893, -4.824399948120117, -4.684000015258789, -5.871300220489502, -5.68720006942749, -6.177199840545654, -5.907899856567383, -4.654699802398682, -5.942999839782715, -4.538099765777588, -5.403800010681152, -5.702300071716309, -5.646599769592285, -5.215099811553955, -4.644499778747559, -4.070300102233887, -5.840400218963623, -4.645500183105469, -4.851600170135498, -5.139800071716309, -5.058199882507324, -5.2596001625061035, -5.164000034332275, -5.400000095367432, -5.488900184631348, -5.181399822235107, -5.213699817657471, -5.002500057220459, -5.16949987411499, -5.2032999992370605, -5.320099830627441, -5.169000148773193, -5.374499797821045, -5.421899795532227, -5.505799770355225, -5.532100200653076, -5.571599960327148, -5.55109977722168, -5.278500080108643, -5.442500114440918, -5.706399917602539, -5.869699954986572, -5.964600086212158, -6.045400142669678, -6.118599891662598, -6.140100002288818, -6.165500164031982, -6.217199802398682, -6.295899868011475, -6.301000118255615, -6.337900161743164, -6.400400161743164, -6.444300174713135, -6.610400199890137, -6.632299900054932, -6.6417999267578125, -6.645599842071533, -6.802800178527832, -6.821100234985352, -6.850299835205078, -6.850500106811523, -6.872399806976318, -6.8734002113342285, -6.8871002197265625, -6.9380998611450195, -6.945700168609619, -6.954899787902832, -6.9552001953125, -4.768700122833252, -5.325200080871582, -6.5553998947143555, -6.321000099182129, -4.550099849700928, -5.4141998291015625, -5.386600017547607, -5.212399959564209, -5.238399982452393, -5.595900058746338, -5.026899814605713, -5.004700183868408, -5.518799781799316, -5.809899806976318, -5.603300094604492, -4.6981000900268555, -5.179999828338623, -5.622700214385986, -5.082600116729736, -4.549499988555908, -4.9421000480651855, -5.196100234985352, -4.99399995803833, -5.475500106811523, -5.486400127410889, -4.837900161743164, -5.024099826812744, -4.928299903869629, -5.186999797821045, -4.967700004577637, -5.069300174713135, -5.186800003051758, -5.337900161743164, -5.396599769592285, -5.380499839782715, -5.292500019073486, -5.4145002365112305, -5.428100109100342, -4.856900215148926, -5.077199935913086, -5.361499786376953, -5.537600040435791, -5.6508002281188965, -5.870200157165527, -5.945199966430664, -6.020999908447266, -6.143400192260742, -6.231100082397461, -6.235000133514404, -5.650899887084961, -6.361100196838379, -6.385799884796143, -6.4028000831604, -6.419000148773193, -6.4380998611450195, -6.472599983215332, -6.495100021362305, -6.536900043487549, -6.538000106811523, -6.5395002365112305, -6.547900199890137, -6.5680999755859375, -6.578100204467773, -6.593100070953369, -6.600500106811523, -6.617300033569336, -6.618199825286865, -6.63670015335083, -5.630499839782715, -5.753600120544434, -4.7993998527526855, -5.304999828338623, -4.2667999267578125, -5.736400127410889, -6.364999771118164, -3.935499906539917, -3.961699962615967, -5.679599761962891, -6.2600998878479, -5.274499893188477, -5.264999866485596, -4.706099987030029, -5.540800094604492, -5.829899787902832, -5.474699974060059, -4.96150016784668, -4.8165998458862305, -4.76200008392334, -5.138700008392334, -5.256800174713135, -4.701499938964844, -5.543900012969971, -4.875899791717529, -5.270599842071533, -5.1184000968933105, -5.21120023727417, -5.462200164794922, -5.153900146484375, -5.158400058746338, -5.295100212097168, -5.16379976272583, -5.414700031280518, -5.3618998527526855, -5.35230016708374, -5.264699935913086, -5.433899879455566, -5.39169979095459, -5.353899955749512, -4.957900047302246, -5.2220001220703125, -5.258200168609619, -4.412799835205078, -5.373199939727783, -5.3821001052856445, -5.5131001472473145, -5.518400192260742, -5.583199977874756, -5.656700134277344, -5.684299945831299, -5.880499839782715, -5.926000118255615, -5.92609977722168, -5.933599948883057, -5.973899841308594, -6.023099899291992, -6.039599895477295, -6.087399959564209, -6.229499816894531, -6.365099906921387, -6.401700019836426, -6.421800136566162, -6.464399814605713, -5.85290002822876, -6.581399917602539, -6.59250020980835, -6.62529993057251, -6.638599872589111, -6.687099933624268, -5.0416998863220215, -4.884500026702881, -5.790200233459473, -5.5945000648498535, -4.742800235748291, -5.298699855804443, -5.470900058746338, -4.242400169372559, -5.169600009918213, -4.410399913787842, -4.5229997634887695, -4.622300148010254, -5.331200122833252, -5.348700046539307, -5.2505998611450195, -4.592899799346924, -4.668099880218506, -4.328700065612793, -4.811999797821045, -4.295599937438965, -5.051300048828125, -4.674900054931641, -4.774400234222412, -4.999300003051758, -5.232800006866455, -5.03000020980835, -4.9492998123168945, -4.885900020599365, -5.136600017547607, -4.895100116729736, -5.228400230407715, -5.142300128936768, -5.164599895477295, -5.2170000076293945, -3.2290000915527344, -4.685299873352051, -5.179999828338623, -5.478799819946289, -5.485799789428711, -5.509699821472168, -5.716300010681152, -5.795400142669678, -5.864500045776367, -5.874000072479248, -5.878799915313721, -5.898099899291992, -5.905099868774414, -5.909800052642822, -6.015100002288818, -6.01669979095459, -6.029699802398682, -6.071400165557861, -6.112400054931641, -6.1234002113342285, -6.205599784851074, -6.205599784851074, -6.219399929046631, -6.230000019073486, -6.236000061035156, -6.287600040435791, -6.299099922180176, -6.317999839782715, -6.395999908447266, -6.396100044250488, -5.314799785614014, -4.759300231933594, -5.531400203704834, -5.149099826812744, -4.941299915313721, -5.220600128173828, -4.241300106048584, -4.846099853515625, -4.846700191497803, -5.332699775695801, -4.132299900054932, -4.462299823760986, -4.68120002746582, -5.276100158691406, -5.008900165557861, -4.59499979019165, -4.657599925994873, -3.948699951171875, -5.3572001457214355, -5.084700107574463, -4.468800067901611, -5.06689977645874, -4.38539981842041, -4.835700035095215, -4.849400043487549, -5.007699966430664, -5.060200214385986, -5.034900188446045, -4.899199962615967, -5.283699989318848, -5.22189998626709, -5.198800086975098, -5.2434000968933105, -4.03000020980835, -4.669300079345703, -5.277299880981445, -5.368000030517578, -5.530700206756592, -5.653900146484375, -5.668499946594238, -5.715099811553955, -5.71619987487793, -5.756199836730957, -5.835999965667725, -5.928299903869629, -5.997499942779541, -6.011600017547607, -6.031899929046631, -5.492000102996826, -6.0578999519348145, -6.0578999519348145, -6.0578999519348145, -6.0578999519348145, -6.0578999519348145, -6.0578999519348145, -6.0578999519348145, -6.060200214385986, -6.077899932861328, -6.168399810791016, -6.187399864196777, -6.236400127410889, -6.23859977722168, -6.239699840545654, -5.243100166320801, -4.561200141906738, -3.428100109100342, -5.143199920654297, -3.5536000728607178, -4.7256999015808105, -4.846700191497803, -5.112800121307373, -5.592299938201904, -5.669400215148926, -3.9323999881744385, -4.562699794769287, -3.783099889755249, -5.208000183105469, -4.918300151824951, -5.691199779510498, -5.061299800872803, -5.543499946594238, -5.110499858856201, -5.006199836730957, -4.902500152587891, -4.979499816894531, -5.204400062561035, -4.702199935913086, -5.084499835968018, -5.215099811553955, -5.0233001708984375, -5.197000026702881, -5.144800186157227, -5.178100109100342, -5.25629997253418, -3.4579999446868896, -4.5295000076293945, -4.763999938964844, -4.864699840545654, -4.975299835205078, -4.980800151824951, -5.059999942779541, -5.260900020599365, -5.310800075531006, -5.310999870300293, -5.363100051879883, -5.398499965667725, -4.821000099182129, -5.481299877166748, -5.532899856567383, -5.551300048828125, -5.572700023651123, -5.597400188446045, -5.673799991607666, -5.678699970245361, -5.678699970245361, -5.709000110626221, -5.741300106048584, -5.798900127410889, -5.85860013961792, -5.867300033569336, -5.87529993057251, -5.968400001525879, -6.048299789428711, -6.06820011138916, -5.376800060272217, -4.944799900054932, -2.8482000827789307, -4.72790002822876, -3.9683001041412354, -4.9679999351501465, -4.647500038146973, -3.4026999473571777, -3.934299945831299, -4.398900032043457, -4.572800159454346, -4.801599979400635, -4.8282999992370605, -4.827000141143799, -4.448599815368652, -5.171299934387207, -4.787099838256836, -4.607500076293945, -5.154300212860107, -5.2993998527526855, -3.9407999515533447, -4.938300132751465, -5.097599983215332, -5.120800018310547, -5.240099906921387, -5.288599967956543, -5.348999977111816, -5.393099784851074, -5.418099880218506, -5.454999923706055, -5.477200031280518, -5.524499893188477, -5.525199890136719, -5.541200160980225, -5.588200092315674, -5.594900131225586, -5.601099967956543, -5.741099834442139, -5.772799968719482, -5.810400009155273, -5.844099998474121, -5.939700126647949, -5.989999771118164, -6.002500057220459, -6.071400165557861, -6.072400093078613, -6.0903000831604, -6.14169979095459, -6.167500019073486, -6.2256999015808105, -4.256700038909912, -5.043900012969971, -4.234499931335449, -5.342100143432617, -4.055200099945068, -4.767300128936768, -5.562300205230713, -5.189799785614014, -4.367000102996826, -5.381800174713135, -4.989799976348877, -4.269100189208984, -5.381700038909912, -4.442999839782715, -4.703999996185303, -4.592100143432617, -5.07480001449585, -5.29580020904541, -5.418700218200684, -5.385799884796143, -5.230199813842773, -5.304200172424316, -5.310400009155273, -5.315199851989746, -5.383800029754639, -4.799200057983398, -4.723999977111816, -4.726799964904785, -4.941299915313721, -5.079400062561035, -5.185299873352051, -5.202199935913086, -5.3317999839782715, -5.38040018081665, -5.501500129699707, -5.597899913787842, -5.6992998123168945, -5.785699844360352, -5.788899898529053, -5.788899898529053, -5.802000045776367, -5.842700004577637, -5.848899841308594, -4.1774001121521, -5.881400108337402, -5.899400234222412, -5.945899963378906, -5.965000152587891, -5.967400074005127, -5.978400230407715, -6.036799907684326, -6.036799907684326, -6.036799907684326, -6.036799907684326, -6.036900043487549, -6.023200035095215, -4.127399921417236, -4.8059000968933105, -4.8744001388549805, -4.11959981918335, -5.3018999099731445, -5.135300159454346, -3.6542000770568848, -4.109600067138672, -4.132299900054932, -4.822299957275391, -3.811199903488159, -4.530200004577637, -5.505000114440918, -5.43779993057251, -4.2795000076293945, -4.3277997970581055, -4.777900218963623, -4.586699962615967, -5.013199806213379, -4.865799903869629, -5.347700119018555, -5.157199859619141, -5.125800132751465, -4.9756999015808105, -5.191500186920166, -5.16540002822876, -4.647600173950195, -4.722300052642822, -5.092299938201904, -5.110599994659424, -5.31790018081665, -5.376800060272217, -5.3769001960754395, -5.393899917602539, -5.471399784088135, -5.473599910736084, -5.486700057983398, -5.498600006103516, -5.625199794769287, -5.639200210571289, -5.654200077056885, -5.691500186920166, -5.719900131225586, -5.777900218963623, -5.7779998779296875, -5.7779998779296875, -5.7779998779296875, -5.77839994430542, -5.803800106048584, -5.969699859619141, -5.995800018310547, -5.996099948883057, -6.032899856567383, -6.0335001945495605, -6.064499855041504, -6.157199859619141, -4.035399913787842, -4.884799957275391, -5.120299816131592, -5.093699932098389, -4.692999839782715, -3.8910000324249268, -4.535299777984619, -3.917799949645996, -5.23390007019043, -4.439199924468994, -5.35830020904541, -4.920499801635742, -5.221199989318848, -4.778600215911865, -4.843699932098389, -5.142300128936768, -5.248499870300293, -4.396100044250488, -4.804800033569336, -5.145599842071533, -5.0721001625061035, -5.120699882507324, -5.004899978637695, -5.190299987792969, -5.235499858856201, -5.17080020904541, -5.2230000495910645], \"loglift\": [30.0, 29.0, 28.0, 27.0, 26.0, 25.0, 24.0, 23.0, 22.0, 21.0, 20.0, 19.0, 18.0, 17.0, 16.0, 15.0, 14.0, 13.0, 12.0, 11.0, 10.0, 9.0, 8.0, 7.0, 6.0, 5.0, 4.0, 3.0, 2.0, 1.0, 1.4189000129699707, 1.410099983215332, 1.409500002861023, 1.4079999923706055, 1.4057999849319458, 1.405400037765503, 1.4041999578475952, 1.4014999866485596, 1.399899959564209, 1.3997999429702759, 1.3995000123977661, 1.3990000486373901, 1.3976000547409058, 1.3970999717712402, 1.3955999612808228, 1.3952000141143799, 1.3949999809265137, 1.3948999643325806, 1.3945000171661377, 1.3944000005722046, 1.3926000595092773, 1.3918999433517456, 1.3913999795913696, 1.3911999464035034, 1.3903000354766846, 1.3894000053405762, 1.388700008392334, 1.388100028038025, 1.3875000476837158, 1.3854000568389893, 1.3708000183105469, 1.375499963760376, 1.3459999561309814, 1.3358999490737915, 1.3676999807357788, 1.3488999605178833, 1.3664000034332275, 1.3366999626159668, 1.229599952697754, 1.3371000289916992, 1.183899998664856, 1.257599949836731, 1.281599998474121, 1.2389999628067017, 1.160099983215332, 1.023800015449524, 0.8319000005722046, 1.2109999656677246, 0.628600001335144, 0.6592000126838684, 0.7577000260353088, 0.6980999708175659, 0.7626000046730042, 0.6043999791145325, 0.7767999768257141, 0.8513000011444092, 0.5418999791145325, 0.5687000155448914, 0.2054000049829483, 0.4092999994754791, 0.3352000117301941, 0.3874000012874603, 0.09109999984502792, 0.37310001254081726, 0.3718999922275543, 0.5925999879837036, 0.6115000247955322, 0.7890999913215637, 0.2752000093460083, 1.4776999950408936, 1.476199984550476, 1.473099946975708, 1.4708000421524048, 1.4693000316619873, 1.467900037765503, 1.4665000438690186, 1.4660999774932861, 1.4656000137329102, 1.4644999504089355, 1.4627000093460083, 1.4625999927520752, 1.4616999626159668, 1.4601999521255493, 1.4589999914169312, 1.454200029373169, 1.4535000324249268, 1.4531999826431274, 1.4530999660491943, 1.4474999904632568, 1.4467999935150146, 1.4457000494003296, 1.4457000494003296, 1.4448000192642212, 1.444700002670288, 1.444200038909912, 1.4420000314712524, 1.4416999816894531, 1.4413000345230103, 1.4408999681472778, 1.4284000396728516, 1.4139000177383423, 1.4361000061035156, 1.4175000190734863, 1.249899983406067, 1.2798000574111938, 1.2752000093460083, 1.2462999820709229, 1.24590003490448, 1.263200044631958, 1.1634000539779663, 1.1378999948501587, 1.2139999866485596, 1.260599970817566, 1.1669000387191772, 0.886900007724762, 1.02839994430542, 1.1267000436782837, 0.8580999970436096, 0.5698999762535095, 0.7626000046730042, 0.8626000285148621, 0.7193999886512756, 1.0013999938964844, 0.9664000272750854, 0.4221999943256378, 0.5493999719619751, 0.3458999991416931, 0.6032000184059143, 0.2402999997138977, 0.32249999046325684, 0.3919999897480011, 0.6620000004768372, 0.7210000157356262, 0.6229000091552734, 0.218299999833107, 0.7225000262260437, -0.09679999947547913, 1.8068000078201294, 1.804900050163269, 1.801800012588501, 1.799399971961975, 1.797700047492981, 1.7935999631881714, 1.7918000221252441, 1.7903000116348267, 1.7871999740600586, 1.7848000526428223, 1.784600019454956, 1.7825000286102295, 1.7806999683380127, 1.7798999547958374, 1.7792999744415283, 1.7788000106811523, 1.7781000137329102, 1.7768000364303589, 1.7760000228881836, 1.774399995803833, 1.7742999792099, 1.7742999792099, 1.7740000486373901, 1.7731000185012817, 1.7726999521255493, 1.7720999717712402, 1.7718000411987305, 1.7711000442504883, 1.7711000442504883, 1.770300030708313, 1.7624000310897827, 1.729200005531311, 1.659000039100647, 1.6466000080108643, 1.5169999599456787, 1.621399998664856, 1.7346999645233154, 1.2148000001907349, 1.1576999425888062, 1.5672999620437622, 1.701300024986267, 1.3860000371932983, 1.382699966430664, 1.1434999704360962, 1.416200041770935, 1.530500054359436, 1.3825000524520874, 1.1516000032424927, 1.0369999408721924, 1.0063999891281128, 1.1634999513626099, 1.2130000591278076, 0.8371000289916992, 1.358199954032898, 0.8375999927520752, 1.1413999795913696, 0.986299991607666, 0.8738999962806702, 1.2209999561309814, 0.5271000266075134, 0.5199000239372253, 0.7717000246047974, 0.4097000062465668, 0.9138000011444092, 0.5788000226020813, 0.4415999948978424, -0.36250001192092896, 0.9261999726295471, 0.39070001244544983, -0.1459999978542328, 2.4381000995635986, 2.433199882507324, 2.432499885559082, 2.4298999309539795, 2.4298999309539795, 2.42930006980896, 2.426300048828125, 2.42549991607666, 2.4242000579833984, 2.421999931335449, 2.421099901199341, 2.4140000343322754, 2.4121999740600586, 2.4121999740600586, 2.411900043487549, 2.410099983215332, 2.4079999923706055, 2.4072000980377197, 2.4049999713897705, 2.397599935531616, 2.3896000385284424, 2.3873000144958496, 2.385999917984009, 2.3831000328063965, 2.3794000148773193, 2.3745999336242676, 2.373699903488159, 2.3712000846862793, 2.3701000213623047, 2.3661000728607178, 2.3457000255584717, 2.2874999046325684, 2.3345000743865967, 2.2964000701904297, 2.1926000118255615, 2.2385001182556152, 2.232800006866455, 1.9952000379562378, 2.143899917602539, 1.9564000368118286, 1.9543999433517456, 1.7798000574111938, 2.072499990463257, 2.072499990463257, 1.9581999778747559, 1.5190999507904053, 1.5078999996185303, 1.0025999546051025, 1.4433000087738037, 0.9645000100135803, 1.6495000123977661, 1.1513999700546265, 1.2477999925613403, 1.5027999877929688, 1.8148000240325928, 1.4270999431610107, 1.1877000331878662, 0.963699996471405, 1.5463999509811401, 0.8095999956130981, 1.6978000402450562, 1.0663000345230103, 0.40880000591278076, 0.8813999891281128, 2.7040998935699463, 2.6951000690460205, 2.6851999759674072, 2.676500082015991, 2.6761999130249023, 2.6754000186920166, 2.6675000190734863, 2.6640000343322754, 2.6607000827789307, 2.6603000164031982, 2.6600000858306885, 2.65910005569458, 2.6586999893188477, 2.6584999561309814, 2.6528000831604004, 2.6526999473571777, 2.6519999504089355, 2.649600028991699, 2.6470999717712402, 2.646399974822998, 2.6410999298095703, 2.6410999298095703, 2.640199899673462, 2.639400005340576, 2.6389999389648438, 2.6352999210357666, 2.634500026702881, 2.632699966430664, 2.6270999908447266, 2.6270999908447266, 2.6106998920440674, 2.594899892807007, 2.5429999828338623, 2.4704999923706055, 2.4105000495910645, 2.4217000007629395, 2.164799928665161, 2.235599994659424, 2.15939998626709, 2.307800054550171, 1.7803000211715698, 1.8978999853134155, 1.920300006866455, 2.196899890899658, 2.026400089263916, 1.68149995803833, 1.7178000211715698, 0.953499972820282, 2.131700038909912, 1.8566999435424805, 1.1100000143051147, 1.756100058555603, 0.8226000070571899, 1.2723000049591064, 1.2625999450683594, 1.482100009918213, 1.3650000095367432, 1.2533999681472778, 0.6858000159263611, 1.850100040435791, 1.0710999965667725, 0.5059000253677368, 0.9613999724388123, 2.7795000076293945, 2.771899938583374, 2.7578999996185303, 2.755000114440918, 2.7490999698638916, 2.74399995803833, 2.7434000968933105, 2.741300106048584, 2.7411999702453613, 2.739300012588501, 2.735300064086914, 2.730299949645996, 2.7262001037597656, 2.725399971008301, 2.724100112915039, 2.723900079727173, 2.7225000858306885, 2.7225000858306885, 2.7225000858306885, 2.7225000858306885, 2.7225000858306885, 2.7225000858306885, 2.7225000858306885, 2.7223000526428223, 2.721100091934204, 2.7149999141693115, 2.713599920272827, 2.7100000381469727, 2.7098000049591064, 2.7095999717712402, 2.695499897003174, 2.6440999507904053, 2.5933001041412354, 2.6075000762939453, 2.3691000938415527, 2.4300999641418457, 2.427999973297119, 2.454699993133545, 2.5815000534057617, 2.5797998905181885, 1.74590003490448, 1.9595999717712402, 1.5480999946594238, 2.2214999198913574, 2.015700101852417, 2.4971001148223877, 2.033099889755249, 2.3824000358581543, 2.0092999935150146, 1.7067999839782715, 1.3528000116348267, 1.4565999507904053, 1.7105000019073486, 0.4481000006198883, 1.145300030708313, 1.4371000528335571, 0.7767000198364258, 1.0405999422073364, 0.6489999890327454, 0.5903000235557556, 0.8421000242233276, 2.934299945831299, 2.9235999584198, 2.9191999435424805, 2.9170000553131104, 2.914299964904785, 2.9142000675201416, 2.9119999408721924, 2.9058001041412354, 2.904099941253662, 2.904099941253662, 2.9021999835968018, 2.9007999897003174, 2.898400068283081, 2.8975000381469727, 2.8952999114990234, 2.894399881362915, 2.8935000896453857, 2.8922998905181885, 2.8886001110076904, 2.888400077819824, 2.888400077819824, 2.8868000507354736, 2.8850998878479004, 2.8819000720977783, 2.8784000873565674, 2.8778998851776123, 2.8773999214172363, 2.871500015258789, 2.865999937057495, 2.864500045776367, 2.8503000736236572, 2.819499969482422, 2.543600082397461, 2.671299934387207, 2.510499954223633, 2.685499906539917, 2.5253000259399414, 1.747499942779541, 1.8133000135421753, 1.9617999792099, 2.028700113296509, 2.152100086212158, 2.0007998943328857, 1.9783999919891357, 1.4606000185012817, 2.1791999340057373, 1.2129000425338745, 0.6003999710083008, 1.083299994468689, 1.700600028038025, 3.1684999465942383, 3.1484999656677246, 3.1431000232696533, 3.142199993133545, 3.137500047683716, 3.1354000568389893, 3.1326000690460205, 3.1305999755859375, 3.129300117492676, 3.127500057220459, 3.126300096511841, 3.123800039291382, 3.123699903488159, 3.12280011177063, 3.1201000213623047, 3.119800090789795, 3.1194000244140625, 3.1105000972747803, 3.108299970626831, 3.1057000160217285, 3.1031999588012695, 3.0957999229431152, 3.0910000801086426, 3.09060001373291, 3.084399938583374, 3.0843000411987305, 3.08270001411438, 3.0778000354766846, 3.0752999782562256, 3.0692999362945557, 3.061500072479248, 3.047800064086914, 2.980799913406372, 3.0220000743865967, 2.8487000465393066, 2.816800117492676, 2.8715999126434326, 2.6501998901367188, 2.1103999614715576, 2.6521999835968018, 2.257999897003174, 1.3158999681472778, 2.6119000911712646, 1.2380000352859497, 1.551200032234192, 1.1916999816894531, 1.979200005531311, 2.4089999198913574, 2.5550999641418457, 2.2774999141693115, 0.8366000056266785, 1.1162999868392944, 1.1739000082015991, 1.1059000492095947, 1.9874000549316406, 3.2562999725341797, 3.2551000118255615, 3.2523999214172363, 3.251699924468994, 3.246500015258789, 3.2421000003814697, 3.241300106048584, 3.2351999282836914, 3.232599973678589, 3.225800037384033, 3.2197999954223633, 3.2128000259399414, 3.206399917602539, 3.206199884414673, 3.206199884414673, 3.2051000595092773, 3.2018001079559326, 3.2012999057769775, 3.2007999420166016, 3.1986000537872314, 3.1970999240875244, 3.193000078201294, 3.1912999153137207, 3.190999984741211, 3.1898000240325928, 3.184499979019165, 3.184499979019165, 3.184499979019165, 3.184499979019165, 3.184499979019165, 3.1840999126434326, 3.1219000816345215, 3.1268999576568604, 3.0764000415802, 2.9258999824523926, 3.0810000896453857, 3.016200065612793, 2.6552000045776367, 2.594399929046631, 2.5002999305725098, 2.609100103378296, 1.896399974822998, 2.170599937438965, 2.917799949645996, 2.7999000549316406, 1.398900032043457, 1.3955999612808228, 1.8286000490188599, 1.5569000244140625, 1.940500020980835, 1.6204999685287476, 2.6045000553131104, 1.8981000185012817, 1.7761000394821167, 0.9085999727249146, 2.0072999000549316, 0.6881999969482422, 3.6772000789642334, 3.6740000247955322, 3.6547000408172607, 3.6535000801086426, 3.6391000747680664, 3.634500026702881, 3.634500026702881, 3.6331000328063965, 3.626499891281128, 3.626300096511841, 3.6250998973846436, 3.6240999698638916, 3.611999988555908, 3.610599994659424, 3.6089999675750732, 3.60509991645813, 3.6019999980926514, 3.595400094985962, 3.595400094985962, 3.595400094985962, 3.595400094985962, 3.595400094985962, 3.592400074005127, 3.571199893951416, 3.5676000118255615, 3.5676000118255615, 3.562299966812134, 3.5622000694274902, 3.5576999187469482, 3.5434000492095947, 3.4005000591278076, 3.3485000133514404, 3.351300001144409, 3.2871999740600586, 3.131700038909912, 2.2170000076293945, 2.626699924468994, 2.1868999004364014, 3.0687999725341797, 2.24399995803833, 3.1526999473571777, 2.4832000732421875, 2.854300022125244, 2.2114999294281006, 2.2358999252319336, 2.6995999813079834, 2.8850998878479004, 1.2822999954223633, 1.6648999452590942, 2.558799982070923, 2.2156999111175537, 1.822700023651123, 0.5800999999046326, 1.7431999444961548, 1.86080002784729, 0.9718999862670898, 1.1054999828338623]}, \"token.table\": {\"Topic\": [8, 3, 4, 7, 10, 4, 8, 1, 2, 3, 4, 6, 8, 9, 10, 1, 3, 7, 8, 9, 1, 2, 3, 4, 6, 7, 10, 6, 10, 6, 1, 2, 4, 1, 2, 3, 4, 7, 10, 2, 1, 2, 3, 1, 4, 9, 10, 1, 9, 7, 7, 1, 9, 6, 9, 9, 1, 2, 4, 6, 5, 5, 8, 5, 1, 7, 8, 9, 1, 2, 3, 4, 6, 2, 2, 4, 6, 8, 4, 9, 4, 2, 4, 5, 4, 4, 8, 4, 1, 2, 5, 6, 1, 3, 9, 1, 2, 4, 6, 8, 9, 1, 2, 3, 4, 7, 8, 10, 3, 1, 2, 3, 4, 5, 6, 7, 9, 1, 4, 3, 1, 6, 8, 9, 4, 6, 7, 6, 6, 1, 3, 5, 9, 1, 2, 4, 6, 1, 7, 10, 5, 1, 3, 5, 9, 1, 7, 7, 1, 2, 3, 5, 8, 3, 4, 1, 2, 3, 4, 5, 1, 2, 3, 5, 10, 3, 2, 7, 8, 8, 7, 6, 6, 8, 9, 1, 2, 7, 8, 5, 7, 1, 2, 3, 4, 7, 8, 3, 7, 3, 6, 10, 10, 2, 5, 5, 1, 2, 7, 2, 1, 2, 3, 4, 5, 4, 7, 8, 4, 8, 10, 9, 1, 3, 5, 9, 10, 4, 2, 3, 4, 5, 7, 2, 3, 4, 1, 2, 3, 7, 8, 2, 3, 5, 7, 8, 9, 10, 1, 6, 4, 1, 3, 4, 6, 8, 2, 9, 3, 10, 1, 10, 1, 2, 1, 2, 3, 5, 6, 8, 2, 6, 8, 1, 3, 4, 6, 9, 10, 10, 6, 9, 1, 3, 4, 10, 10, 5, 1, 5, 2, 3, 4, 10, 3, 1, 2, 3, 4, 5, 7, 8, 2, 8, 1, 2, 5, 2, 5, 8, 1, 2, 8, 9, 10, 6, 1, 2, 4, 5, 1, 2, 3, 6, 2, 7, 10, 10, 1, 4, 8, 1, 6, 7, 1, 2, 5, 7, 8, 9, 1, 4, 8, 9, 1, 2, 7, 8, 9, 6, 7, 8, 9, 9, 3, 6, 7, 1, 2, 3, 4, 5, 6, 9, 1, 2, 6, 8, 9, 3, 8, 3, 1, 2, 3, 4, 5, 6, 1, 2, 3, 4, 5, 6, 9, 1, 2, 9, 1, 5, 1, 2, 10, 9, 1, 6, 10, 3, 7, 4, 1, 2, 1, 10, 1, 4, 6, 10, 6, 3, 6, 2, 3, 4, 7, 2, 1, 4, 1, 2, 4, 1, 6, 7, 2, 3, 4, 9, 4, 3, 6, 8, 7, 10, 3, 9, 10, 3, 9, 1, 2, 6, 10, 5, 7, 4, 10, 2, 3, 5, 8, 10, 9, 2, 3, 8, 9, 7, 10, 1, 2, 3, 4, 6, 2, 1, 2, 3, 4, 6, 10, 1, 3, 4, 6, 2, 8, 5, 10, 5, 9, 1, 3, 4, 6, 1, 2, 10, 10, 6, 2, 3, 4, 6, 8, 9, 10, 1, 2, 3, 4, 6, 9, 10, 1, 2, 4, 2, 3, 7, 6, 6, 1, 1, 2, 5, 10, 1, 5, 7, 8, 9, 10, 7, 4, 1, 2, 4, 7, 8, 9, 10, 3, 2, 1, 2, 3, 5, 8, 6, 6, 4, 10, 4, 4, 1, 4, 6, 2, 9, 8, 2, 3, 8, 9, 4, 6, 1, 2, 3, 4, 5, 3, 5, 9, 1, 4, 8, 3, 6, 2, 5, 5, 6, 1, 2, 9, 10, 3, 2, 3, 5, 8, 1, 1, 1, 5, 1, 2, 2, 7, 5, 10, 3, 1, 2, 3, 4, 5, 6, 8, 9, 2, 3, 6, 8, 10, 2, 7, 2, 4, 5, 6, 8, 1, 2, 3, 4, 5, 9, 7, 2, 1, 2, 5, 5, 6, 1, 9, 7, 4, 6, 4, 5, 8, 9, 2, 1, 2, 4, 5, 6, 7, 5, 3, 1, 7, 1, 2, 3, 4, 9, 1, 2, 3, 6, 8, 10, 9, 3, 5, 3, 9, 1, 3, 1, 2, 3, 4, 7, 1, 2, 3, 4, 7, 9, 8, 9, 10, 1, 4, 6, 7, 1, 2, 3, 4, 5, 6, 9, 9, 3, 5, 7, 2, 3, 5, 3, 1, 2, 4, 6, 2, 4, 6, 7, 8, 9, 2, 3, 4, 5, 8, 5, 9, 10, 4, 5, 9, 4, 1, 2, 3, 5, 6, 8, 3, 10, 8, 1, 2, 3, 8, 1, 2, 3, 4, 7, 8, 10, 1, 2, 1, 6, 2, 3, 5, 2, 3, 5, 4, 10, 5, 1, 2, 6, 1, 2, 6, 3, 6, 4, 7, 1, 2, 6, 1, 2, 3, 4, 6, 10, 1, 3, 9, 2, 1, 2, 3, 5, 1, 7, 8, 3, 6, 4, 10, 6, 2, 8, 3, 9, 5, 1, 2, 3, 4, 5, 8, 9, 2, 3, 7, 2, 3, 7, 9, 10, 1, 2, 3, 8, 2, 4, 5, 6, 2, 1, 3, 1, 4, 10, 3, 7, 9, 5, 9, 1, 8, 5, 2, 5, 1, 3, 10, 1, 4, 6, 6, 1, 2, 3, 4, 6, 10, 8, 10, 2, 2, 3, 8, 1, 2, 3, 4, 6, 1, 2, 3, 4, 6, 1, 2, 3, 4, 1, 2, 3, 4, 6, 10, 5, 1, 2, 4, 6, 8, 10, 1, 4, 1, 3, 6, 1, 2, 3, 6, 9, 2, 6, 8, 4, 1, 2, 3, 4, 5, 6, 7, 9, 2, 3, 7, 9, 2, 9, 7, 9, 2, 9, 4, 5, 3, 4, 8, 8, 1, 2, 3, 8, 10, 4, 1, 2, 3, 7, 9, 7, 8, 3, 1, 2, 3, 4, 5, 6, 8, 1, 2, 3, 4, 5, 6, 7, 8, 1, 2, 6, 7, 2, 3, 6, 7, 10, 1, 2, 4, 9, 10, 10, 9, 4, 2, 2, 1, 2, 3, 4, 5, 2, 3, 6, 7, 2, 4, 5, 6, 7, 10, 1, 2, 3, 5, 6, 7, 9, 2, 3, 6, 2, 2, 4, 9, 10, 6, 8, 1, 7, 2, 5, 1, 2, 9, 1, 2, 6, 5, 6, 2, 9, 6, 10, 8, 2, 4, 5, 7, 9, 2, 4, 5, 6, 7, 8, 7, 8, 3, 4, 5, 6, 8, 10, 1, 4, 1, 3, 6, 1, 1, 3, 1, 3, 8, 1, 10, 9, 1, 2, 3, 4, 6, 7, 10, 8, 2, 6, 1, 2, 4, 7, 4, 2, 7, 9, 8, 1, 2, 4, 2, 8, 1, 7, 1, 2, 4, 6, 9, 1, 2, 4, 10, 2, 6, 8, 1, 2, 7, 9, 5, 8, 10, 5, 1, 3, 5, 9, 10, 4, 9, 1, 2, 5, 6, 8, 4, 8, 9, 6, 5, 8, 2, 5, 8, 10, 6, 1, 2, 3, 5, 7, 8, 3, 7, 8, 1, 8, 7, 9, 1, 8, 8, 1, 2, 3, 4, 5, 6, 7, 1, 2, 6, 2, 6, 2, 3, 4, 5, 2, 2, 3, 2, 4, 6, 2, 3, 6, 3, 1, 2, 5, 6, 1, 2, 3, 5, 7, 9, 1, 2, 3, 4, 7, 1, 2, 3, 10, 1, 2, 3, 4, 5, 6, 7, 8, 9, 8, 9, 1, 2, 3, 5, 8, 1, 2, 3, 9, 7, 2, 2, 6, 1, 2, 3, 4, 5, 6, 10, 1, 2, 5, 9, 7, 5, 7, 3, 5, 1, 2, 1, 2, 7, 2, 6, 9, 1, 2, 4, 5, 6, 8, 9, 10, 2, 4, 9, 5, 9, 8, 5, 1], \"Freq\": [0.9701867699623108, 0.5043212175369263, 0.18912045657634735, 0.07880019396543503, 0.22064054012298584, 0.9262300729751587, 0.9673107862472534, 0.14011748135089874, 0.2296369969844818, 0.27634280920028687, 0.05838228762149811, 0.08173520117998123, 0.14400963485240936, 0.031137218698859215, 0.035029370337724686, 0.19639505445957184, 0.35351109504699707, 0.13747653365135193, 0.07855802029371262, 0.23567406833171844, 0.15648838877677917, 0.35209885239601135, 0.20539100468158722, 0.019561048597097397, 0.03423183411359787, 0.22984232008457184, 0.004890262149274349, 0.9094125628471375, 0.9448875188827515, 0.9807897806167603, 0.06727495789527893, 0.9306368827819824, 0.9277679920196533, 0.06519122421741486, 0.35493001341819763, 0.5215297937393188, 0.057947754859924316, 0.9238463044166565, 0.9374371767044067, 0.9698171615600586, 0.04163267835974693, 0.1248980388045311, 0.8326535820960999, 0.15107694268226624, 0.44243961572647095, 0.323736310005188, 0.06474725902080536, 0.9729421138763428, 0.8962839245796204, 0.9765828251838684, 0.960666298866272, 0.9801389575004578, 0.9393647909164429, 0.9497343301773071, 0.8995901346206665, 0.9748518466949463, 0.21587051451206207, 0.2569887042045593, 0.2569887042045593, 0.2569887042045593, 0.9763980507850647, 0.9704635143280029, 0.9404741525650024, 0.880501389503479, 0.9637236595153809, 0.9618681073188782, 0.9562488794326782, 0.9392605423927307, 0.0169143695384264, 0.28754428029060364, 0.29600146412849426, 0.35520175099372864, 0.0338287390768528, 0.9928038120269775, 0.008631374686956406, 0.6041962504386902, 0.04315687343478203, 0.3452549874782562, 0.980901300907135, 0.9475371241569519, 0.9233711957931519, 0.987427830696106, 0.7970621585845947, 0.1743573397397995, 0.9630093574523926, 0.24424521625041962, 0.7327356934547424, 0.9257351756095886, 0.924484372138977, 0.07704036682844162, 0.9226009249687195, 0.9174039363861084, 0.986880362033844, 0.9828373789787292, 0.9631961584091187, 0.3134949505329132, 0.2525375783443451, 0.10449831187725067, 0.12191469967365265, 0.01741638593375683, 0.19158023595809937, 0.3150441348552704, 0.19352710247039795, 0.09451323747634888, 0.27003782987594604, 0.0765107125043869, 0.027003781870007515, 0.02250315062701702, 0.9787018299102783, 0.3485523462295532, 0.19606070220470428, 0.25270044803619385, 0.06535356491804123, 0.013070713728666306, 0.11763641983270645, 0.004356904421001673, 0.9047425985336304, 0.3766545355319977, 0.609821617603302, 0.95745450258255, 0.47582322359085083, 0.4594155251979828, 0.032815396785736084, 0.016407698392868042, 0.9074164032936096, 0.9328799247741699, 0.049098942428827286, 0.9865217804908752, 0.9424479007720947, 0.34143900871276855, 0.2560792565345764, 0.39021602272987366, 0.89071124792099, 0.5239958167076111, 0.3195096254348755, 0.0511215403676033, 0.09585288912057877, 0.9270390272140503, 0.06984540075063705, 0.8015023469924927, 0.9395145177841187, 0.26636645197868347, 0.42618632316589355, 0.03551552817225456, 0.2841242253780365, 0.3286990523338318, 0.6573981046676636, 0.9684560894966125, 0.27477729320526123, 0.15456223487854004, 0.3549206852912903, 0.12021506577730179, 0.09731695801019669, 0.10641922801733017, 0.8513538241386414, 0.12061423808336258, 0.46637505292892456, 0.3779246211051941, 0.032163798809051514, 0.008040949702262878, 0.05501951649785042, 0.19256830215454102, 0.5364402532577515, 0.06877439469099045, 0.15130366384983063, 0.9597303867340088, 0.2610446512699127, 0.052208926528692245, 0.7048205137252808, 0.9351065754890442, 0.8884540796279907, 0.9497343301773071, 0.8324766755104065, 0.15416234731674194, 0.8801521062850952, 0.984359622001648, 0.31186628341674805, 0.6732814311981201, 0.014573190361261368, 0.7469822764396667, 0.22132807970046997, 0.107082799077034, 0.4390394687652588, 0.2088114619255066, 0.0214165598154068, 0.1766866147518158, 0.0481872595846653, 0.9878630638122559, 0.99090975522995, 0.9553202390670776, 0.9497343301773071, 0.9377759099006653, 0.8839174509048462, 0.127853661775589, 0.852357804775238, 0.9214235544204712, 0.40737155079841614, 0.20368577539920807, 0.3834085166454315, 0.9574990272521973, 0.09540192782878876, 0.21200428903102875, 0.23320472240447998, 0.40280812978744507, 0.0636012852191925, 0.06610896438360214, 0.19832690060138702, 0.7139768600463867, 0.6756042838096619, 0.021793685853481293, 0.2833179235458374, 0.9392670392990112, 0.9626962542533875, 0.12681148946285248, 0.06340574473142624, 0.06340574473142624, 0.6974632143974304, 0.9761060476303101, 0.04093484580516815, 0.6447237730026245, 0.10233710706233978, 0.04093484580516815, 0.15350566804409027, 0.04371155425906181, 0.9179426431655884, 0.9733079075813293, 0.0847613513469696, 0.22603027522563934, 0.1695227026939392, 0.11301513761281967, 0.39555296301841736, 0.26382800936698914, 0.5156638622283936, 0.11992182582616806, 0.029980456456542015, 0.029980456456542015, 0.023984365165233612, 0.011992182582616806, 0.4248857796192169, 0.559060275554657, 0.9672035574913025, 0.1767171174287796, 0.0883585587143898, 0.1178114116191864, 0.1472642719745636, 0.4712456464767456, 0.06373187899589539, 0.9134902358055115, 0.9760077595710754, 0.866838276386261, 0.9629732966423035, 0.9589861035346985, 0.7715075612068176, 0.2259971648454666, 0.09759563952684402, 0.0557689368724823, 0.6692272424697876, 0.08365340530872345, 0.02788446843624115, 0.0557689368724823, 0.9928995370864868, 0.9835608005523682, 0.8900378346443176, 0.01940849982202053, 0.27560070157051086, 0.11256930232048035, 0.3532347083091736, 0.1513863056898117, 0.08927910029888153, 0.9373757243156433, 0.8930417895317078, 0.037210073322057724, 0.10603483766317368, 0.5513811707496643, 0.10603483766317368, 0.23327665030956268, 0.9507713317871094, 0.9345280528068542, 0.9884968400001526, 0.9438196420669556, 0.16583353281021118, 0.6529695391654968, 0.11401055753231049, 0.06218757852911949, 0.9858395457267761, 0.33499884605407715, 0.5337269902229309, 0.02271178551018238, 0.005677946377545595, 0.06245741248130798, 0.005677946377545595, 0.02271178551018238, 0.3931480348110199, 0.5504072904586792, 0.37861016392707825, 0.3857537508010864, 0.23573841154575348, 0.10370974242687225, 0.8919037580490112, 0.937680184841156, 0.8251186609268188, 0.004769471939653158, 0.047694720327854156, 0.09061997383832932, 0.028616832569241524, 0.9556906223297119, 0.1448463499546051, 0.020692335441708565, 0.10346167534589767, 0.7449240684509277, 0.46786460280418396, 0.06683780252933502, 0.1203080415725708, 0.3341889977455139, 0.42665353417396545, 0.1279960572719574, 0.42665353417396545, 0.8680957555770874, 0.9800947308540344, 0.9710411429405212, 0.8806246519088745, 0.2939278483390808, 0.661337673664093, 0.9714070558547974, 0.5643291473388672, 0.2182072550058365, 0.09029266238212585, 0.022573165595531464, 0.0827682688832283, 0.022573165595531464, 0.28145861625671387, 0.1948559731245041, 0.021650662645697594, 0.4979652464389801, 0.18473418056964874, 0.26390597224235535, 0.1979294717311859, 0.13195298612117767, 0.22432006895542145, 0.08338009566068649, 0.4585905373096466, 0.18065688014030457, 0.26403698325157166, 0.9687588214874268, 0.9801024198532104, 0.967708170413971, 0.9800987839698792, 0.5537471771240234, 0.06966497004032135, 0.11253571510314941, 0.05537471920251846, 0.17326927185058594, 0.028580499812960625, 0.005358843598514795, 0.5123120546340942, 0.3383192718029022, 0.09666264802217484, 0.02899879403412342, 0.01449939701706171, 0.4045605957508087, 0.5731275081634521, 0.989464282989502, 0.4379984140396118, 0.08086124807596207, 0.09433812648057938, 0.1684609353542328, 0.020215312018990517, 0.1954146772623062, 0.41415297985076904, 0.10556840896606445, 0.19489552080631256, 0.04872388020157814, 0.012180970050394535, 0.07714614272117615, 0.1502319723367691, 0.3808894753456116, 0.11202631890773773, 0.5153210759162903, 0.9650020599365234, 0.9522427320480347, 0.5887711644172668, 0.08831567317247391, 0.3238241374492645, 0.9320421814918518, 0.25673708319664, 0.718863844871521, 0.8701911568641663, 0.9461519122123718, 0.9049240946769714, 0.8679279685020447, 0.8121256232261658, 0.18387749791145325, 0.6080735921859741, 0.37160050868988037, 0.4852537512779236, 0.1164609044790268, 0.155281201004982, 0.213511660695076, 0.9517890810966492, 0.28735655546188354, 0.6896557807922363, 0.466715008020401, 0.24563948810100555, 0.28248539566993713, 0.916356086730957, 0.9636377692222595, 0.9637904167175293, 0.02190432697534561, 0.12494892627000809, 0.796549379825592, 0.062474463135004044, 0.5313893556594849, 0.46326252818107605, 0.9799982309341431, 0.1824011653661728, 0.21158534288406372, 0.07296046614646912, 0.5326113700866699, 0.9580110311508179, 0.8553217649459839, 0.13549652695655823, 0.9272271990776062, 0.9562686681747437, 0.02988339588046074, 0.4837956428527832, 0.45355841517448425, 0.0604744553565979, 0.9940147399902344, 0.8820732831954956, 0.37652838230133057, 0.11980447918176651, 0.1540343314409256, 0.3422985076904297, 0.9777624607086182, 0.9169214367866516, 0.24757511913776398, 0.7202185392379761, 0.5480541586875916, 0.12021833658218384, 0.13082583248615265, 0.1555766761302948, 0.042430002242326736, 0.949447751045227, 0.725408136844635, 0.21373632550239563, 0.025907432660460472, 0.03238429129123688, 0.9816384315490723, 0.7805654406547546, 0.38922765851020813, 0.0579700767993927, 0.20703598856925964, 0.07453295588493347, 0.26500606536865234, 0.9713971614837646, 0.03192412853240967, 0.35116541385650635, 0.19792959094047546, 0.38947436213493347, 0.025539301335811615, 0.9621869921684265, 0.30588048696517944, 0.15294024348258972, 0.19663746654987335, 0.33865341544151306, 0.9784711003303528, 0.9904559254646301, 0.9259148836135864, 0.985385537147522, 0.2301914244890213, 0.7826508283615112, 0.2703869342803955, 0.14871281385421753, 0.47317713499069214, 0.1081547737121582, 0.045223940163850784, 0.49746331572532654, 0.45223939418792725, 0.8903309106826782, 0.9269195199012756, 0.5349063277244568, 0.2926845848560333, 0.10597200691699982, 0.040370289236307144, 0.015138857997953892, 0.010092572309076786, 0.005046286154538393, 0.09533188492059708, 0.23152029514312744, 0.25875797867774963, 0.054475363343954086, 0.06809420138597488, 0.14980724453926086, 0.13618840277194977, 0.1714976727962494, 0.814613938331604, 0.010718604549765587, 0.9884005784988403, 0.09377602487802505, 0.8752428889274597, 0.9497343301773071, 0.9843287467956543, 0.9769165515899658, 0.3221217393875122, 0.214747816324234, 0.2386086881160736, 0.2207130342721939, 0.10748448967933655, 0.4494805932044983, 0.40062400698661804, 0.02931395173072815, 0.28951823711395264, 0.6369401216506958, 0.9822962284088135, 0.9725836515426636, 0.48259711265563965, 0.27277228236198425, 0.12169840186834335, 0.012589490041136742, 0.029375476762652397, 0.05035796016454697, 0.029375476762652397, 0.9493962526321411, 0.9780296087265015, 0.09489420801401138, 0.004313373472541571, 0.7419002056121826, 0.017253493890166283, 0.13802795112133026, 0.9497343301773071, 0.9497343301773071, 0.9844947457313538, 0.7801658511161804, 0.9873859286308289, 0.9501664638519287, 0.9795103669166565, 0.7640642523765564, 0.21830406785011292, 0.9483740925788879, 0.9631961584091187, 0.9640430808067322, 0.9820924401283264, 0.9825296998023987, 0.1740720123052597, 0.8123360276222229, 0.7942682504653931, 0.17650406062602997, 0.33586564660072327, 0.27033090591430664, 0.04915107041597366, 0.08191845566034317, 0.26213905215263367, 0.2802946865558624, 0.6073051691055298, 0.11678945273160934, 0.8506736755371094, 0.14523696899414062, 0.9778584837913513, 0.12511439621448517, 0.8579272627830505, 0.18933497369289398, 0.7843877077102661, 0.8961902260780334, 0.942179262638092, 0.4450547993183136, 0.37706032395362854, 0.17925818264484406, 0.9344289898872375, 0.9334891438484192, 0.2051304131746292, 0.29837149381637573, 0.09324109554290771, 0.39161258935928345, 0.9976523518562317, 0.9934309124946594, 0.9729090929031372, 0.014521031640470028, 0.030461765825748444, 0.9443147778511047, 0.9849292039871216, 0.9622570276260376, 0.973370373249054, 0.9374371767044067, 0.9691663980484009, 0.4264492392539978, 0.18522542715072632, 0.24122381210327148, 0.02584540843963623, 0.012922704219818115, 0.038768112659454346, 0.06030595302581787, 0.012922704219818115, 0.19922608137130737, 0.033204346895217896, 0.09961304068565369, 0.09961304068565369, 0.5644738674163818, 0.19585108757019043, 0.7834043502807617, 0.16588160395622253, 0.3663218915462494, 0.03455866873264313, 0.2349989414215088, 0.19352853298187256, 0.12233913689851761, 0.4631410241127014, 0.017477018758654594, 0.07864658534526825, 0.288370817899704, 0.017477018758654594, 0.9810265302658081, 0.9655281901359558, 0.9876763820648193, 0.005008005071431398, 0.9915849566459656, 0.9770067930221558, 0.9571300745010376, 0.9877162575721741, 0.959794282913208, 0.9811623692512512, 0.9005614519119263, 0.08576775342226028, 0.9681375622749329, 0.08673477172851562, 0.8673477172851562, 0.9764609932899475, 0.9367986917495728, 0.5146259665489197, 0.06569693237543106, 0.3011109530925751, 0.08212117105722427, 0.03284846618771553, 0.9617379307746887, 0.9273466467857361, 0.9683911204338074, 0.21695999801158905, 0.7593600153923035, 0.1778677999973297, 0.2021224945783615, 0.5093486905097961, 0.06467919796705246, 0.04042449966073036, 0.2243795096874237, 0.1442439705133438, 0.3045150339603424, 0.09616264700889587, 0.06410843133926392, 0.1602710783481598, 0.9686858654022217, 0.07345150411128998, 0.9181437492370605, 0.9343244433403015, 0.9392969608306885, 0.9902746081352234, 0.9646572470664978, 0.1221124455332756, 0.27475300431251526, 0.0305281113833189, 0.5342419147491455, 0.0305281113833189, 0.2648196816444397, 0.41242408752441406, 0.1606283336877823, 0.12589788436889648, 0.021706530824303627, 0.01302391942590475, 0.10709480941295624, 0.3212844431400299, 0.5354740619659424, 0.03395365923643112, 0.6315380334854126, 0.17655901610851288, 0.15618683397769928, 0.09786957502365112, 0.3914783000946045, 0.2446739375591278, 0.129327654838562, 0.013981368392705917, 0.06641150265932083, 0.052430130541324615, 0.9619924426078796, 0.41450104117393494, 0.44520482420921326, 0.13816700875759125, 0.040185991674661636, 0.3777483105659485, 0.5786782503128052, 0.9509977102279663, 0.09930740296840668, 0.20764276385307312, 0.26181042194366455, 0.4333414137363434, 0.41583558917045593, 0.2201482504606247, 0.09784366935491562, 0.016307277604937553, 0.13045822083950043, 0.12230458855628967, 0.21108944714069366, 0.030155636370182037, 0.2412450909614563, 0.4975679814815521, 0.015077818185091019, 0.15066005289554596, 0.8286303281784058, 0.9664413332939148, 0.1131565123796463, 0.37718838453292847, 0.4903448820114136, 0.9432153701782227, 0.26555731892585754, 0.3157978951931, 0.10765837132930756, 0.19378507137298584, 0.06459502130746841, 0.05024057254195213, 0.9199333786964417, 0.07076410204172134, 0.9607326984405518, 0.37893739342689514, 0.1457451581954956, 0.39059701561927795, 0.08161728829145432, 0.06693042814731598, 0.37183570861816406, 0.4090192914009094, 0.014873428270220757, 0.014873428270220757, 0.059493713080883026, 0.07436714321374893, 0.9865962862968445, 0.9826881885528564, 0.8737141489982605, 0.12890863418579102, 0.3660740256309509, 0.1996767371892929, 0.41599321365356445, 0.023732958361506462, 0.403460294008255, 0.5695909857749939, 0.964576780796051, 0.9185447096824646, 0.9669468998908997, 0.16094861924648285, 0.7878011465072632, 0.042354900389909744, 0.1349204182624817, 0.8095225095748901, 0.04151397570967674, 0.964316189289093, 0.9201542735099792, 0.95665043592453, 0.9268137812614441, 0.9524841904640198, 0.05013074725866318, 0.9192478656768799, 0.2631651759147644, 0.3449252247810364, 0.10986506938934326, 0.22484013438224792, 0.040880024433135986, 0.015330009162425995, 0.9176904559135437, 0.07101175934076309, 0.010924885980784893, 0.9727242588996887, 0.07885576784610748, 0.42056411504745483, 0.32856571674346924, 0.17085416615009308, 0.9427127838134766, 0.018484564498066902, 0.036969128996133804, 0.9732840657234192, 0.9172827005386353, 0.8964260816574097, 0.08964260667562485, 0.9367470145225525, 0.9923186302185059, 0.9078927040100098, 0.9486269354820251, 0.0431194081902504, 0.929210364818573, 0.23104609549045563, 0.4191068708896637, 0.13432912528514862, 0.06985114514827728, 0.05910481512546539, 0.05910481512546539, 0.03223899006843567, 0.9706952571868896, 0.9647416472434998, 0.95661860704422, 0.04160341992974281, 0.8459361791610718, 0.11094245314598083, 0.9706369042396545, 0.8395910263061523, 0.04219620302319527, 0.29537343978881836, 0.3586677312850952, 0.29537343978881836, 0.728696346282959, 0.06939965486526489, 0.06939965486526489, 0.12723270058631897, 0.9571920037269592, 0.07613279670476913, 0.8755271434783936, 0.9686051607131958, 0.9748327732086182, 0.9543463587760925, 0.9822189807891846, 0.9720354676246643, 0.9262470006942749, 0.9681429862976074, 0.9247202277183533, 0.976327121257782, 0.9084417223930359, 0.9491119980812073, 0.3632926940917969, 0.6160180568695068, 0.3448561429977417, 0.4340430796146393, 0.21404865384101868, 0.1522819548845291, 0.050760652869939804, 0.8121704459190369, 0.9376642107963562, 0.9610633254051208, 0.22408941388130188, 0.10045387595891953, 0.6104504466056824, 0.06181776896119118, 0.9236831665039062, 0.854128360748291, 0.11388377845287323, 0.9407273530960083, 0.20467661321163177, 0.16374129056930542, 0.5730945467948914, 0.33753570914268494, 0.21264749765396118, 0.37466463446617126, 0.0033753570169210434, 0.07088249921798706, 0.2951185405254364, 0.46375772356987, 0.0843195840716362, 0.07829675823450089, 0.07227393239736557, 0.03450832888484001, 0.6125228404998779, 0.2329312264919281, 0.11215207725763321, 0.43719482421875, 0.10634468495845795, 0.06498841941356659, 0.2067813277244568, 0.1417929083108902, 0.04135626554489136, 0.9493973851203918, 0.0084206722676754, 0.5978677272796631, 0.2694615125656128, 0.0336826890707016, 0.0589447058737278, 0.0336826890707016, 0.31050607562065125, 0.6875491738319397, 0.44174817204475403, 0.4459957480430603, 0.11043704301118851, 0.04531826823949814, 0.702433168888092, 0.07930696755647659, 0.10196610540151596, 0.07930696755647659, 0.5530944466590881, 0.12290988117456436, 0.3072746992111206, 0.9358223080635071, 0.16651837527751923, 0.15264184772968292, 0.4579255282878876, 0.027753062546253204, 0.06013163551688194, 0.02312755212187767, 0.03700408339500427, 0.07400816679000854, 0.10435323417186737, 0.7513432502746582, 0.04174129292368889, 0.08348258584737778, 0.7383654117584229, 0.24612180888652802, 0.2415328323841095, 0.6642152667045593, 0.351283997297287, 0.6022011637687683, 0.9433805346488953, 0.9226451516151428, 0.9654020667076111, 0.022451210767030716, 0.9576025009155273, 0.9208718538284302, 0.0688067302107811, 0.39952296018600464, 0.5193798542022705, 0.011097859591245651, 0.9446011781692505, 0.9741601347923279, 0.4294131100177765, 0.12268946319818497, 0.061344731599092484, 0.39260628819465637, 0.9865955710411072, 0.9846093654632568, 0.9549989700317383, 0.9733288288116455, 0.46620088815689087, 0.28234702348709106, 0.11490867286920547, 0.06237899139523506, 0.04268036410212517, 0.022981734946370125, 0.009849314577877522, 0.28455621004104614, 0.14718423783779144, 0.05887369439005852, 0.05887369439005852, 0.39249131083488464, 0.044155269861221313, 0.009812282398343086, 0.8667106628417969, 0.7866379022598267, 0.19057722389698029, 0.020274173468351364, 0.9459283947944641, 0.03891720250248909, 0.5494193434715271, 0.09614837914705276, 0.30446988344192505, 0.011446235701441765, 0.46002712845802307, 0.06192672997713089, 0.38925373554229736, 0.06192672997713089, 0.02654002606868744, 0.9374371767044067, 0.8649681806564331, 0.9294431209564209, 0.9576099514961243, 0.9606927633285522, 0.013197663240134716, 0.09238364547491074, 0.6334878206253052, 0.17156963050365448, 0.07918597757816315, 0.7891265749931335, 0.0657605528831482, 0.1315211057662964, 0.008768073283135891, 0.7040143609046936, 0.06793121248483658, 0.04940451681613922, 0.08028233796358109, 0.02470225840806961, 0.061755646020174026, 0.2958635687828064, 0.2885882556438446, 0.1406564563512802, 0.15035690367221832, 0.007275334093719721, 0.09700445085763931, 0.019400890916585922, 0.3280780613422394, 0.643537700176239, 0.012618386186659336, 0.9682789444923401, 0.012436687014997005, 0.9700616002082825, 0.2997482120990753, 0.6994125247001648, 0.8003092408180237, 0.14123104512691498, 0.988288402557373, 0.9094368815422058, 0.9836607575416565, 0.9794504642486572, 0.04569801315665245, 0.2589554190635681, 0.7007028460502625, 0.8308007717132568, 0.11683136224746704, 0.038943786174058914, 0.9057343602180481, 0.9741153717041016, 0.9414656758308411, 0.03922773525118828, 0.3957209289073944, 0.5935813784599304, 0.9330344796180725, 0.7576448321342468, 0.01114183571189642, 0.1894112080335617, 0.01114183571189642, 0.02228367142379284, 0.15995676815509796, 0.09597406536340714, 0.22393947839736938, 0.4638746380805969, 0.04798703268170357, 0.8915198445320129, 0.16246727108955383, 0.8123363852500916, 0.9961594939231873, 0.7368527054786682, 0.1394045650959015, 0.09957469254732132, 0.019914938136935234, 0.9488584399223328, 0.049913179129362106, 0.9483504295349121, 0.9876537322998047, 0.23883338272571564, 0.764266848564148, 0.9468701481819153, 0.9587500691413879, 0.9806343913078308, 0.9108673930168152, 0.07435652613639832, 0.9758608937263489, 0.9441062211990356, 0.9408801794052124, 0.9603303074836731, 0.09674856811761856, 0.05528489500284195, 0.5113852620124817, 0.22574666142463684, 0.027642447501420975, 0.06910611689090729, 0.013821223750710487, 0.8798288702964783, 0.9789390563964844, 0.9729641675949097, 0.29109662771224976, 0.3347611129283905, 0.07277415692806244, 0.29109662771224976, 0.9829726219177246, 0.1120605394244194, 0.0373535118997097, 0.8404540419578552, 0.981201708316803, 0.17697791755199432, 0.7964006662368774, 0.012641279958188534, 0.4239868223667145, 0.5396196246147156, 0.3457143306732178, 0.6482143402099609, 0.3557255268096924, 0.23981496691703796, 0.11990748345851898, 0.03197532892227173, 0.2478087991476059, 0.36275628209114075, 0.6331745982170105, 0.956102728843689, 0.8511232733726501, 0.7821755409240723, 0.07821755856275558, 0.1303626000881195, 0.5299565196037292, 0.07680529356002808, 0.3763459324836731, 0.015361059457063675, 0.8805853724479675, 0.9443151354789734, 0.8702700734138489, 0.9387598633766174, 0.1969892978668213, 0.5481441020965576, 0.10277702659368515, 0.008564751595258713, 0.1284712851047516, 0.1109757348895073, 0.8508139848709106, 0.21043658256530762, 0.3507276475429535, 0.3741094768047333, 0.007793947588652372, 0.05455763265490532, 0.04001615196466446, 0.8803553581237793, 0.06002423167228699, 0.9740274548530579, 0.9301336407661438, 0.9183245897293091, 0.1464531272649765, 0.5711671710014343, 0.17574374377727509, 0.10251718759536743, 0.979050874710083, 0.15500910580158234, 0.2121177315711975, 0.35896846652030945, 0.008158374577760696, 0.13869236409664154, 0.12237561494112015, 0.3926219344139099, 0.47527918219566345, 0.12398587912321091, 0.946869432926178, 0.04590881988406181, 0.9379613995552063, 0.9392670392990112, 0.988615870475769, 0.9597496390342712, 0.8950785398483276, 0.14265504479408264, 0.20575246214866638, 0.0493805892765522, 0.23318612575531006, 0.054867323487997055, 0.2880534529685974, 0.0246902946382761, 0.08921700716018677, 0.247825026512146, 0.6592145562171936, 0.17505161464214325, 0.8205544352531433, 0.047913700342178345, 0.3234174847602844, 0.39528802037239075, 0.23357929289340973, 0.9407729506492615, 0.20495188236236572, 0.7825435400009155, 0.44026485085487366, 0.5123081803321838, 0.04002407565712929, 0.17008131742477417, 0.11905691772699356, 0.6973333954811096, 0.9746928811073303, 0.2333569973707199, 0.19217635691165924, 0.42553335428237915, 0.15099570155143738, 0.3619309961795807, 0.3338198661804199, 0.02811114676296711, 0.20029191672801971, 0.06325007975101471, 0.007027786690741777, 0.3494454026222229, 0.16640257835388184, 0.09984154999256134, 0.05824090167880058, 0.32448503375053406, 0.18735343217849731, 0.2882360517978668, 0.2882360517978668, 0.21617703139781952, 0.45086443424224854, 0.3187144994735718, 0.036276448518037796, 0.08032642304897308, 0.023320574313402176, 0.028502924367785454, 0.010364699177443981, 0.015547049231827259, 0.03368527442216873, 0.949303388595581, 0.8865556120872498, 0.4094501733779907, 0.06353536993265152, 0.10589228570461273, 0.3600337505340576, 0.05647588521242142, 0.6725127696990967, 0.17293184995651245, 0.13834547996520996, 0.015371720306575298, 0.9765828251838684, 0.9634426236152649, 0.9929359555244446, 0.9497343301773071, 0.13551212847232819, 0.4862494170665741, 0.01594260334968567, 0.19131125509738922, 0.11159823089838028, 0.06377041339874268, 0.9272268414497375, 0.05523541569709778, 0.13808853924274445, 0.6628249883651733, 0.13808853924274445, 0.9860178232192993, 0.04965265467762947, 0.8937478065490723, 0.9722132086753845, 0.9398067593574524, 0.9356750249862671, 0.060366131365299225, 0.9882012605667114, 0.9325176477432251, 0.9332854747772217, 0.9455106854438782, 0.026083054021000862, 0.026083054021000862, 0.2176801562309265, 0.3034329414367676, 0.2506619989871979, 0.05936731398105621, 0.07915642112493515, 0.0065963682718575, 0.06596368551254272, 0.019789105281233788, 0.10372010618448257, 0.8470475673675537, 0.03457336872816086, 0.9450491666793823, 0.9006757736206055, 0.92232745885849, 0.9365984797477722, 0.9666451215744019], \"Term\": [\"aad\", \"access\", \"access\", \"access\", \"access\", \"accordingly\", \"active\", \"added\", \"added\", \"added\", \"added\", \"added\", \"added\", \"added\", \"added\", \"adding\", \"adding\", \"adding\", \"adding\", \"adding\", \"adds\", \"adds\", \"adds\", \"adds\", \"adds\", \"adds\", \"adds\", \"affinity\", \"agents\", \"agility\", \"aio\", \"aio\", \"alembic\", \"allow\", \"allow\", \"allow\", \"allow\", \"allowprivilegeescalation\", \"alternate\", \"amount\", \"apache\", \"apache\", \"apache\", \"api\", \"api\", \"api\", \"api\", \"appropriately\", \"apps\", \"arch\", \"arp\", \"aschoen\", \"asks\", \"asp\", \"async\", \"authenticate\", \"authentication\", \"authentication\", \"authentication\", \"authentication\", \"basepython\", \"bashate\", \"bastion\", \"becomes\", \"behaviour\", \"binary\", \"bind\", \"blockquote\", \"blueprint\", \"blueprint\", \"blueprint\", \"blueprint\", \"blueprint\", \"bootstrap\", \"branch\", \"branch\", \"branch\", \"branch\", \"branches\", \"bridge\", \"bugfix\", \"built\", \"bump\", \"bump\", \"bumps\", \"c\", \"c\", \"cached\", \"call\", \"call\", \"cap\", \"catalog\", \"cert\", \"certificate\", \"chandan\", \"changed\", \"changed\", \"changed\", \"changed\", \"changed\", \"changed\", \"changes\", \"changes\", \"changes\", \"changes\", \"changes\", \"changes\", \"changes\", \"chart\", \"check\", \"check\", \"check\", \"check\", \"check\", \"check\", \"check\", \"chkumar\", \"cinder\", \"cinder\", \"cipher\", \"class\", \"class\", \"class\", \"class\", \"classification\", \"cleaned\", \"cleaned\", \"cleanup\", \"closed\", \"cluster\", \"cluster\", \"cluster\", \"cmd\", \"code\", \"code\", \"code\", \"code\", \"command\", \"command\", \"compliance\", \"compression\", \"compute\", \"compute\", \"compute\", \"compute\", \"condition\", \"condition\", \"conditions\", \"config\", \"config\", \"config\", \"config\", \"config\", \"configurable\", \"configurable\", \"configuration\", \"configuration\", \"configuration\", \"configuration\", \"configuration\", \"configure\", \"configure\", \"configure\", \"configure\", \"configure\", \"configuring\", \"connection\", \"connection\", \"connection\", \"connections\", \"connector\", \"consistancy\", \"consistency\", \"consistency\", \"constantly\", \"constrained\", \"container\", \"container\", \"container\", \"containerized\", \"containerized\", \"containers\", \"containers\", \"containers\", \"containers\", \"containers\", \"containers\", \"content\", \"context\", \"copied\", \"copyandpaste\", \"corruption\", \"cors\", \"cpu\", \"cpu\", \"cpus\", \"creation\", \"creation\", \"creation\", \"cryptography\", \"current\", \"current\", \"current\", \"current\", \"current\", \"data\", \"data\", \"data\", \"db\", \"db\", \"db\", \"dban\", \"debug\", \"dedicated\", \"dedicated\", \"dedicated\", \"dedicated\", \"delegate\", \"deploy\", \"deploy\", \"deploy\", \"deploy\", \"deploy\", \"deployer\", \"deployer\", \"deployers\", \"deploying\", \"deploying\", \"deploying\", \"deploying\", \"deploying\", \"deployment\", \"deployment\", \"deployment\", \"deployment\", \"deployment\", \"deployment\", \"deployment\", \"deprecated\", \"deprecated\", \"developer\", \"development\", \"development\", \"development\", \"development\", \"development\", \"device\", \"device\", \"devstack\", \"diego\", \"dir\", \"direct\", \"directory\", \"directory\", \"disable\", \"disable\", \"disable\", \"disable\", \"disable\", \"disable\", \"distro\", \"distros\", \"django\", \"docs\", \"docs\", \"docs\", \"docs\", \"docs\", \"docs\", \"docstrings\", \"document\", \"document\", \"documentation\", \"documentation\", \"documentation\", \"documentation\", \"dompe\", \"double\", \"edits\", \"eliminated\", \"enable\", \"enable\", \"enable\", \"enable\", \"enables\", \"ensure\", \"ensure\", \"ensure\", \"ensure\", \"ensure\", \"ensure\", \"ensure\", \"entries\", \"entries\", \"environment\", \"environment\", \"environment\", \"environments\", \"environments\", \"eoan\", \"error\", \"error\", \"error\", \"error\", \"error\", \"event\", \"every\", \"every\", \"every\", \"every\", \"example\", \"example\", \"example\", \"example\", \"execute\", \"execute\", \"execute\", \"executes\", \"exit\", \"expand\", \"experiencing\", \"explicitly\", \"explicitly\", \"exporter\", \"fail\", \"fail\", \"fail\", \"fail\", \"fail\", \"fail\", \"failed\", \"failed\", \"failed\", \"failed\", \"fails\", \"fails\", \"fails\", \"fails\", \"fails\", \"false\", \"false\", \"false\", \"false\", \"fatal\", \"feature\", \"fedora\", \"fernet\", \"file\", \"file\", \"file\", \"file\", \"file\", \"file\", \"file\", \"files\", \"files\", \"files\", \"files\", \"files\", \"filesystem\", \"filesystem\", \"firewall\", \"fixed\", \"fixed\", \"fixed\", \"fixed\", \"fixed\", \"fixed\", \"fixes\", \"fixes\", \"fixes\", \"fixes\", \"fixes\", \"fixes\", \"fixes\", \"fixing\", \"fixing\", \"fixing\", \"fluentd\", \"flush\", \"folder\", \"folder\", \"folder\", \"forcing\", \"formatting\", \"formatting\", \"frontends\", \"fs\", \"fsid\", \"fstab\", \"function\", \"function\", \"functions\", \"functions\", \"future\", \"future\", \"future\", \"future\", \"fwaas\", \"galera\", \"galera\", \"gate\", \"gate\", \"gate\", \"gateway\", \"general\", \"generate\", \"generate\", \"given\", \"given\", \"given\", \"glance\", \"glance\", \"gnocchi\", \"group\", \"group\", \"group\", \"group\", \"guest\", \"guide\", \"guide\", \"h\", \"handler\", \"handler\", \"haproxy\", \"haproxy\", \"haproxy\", \"hardening\", \"healthy\", \"heat\", \"heat\", \"heat\", \"heat\", \"hitting\", \"hook\", \"horizon\", \"horizon\", \"host\", \"host\", \"host\", \"host\", \"host\", \"hostnames\", \"hosts\", \"hosts\", \"hosts\", \"hosts\", \"hostvars\", \"htk\", \"http\", \"http\", \"http\", \"http\", \"http\", \"implementation\", \"implements\", \"implements\", \"implements\", \"implements\", \"implements\", \"improvement\", \"include\", \"include\", \"include\", \"include\", \"included\", \"increase\", \"increases\", \"indentation\", \"index\", \"index\", \"information\", \"information\", \"information\", \"information\", \"infrastructure\", \"infrastructure\", \"infrastructure\", \"ingress\", \"inline\", \"install\", \"install\", \"install\", \"install\", \"install\", \"install\", \"install\", \"installation\", \"installation\", \"installation\", \"installation\", \"installation\", \"installation\", \"installation\", \"installed\", \"installed\", \"installed\", \"integrated\", \"interface\", \"interface\", \"intro\", \"introupdates\", \"invalid\", \"inventory\", \"inventory\", \"inventory\", \"inventory\", \"ip\", \"ip\", \"ip\", \"ip\", \"ipa\", \"ipa\", \"ips\", \"ironic\", \"issue\", \"issue\", \"issue\", \"issue\", \"issue\", \"issue\", \"issue\", \"jewel\", \"jinja\", \"jobs\", \"jobs\", \"jobs\", \"jobs\", \"jobs\", \"jumpbox\", \"jumphost\", \"juno\", \"kastl\", \"keepalived\", \"keyring\", \"keys\", \"kilo\", \"kilo\", \"known\", \"kumar\", \"larger\", \"ldap\", \"leap\", \"length\", \"length\", \"liberty\", \"liberty\", \"like\", \"like\", \"like\", \"like\", \"like\", \"limit\", \"limit\", \"limit\", \"line\", \"line\", \"linklight\", \"links\", \"links\", \"linters\", \"linters\", \"linting\", \"linux\", \"list\", \"list\", \"list\", \"listener\", \"live\", \"local\", \"local\", \"local\", \"local\", \"log\", \"logging\", \"logs\", \"logs\", \"lvm\", \"lvm\", \"lxc\", \"mac\", \"macros\", \"maintainability\", \"major\", \"make\", \"make\", \"make\", \"make\", \"make\", \"make\", \"make\", \"make\", \"management\", \"management\", \"management\", \"management\", \"management\", \"mariadb\", \"mariadb\", \"master\", \"master\", \"master\", \"master\", \"master\", \"may\", \"may\", \"may\", \"may\", \"may\", \"may\", \"mds\", \"mechanism\", \"memcached\", \"memory\", \"memory\", \"menu\", \"merging\", \"message\", \"metal\", \"mgr\", \"middleware\", \"middleware\", \"migrations\", \"minutes\", \"minutes\", \"mistral\", \"modified\", \"module\", \"module\", \"module\", \"module\", \"module\", \"mon\", \"monasca\", \"monitor\", \"mount\", \"mount\", \"move\", \"move\", \"move\", \"move\", \"move\", \"moved\", \"moved\", \"moved\", \"moved\", \"moved\", \"moved\", \"msg\", \"much\", \"much\", \"multinode\", \"multiplehostswithoneiperror\", \"namespace\", \"naming\", \"necessary\", \"necessary\", \"necessary\", \"necessary\", \"necessary\", \"need\", \"need\", \"need\", \"need\", \"need\", \"need\", \"nested\", \"nested\", \"nested\", \"neutron\", \"neutron\", \"neutron\", \"neutron\", \"new\", \"new\", \"new\", \"new\", \"new\", \"new\", \"new\", \"nfs\", \"node\", \"node\", \"node\", \"nodes\", \"nodes\", \"nodes\", \"nodeset\", \"note\", \"note\", \"note\", \"note\", \"nova\", \"nova\", \"nova\", \"nova\", \"nova\", \"nova\", \"number\", \"number\", \"number\", \"number\", \"number\", \"ocata\", \"ocata\", \"occuring\", \"octavia\", \"octavia\", \"octavia\", \"offline\", \"one\", \"one\", \"one\", \"one\", \"one\", \"one\", \"opensuse\", \"opensuse\", \"ops\", \"option\", \"option\", \"option\", \"option\", \"order\", \"order\", \"order\", \"order\", \"order\", \"order\", \"order\", \"os\", \"osds\", \"output\", \"output\", \"override\", \"override\", \"override\", \"overrides\", \"overrides\", \"overrides\", \"overwrite\", \"ovh\", \"ownership\", \"package\", \"package\", \"package\", \"packages\", \"packages\", \"packages\", \"params\", \"parsed\", \"partially\", \"partition\", \"password\", \"password\", \"paste\", \"patch\", \"patch\", \"patch\", \"patch\", \"patch\", \"patch\", \"path\", \"path\", \"path\", \"pattern\", \"performance\", \"performance\", \"performance\", \"performance\", \"permissions\", \"permissions\", \"permissions\", \"phase\", \"pid\", \"pin\", \"pin\", \"ping\", \"pip\", \"pipefail\", \"pipeline\", \"pipeline\", \"placement\", \"playbook\", \"playbook\", \"playbook\", \"playbook\", \"playbook\", \"playbook\", \"playbook\", \"plays\", \"pods\", \"pool\", \"port\", \"port\", \"port\", \"ports\", \"precise\", \"prevent\", \"prevent\", \"prevent\", \"prevent\", \"process\", \"process\", \"process\", \"process\", \"profile\", \"protocol\", \"protocol\", \"purge\", \"pypi\", \"qemu\", \"query\", \"race\", \"raised\", \"ram\", \"rc\", \"real\", \"receive\", \"redis\", \"reduce\", \"reduce\", \"refactor\", \"refactor\", \"refactor\", \"reflect\", \"reflect\", \"reflect\", \"regex\", \"registry\", \"release\", \"release\", \"release\", \"release\", \"releasenotes\", \"reliability\", \"reliability\", \"reload\", \"remote\", \"remote\", \"remote\", \"remove\", \"remove\", \"remove\", \"remove\", \"remove\", \"removed\", \"removed\", \"removed\", \"removed\", \"removed\", \"removes\", \"removes\", \"removes\", \"removes\", \"replace\", \"replace\", \"replace\", \"replace\", \"replace\", \"replace\", \"replication\", \"repo\", \"repo\", \"repo\", \"repo\", \"repo\", \"repo\", \"report\", \"report\", \"request\", \"request\", \"request\", \"required\", \"required\", \"required\", \"required\", \"required\", \"requirements\", \"requirements\", \"requirements\", \"resize\", \"resource\", \"resource\", \"resource\", \"resource\", \"resource\", \"resource\", \"resource\", \"resource\", \"resources\", \"resources\", \"resources\", \"resources\", \"restart\", \"restart\", \"restarted\", \"restarted\", \"retry\", \"retry\", \"revision\", \"rewrite\", \"rhel\", \"rhel\", \"ring\", \"rings\", \"role\", \"role\", \"role\", \"role\", \"roll\", \"rolling\", \"root\", \"root\", \"root\", \"root\", \"rst\", \"rsync\", \"rsyslog\", \"rules\", \"run\", \"run\", \"run\", \"run\", \"run\", \"run\", \"run\", \"running\", \"running\", \"running\", \"running\", \"running\", \"running\", \"running\", \"saving\", \"script\", \"script\", \"script\", \"sections\", \"security\", \"security\", \"security\", \"security\", \"security\", \"see\", \"see\", \"see\", \"see\", \"see\", \"segmenting\", \"select\", \"selinux\", \"sensu\", \"serial\", \"server\", \"server\", \"server\", \"server\", \"server\", \"service\", \"service\", \"service\", \"service\", \"services\", \"services\", \"services\", \"services\", \"services\", \"services\", \"set\", \"set\", \"set\", \"set\", \"set\", \"set\", \"set\", \"settings\", \"settings\", \"settings\", \"setuptools\", \"sha\", \"sha\", \"shared\", \"shared\", \"shas\", \"shas\", \"shell\", \"ship\", \"simplify\", \"size\", \"skip\", \"skip\", \"skip\", \"small\", \"small\", \"small\", \"smaller\", \"smoke\", \"socket\", \"socket\", \"spaces\", \"spaces\", \"spec\", \"specific\", \"specific\", \"specific\", \"specific\", \"specific\", \"specify\", \"specify\", \"specify\", \"specify\", \"specify\", \"sphinxmark\", \"ssh\", \"ssh\", \"ssl\", \"stable\", \"stable\", \"stable\", \"stable\", \"startup\", \"statements\", \"statements\", \"static\", \"status\", \"status\", \"stdin\", \"stdout\", \"stig\", \"storage\", \"storage\", \"stream\", \"strings\", \"suite\", \"supplied\", \"support\", \"support\", \"support\", \"support\", \"support\", \"support\", \"support\", \"surrounded\", \"suse\", \"swap\", \"swift\", \"swift\", \"swift\", \"swift\", \"sync\", \"syntax\", \"syntax\", \"syntax\", \"sysctl\", \"system\", \"system\", \"system\", \"systems\", \"systems\", \"s\\u00e9bastien\", \"s\\u00e9bastien\", \"task\", \"task\", \"task\", \"task\", \"task\", \"tasks\", \"tasks\", \"team\", \"telegraf\", \"tempest\", \"tempest\", \"tempest\", \"template\", \"template\", \"template\", \"template\", \"templating\", \"temptest\", \"testability\", \"testenv\", \"testing\", \"testing\", \"testing\", \"testing\", \"testing\", \"threads\", \"threads\", \"time\", \"time\", \"time\", \"time\", \"time\", \"timeout\", \"timeout\", \"timeout\", \"title\", \"total\", \"tower\", \"tox\", \"tox\", \"tox\", \"tox\", \"trivial\", \"true\", \"true\", \"true\", \"true\", \"true\", \"true\", \"type\", \"type\", \"type\", \"typo\", \"typo\", \"udev\", \"uefi\", \"undefined\", \"unittest\", \"unreachable\", \"update\", \"update\", \"update\", \"update\", \"update\", \"update\", \"update\", \"updated\", \"updated\", \"updated\", \"updates\", \"updates\", \"upgrade\", \"upgrade\", \"upgrade\", \"upgrade\", \"upgradeimpact\", \"upgrades\", \"upgrades\", \"upstream\", \"upstream\", \"upstream\", \"url\", \"url\", \"url\", \"usability\", \"usage\", \"usage\", \"usage\", \"usage\", \"used\", \"used\", \"used\", \"used\", \"used\", \"used\", \"user\", \"user\", \"user\", \"user\", \"user\", \"users\", \"users\", \"users\", \"users\", \"using\", \"using\", \"using\", \"using\", \"using\", \"using\", \"using\", \"using\", \"using\", \"utility\", \"uwsgi\", \"value\", \"value\", \"value\", \"value\", \"value\", \"variable\", \"variable\", \"variable\", \"variable\", \"variants\", \"various\", \"venv\", \"verbiage\", \"version\", \"version\", \"version\", \"version\", \"version\", \"version\", \"virt\", \"vm\", \"vm\", \"vm\", \"vm\", \"volume\", \"volumes\", \"volumes\", \"voting\", \"vulnerable\", \"warning\", \"warning\", \"warnings\", \"wheel\", \"whenever\", \"within\", \"within\", \"within\", \"work\", \"work\", \"work\", \"work\", \"work\", \"work\", \"work\", \"work\", \"workaround\", \"workaround\", \"workaround\", \"worker\", \"workflow\", \"workload\", \"writing\", \"xrange\"]}, \"R\": 30, \"lambda.step\": 0.01, \"plot.opts\": {\"xlab\": \"PC1\", \"ylab\": \"PC2\"}, \"topic.order\": [1, 3, 2, 4, 7, 5, 8, 6, 9, 10]};\n",
       "\n",
       "function LDAvis_load_lib(url, callback){\n",
       "  var s = document.createElement('script');\n",
       "  s.src = url;\n",
       "  s.async = true;\n",
       "  s.onreadystatechange = s.onload = callback;\n",
       "  s.onerror = function(){console.warn(\"failed to load library \" + url);};\n",
       "  document.getElementsByTagName(\"head\")[0].appendChild(s);\n",
       "}\n",
       "\n",
       "if(typeof(LDAvis) !== \"undefined\"){\n",
       "   // already loaded: just create the visualization\n",
       "   !function(LDAvis){\n",
       "       new LDAvis(\"#\" + \"ldavis_el27041719091812561354480128\", ldavis_el27041719091812561354480128_data);\n",
       "   }(LDAvis);\n",
       "}else if(typeof define === \"function\" && define.amd){\n",
       "   // require.js is available: use it to load d3/LDAvis\n",
       "   require.config({paths: {d3: \"https://cdnjs.cloudflare.com/ajax/libs/d3/3.5.5/d3.min\"}});\n",
       "   require([\"d3\"], function(d3){\n",
       "      window.d3 = d3;\n",
       "      LDAvis_load_lib(\"https://cdn.rawgit.com/bmabey/pyLDAvis/files/ldavis.v1.0.0.js\", function(){\n",
       "        new LDAvis(\"#\" + \"ldavis_el27041719091812561354480128\", ldavis_el27041719091812561354480128_data);\n",
       "      });\n",
       "    });\n",
       "}else{\n",
       "    // require.js not available: dynamically load d3 & LDAvis\n",
       "    LDAvis_load_lib(\"https://cdnjs.cloudflare.com/ajax/libs/d3/3.5.5/d3.min.js\", function(){\n",
       "         LDAvis_load_lib(\"https://cdn.rawgit.com/bmabey/pyLDAvis/files/ldavis.v1.0.0.js\", function(){\n",
       "                 new LDAvis(\"#\" + \"ldavis_el27041719091812561354480128\", ldavis_el27041719091812561354480128_data);\n",
       "            })\n",
       "         });\n",
       "}\n",
       "</script>"
      ],
      "text/plain": [
       "PreparedData(topic_coordinates=              x         y  topics  cluster       Freq\n",
       "topic                                                \n",
       "0     -0.126124 -0.092040       1        1  24.090628\n",
       "2     -0.162667 -0.100530       2        1  22.621914\n",
       "1     -0.068810 -0.079419       3        1  16.294538\n",
       "3     -0.150180  0.098502       4        1   8.591495\n",
       "6      0.047317 -0.182362       5        1   6.648596\n",
       "4     -0.115078  0.198733       6        1   6.148962\n",
       "7      0.196835 -0.098779       7        1   5.284609\n",
       "5      0.126115  0.035429       8        1   4.156904\n",
       "8      0.126804  0.106918       9        1   3.735603\n",
       "9      0.125787  0.113548      10        1   2.426747, topic_info=              Term        Freq       Total Category  logprob  loglift\n",
       "210      container  343.000000  343.000000  Default  30.0000  30.0000\n",
       "84        security  436.000000  436.000000  Default  29.0000  29.0000\n",
       "295         memory  199.000000  199.000000  Default  28.0000  28.0000\n",
       "440        updates  182.000000  182.000000  Default  27.0000  27.0000\n",
       "149        updated  201.000000  201.000000  Default  26.0000  26.0000\n",
       "...            ...         ...         ...      ...      ...      ...\n",
       "472           host   12.259803  282.818756  Topic10  -5.0049   0.5801\n",
       "713   installation   10.184288   73.427689  Topic10  -5.1903   1.7432\n",
       "892          moved    9.734448   62.394291  Topic10  -5.2355   1.8608\n",
       "1069      services   10.385320  161.928513  Topic10  -5.1708   0.9719\n",
       "806          order    9.857049  134.467987  Topic10  -5.2230   1.1055\n",
       "\n",
       "[644 rows x 6 columns], token_table=      Topic      Freq      Term\n",
       "term                           \n",
       "5630      8  0.970187       aad\n",
       "962       3  0.504321    access\n",
       "962       4  0.189120    access\n",
       "962       7  0.078800    access\n",
       "962      10  0.220641    access\n",
       "...     ...       ...       ...\n",
       "523       5  0.945049    worker\n",
       "2778      9  0.900676  workflow\n",
       "5602      8  0.922327  workload\n",
       "1642      5  0.936598   writing\n",
       "4763      1  0.966645    xrange\n",
       "\n",
       "[1230 rows x 3 columns], R=30, lambda_step=0.01, plot_opts={'xlab': 'PC1', 'ylab': 'PC2'}, topic_order=[1, 3, 2, 4, 7, 5, 8, 6, 9, 10])"
      ]
     },
     "execution_count": 1141,
     "metadata": {},
     "output_type": "execute_result"
    }
   ],
   "source": [
    "pyLDAvis.gensim.prepare(lda_model_commits, corpus_1_commits, dictionary)"
   ]
  },
  {
   "cell_type": "code",
   "execution_count": 1142,
   "metadata": {},
   "outputs": [
    {
     "name": "stdout",
     "output_type": "stream",
     "text": [
      "the 8624\n",
      "to 5861\n",
      "fix 3066\n",
      "change 2758\n",
      "in 2757\n",
      "for 2737\n",
      "this 2545\n",
      "and 2511\n",
      "id 2467\n",
      "is 2182\n",
      "of 1909\n",
      "by 1888\n",
      "com 1461\n",
      "on 1455\n",
      "bug 1376\n",
      "it 1346\n",
      "we 1283\n",
      "that 1173\n",
      "not 1051\n",
      "with 1046\n"
     ]
    }
   ],
   "source": [
    "def get_top_n_words(corpus, n=None):\n",
    "    vec = CountVectorizer().fit(corpus)\n",
    "    bag_of_words = vec.transform(corpus)\n",
    "    sum_words = bag_of_words.sum(axis=0) \n",
    "    words_freq = [(word, sum_words[0, idx]) for word, idx in vec.vocabulary_.items()]\n",
    "    words_freq =sorted(words_freq, key = lambda x: x[1], reverse=True)\n",
    "    return words_freq[:n]\n",
    "common_words = get_top_n_words(commits_df['Commit msg'], 20)\n",
    "for word, freq in common_words:\n",
    "    print(word, freq)\n",
    "df1 = pd.DataFrame(common_words, columns = ['Commit msg' , 'count'])"
   ]
  },
  {
   "cell_type": "markdown",
   "metadata": {},
   "source": [
    "<h4>Top unigrams after removing stop words</h4>"
   ]
  },
  {
   "cell_type": "code",
   "execution_count": 1143,
   "metadata": {},
   "outputs": [
    {
     "name": "stdout",
     "output_type": "stream",
     "text": [
      "file 541\n",
      "reviewed 460\n",
      "role 438\n",
      "set 427\n",
      "security 418\n",
      "run 417\n",
      "update 405\n",
      "using 405\n",
      "container 398\n",
      "patch 378\n",
      "new 353\n",
      "jobs 344\n",
      "fixes 339\n",
      "config 336\n",
      "remove 332\n",
      "resource 322\n",
      "check 310\n",
      "task 307\n",
      "added 298\n",
      "version 296\n"
     ]
    }
   ],
   "source": [
    "def get_top_n_words(corpus, n=None):\n",
    "    vec = CountVectorizer(stop_words = stop_words).fit(corpus)\n",
    "    bag_of_words = vec.transform(corpus)\n",
    "    sum_words = bag_of_words.sum(axis=0) \n",
    "    words_freq = [(word, sum_words[0, idx]) for word, idx in vec.vocabulary_.items()]\n",
    "    words_freq =sorted(words_freq, key = lambda x: x[1], reverse=True)\n",
    "    return words_freq[:n]\n",
    "common_words = get_top_n_words(commits_df['Commit msg'], 20)\n",
    "for word, freq in common_words:\n",
    "    print(word, freq)\n",
    "df2 = pd.DataFrame(common_words, columns = ['Commit msg' , 'count'])"
   ]
  },
  {
   "cell_type": "markdown",
   "metadata": {},
   "source": [
    "<h4>Top bigrams before removing stop words</h4>"
   ]
  },
  {
   "cell_type": "code",
   "execution_count": 1144,
   "metadata": {},
   "outputs": [
    {
     "name": "stdout",
     "output_type": "stream",
     "text": [
      "change id 2307\n",
      "off by 784\n",
      "signed off 781\n",
      "in the 648\n",
      "redhat com 611\n",
      "of the 532\n",
      "to the 499\n",
      "closes bug 453\n",
      "openstack org 384\n",
      "https review 341\n",
      "for the 322\n",
      "reviewed by 322\n",
      "review openstack 296\n",
      "to fix 289\n",
      "to be 286\n",
      "on the 278\n",
      "this patch 271\n",
      "pull request 251\n",
      "this is 249\n",
      "merge pull 247\n"
     ]
    }
   ],
   "source": [
    "def get_top_n_bigram(corpus, n=None):\n",
    "    vec = CountVectorizer(ngram_range=(2, 2)).fit(corpus)\n",
    "    bag_of_words = vec.transform(corpus)\n",
    "    sum_words = bag_of_words.sum(axis=0) \n",
    "    words_freq = [(word, sum_words[0, idx]) for word, idx in vec.vocabulary_.items()]\n",
    "    words_freq =sorted(words_freq, key = lambda x: x[1], reverse=True)\n",
    "    return words_freq[:n]\n",
    "common_words = get_top_n_bigram(commits_df['Commit msg'], 20)\n",
    "for word, freq in common_words:\n",
    "    print(word, freq)\n",
    "df3 = pd.DataFrame(common_words, columns = ['Commit msg' , 'count'])"
   ]
  },
  {
   "cell_type": "markdown",
   "metadata": {},
   "source": [
    "<h4>Top bigrams after removing stop words</h4>"
   ]
  },
  {
   "cell_type": "code",
   "execution_count": 1145,
   "metadata": {},
   "outputs": [
    {
     "name": "stdout",
     "output_type": "stream",
     "text": [
      "security context 170\n",
      "show_bug cgi 115\n",
      "reviewed approved 98\n",
      "reviewed tested 96\n",
      "approved reviewed 95\n",
      "implements blueprint 92\n",
      "reviewed reviewed 87\n",
      "co authored 75\n",
      "container security 51\n",
      "partially implements 47\n",
      "launchpad net 44\n",
      "make sure 43\n",
      "zte cn 42\n",
      "approved tested 40\n",
      "var lib 39\n",
      "bugs launchpad 39\n",
      "non voting 37\n",
      "compute amazonaws 33\n",
      "requirements txt 32\n",
      "modules manifests 32\n"
     ]
    }
   ],
   "source": [
    "def get_top_n_bigram(corpus, n=None):\n",
    "    vec = CountVectorizer(ngram_range=(2, 2), stop_words=stop_words).fit(corpus)\n",
    "    bag_of_words = vec.transform(corpus)\n",
    "    sum_words = bag_of_words.sum(axis=0) \n",
    "    words_freq = [(word, sum_words[0, idx]) for word, idx in vec.vocabulary_.items()]\n",
    "    words_freq =sorted(words_freq, key = lambda x: x[1], reverse=True)\n",
    "    return words_freq[:n]\n",
    "common_words = get_top_n_bigram(commits_df['Commit msg'], 20)\n",
    "for word, freq in common_words:\n",
    "    print(word, freq)\n",
    "df4 = pd.DataFrame(common_words, columns = ['Commit msg' , 'count'])"
   ]
  },
  {
   "cell_type": "markdown",
   "metadata": {},
   "source": [
    "<h4>Top trigrams before removing stop words</h4>"
   ]
  },
  {
   "cell_type": "code",
   "execution_count": 1146,
   "metadata": {},
   "outputs": [
    {
     "name": "stdout",
     "output_type": "stream",
     "text": [
      "signed off by 781\n",
      "review openstack org 296\n",
      "https review openstack 293\n",
      "merge pull request 247\n",
      "on https review 200\n",
      "off by sébastien 173\n",
      "by sébastien han 173\n",
      "seb redhat com 168\n",
      "sébastien han seb 165\n",
      "han seb redhat 165\n",
      "by guillaume abrioux 153\n",
      "guillaume abrioux gabrioux 153\n",
      "abrioux gabrioux redhat 153\n",
      "gabrioux redhat com 153\n",
      "off by guillaume 150\n",
      "com reviewed by 149\n",
      "https github com 145\n",
      "james blair corvus 141\n",
      "blair corvus inaugust 141\n",
      "corvus inaugust com 141\n"
     ]
    }
   ],
   "source": [
    "def get_top_n_trigram(corpus, n=None):\n",
    "    vec = CountVectorizer(ngram_range=(3, 3)).fit(corpus)\n",
    "    bag_of_words = vec.transform(corpus)\n",
    "    sum_words = bag_of_words.sum(axis=0) \n",
    "    words_freq = [(word, sum_words[0, idx]) for word, idx in vec.vocabulary_.items()]\n",
    "    words_freq =sorted(words_freq, key = lambda x: x[1], reverse=True)\n",
    "    return words_freq[:n]\n",
    "common_words = get_top_n_trigram(commits_df['Commit msg'], 20)\n",
    "for word, freq in common_words:\n",
    "    print(word, freq)\n",
    "df5 = pd.DataFrame(common_words, columns = ['Commit msg' , 'count'])"
   ]
  },
  {
   "cell_type": "markdown",
   "metadata": {},
   "source": [
    "<h4>Top trigrams after removing stop words</h4>"
   ]
  },
  {
   "cell_type": "code",
   "execution_count": 1147,
   "metadata": {},
   "outputs": [
    {
     "name": "stdout",
     "output_type": "stream",
     "text": [
      "approved reviewed tested 94\n",
      "reviewed approved reviewed 66\n",
      "container security context 51\n",
      "partially implements blueprint 45\n",
      "bugs launchpad net 39\n",
      "reviewed reviewed approved 38\n",
      "reviewed approved tested 32\n",
      "reviewed reviewed reviewed 23\n",
      "adds container security 22\n",
      "ec2 18 232 20\n",
      "security context macros 20\n",
      "etc kolla config 19\n",
      "aad development branch 18\n",
      "security context fixes 17\n",
      "tox python3 overrides 16\n",
      "python3 overrides running 16\n",
      "overrides running tox 16\n",
      "running tox environments 16\n",
      "tox environments set 16\n",
      "environments set basepython 16\n"
     ]
    }
   ],
   "source": [
    "def get_top_n_trigram(corpus, n=None):\n",
    "    vec = CountVectorizer(ngram_range=(3, 3), stop_words=stop_words).fit(corpus)\n",
    "    bag_of_words = vec.transform(corpus)\n",
    "    sum_words = bag_of_words.sum(axis=0) \n",
    "    words_freq = [(word, sum_words[0, idx]) for word, idx in vec.vocabulary_.items()]\n",
    "    words_freq =sorted(words_freq, key = lambda x: x[1], reverse=True)\n",
    "    return words_freq[:n]\n",
    "common_words = get_top_n_trigram(commits_df['Commit msg'], 20)\n",
    "for word, freq in common_words:\n",
    "    print(word, freq)\n",
    "df6 = pd.DataFrame(common_words, columns = ['Commit msg' , 'count'])"
   ]
  },
  {
   "cell_type": "markdown",
   "metadata": {},
   "source": [
    "<h4>Topic Modeling with LSA</h4>"
   ]
  },
  {
   "cell_type": "code",
   "execution_count": 1218,
   "metadata": {},
   "outputs": [],
   "source": [
    "reindexed_data = commits_df['Commit msg']\n",
    "stop_words = stopwords.words('english')\n",
    "stop_words.extend(['workshop','id','han','inaugustcom','corvus','james','blair','fix','change','zabbix','bug','com','boylan','clark','inaugust','ceph',\n",
    "                  'ansible','redhat','gmail','signed','merge','openstack','abrioux','guillaume','ocp','osd','azure','gabrioux','pod','opentic','seb',\n",
    "                  'client','docker','https','yml','org','jenkins','readme','jeremy','stanley','fungi','kevin','carter','dimitri','savineu','monty',\n",
    "                  'tailor','pete','birley','andrew','schoen','openstack_project','yuggoth','zhang','yujun','yujunz','closes','fridim','review','name',\n",
    "                  'common','rgw','adoc','main','lab','rbd','pr','prometheus','oidc','ps','ha','3scale','enmasse', 'cvmfs','pp','git','rhcs',\n",
    "                   'job','debian','keystone','bugzilla','want','python','add','pull','merged','commit','default','test','tests','crabby',\n",
    "                   'i0f6c7c88f5a153efac70c52e3c39a5ab7261f1fc','use','2201','2291','i9d6adbe293543f953b0fd8b94b94cf21e914cc0b',\n",
    "                   'testaccbigquerytable_viewwithlegacysql','1568029','1744','typos','doc','minor','downs','downloaded','drawing','draw','drastically',\n",
    "                   'dramirezp','dramatically','dpkg','drivers','driven','drives','drift','drew','dreamhost','dreaded','drag','drafts','draft','dprince',\n",
    "                   'dpdkctl','loc','telescope','gxadmin','flavours','build_location_urls','drops','dropping','dropped','drmaa','drivers','driver','drive', \n",
    "                   'dpdk','downtime','downstreams','downstreaming','downstream','downsides','i278210477676fdb23db059309b955e7408cf2ec0','downloading', \n",
    "                   'dsavineau','dsavinea','ds','dry','drush','drupal','drop','downside','due','dtdream','dtdg','dsvm','dstat','dss','dsd','opentlc',\n",
    "                   'roles','playbooks','also','puppet','logstash','kibana','instead','gerrit','reverts','identity','comments','taylor','mordred',\n",
    "                  'rabbitmq','grafana','elasticsearch','label','dot','nova','tempest','ipa'])\n",
    "\n",
    "tfidf_vectorizer = TfidfVectorizer(stop_words=stop_words, use_idf=True, smooth_idf=True)\n",
    "# reindexed_data = reindexed_data.values\n",
    "document_term_matrix = tfidf_vectorizer.fit_transform(reindexed_data)"
   ]
  },
  {
   "cell_type": "code",
   "execution_count": 1219,
   "metadata": {},
   "outputs": [],
   "source": [
    "# stop_words"
   ]
  },
  {
   "cell_type": "code",
   "execution_count": 1220,
   "metadata": {},
   "outputs": [],
   "source": [
    "n_topics = 10\n",
    "lsa_model = TruncatedSVD(n_components=n_topics)\n",
    "lsa_topic_matrix = lsa_model.fit_transform(document_term_matrix)"
   ]
  },
  {
   "cell_type": "code",
   "execution_count": 1221,
   "metadata": {},
   "outputs": [],
   "source": [
    "def get_keys(topic_matrix):\n",
    "    '''\n",
    "    returns an integer list of predicted topic \n",
    "    categories for a given topic matrix\n",
    "    '''\n",
    "    keys = topic_matrix.argmax(axis=1).tolist()\n",
    "    return keys\n",
    "\n",
    "def keys_to_counts(keys):\n",
    "    '''\n",
    "    returns a tuple of topic categories and their \n",
    "    accompanying magnitudes for a given list of keys\n",
    "    '''\n",
    "    count_pairs = Counter(keys).items()\n",
    "    categories = [pair[0] for pair in count_pairs]\n",
    "    counts = [pair[1] for pair in count_pairs]\n",
    "    return (categories, counts)"
   ]
  },
  {
   "cell_type": "code",
   "execution_count": 1222,
   "metadata": {},
   "outputs": [],
   "source": [
    "lsa_keys = get_keys(lsa_topic_matrix)\n",
    "lsa_categories, lsa_counts = keys_to_counts(lsa_keys)"
   ]
  },
  {
   "cell_type": "code",
   "execution_count": 1223,
   "metadata": {},
   "outputs": [],
   "source": [
    "def get_top_n_words(n, keys, document_term_matrix, tfidf_vectorizer):\n",
    "    '''\n",
    "    returns a list of n_topic strings, where each string contains the n most common \n",
    "    words in a predicted category, in order\n",
    "    '''\n",
    "    top_word_indices = []\n",
    "    for topic in range(n_topics):\n",
    "        temp_vector_sum = 0\n",
    "        for i in range(len(keys)):\n",
    "            if keys[i] == topic:\n",
    "                temp_vector_sum += document_term_matrix[i]\n",
    "        temp_vector_sum = temp_vector_sum.toarray()\n",
    "        top_n_word_indices = np.flip(np.argsort(temp_vector_sum)[0][-n:],0)\n",
    "        top_word_indices.append(top_n_word_indices)   \n",
    "    top_words = []\n",
    "    for topic in top_word_indices:\n",
    "        topic_words = []\n",
    "        for index in topic:\n",
    "            temp_word_vector = np.zeros((1,document_term_matrix.shape[1]))\n",
    "            temp_word_vector[:,index] = 1\n",
    "            the_word = tfidf_vectorizer.inverse_transform(temp_word_vector)[0][0]\n",
    "            try:\n",
    "                topic_words.append(the_word.encode('ascii').decode('utf-8'))\n",
    "            except:\n",
    "#                 print('ASCII')\n",
    "                continue\n",
    "        top_words.append(\" \".join(topic_words))         \n",
    "    return top_words"
   ]
  },
  {
   "cell_type": "code",
   "execution_count": 1224,
   "metadata": {},
   "outputs": [
    {
     "ename": "AttributeError",
     "evalue": "'int' object has no attribute 'toarray'",
     "output_type": "error",
     "traceback": [
      "\u001b[1;31m---------------------------------------------------------------------------\u001b[0m",
      "\u001b[1;31mAttributeError\u001b[0m                            Traceback (most recent call last)",
      "\u001b[1;32m<ipython-input-1224-37e17140e00d>\u001b[0m in \u001b[0;36m<module>\u001b[1;34m\u001b[0m\n\u001b[1;32m----> 1\u001b[1;33m \u001b[0mtop_n_words_lsa\u001b[0m \u001b[1;33m=\u001b[0m \u001b[0mget_top_n_words\u001b[0m\u001b[1;33m(\u001b[0m\u001b[1;36m15\u001b[0m\u001b[1;33m,\u001b[0m \u001b[0mlsa_keys\u001b[0m\u001b[1;33m,\u001b[0m \u001b[0mdocument_term_matrix\u001b[0m\u001b[1;33m,\u001b[0m \u001b[0mtfidf_vectorizer\u001b[0m\u001b[1;33m)\u001b[0m\u001b[1;33m\u001b[0m\u001b[1;33m\u001b[0m\u001b[0m\n\u001b[0m\u001b[0;32m      2\u001b[0m \u001b[1;33m\u001b[0m\u001b[0m\n\u001b[0;32m      3\u001b[0m \u001b[1;32mfor\u001b[0m \u001b[0mi\u001b[0m \u001b[1;32min\u001b[0m \u001b[0mrange\u001b[0m\u001b[1;33m(\u001b[0m\u001b[0mlen\u001b[0m\u001b[1;33m(\u001b[0m\u001b[0mtop_n_words_lsa\u001b[0m\u001b[1;33m)\u001b[0m\u001b[1;33m)\u001b[0m\u001b[1;33m:\u001b[0m\u001b[1;33m\u001b[0m\u001b[1;33m\u001b[0m\u001b[0m\n\u001b[0;32m      4\u001b[0m     \u001b[0mprint\u001b[0m\u001b[1;33m(\u001b[0m\u001b[1;34m\"Topic {}: \"\u001b[0m\u001b[1;33m.\u001b[0m\u001b[0mformat\u001b[0m\u001b[1;33m(\u001b[0m\u001b[0mi\u001b[0m\u001b[1;33m+\u001b[0m\u001b[1;36m1\u001b[0m\u001b[1;33m)\u001b[0m\u001b[1;33m,\u001b[0m \u001b[0mtop_n_words_lsa\u001b[0m\u001b[1;33m[\u001b[0m\u001b[0mi\u001b[0m\u001b[1;33m]\u001b[0m\u001b[1;33m)\u001b[0m\u001b[1;33m\u001b[0m\u001b[1;33m\u001b[0m\u001b[0m\n",
      "\u001b[1;32m<ipython-input-1223-245db611acde>\u001b[0m in \u001b[0;36mget_top_n_words\u001b[1;34m(n, keys, document_term_matrix, tfidf_vectorizer)\u001b[0m\n\u001b[0;32m     10\u001b[0m             \u001b[1;32mif\u001b[0m \u001b[0mkeys\u001b[0m\u001b[1;33m[\u001b[0m\u001b[0mi\u001b[0m\u001b[1;33m]\u001b[0m \u001b[1;33m==\u001b[0m \u001b[0mtopic\u001b[0m\u001b[1;33m:\u001b[0m\u001b[1;33m\u001b[0m\u001b[1;33m\u001b[0m\u001b[0m\n\u001b[0;32m     11\u001b[0m                 \u001b[0mtemp_vector_sum\u001b[0m \u001b[1;33m+=\u001b[0m \u001b[0mdocument_term_matrix\u001b[0m\u001b[1;33m[\u001b[0m\u001b[0mi\u001b[0m\u001b[1;33m]\u001b[0m\u001b[1;33m\u001b[0m\u001b[1;33m\u001b[0m\u001b[0m\n\u001b[1;32m---> 12\u001b[1;33m         \u001b[0mtemp_vector_sum\u001b[0m \u001b[1;33m=\u001b[0m \u001b[0mtemp_vector_sum\u001b[0m\u001b[1;33m.\u001b[0m\u001b[0mtoarray\u001b[0m\u001b[1;33m(\u001b[0m\u001b[1;33m)\u001b[0m\u001b[1;33m\u001b[0m\u001b[1;33m\u001b[0m\u001b[0m\n\u001b[0m\u001b[0;32m     13\u001b[0m         \u001b[0mtop_n_word_indices\u001b[0m \u001b[1;33m=\u001b[0m \u001b[0mnp\u001b[0m\u001b[1;33m.\u001b[0m\u001b[0mflip\u001b[0m\u001b[1;33m(\u001b[0m\u001b[0mnp\u001b[0m\u001b[1;33m.\u001b[0m\u001b[0margsort\u001b[0m\u001b[1;33m(\u001b[0m\u001b[0mtemp_vector_sum\u001b[0m\u001b[1;33m)\u001b[0m\u001b[1;33m[\u001b[0m\u001b[1;36m0\u001b[0m\u001b[1;33m]\u001b[0m\u001b[1;33m[\u001b[0m\u001b[1;33m-\u001b[0m\u001b[0mn\u001b[0m\u001b[1;33m:\u001b[0m\u001b[1;33m]\u001b[0m\u001b[1;33m,\u001b[0m\u001b[1;36m0\u001b[0m\u001b[1;33m)\u001b[0m\u001b[1;33m\u001b[0m\u001b[1;33m\u001b[0m\u001b[0m\n\u001b[0;32m     14\u001b[0m         \u001b[0mtop_word_indices\u001b[0m\u001b[1;33m.\u001b[0m\u001b[0mappend\u001b[0m\u001b[1;33m(\u001b[0m\u001b[0mtop_n_word_indices\u001b[0m\u001b[1;33m)\u001b[0m\u001b[1;33m\u001b[0m\u001b[1;33m\u001b[0m\u001b[0m\n",
      "\u001b[1;31mAttributeError\u001b[0m: 'int' object has no attribute 'toarray'"
     ]
    }
   ],
   "source": [
    "top_n_words_lsa = get_top_n_words(15, lsa_keys, document_term_matrix, tfidf_vectorizer)\n",
    "\n",
    "for i in range(len(top_n_words_lsa)):\n",
    "    print(\"Topic {}: \".format(i+1), top_n_words_lsa[i])"
   ]
  },
  {
   "cell_type": "code",
   "execution_count": 1216,
   "metadata": {},
   "outputs": [],
   "source": [
    "from copy import deepcopy"
   ]
  },
  {
   "cell_type": "code",
   "execution_count": 1217,
   "metadata": {},
   "outputs": [
    {
     "name": "stdout",
     "output_type": "stream",
     "text": [
      "['security context user', 'typo request template', 'role refactor ipa', 'lable dot', 'reviewed approved tested', 'version update upgrade', 'memory task', 'request syntax replace', 'jobs gate tempest', 'authentication resource nova']\n"
     ]
    },
    {
     "data": {
      "image/png": "[encoded data removed]",
      "text/plain": [
       "<Figure size 1152x576 with 1 Axes>"
      ]
     },
     "metadata": {
      "needs_background": "light"
     },
     "output_type": "display_data"
    }
   ],
   "source": [
    "top_3_words = get_top_n_words(3, lsa_keys, document_term_matrix, tfidf_vectorizer)\n",
    "labels = ['Topic {}: \\n'.format(i) + top_3_words[i] for i in lsa_categories]\n",
    "print(top_3_words)\n",
    "labels2 = deepcopy(labels)\n",
    "for label in labels2:\n",
    "    index = labels2.index(label)\n",
    "    new = label.replace('\\n', '')\n",
    "    labels2[index] = new\n",
    "labels2\n",
    "\n",
    "fig, ax = plt.subplots(figsize=(16,8))\n",
    "ax.barh(lsa_categories, lsa_counts);\n",
    "# ax.set_xticks(lsa_counts);\n",
    "# plt.rcParams['ytick.major.pad'] = 15\n",
    "# plt.rcParams['ytick.minor.pad'] = 15\n",
    "plt.xlim(0, 5000)\n",
    "ax.set_yticks(lsa_categories)\n",
    "ax.set_yticklabels(labels2)\n",
    "ax.tick_params(axis='y', which='major', pad=10,length=32)\n",
    "# ax.set_ylabel('Topics',rotation=0,fontsize=12)\n",
    "ax.set_title('LSA topic counts')\n",
    "plt.show();"
   ]
  },
  {
   "cell_type": "code",
   "execution_count": 990,
   "metadata": {},
   "outputs": [
    {
     "name": "stdout",
     "output_type": "stream",
     "text": [
      "[t-SNE] Computing 151 nearest neighbors...\n",
      "[t-SNE] Indexed 4493 samples in 0.002s...\n",
      "[t-SNE] Computed neighbors for 4493 samples in 0.266s...\n",
      "[t-SNE] Computed conditional probabilities for sample 1000 / 4493\n",
      "[t-SNE] Computed conditional probabilities for sample 2000 / 4493\n",
      "[t-SNE] Computed conditional probabilities for sample 3000 / 4493\n",
      "[t-SNE] Computed conditional probabilities for sample 4000 / 4493\n",
      "[t-SNE] Computed conditional probabilities for sample 4493 / 4493\n",
      "[t-SNE] Mean sigma: 0.000000\n",
      "[t-SNE] KL divergence after 250 iterations with early exaggeration: 64.144226\n",
      "[t-SNE] KL divergence after 2000 iterations: 0.813103\n"
     ]
    }
   ],
   "source": [
    "tsne_lsa_model = TSNE(n_components=2, perplexity=50, learning_rate=100, \n",
    "                        n_iter=2000, verbose=1, random_state=0, angle=0.75)\n",
    "tsne_lsa_vectors = tsne_lsa_model.fit_transform(lsa_topic_matrix)"
   ]
  },
  {
   "cell_type": "code",
   "execution_count": 70,
   "metadata": {},
   "outputs": [],
   "source": [
    "def get_mean_topic_vectors(keys, two_dim_vectors):\n",
    "    '''\n",
    "    returns a list of centroid vectors from each predicted topic category\n",
    "    '''\n",
    "    mean_topic_vectors = []\n",
    "    for t in range(n_topics):\n",
    "        reviews_in_that_topic = []\n",
    "        for i in range(len(keys)):\n",
    "            if keys[i] == t:\n",
    "                reviews_in_that_topic.append(two_dim_vectors[i])    \n",
    "        \n",
    "        reviews_in_that_topic = np.vstack(reviews_in_that_topic)\n",
    "        mean_review_in_that_topic = np.mean(reviews_in_that_topic, axis=0)\n",
    "        mean_topic_vectors.append(mean_review_in_that_topic)\n",
    "    return mean_topic_vectors"
   ]
  },
  {
   "cell_type": "code",
   "execution_count": 71,
   "metadata": {},
   "outputs": [],
   "source": [
    "colormap = np.array([\n",
    "    \"#1f77b4\", \"#aec7e8\", \"#ff7f0e\", \"#ffbb78\", \"#2ca02c\",\n",
    "    \"#98df8a\", \"#d62728\", \"#ff9896\", \"#9467bd\", \"#c5b0d5\",\n",
    "    \"#8c564b\", \"#c49c94\", \"#e377c2\", \"#f7b6d2\", \"#7f7f7f\",\n",
    "    \"#c7c7c7\", \"#bcbd22\", \"#dbdb8d\", \"#17becf\", \"#9edae5\" ])\n",
    "colormap = colormap[:n_topics]"
   ]
  },
  {
   "cell_type": "code",
   "execution_count": 74,
   "metadata": {},
   "outputs": [
    {
     "name": "stderr",
     "output_type": "stream",
     "text": [
      "BokehUserWarning: ColumnDataSource's columns must be of the same length. Current lengths: ('color', 4493), ('label', 6), ('x', 4493), ('y', 4493)\n"
     ]
    }
   ],
   "source": [
    "top_3_words_lsa = get_top_n_words(3, lsa_keys, document_term_matrix, tfidf_vectorizer)\n",
    "lsa_mean_topic_vectors = get_mean_topic_vectors(lsa_keys, tsne_lsa_vectors)\n",
    "\n",
    "source = ColumnDataSource(dict(\n",
    "    x=tsne_lsa_vectors[:,0],\n",
    "    y=tsne_lsa_vectors[:,1],\n",
    "    color=colormap[lsa_keys],\n",
    "    label=top_3_words_lsa,\n",
    "))\n",
    "\n",
    "plot = figure(title=\"t-SNE Clustering of {} LSA Topics\".format(n_topics), plot_width=700, plot_height=700)\n",
    "plot.scatter(x='x', y='y', color='color',legend_field='label', source = source)\n",
    "    \n",
    "show(plot)"
   ]
  },
  {
   "cell_type": "code",
   "execution_count": null,
   "metadata": {},
   "outputs": [],
   "source": []
  }
 ],
 "metadata": {
  "kernelspec": {
   "display_name": "Python 3",
   "language": "python",
   "name": "python3"
  },
  "language_info": {
   "codemirror_mode": {
    "name": "ipython",
    "version": 3
   },
   "file_extension": ".py",
   "mimetype": "text/x-python",
   "name": "python",
   "nbconvert_exporter": "python",
   "pygments_lexer": "ipython3",
   "version": "3.7.4"
  }
 },
 "nbformat": 4,
 "nbformat_minor": 4
}
