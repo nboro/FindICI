{
 "cells": [
  {
   "cell_type": "code",
   "execution_count": 1,
   "metadata": {},
   "outputs": [],
   "source": [
    "import pandas as pd\n",
    "import numpy as np\n",
    "import pickle\n",
    "import re\n",
    "from pprint import pprint\n",
    "import matplotlib.pyplot as plt\n",
    "import seaborn as sns\n",
    "from collections import defaultdict\n",
    "sns.set\n",
    "%matplotlib inline"
   ]
  },
  {
   "cell_type": "code",
   "execution_count": 2,
   "metadata": {},
   "outputs": [
    {
     "name": "stderr",
     "output_type": "stream",
     "text": [
      "[nltk_data] Downloading package punkt to\n",
      "[nltk_data]     C:\\Users\\Userpc\\AppData\\Roaming\\nltk_data...\n",
      "[nltk_data]   Package punkt is already up-to-date!\n",
      "[nltk_data] Downloading package stopwords to\n",
      "[nltk_data]     C:\\Users\\Userpc\\AppData\\Roaming\\nltk_data...\n",
      "[nltk_data]   Package stopwords is already up-to-date!\n"
     ]
    },
    {
     "data": {
      "text/plain": [
       "True"
      ]
     },
     "execution_count": 2,
     "metadata": {},
     "output_type": "execute_result"
    }
   ],
   "source": [
    "import spacy\n",
    "import nltk\n",
    "from nltk import word_tokenize,sent_tokenize\n",
    "from nltk.tokenize import word_tokenize\n",
    "from nltk.corpus import stopwords\n",
    "from nltk.stem import PorterStemmer\n",
    "from gensim import corpora\n",
    "from gensim.models.ldamodel import LdaModel\n",
    "from sklearn.feature_extraction.text import CountVectorizer\n",
    "from sklearn.feature_extraction.text import TfidfVectorizer\n",
    "import pyLDAvis.gensim\n",
    "from sklearn.decomposition import TruncatedSVD\n",
    "from sklearn.decomposition import LatentDirichletAllocation\n",
    "from sklearn.manifold import TSNE\n",
    "from bokeh.plotting import figure, output_file, show\n",
    "from bokeh.models import Label,ColumnDataSource,Legend, LegendItem\n",
    "from bokeh.io import output_notebook\n",
    "from gensim.models import CoherenceModel\n",
    "nltk.download('punkt')\n",
    "nltk.download('stopwords')"
   ]
  },
  {
   "cell_type": "markdown",
   "metadata": {},
   "source": [
    "<h4>Load tasks table</h4>"
   ]
  },
  {
   "cell_type": "code",
   "execution_count": 3,
   "metadata": {},
   "outputs": [
    {
     "data": {
      "text/plain": [
       "Index(['repo_count', 'task_name', 'method_description', 'mod_keys_found',\n",
       "       'mod_values_found', 'key_module_text', 'value_module_text',\n",
       "       'mod_keys_found_string', 'found_used_parameters', 'has_params',\n",
       "       'third_ast', 'third_tokens', 'token_task_names', 'descr_one_string',\n",
       "       'consistent', 'task_com', 'task_complete'],\n",
       "      dtype='object')"
      ]
     },
     "execution_count": 3,
     "metadata": {},
     "output_type": "execute_result"
    }
   ],
   "source": [
    "with open('tasks_eda.pkl', 'rb') as input_file:\n",
    "    tasks = pickle.load(input_file)   \n",
    "tasks.columns"
   ]
  },
  {
   "cell_type": "code",
   "execution_count": 4,
   "metadata": {},
   "outputs": [
    {
     "data": {
      "text/plain": [
       "(10396, 17)"
      ]
     },
     "execution_count": 4,
     "metadata": {},
     "output_type": "execute_result"
    }
   ],
   "source": [
    "tasks = tasks[tasks['consistent'] == True]\n",
    "tasks.shape"
   ]
  },
  {
   "cell_type": "code",
   "execution_count": 5,
   "metadata": {},
   "outputs": [],
   "source": [
    "def remove_first(lst):\n",
    "    \n",
    "    lst.remove(lst[0])\n",
    "    return lst"
   ]
  },
  {
   "cell_type": "code",
   "execution_count": 6,
   "metadata": {},
   "outputs": [],
   "source": [
    "tasks['token_task_names'] = tasks['token_task_names'].apply(lambda x: remove_first(x))"
   ]
  },
  {
   "cell_type": "code",
   "execution_count": 7,
   "metadata": {},
   "outputs": [],
   "source": [
    "tasks['token_task_names_one_string'] = tasks['token_task_names'].apply(lambda x: ' '.join(x))"
   ]
  },
  {
   "cell_type": "code",
   "execution_count": 8,
   "metadata": {},
   "outputs": [
    {
     "data": {
      "text/plain": [
       "0                                    restart datadog-agent\n",
       "1                    Create Datadog agent config directory\n",
       "2             Create main Datadog agent configuration file\n",
       "3        Ensure configuration directories are present f...\n",
       "4        Create a configuration file for each Datadog c...\n",
       "                               ...                        \n",
       "10391    RedHat 6 | Enabling Red Hat Software Collectio...\n",
       "10392     Set Distribution CIS filename for RHEL5/CentOS-5\n",
       "10393     Set Distribution CIS filename for RHEL6/CentOS-6\n",
       "10394     Set Distribution CIS filename for RHEL7/CentOS-7\n",
       "10395    Set Distribution CIS filename for RHEL7/CentOS...\n",
       "Name: token_task_names_one_string, Length: 10396, dtype: object"
      ]
     },
     "execution_count": 8,
     "metadata": {},
     "output_type": "execute_result"
    }
   ],
   "source": [
    "tasks['token_task_names_one_string']"
   ]
  },
  {
   "cell_type": "code",
   "execution_count": 9,
   "metadata": {},
   "outputs": [],
   "source": [
    "# tasks_names = tasks['task_name']"
   ]
  },
  {
   "cell_type": "code",
   "execution_count": 10,
   "metadata": {},
   "outputs": [],
   "source": [
    "corpus_tasks = [token for token in tasks['token_task_names']]"
   ]
  },
  {
   "cell_type": "code",
   "execution_count": 11,
   "metadata": {},
   "outputs": [],
   "source": [
    "lowercase_tasks = [[token.lower() for token in doc] for doc in corpus_tasks]"
   ]
  },
  {
   "cell_type": "code",
   "execution_count": 12,
   "metadata": {},
   "outputs": [],
   "source": [
    "alphas_tasks = [[token for token in doc if token.isalpha()] for doc in lowercase_tasks]"
   ]
  },
  {
   "cell_type": "code",
   "execution_count": 13,
   "metadata": {},
   "outputs": [],
   "source": [
    "stop_words = stopwords.words('english')\n",
    "stop_words.extend(['for','the','flight'])"
   ]
  },
  {
   "cell_type": "code",
   "execution_count": 14,
   "metadata": {},
   "outputs": [],
   "source": [
    "tasks_no_stop = [[token for token in doc if token not in stop_words] for doc in alphas_tasks]\n",
    "# tasks_no_stop"
   ]
  },
  {
   "cell_type": "code",
   "execution_count": 15,
   "metadata": {},
   "outputs": [],
   "source": [
    "tasks_clean_no_stem = [ ' '.join(doc) for doc in tasks_no_stop]"
   ]
  },
  {
   "cell_type": "code",
   "execution_count": 16,
   "metadata": {},
   "outputs": [],
   "source": [
    "stemmer = PorterStemmer()\n",
    "stemmed_tasks = [[stemmer.stem(token) for token in doc] for doc in tasks_no_stop]"
   ]
  },
  {
   "cell_type": "code",
   "execution_count": 17,
   "metadata": {},
   "outputs": [],
   "source": [
    "tasks_clean_str = [ ' '.join(doc) for doc in stemmed_tasks]"
   ]
  },
  {
   "cell_type": "markdown",
   "metadata": {},
   "source": [
    "<h4>Number of words</h4>"
   ]
  },
  {
   "cell_type": "code",
   "execution_count": 18,
   "metadata": {},
   "outputs": [
    {
     "data": {
      "text/plain": [
       "list"
      ]
     },
     "execution_count": 18,
     "metadata": {},
     "output_type": "execute_result"
    }
   ],
   "source": [
    "nb_words = [len(tokens) for tokens in alphas_tasks]\n",
    "type(nb_words)"
   ]
  },
  {
   "cell_type": "markdown",
   "metadata": {},
   "source": [
    "<h4>Number of unique words</h4>"
   ]
  },
  {
   "cell_type": "code",
   "execution_count": 19,
   "metadata": {},
   "outputs": [],
   "source": [
    "alphas_unique = [set(doc) for doc in alphas_tasks]\n",
    "nb_words_unique = [len(doc) for doc in alphas_unique]"
   ]
  },
  {
   "cell_type": "markdown",
   "metadata": {},
   "source": [
    "<h4>Number of characters</h4>"
   ]
  },
  {
   "cell_type": "code",
   "execution_count": 20,
   "metadata": {},
   "outputs": [],
   "source": [
    "tasks_str = [' '.join(doc) for doc in lowercase_tasks]"
   ]
  },
  {
   "cell_type": "code",
   "execution_count": 21,
   "metadata": {},
   "outputs": [],
   "source": [
    "nb_characters = [len(doc) for doc in tasks_str]"
   ]
  },
  {
   "cell_type": "markdown",
   "metadata": {},
   "source": [
    "<h4>Number of stopwords</h4>"
   ]
  },
  {
   "cell_type": "code",
   "execution_count": 22,
   "metadata": {},
   "outputs": [],
   "source": [
    "tasks_stopwords = [[token for token in doc if token in stop_words] for doc in alphas_tasks]"
   ]
  },
  {
   "cell_type": "code",
   "execution_count": 23,
   "metadata": {},
   "outputs": [],
   "source": [
    "nb_stopwords  = [len(doc) for doc in tasks_stopwords]"
   ]
  },
  {
   "cell_type": "markdown",
   "metadata": {},
   "source": [
    "<h4>Number of punctuations</h4>"
   ]
  },
  {
   "cell_type": "code",
   "execution_count": 24,
   "metadata": {},
   "outputs": [],
   "source": [
    "non_alphas = [[token for token in doc if token.isalpha() == False] for doc in lowercase_tasks]"
   ]
  },
  {
   "cell_type": "code",
   "execution_count": 25,
   "metadata": {},
   "outputs": [],
   "source": [
    "nb_punctuation = [len(doc) for doc in non_alphas]"
   ]
  },
  {
   "cell_type": "markdown",
   "metadata": {},
   "source": [
    "<h4>Number of title case words</h4>"
   ]
  },
  {
   "cell_type": "code",
   "execution_count": 26,
   "metadata": {},
   "outputs": [],
   "source": [
    "tasks_title = [[token for token in doc if token.istitle() == True] for doc in corpus_tasks]"
   ]
  },
  {
   "cell_type": "code",
   "execution_count": 27,
   "metadata": {},
   "outputs": [],
   "source": [
    "nb_title = [len(doc) for doc in tasks_title]"
   ]
  },
  {
   "cell_type": "markdown",
   "metadata": {},
   "source": [
    "<h4>New DataFrame</h4>"
   ]
  },
  {
   "cell_type": "code",
   "execution_count": 28,
   "metadata": {},
   "outputs": [
    {
     "data": {
      "text/html": [
       "<div>\n",
       "<style scoped>\n",
       "    .dataframe tbody tr th:only-of-type {\n",
       "        vertical-align: middle;\n",
       "    }\n",
       "\n",
       "    .dataframe tbody tr th {\n",
       "        vertical-align: top;\n",
       "    }\n",
       "\n",
       "    .dataframe thead th {\n",
       "        text-align: right;\n",
       "    }\n",
       "</style>\n",
       "<table border=\"1\" class=\"dataframe\">\n",
       "  <thead>\n",
       "    <tr style=\"text-align: right;\">\n",
       "      <th></th>\n",
       "      <th>text_clean</th>\n",
       "    </tr>\n",
       "  </thead>\n",
       "  <tbody>\n",
       "    <tr>\n",
       "      <th>0</th>\n",
       "      <td>restart</td>\n",
       "    </tr>\n",
       "    <tr>\n",
       "      <th>1</th>\n",
       "      <td>creat datadog agent config directori</td>\n",
       "    </tr>\n",
       "    <tr>\n",
       "      <th>2</th>\n",
       "      <td>creat main datadog agent configur file</td>\n",
       "    </tr>\n",
       "    <tr>\n",
       "      <th>3</th>\n",
       "      <td>ensur configur directori present datadog check</td>\n",
       "    </tr>\n",
       "    <tr>\n",
       "      <th>4</th>\n",
       "      <td>creat configur file datadog check</td>\n",
       "    </tr>\n",
       "    <tr>\n",
       "      <th>...</th>\n",
       "      <td>...</td>\n",
       "    </tr>\n",
       "    <tr>\n",
       "      <th>10391</th>\n",
       "      <td>redhat enabl red hat softwar collect rhscl</td>\n",
       "    </tr>\n",
       "    <tr>\n",
       "      <th>10392</th>\n",
       "      <td>set distribut ci filenam</td>\n",
       "    </tr>\n",
       "    <tr>\n",
       "      <th>10393</th>\n",
       "      <td>set distribut ci filenam</td>\n",
       "    </tr>\n",
       "    <tr>\n",
       "      <th>10394</th>\n",
       "      <td>set distribut ci filenam</td>\n",
       "    </tr>\n",
       "    <tr>\n",
       "      <th>10395</th>\n",
       "      <td>set distribut ci filenam amazon</td>\n",
       "    </tr>\n",
       "  </tbody>\n",
       "</table>\n",
       "<p>10396 rows × 1 columns</p>\n",
       "</div>"
      ],
      "text/plain": [
       "                                           text_clean\n",
       "0                                             restart\n",
       "1                creat datadog agent config directori\n",
       "2              creat main datadog agent configur file\n",
       "3      ensur configur directori present datadog check\n",
       "4                   creat configur file datadog check\n",
       "...                                               ...\n",
       "10391      redhat enabl red hat softwar collect rhscl\n",
       "10392                        set distribut ci filenam\n",
       "10393                        set distribut ci filenam\n",
       "10394                        set distribut ci filenam\n",
       "10395                 set distribut ci filenam amazon\n",
       "\n",
       "[10396 rows x 1 columns]"
      ]
     },
     "execution_count": 28,
     "metadata": {},
     "output_type": "execute_result"
    }
   ],
   "source": [
    "df_clean = pd.DataFrame(data={'text_clean':tasks_clean_str})\n",
    "df_clean"
   ]
  },
  {
   "cell_type": "code",
   "execution_count": 29,
   "metadata": {},
   "outputs": [],
   "source": [
    "nb_words = pd.Series(nb_words)\n",
    "nb_words_unique = pd.Series(nb_words_unique)\n",
    "nb_characters = pd.Series(nb_characters)\n",
    "nb_stopwords = pd.Series(nb_stopwords)\n",
    "nb_punctuation = pd.Series(nb_punctuation)\n",
    "nb_title = pd.Series(nb_title)"
   ]
  },
  {
   "cell_type": "code",
   "execution_count": 30,
   "metadata": {},
   "outputs": [
    {
     "data": {
      "text/html": [
       "<div>\n",
       "<style scoped>\n",
       "    .dataframe tbody tr th:only-of-type {\n",
       "        vertical-align: middle;\n",
       "    }\n",
       "\n",
       "    .dataframe tbody tr th {\n",
       "        vertical-align: top;\n",
       "    }\n",
       "\n",
       "    .dataframe thead th {\n",
       "        text-align: right;\n",
       "    }\n",
       "</style>\n",
       "<table border=\"1\" class=\"dataframe\">\n",
       "  <thead>\n",
       "    <tr style=\"text-align: right;\">\n",
       "      <th></th>\n",
       "      <th>text_clean</th>\n",
       "      <th>Number of words</th>\n",
       "      <th>Number of unique words</th>\n",
       "      <th>Number of characters</th>\n",
       "      <th>Number of stopwords</th>\n",
       "      <th>Number of punctuations</th>\n",
       "      <th>Number of titlecase words</th>\n",
       "    </tr>\n",
       "  </thead>\n",
       "  <tbody>\n",
       "    <tr>\n",
       "      <th>0</th>\n",
       "      <td>restart</td>\n",
       "      <td>1</td>\n",
       "      <td>1</td>\n",
       "      <td>21</td>\n",
       "      <td>0</td>\n",
       "      <td>1</td>\n",
       "      <td>0</td>\n",
       "    </tr>\n",
       "    <tr>\n",
       "      <th>1</th>\n",
       "      <td>creat datadog agent config directori</td>\n",
       "      <td>5</td>\n",
       "      <td>5</td>\n",
       "      <td>37</td>\n",
       "      <td>0</td>\n",
       "      <td>0</td>\n",
       "      <td>2</td>\n",
       "    </tr>\n",
       "    <tr>\n",
       "      <th>2</th>\n",
       "      <td>creat main datadog agent configur file</td>\n",
       "      <td>6</td>\n",
       "      <td>6</td>\n",
       "      <td>44</td>\n",
       "      <td>0</td>\n",
       "      <td>0</td>\n",
       "      <td>2</td>\n",
       "    </tr>\n",
       "    <tr>\n",
       "      <th>3</th>\n",
       "      <td>ensur configur directori present datadog check</td>\n",
       "      <td>9</td>\n",
       "      <td>9</td>\n",
       "      <td>67</td>\n",
       "      <td>3</td>\n",
       "      <td>0</td>\n",
       "      <td>2</td>\n",
       "    </tr>\n",
       "    <tr>\n",
       "      <th>4</th>\n",
       "      <td>creat configur file datadog check</td>\n",
       "      <td>8</td>\n",
       "      <td>8</td>\n",
       "      <td>50</td>\n",
       "      <td>3</td>\n",
       "      <td>0</td>\n",
       "      <td>2</td>\n",
       "    </tr>\n",
       "    <tr>\n",
       "      <th>...</th>\n",
       "      <td>...</td>\n",
       "      <td>...</td>\n",
       "      <td>...</td>\n",
       "      <td>...</td>\n",
       "      <td>...</td>\n",
       "      <td>...</td>\n",
       "      <td>...</td>\n",
       "    </tr>\n",
       "    <tr>\n",
       "      <th>10391</th>\n",
       "      <td>redhat enabl red hat softwar collect rhscl</td>\n",
       "      <td>7</td>\n",
       "      <td>7</td>\n",
       "      <td>58</td>\n",
       "      <td>0</td>\n",
       "      <td>4</td>\n",
       "      <td>5</td>\n",
       "    </tr>\n",
       "    <tr>\n",
       "      <th>10392</th>\n",
       "      <td>set distribut ci filenam</td>\n",
       "      <td>5</td>\n",
       "      <td>5</td>\n",
       "      <td>48</td>\n",
       "      <td>1</td>\n",
       "      <td>1</td>\n",
       "      <td>2</td>\n",
       "    </tr>\n",
       "    <tr>\n",
       "      <th>10393</th>\n",
       "      <td>set distribut ci filenam</td>\n",
       "      <td>5</td>\n",
       "      <td>5</td>\n",
       "      <td>48</td>\n",
       "      <td>1</td>\n",
       "      <td>1</td>\n",
       "      <td>2</td>\n",
       "    </tr>\n",
       "    <tr>\n",
       "      <th>10394</th>\n",
       "      <td>set distribut ci filenam</td>\n",
       "      <td>5</td>\n",
       "      <td>5</td>\n",
       "      <td>48</td>\n",
       "      <td>1</td>\n",
       "      <td>1</td>\n",
       "      <td>2</td>\n",
       "    </tr>\n",
       "    <tr>\n",
       "      <th>10395</th>\n",
       "      <td>set distribut ci filenam amazon</td>\n",
       "      <td>6</td>\n",
       "      <td>6</td>\n",
       "      <td>59</td>\n",
       "      <td>1</td>\n",
       "      <td>3</td>\n",
       "      <td>3</td>\n",
       "    </tr>\n",
       "  </tbody>\n",
       "</table>\n",
       "<p>10396 rows × 7 columns</p>\n",
       "</div>"
      ],
      "text/plain": [
       "                                           text_clean  Number of words  \\\n",
       "0                                             restart                1   \n",
       "1                creat datadog agent config directori                5   \n",
       "2              creat main datadog agent configur file                6   \n",
       "3      ensur configur directori present datadog check                9   \n",
       "4                   creat configur file datadog check                8   \n",
       "...                                               ...              ...   \n",
       "10391      redhat enabl red hat softwar collect rhscl                7   \n",
       "10392                        set distribut ci filenam                5   \n",
       "10393                        set distribut ci filenam                5   \n",
       "10394                        set distribut ci filenam                5   \n",
       "10395                 set distribut ci filenam amazon                6   \n",
       "\n",
       "       Number of unique words  Number of characters  Number of stopwords  \\\n",
       "0                           1                    21                    0   \n",
       "1                           5                    37                    0   \n",
       "2                           6                    44                    0   \n",
       "3                           9                    67                    3   \n",
       "4                           8                    50                    3   \n",
       "...                       ...                   ...                  ...   \n",
       "10391                       7                    58                    0   \n",
       "10392                       5                    48                    1   \n",
       "10393                       5                    48                    1   \n",
       "10394                       5                    48                    1   \n",
       "10395                       6                    59                    1   \n",
       "\n",
       "       Number of punctuations  Number of titlecase words  \n",
       "0                           1                          0  \n",
       "1                           0                          2  \n",
       "2                           0                          2  \n",
       "3                           0                          2  \n",
       "4                           0                          2  \n",
       "...                       ...                        ...  \n",
       "10391                       4                          5  \n",
       "10392                       1                          2  \n",
       "10393                       1                          2  \n",
       "10394                       1                          2  \n",
       "10395                       3                          3  \n",
       "\n",
       "[10396 rows x 7 columns]"
      ]
     },
     "execution_count": 30,
     "metadata": {},
     "output_type": "execute_result"
    }
   ],
   "source": [
    "df_show = pd.concat([df_clean,nb_words,nb_words_unique,nb_characters,nb_stopwords,nb_punctuation,nb_title],\n",
    "                    axis=1).rename(columns={\n",
    "    0:'Number of words',1:'Number of unique words',2:'Number of characters',3:'Number of stopwords',4:'Number of punctuations',\n",
    "    5:'Number of titlecase words'\n",
    "})\n",
    "df_show"
   ]
  },
  {
   "cell_type": "code",
   "execution_count": 31,
   "metadata": {},
   "outputs": [
    {
     "data": {
      "text/html": [
       "<div>\n",
       "<style scoped>\n",
       "    .dataframe tbody tr th:only-of-type {\n",
       "        vertical-align: middle;\n",
       "    }\n",
       "\n",
       "    .dataframe tbody tr th {\n",
       "        vertical-align: top;\n",
       "    }\n",
       "\n",
       "    .dataframe thead th {\n",
       "        text-align: right;\n",
       "    }\n",
       "</style>\n",
       "<table border=\"1\" class=\"dataframe\">\n",
       "  <thead>\n",
       "    <tr style=\"text-align: right;\">\n",
       "      <th></th>\n",
       "      <th>Number of words</th>\n",
       "      <th>Number of unique words</th>\n",
       "      <th>Number of characters</th>\n",
       "      <th>Number of stopwords</th>\n",
       "      <th>Number of punctuations</th>\n",
       "      <th>Number of titlecase words</th>\n",
       "    </tr>\n",
       "  </thead>\n",
       "  <tbody>\n",
       "    <tr>\n",
       "      <th>0</th>\n",
       "      <td>1</td>\n",
       "      <td>1</td>\n",
       "      <td>21</td>\n",
       "      <td>0</td>\n",
       "      <td>1</td>\n",
       "      <td>0</td>\n",
       "    </tr>\n",
       "    <tr>\n",
       "      <th>1</th>\n",
       "      <td>5</td>\n",
       "      <td>5</td>\n",
       "      <td>37</td>\n",
       "      <td>0</td>\n",
       "      <td>0</td>\n",
       "      <td>2</td>\n",
       "    </tr>\n",
       "    <tr>\n",
       "      <th>2</th>\n",
       "      <td>6</td>\n",
       "      <td>6</td>\n",
       "      <td>44</td>\n",
       "      <td>0</td>\n",
       "      <td>0</td>\n",
       "      <td>2</td>\n",
       "    </tr>\n",
       "    <tr>\n",
       "      <th>3</th>\n",
       "      <td>9</td>\n",
       "      <td>9</td>\n",
       "      <td>67</td>\n",
       "      <td>3</td>\n",
       "      <td>0</td>\n",
       "      <td>2</td>\n",
       "    </tr>\n",
       "    <tr>\n",
       "      <th>4</th>\n",
       "      <td>8</td>\n",
       "      <td>8</td>\n",
       "      <td>50</td>\n",
       "      <td>3</td>\n",
       "      <td>0</td>\n",
       "      <td>2</td>\n",
       "    </tr>\n",
       "  </tbody>\n",
       "</table>\n",
       "</div>"
      ],
      "text/plain": [
       "   Number of words  Number of unique words  Number of characters  \\\n",
       "0                1                       1                    21   \n",
       "1                5                       5                    37   \n",
       "2                6                       6                    44   \n",
       "3                9                       9                    67   \n",
       "4                8                       8                    50   \n",
       "\n",
       "   Number of stopwords  Number of punctuations  Number of titlecase words  \n",
       "0                    0                       1                          0  \n",
       "1                    0                       0                          2  \n",
       "2                    0                       0                          2  \n",
       "3                    3                       0                          2  \n",
       "4                    3                       0                          2  "
      ]
     },
     "execution_count": 31,
     "metadata": {},
     "output_type": "execute_result"
    }
   ],
   "source": [
    "df_feat = df_show.drop(['text_clean'],axis=1)\n",
    "df_feat.head()"
   ]
  },
  {
   "cell_type": "code",
   "execution_count": 32,
   "metadata": {},
   "outputs": [
    {
     "name": "stdout",
     "output_type": "stream",
     "text": [
      "<class 'pandas.core.frame.DataFrame'>\n",
      "RangeIndex: 10396 entries, 0 to 10395\n",
      "Data columns (total 6 columns):\n",
      " #   Column                     Non-Null Count  Dtype\n",
      "---  ------                     --------------  -----\n",
      " 0   Number of words            10396 non-null  int64\n",
      " 1   Number of unique words     10396 non-null  int64\n",
      " 2   Number of characters       10396 non-null  int64\n",
      " 3   Number of stopwords        10396 non-null  int64\n",
      " 4   Number of punctuations     10396 non-null  int64\n",
      " 5   Number of titlecase words  10396 non-null  int64\n",
      "dtypes: int64(6)\n",
      "memory usage: 487.4 KB\n"
     ]
    }
   ],
   "source": [
    "df_feat.info()"
   ]
  },
  {
   "cell_type": "code",
   "execution_count": 33,
   "metadata": {},
   "outputs": [
    {
     "name": "stderr",
     "output_type": "stream",
     "text": [
      "C:\\ProgramData\\Anaconda3\\lib\\site-packages\\ipykernel_launcher.py:2: DeprecationWarning: The default dtype for empty Series will be 'object' instead of 'float64' in a future version. Specify a dtype explicitly to silence this warning.\n",
      "  \n"
     ]
    }
   ],
   "source": [
    "sth = []\n",
    "aa = pd.Series(sth)"
   ]
  },
  {
   "cell_type": "markdown",
   "metadata": {},
   "source": [
    "<h4>Length of sentence</h4>"
   ]
  },
  {
   "cell_type": "code",
   "execution_count": 34,
   "metadata": {},
   "outputs": [],
   "source": [
    "nb_words_tasks_nostop  = [len(tokens) for tokens in tasks_no_stop]"
   ]
  },
  {
   "cell_type": "markdown",
   "metadata": {},
   "source": [
    "<h4>Average number of words per task</h4>"
   ]
  },
  {
   "cell_type": "code",
   "execution_count": 35,
   "metadata": {},
   "outputs": [
    {
     "data": {
      "text/plain": [
       "3.5103886110042324"
      ]
     },
     "execution_count": 35,
     "metadata": {},
     "output_type": "execute_result"
    }
   ],
   "source": [
    "avg_nostop = np.mean(nb_words_tasks_nostop)\n",
    "avg_nostop"
   ]
  },
  {
   "cell_type": "code",
   "execution_count": 36,
   "metadata": {},
   "outputs": [
    {
     "data": {
      "text/plain": [
       "5.0957098884186225"
      ]
     },
     "execution_count": 36,
     "metadata": {},
     "output_type": "execute_result"
    }
   ],
   "source": [
    "nb_words_tasks_stop  = [len(tokens) for tokens in lowercase_tasks]\n",
    "avg_stop = np.mean(nb_words_tasks_stop)\n",
    "avg_stop"
   ]
  },
  {
   "cell_type": "code",
   "execution_count": 37,
   "metadata": {},
   "outputs": [
    {
     "data": {
      "text/plain": [
       "3.0"
      ]
     },
     "execution_count": 37,
     "metadata": {},
     "output_type": "execute_result"
    }
   ],
   "source": [
    "np.median(nb_words_tasks_nostop)"
   ]
  },
  {
   "cell_type": "code",
   "execution_count": 38,
   "metadata": {},
   "outputs": [
    {
     "data": {
      "text/plain": [
       "4.0"
      ]
     },
     "execution_count": 38,
     "metadata": {},
     "output_type": "execute_result"
    }
   ],
   "source": [
    "np.median(nb_words_tasks_stop)"
   ]
  },
  {
   "cell_type": "code",
   "execution_count": 39,
   "metadata": {},
   "outputs": [],
   "source": [
    "nb_words_tasks_stop = pd.Series(nb_words_tasks_stop)\n",
    "nb_words_tasks_nostop = pd.Series(nb_words_tasks_nostop)"
   ]
  },
  {
   "cell_type": "code",
   "execution_count": 40,
   "metadata": {},
   "outputs": [],
   "source": [
    "df_task_names = pd.DataFrame(tasks['token_task_names_one_string'])"
   ]
  },
  {
   "cell_type": "code",
   "execution_count": 41,
   "metadata": {},
   "outputs": [
    {
     "name": "stdout",
     "output_type": "stream",
     "text": [
      "<class 'pandas.core.frame.DataFrame'>\n",
      "Int64Index: 10396 entries, 0 to 10395\n",
      "Data columns (total 1 columns):\n",
      " #   Column                       Non-Null Count  Dtype \n",
      "---  ------                       --------------  ----- \n",
      " 0   token_task_names_one_string  10396 non-null  object\n",
      "dtypes: object(1)\n",
      "memory usage: 162.4+ KB\n"
     ]
    }
   ],
   "source": [
    "df_task_names.info()"
   ]
  },
  {
   "cell_type": "code",
   "execution_count": 42,
   "metadata": {},
   "outputs": [
    {
     "data": {
      "text/html": [
       "<div>\n",
       "<style scoped>\n",
       "    .dataframe tbody tr th:only-of-type {\n",
       "        vertical-align: middle;\n",
       "    }\n",
       "\n",
       "    .dataframe tbody tr th {\n",
       "        vertical-align: top;\n",
       "    }\n",
       "\n",
       "    .dataframe thead th {\n",
       "        text-align: right;\n",
       "    }\n",
       "</style>\n",
       "<table border=\"1\" class=\"dataframe\">\n",
       "  <thead>\n",
       "    <tr style=\"text-align: right;\">\n",
       "      <th></th>\n",
       "      <th>token_task_names_one_string</th>\n",
       "      <th>nb_words_no_stop</th>\n",
       "      <th>nb_words_stop</th>\n",
       "    </tr>\n",
       "    <tr>\n",
       "      <th>index</th>\n",
       "      <th></th>\n",
       "      <th></th>\n",
       "      <th></th>\n",
       "    </tr>\n",
       "  </thead>\n",
       "  <tbody>\n",
       "    <tr>\n",
       "      <th>0</th>\n",
       "      <td>restart datadog-agent</td>\n",
       "      <td>1</td>\n",
       "      <td>2</td>\n",
       "    </tr>\n",
       "    <tr>\n",
       "      <th>1</th>\n",
       "      <td>Create Datadog agent config directory</td>\n",
       "      <td>5</td>\n",
       "      <td>5</td>\n",
       "    </tr>\n",
       "    <tr>\n",
       "      <th>2</th>\n",
       "      <td>Create main Datadog agent configuration file</td>\n",
       "      <td>6</td>\n",
       "      <td>6</td>\n",
       "    </tr>\n",
       "    <tr>\n",
       "      <th>3</th>\n",
       "      <td>Ensure configuration directories are present f...</td>\n",
       "      <td>6</td>\n",
       "      <td>9</td>\n",
       "    </tr>\n",
       "    <tr>\n",
       "      <th>4</th>\n",
       "      <td>Create a configuration file for each Datadog c...</td>\n",
       "      <td>5</td>\n",
       "      <td>8</td>\n",
       "    </tr>\n",
       "  </tbody>\n",
       "</table>\n",
       "</div>"
      ],
      "text/plain": [
       "                             token_task_names_one_string  nb_words_no_stop  \\\n",
       "index                                                                        \n",
       "0                                  restart datadog-agent                 1   \n",
       "1                  Create Datadog agent config directory                 5   \n",
       "2           Create main Datadog agent configuration file                 6   \n",
       "3      Ensure configuration directories are present f...                 6   \n",
       "4      Create a configuration file for each Datadog c...                 5   \n",
       "\n",
       "       nb_words_stop  \n",
       "index                 \n",
       "0                  2  \n",
       "1                  5  \n",
       "2                  6  \n",
       "3                  9  \n",
       "4                  8  "
      ]
     },
     "execution_count": 42,
     "metadata": {},
     "output_type": "execute_result"
    }
   ],
   "source": [
    "df_name_tasks = pd.concat([df_task_names.reset_index(),nb_words_tasks_nostop,nb_words_tasks_stop],axis=1).set_index('index').rename(columns={\n",
    "    0: \"nb_words_no_stop\", 1: 'nb_words_stop'})\n",
    "df_name_tasks.head()"
   ]
  },
  {
   "cell_type": "code",
   "execution_count": 43,
   "metadata": {},
   "outputs": [
    {
     "name": "stderr",
     "output_type": "stream",
     "text": [
      "C:\\ProgramData\\Anaconda3\\lib\\site-packages\\scipy\\stats\\stats.py:1713: FutureWarning: Using a non-tuple sequence for multidimensional indexing is deprecated; use `arr[tuple(seq)]` instead of `arr[seq]`. In the future this will be interpreted as an array index, `arr[np.array(seq)]`, which will result either in an error or a different result.\n",
      "  return np.add.reduce(sorted[indexer] * weights, axis=axis) / sumval\n",
      "C:\\ProgramData\\Anaconda3\\lib\\site-packages\\scipy\\stats\\stats.py:1713: FutureWarning: Using a non-tuple sequence for multidimensional indexing is deprecated; use `arr[tuple(seq)]` instead of `arr[seq]`. In the future this will be interpreted as an array index, `arr[np.array(seq)]`, which will result either in an error or a different result.\n",
      "  return np.add.reduce(sorted[indexer] * weights, axis=axis) / sumval\n"
     ]
    },
    {
     "data": {
      "image/png": "[encoded data removed]",
      "text/plain": [
       "<Figure size 432x288 with 1 Axes>"
      ]
     },
     "metadata": {
      "needs_background": "light"
     },
     "output_type": "display_data"
    }
   ],
   "source": [
    "sns.distplot(np.log1p(nb_words_tasks_nostop), kde=False, label=\"No stop\")\n",
    "sns.distplot(np.log1p(nb_words_tasks_stop), kde=False, label=\"Stop\")\n",
    "plt.legend();"
   ]
  },
  {
   "cell_type": "code",
   "execution_count": 44,
   "metadata": {},
   "outputs": [
    {
     "name": "stderr",
     "output_type": "stream",
     "text": [
      "C:\\ProgramData\\Anaconda3\\lib\\site-packages\\scipy\\stats\\stats.py:1713: FutureWarning: Using a non-tuple sequence for multidimensional indexing is deprecated; use `arr[tuple(seq)]` instead of `arr[seq]`. In the future this will be interpreted as an array index, `arr[np.array(seq)]`, which will result either in an error or a different result.\n",
      "  return np.add.reduce(sorted[indexer] * weights, axis=axis) / sumval\n"
     ]
    },
    {
     "data": {
      "image/png": "[encoded data removed]",
      "text/plain": [
       "<Figure size 432x288 with 1 Axes>"
      ]
     },
     "metadata": {
      "needs_background": "light"
     },
     "output_type": "display_data"
    }
   ],
   "source": [
    "sns.distplot(nb_words_tasks_stop, hist=False, color='red', label='Stop')\n",
    "sns.distplot(nb_words_tasks_nostop, hist=False, color='blue', label='No stop')\n",
    "plt.legend();"
   ]
  },
  {
   "cell_type": "markdown",
   "metadata": {},
   "source": [
    "<h4>Counting the ten most common words in the tasks</h4>"
   ]
  },
  {
   "cell_type": "code",
   "execution_count": 45,
   "metadata": {},
   "outputs": [
    {
     "data": {
      "image/png": "[encoded data removed]",
      "text/plain": [
       "<Figure size 864x576 with 1 Axes>"
      ]
     },
     "metadata": {
      "needs_background": "light"
     },
     "output_type": "display_data"
    }
   ],
   "source": [
    "counter = defaultdict(int)\n",
    "for doc in tasks_no_stop:\n",
    "    for token in doc:\n",
    "        counter[token] += 1\n",
    "\n",
    "from collections import Counter\n",
    "\n",
    "c = Counter(counter)\n",
    "\n",
    "commons = c.most_common(20)\n",
    "x = [x[0] for x in commons]\n",
    "y = [x[1] for x in commons]\n",
    "fig = plt.figure(figsize=(12, 8))\n",
    "ax = fig.add_axes([0,0,1,1])\n",
    "ax.grid(False)\n",
    "plt.bar(x,y)\n",
    "plt.xticks(fontsize=14,rotation=45)\n",
    "plt.yticks(fontsize=14)\n",
    "plt.xlabel('Words', fontsize=15,labelpad=15)\n",
    "plt.ylabel('Occurence\\nnumber', fontsize=15,rotation=0,labelpad=55)\n",
    "plt.savefig('top10_words.jpg',bbox_inches = 'tight')\n",
    "plt.show()"
   ]
  },
  {
   "cell_type": "markdown",
   "metadata": {},
   "source": [
    "<h4>Topic modelling with LDA</h4>"
   ]
  },
  {
   "cell_type": "code",
   "execution_count": 46,
   "metadata": {},
   "outputs": [],
   "source": [
    "dictionary = corpora.Dictionary(tasks_no_stop)"
   ]
  },
  {
   "cell_type": "code",
   "execution_count": 47,
   "metadata": {},
   "outputs": [],
   "source": [
    "corpus_1_tasks = [dictionary.doc2bow(token) for token in tasks_no_stop]"
   ]
  },
  {
   "cell_type": "code",
   "execution_count": 48,
   "metadata": {},
   "outputs": [
    {
     "name": "stdout",
     "output_type": "stream",
     "text": [
      "Wall time: 3.57 s\n"
     ]
    }
   ],
   "source": [
    "%%time\n",
    "lda_model = LdaModel(corpus = corpus_1_tasks, id2word=dictionary, num_topics=6,random_state=42)"
   ]
  },
  {
   "cell_type": "code",
   "execution_count": 49,
   "metadata": {},
   "outputs": [
    {
     "name": "stdout",
     "output_type": "stream",
     "text": [
      "Perplexity:  -6.948554063095185\n"
     ]
    }
   ],
   "source": [
    "print('Perplexity: ', lda_model.log_perplexity(corpus_1_tasks))  "
   ]
  },
  {
   "cell_type": "code",
   "execution_count": 50,
   "metadata": {},
   "outputs": [],
   "source": [
    "coherence_model_lda = CoherenceModel(model=lda_model, texts=tasks_no_stop, dictionary=dictionary, coherence='c_v')\n",
    "coherence_lda = coherence_model_lda.get_coherence()"
   ]
  },
  {
   "cell_type": "code",
   "execution_count": 51,
   "metadata": {},
   "outputs": [
    {
     "name": "stdout",
     "output_type": "stream",
     "text": [
      "\n",
      "Coherence Score:  0.5796762246742904\n"
     ]
    }
   ],
   "source": [
    "print('\\nCoherence Score: ', coherence_lda)"
   ]
  },
  {
   "cell_type": "code",
   "execution_count": 52,
   "metadata": {},
   "outputs": [
    {
     "name": "stdout",
     "output_type": "stream",
     "text": [
      "[(0,\n",
      "  '0.033*\"ensure\" + 0.030*\"config\" + 0.028*\"restart\" + 0.027*\"service\" + '\n",
      "  '0.026*\"node\" + 0.022*\"copying\" + 0.022*\"elasticsearch\" + 0.021*\"nova\" + '\n",
      "  '0.021*\"files\" + 0.019*\"services\"'),\n",
      " (1,\n",
      "  '0.043*\"get\" + 0.041*\"run\" + 0.041*\"warn\" + 0.039*\"lack\" + 0.024*\"verify\" + '\n",
      "  '0.022*\"check\" + 0.020*\"remove\" + 0.019*\"user\" + 0.018*\"file\" + '\n",
      "  '0.018*\"molecule\"'),\n",
      " (2,\n",
      "  '0.054*\"check\" + 0.030*\"install\" + 0.029*\"file\" + 0.029*\"enabled\" + '\n",
      "  '0.028*\"copy\" + 0.025*\"ca\" + 0.023*\"enable\" + 0.022*\"list\" + 0.021*\"key\" + '\n",
      "  '0.020*\"docker\"'),\n",
      " (3,\n",
      "  '0.162*\"set\" + 0.040*\"populate\" + 0.039*\"fact\" + 0.023*\"configure\" + '\n",
      "  '0.022*\"overcloud\" + 0.020*\"certificates\" + 0.018*\"host\" + 0.013*\"create\" + '\n",
      "  '0.012*\"cli\" + 0.011*\"files\"'),\n",
      " (4,\n",
      "  '0.081*\"create\" + 0.058*\"fail\" + 0.056*\"directory\" + 0.044*\"facts\" + '\n",
      "  '0.036*\"ensure\" + 0.028*\"test\" + 0.027*\"user\" + 0.026*\"script\" + '\n",
      "  '0.021*\"legacy\" + 0.013*\"workspace\"'),\n",
      " (5,\n",
      "  '0.059*\"testing\" + 0.033*\"tasks\" + 0.032*\"complete\" + 0.029*\"add\" + '\n",
      "  '0.028*\"default\" + 0.026*\"role\" + 0.023*\"service\" + 0.016*\"software\" + '\n",
      "  '0.015*\"apply\" + 0.014*\"repositories\"')]\n"
     ]
    }
   ],
   "source": [
    "pprint(lda_model.print_topics())"
   ]
  },
  {
   "cell_type": "code",
   "execution_count": 53,
   "metadata": {},
   "outputs": [
    {
     "name": "stdout",
     "output_type": "stream",
     "text": [
      "ensure config restart service node copying elasticsearch nova files services\n",
      "get run warn lack verify check remove user file molecule\n",
      "check install file enabled copy ca enable list key docker\n",
      "set populate fact configure overcloud certificates host create cli files\n",
      "create fail directory facts ensure test user script legacy workspace\n",
      "testing tasks complete add default role service software apply repositories\n"
     ]
    }
   ],
   "source": [
    "x=lda_model.show_topics(num_topics=6, num_words=10,formatted=False)\n",
    "topics_words = [(tp[0], [wd[0] for wd in tp[1]]) for tp in x]\n",
    "for topic,words in topics_words:\n",
    "    print(\" \".join(words))"
   ]
  },
  {
   "cell_type": "code",
   "execution_count": 54,
   "metadata": {},
   "outputs": [
    {
     "name": "stdout",
     "output_type": "stream",
     "text": [
      "Wall time: 2.8 s\n"
     ]
    }
   ],
   "source": [
    "%%time\n",
    "lda_model_1 = LdaModel(corpus=corpus_1_tasks, id2word=dictionary, num_topics=6, random_state=42, iterations=10)"
   ]
  },
  {
   "cell_type": "code",
   "execution_count": 55,
   "metadata": {},
   "outputs": [
    {
     "name": "stdout",
     "output_type": "stream",
     "text": [
      "Perplexity:  -6.982312964015876\n"
     ]
    }
   ],
   "source": [
    "print('Perplexity: ', lda_model_1.log_perplexity(corpus_1_tasks))  "
   ]
  },
  {
   "cell_type": "code",
   "execution_count": 56,
   "metadata": {},
   "outputs": [],
   "source": [
    "coherence_model_lda_1 = CoherenceModel(model=lda_model_1, texts=tasks_no_stop, dictionary=dictionary, coherence='c_v')\n",
    "coherence_lda_1 = coherence_model_lda.get_coherence()"
   ]
  },
  {
   "cell_type": "code",
   "execution_count": 57,
   "metadata": {},
   "outputs": [
    {
     "name": "stdout",
     "output_type": "stream",
     "text": [
      "Coherence Score:  0.5796762246742904\n"
     ]
    }
   ],
   "source": [
    "print('Coherence Score: ', coherence_lda_1)"
   ]
  },
  {
   "cell_type": "code",
   "execution_count": 58,
   "metadata": {},
   "outputs": [
    {
     "name": "stdout",
     "output_type": "stream",
     "text": [
      "[(0,\n",
      "  '0.052*\"ensure\" + 0.035*\"config\" + 0.029*\"restart\" + 0.025*\"node\" + '\n",
      "  '0.022*\"copying\" + 0.022*\"elasticsearch\" + 0.021*\"files\" + 0.021*\"nova\" + '\n",
      "  '0.020*\"legacy\" + 0.019*\"services\"'),\n",
      " (1,\n",
      "  '0.047*\"populate\" + 0.039*\"warn\" + 0.039*\"run\" + 0.035*\"lack\" + '\n",
      "  '0.028*\"remove\" + 0.026*\"get\" + 0.024*\"user\" + 0.023*\"verify\" + '\n",
      "  '0.018*\"image\" + 0.018*\"check\"'),\n",
      " (2,\n",
      "  '0.055*\"check\" + 0.031*\"install\" + 0.031*\"file\" + 0.025*\"ca\" + 0.024*\"copy\" '\n",
      "  '+ 0.023*\"list\" + 0.022*\"get\" + 0.019*\"docker\" + 0.018*\"distribution\" + '\n",
      "  '0.018*\"key\"'),\n",
      " (3,\n",
      "  '0.173*\"set\" + 0.043*\"fact\" + 0.026*\"configure\" + 0.024*\"overcloud\" + '\n",
      "  '0.022*\"certificates\" + 0.020*\"host\" + 0.013*\"cli\" + 0.013*\"get\" + '\n",
      "  '0.013*\"undercloud\" + 0.011*\"repo\"'),\n",
      " (4,\n",
      "  '0.094*\"create\" + 0.070*\"fail\" + 0.055*\"directory\" + 0.046*\"facts\" + '\n",
      "  '0.029*\"test\" + 0.028*\"script\" + 0.022*\"user\" + 0.019*\"ensure\" + '\n",
      "  '0.018*\"copy\" + 0.015*\"available\"'),\n",
      " (5,\n",
      "  '0.051*\"testing\" + 0.032*\"service\" + 0.029*\"add\" + 0.027*\"tasks\" + '\n",
      "  '0.026*\"complete\" + 0.023*\"enable\" + 0.021*\"role\" + 0.021*\"enabled\" + '\n",
      "  '0.019*\"get\" + 0.018*\"certificate\"')]\n"
     ]
    }
   ],
   "source": [
    "pprint(lda_model_1.print_topics())"
   ]
  },
  {
   "cell_type": "code",
   "execution_count": 59,
   "metadata": {},
   "outputs": [
    {
     "name": "stdout",
     "output_type": "stream",
     "text": [
      "ensure config restart node copying elasticsearch files nova legacy services\n",
      "populate warn run lack remove get user verify image check\n",
      "check install file ca copy list get docker distribution key\n",
      "set fact configure overcloud certificates host cli get undercloud repo\n",
      "create fail directory facts test script user ensure copy available\n",
      "testing service add tasks complete enable role enabled get certificate\n"
     ]
    }
   ],
   "source": [
    "x=lda_model_1.show_topics(num_topics=6, num_words=10,formatted=False)\n",
    "topics_words = [(tp[0], [wd[0] for wd in tp[1]]) for tp in x]\n",
    "for topic,words in topics_words:\n",
    "    print(\" \".join(words))"
   ]
  },
  {
   "cell_type": "code",
   "execution_count": 60,
   "metadata": {},
   "outputs": [],
   "source": [
    "pyLDAvis.enable_notebook()"
   ]
  },
  {
   "cell_type": "code",
   "execution_count": 61,
   "metadata": {},
   "outputs": [
    {
     "data": {
      "text/html": [
       "\n",
       "<link rel=\"stylesheet\" type=\"text/css\" href=\"https://cdn.rawgit.com/bmabey/pyLDAvis/files/ldavis.v1.0.0.css\">\n",
       "\n",
       "\n",
       "<div id=\"ldavis_el198081144914965207370284195\"></div>\n",
       "<script type=\"text/javascript\">\n",
       "\n",
       "var ldavis_el198081144914965207370284195_data = {\"mdsDat\": {\"x\": [0.10323363654935894, -0.16418481479958427, 0.17083848809715743, 0.16851051371825745, -0.08862757444448002, -0.18977024912070914], \"y\": [0.13192127980058685, -0.08063264667946782, -0.2608892293987755, 0.16944641725097043, -0.03184493958131263, 0.07199911860799904], \"topics\": [1, 2, 3, 4, 5, 6], \"cluster\": [1, 1, 1, 1, 1, 1], \"Freq\": [18.827613830566406, 16.906885147094727, 16.549232482910156, 16.529550552368164, 15.663091659545898, 15.523619651794434]}, \"tinfo\": {\"Term\": [\"set\", \"testing\", \"create\", \"facts\", \"directory\", \"fail\", \"check\", \"run\", \"warn\", \"populate\", \"fact\", \"lack\", \"ensure\", \"tasks\", \"test\", \"complete\", \"install\", \"enabled\", \"node\", \"ca\", \"add\", \"role\", \"service\", \"verify\", \"restart\", \"default\", \"get\", \"script\", \"elasticsearch\", \"overcloud\", \"facts\", \"test\", \"content\", \"legacy\", \"prepare\", \"rabbitmq\", \"volumes\", \"old\", \"execute\", \"gather\", \"home\", \"identify\", \"global\", \"checks\", \"cores\", \"vols\", \"apps\", \"ha\", \"modify\", \"support\", \"folders\", \"rules\", \"env\", \"documentation\", \"filter\", \"per\", \"passed\", \"usable\", \"redhat\", \"destination\", \"script\", \"workspace\", \"clean\", \"directory\", \"repository\", \"current\", \"containerized\", \"fail\", \"requested\", \"create\", \"setting\", \"available\", \"ensure\", \"user\", \"configured\", \"playbook\", \"drop\", \"extract\", \"exists\", \"project\", \"remove\", \"copy\", \"list\", \"configuration\", \"service\", \"run\", \"environment\", \"containers\", \"warn\", \"upgrade\", \"verify\", \"oc\", \"detect\", \"timeout\", \"tree\", \"lack\", \"move\", \"report\", \"stack\", \"lookup\", \"debug\", \"sync\", \"admin\", \"pv\", \"hash\", \"error\", \"guid\", \"tests\", \"principal\", \"rhel\", \"stats\", \"actual\", \"try\", \"bootstrap\", \"mode\", \"ubuntu\", \"pool\", \"convert\", \"failure\", \"policy\", \"output\", \"image\", \"delete\", \"existing\", \"get\", \"developers\", \"molecule\", \"remove\", \"keys\", \"pools\", \"db\", \"projects\", \"generate\", \"user\", \"undercloud\", \"check\", \"file\", \"exists\", \"fail\", \"populate\", \"overcloud\", \"fact\", \"certificates\", \"cli\", \"defaults\", \"access\", \"downloaded\", \"checking\", \"args\", \"permission\", \"api\", \"credentials\", \"register\", \"provided\", \"without\", \"write\", \"hostname\", \"previous\", \"git\", \"crontab\", \"monitoring\", \"zuul\", \"handlers\", \"min\", \"entry\", \"updated\", \"working\", \"disk\", \"cpu\", \"print\", \"set\", \"url\", \"limit\", \"configure\", \"using\", \"extra\", \"present\", \"repo\", \"host\", \"password\", \"value\", \"resources\", \"log\", \"container\", \"path\", \"files\", \"create\", \"undercloud\", \"user\", \"status\", \"file\", \"get\", \"elasticsearch\", \"nova\", \"node\", \"failed\", \"point\", \"services\", \"number\", \"missing\", \"folder\", \"following\", \"app\", \"become\", \"ready\", \"unit\", \"correct\", \"builds\", \"parameter\", \"secret\", \"importing\", \"inventory\", \"removing\", \"build\", \"systemd\", \"values\", \"family\", \"count\", \"logstash\", \"debian\", \"github\", \"compile\", \"ensuring\", \"restart\", \"wait\", \"kibana\", \"master\", \"directories\", \"nodes\", \"local\", \"config\", \"copying\", \"dir\", \"exist\", \"name\", \"service\", \"ensure\", \"files\", \"deploy\", \"running\", \"started\", \"create\", \"ca\", \"distribution\", \"filename\", \"podman\", \"linux\", \"successful\", \"cert\", \"place\", \"enabled\", \"pacemaker\", \"ovs\", \"integration\", \"configs\", \"permissions\", \"account\", \"amazon\", \"vms\", \"docker\", \"repos\", \"interface\", \"pub\", \"install\", \"currently\", \"firewall\", \"public\", \"boot\", \"via\", \"plugin\", \"virtual\", \"vm\", \"ssh\", \"device\", \"enable\", \"security\", \"agent\", \"ip\", \"ssl\", \"installing\", \"ansible\", \"cis\", \"check\", \"version\", \"list\", \"key\", \"hosts\", \"copy\", \"status\", \"file\", \"generate\", \"setup\", \"configuration\", \"get\", \"filebeat\", \"set\", \"testing\", \"apply\", \"repositories\", \"openstack\", \"generated\", \"tempest\", \"common\", \"background\", \"settings\", \"prefix\", \"skipped\", \"fix\", \"specified\", \"command\", \"go\", \"tasks\", \"define\", \"back\", \"resume\", \"html\", \"kafka\", \"flush\", \"role\", \"expose\", \"changes\", \"installation\", \"catalog\", \"original\", \"firewalld\", \"chronyd\", \"software\", \"label\", \"complete\", \"deployed\", \"workload\", \"namespace\", \"add\", \"default\", \"sure\", \"step\", \"make\", \"certificate\", \"neutron\", \"service\", \"developers\", \"molecule\", \"project\", \"get\", \"copy\", \"key\", \"check\"], \"Freq\": [1078.0, 337.0, 770.0, 300.0, 450.0, 522.0, 490.0, 255.0, 257.0, 244.0, 238.0, 249.0, 462.0, 192.0, 191.0, 197.0, 184.0, 168.0, 157.0, 143.0, 196.0, 153.0, 350.0, 150.0, 192.0, 195.0, 522.0, 194.0, 135.0, 132.0, 299.4581298828125, 189.66688537597656, 86.03199005126953, 141.63229370117188, 66.71446228027344, 49.55488967895508, 44.3083610534668, 71.51531219482422, 35.49581527709961, 34.80445098876953, 20.687135696411133, 21.59503746032715, 19.992168426513672, 18.81599235534668, 20.40266227722168, 19.593713760375977, 16.863691329956055, 16.611106872558594, 15.94640827178955, 15.064062118530273, 21.2639217376709, 17.841144561767578, 12.514703750610352, 11.693103790283203, 13.760616302490234, 11.088129043579102, 13.521858215332031, 35.65245056152344, 15.661709785461426, 9.405233383178711, 178.81028747558594, 90.13655090332031, 64.19507598876953, 385.7698974609375, 63.90064239501953, 54.401939392089844, 21.969430923461914, 401.88067626953125, 42.12114334106445, 557.6254272460938, 45.434852600097656, 82.51976776123047, 244.78753662109375, 185.50743103027344, 45.689823150634766, 46.5081672668457, 48.51481628417969, 42.18924331665039, 76.7060546875, 78.63054656982422, 75.96965026855469, 88.6104965209961, 49.009681701660156, 47.358028411865234, 50.38643264770508, 254.4020538330078, 78.84036254882812, 58.372745513916016, 253.75384521484375, 54.798728942871094, 147.83212280273438, 51.25534439086914, 47.36837387084961, 47.12152099609375, 75.57135009765625, 242.78680419921875, 30.330541610717773, 28.68484878540039, 28.415544509887695, 33.501808166503906, 27.1883544921875, 25.23713493347168, 42.25082778930664, 23.146446228027344, 22.064849853515625, 45.88383865356445, 20.275310516357422, 20.094871520996094, 52.68037796020508, 20.32781982421875, 17.319122314453125, 18.175548553466797, 15.844551086425781, 18.4772891998291, 24.58225440979004, 26.53268814086914, 60.329891204833984, 19.583576202392578, 28.237852096557617, 43.70167922973633, 80.4963607788086, 99.89524841308594, 98.92774200439453, 32.08266830444336, 266.7781677246094, 112.2288589477539, 112.23495483398438, 121.82935333251953, 34.218902587890625, 42.83050537109375, 47.65897750854492, 41.20383071899414, 82.2965316772461, 119.20983123779297, 67.87046813964844, 133.7571258544922, 114.05937194824219, 67.11859893798828, 72.3602066040039, 243.8525390625, 131.8441162109375, 236.24893188476562, 120.81715393066406, 74.20928955078125, 46.54184341430664, 41.12773132324219, 31.68626594543457, 31.526569366455078, 31.44428253173828, 29.52312469482422, 43.82711410522461, 28.19365692138672, 27.167863845825195, 55.02680969238281, 28.60857582092285, 46.537960052490234, 23.30067253112793, 19.999013900756836, 18.499866485595703, 19.09164047241211, 20.935558319091797, 18.094228744506836, 18.132474899291992, 17.880647659301758, 19.74566650390625, 31.833087921142578, 18.314970016479492, 16.415782928466797, 17.70475196838379, 26.945138931274414, 978.9459838867188, 44.28530502319336, 39.77737808227539, 136.41981506347656, 44.97862243652344, 30.064180374145508, 41.61814498901367, 55.833885192871094, 110.80364990234375, 50.26517105102539, 58.294151306152344, 41.39487075805664, 33.69877243041992, 48.88710021972656, 40.6810302734375, 64.03547668457031, 78.31403350830078, 44.234066009521484, 44.615970611572266, 37.196807861328125, 43.444007873535156, 38.65980529785156, 134.32489013671875, 126.85680389404297, 156.4390869140625, 87.82624816894531, 61.7702751159668, 116.75315856933594, 48.40959167480469, 43.253421783447266, 74.12127685546875, 40.12348556518555, 32.30109786987305, 31.102174758911133, 36.052818298339844, 56.234256744384766, 30.68508529663086, 23.479095458984375, 23.345935821533203, 21.3410587310791, 19.562549591064453, 70.7585678100586, 52.00339126586914, 66.93138122558594, 96.67262268066406, 20.529272079467773, 14.284743309020996, 41.96488952636719, 13.148130416870117, 29.964452743530273, 11.887784957885742, 13.390605926513672, 64.6624755859375, 171.64337158203125, 56.0853157043457, 76.40401458740234, 80.94796752929688, 59.45632553100586, 81.97760009765625, 54.39889144897461, 180.39788818359375, 134.50570678710938, 69.81271362304688, 45.17190170288086, 58.10814666748047, 165.0597381591797, 197.8208770751953, 126.17112731933594, 89.52063751220703, 67.18292236328125, 57.31377410888672, 62.915225982666016, 142.2191925048828, 99.7091293334961, 99.2100830078125, 61.60149002075195, 57.984130859375, 50.02321243286133, 46.67365646362305, 35.08818435668945, 163.10513305664062, 21.42131996154785, 20.571962356567383, 20.50369644165039, 19.27147102355957, 41.40385437011719, 18.500240325927734, 19.853439331054688, 15.39095401763916, 115.8924331665039, 25.697473526000977, 13.602999687194824, 13.152140617370605, 172.70347595214844, 11.75124740600586, 17.40656089782715, 14.114058494567871, 18.916057586669922, 10.74193286895752, 51.12278366088867, 10.24406909942627, 14.354482650756836, 88.17346954345703, 34.01961898803711, 130.9263458251953, 35.36117935180664, 43.89085006713867, 32.396034240722656, 71.97026824951172, 77.90106201171875, 46.69514846801758, 52.76728820800781, 306.5443115234375, 80.54863739013672, 123.2711410522461, 122.78181457519531, 73.62303924560547, 158.82464599609375, 62.918148040771484, 166.04261779785156, 87.84408569335938, 48.5029296875, 82.12371826171875, 115.8324966430664, 46.52286148071289, 49.46816635131836, 336.5695495605469, 83.83878326416016, 78.36103820800781, 43.04570007324219, 39.40875244140625, 39.56396484375, 34.893409729003906, 29.699954986572266, 47.45182800292969, 34.29285430908203, 28.172935485839844, 24.88228416442871, 30.685745239257812, 55.57765197753906, 36.989173889160156, 186.0510711669922, 57.14181137084961, 40.93581771850586, 23.561481475830078, 23.35235595703125, 19.107370376586914, 16.88957405090332, 146.85438537597656, 15.309626579284668, 14.336532592773438, 52.914588928222656, 55.237945556640625, 14.629218101501465, 21.31201934814453, 15.77591609954834, 92.5924301147461, 36.32551193237305, 182.22735595703125, 52.01820373535156, 53.25147247314453, 53.53449630737305, 166.15017700195312, 159.48023986816406, 53.4704475402832, 51.938297271728516, 63.80524444580078, 74.27238464355469, 40.59415054321289, 128.4098358154297, 70.40299987792969, 70.41136169433594, 58.87346649169922, 70.56887817382812, 56.725830078125, 47.05404281616211, 42.06723403930664], \"Total\": [1078.0, 337.0, 770.0, 300.0, 450.0, 522.0, 490.0, 255.0, 257.0, 244.0, 238.0, 249.0, 462.0, 192.0, 191.0, 197.0, 184.0, 168.0, 157.0, 143.0, 196.0, 153.0, 350.0, 150.0, 192.0, 195.0, 522.0, 194.0, 135.0, 132.0, 300.29412841796875, 191.00289916992188, 86.86016082763672, 143.89840698242188, 67.82978057861328, 50.39048385620117, 45.1380500793457, 72.93421936035156, 36.32080078125, 35.89228057861328, 21.512928009033203, 22.481721878051758, 20.814870834350586, 19.650524139404297, 21.40763282775879, 20.573240280151367, 17.7224178314209, 17.464719772338867, 16.79098892211914, 15.890898704528809, 22.53183937072754, 18.9844970703125, 13.339007377624512, 12.523453712463379, 14.776836395263672, 11.948322296142578, 14.604442596435547, 38.66868209838867, 17.029327392578125, 10.23001766204834, 194.56130981445312, 99.12193298339844, 70.60912322998047, 450.01617431640625, 71.99288177490234, 61.05912780761719, 23.985490798950195, 522.433349609375, 47.65358352661133, 770.7673950195312, 52.97761154174805, 106.35589599609375, 462.6642150878906, 366.1158447265625, 62.881038665771484, 65.35684967041016, 69.94843292236328, 62.330108642578125, 190.4726104736328, 200.12542724609375, 233.60533142089844, 335.28515625, 175.17547607421875, 185.90765380859375, 350.0981140136719, 255.93887329101562, 79.72247314453125, 59.18352127075195, 257.3693542480469, 55.63612747192383, 150.11294555664062, 52.05819320678711, 48.178226470947266, 48.018985748291016, 77.1563720703125, 249.17715454101562, 31.139799118041992, 29.48828125, 29.220073699951172, 34.48887252807617, 27.991683959960938, 26.054519653320312, 43.683860778808594, 23.949613571166992, 22.8724365234375, 47.59064865112305, 21.08433723449707, 20.909788131713867, 54.85026550292969, 21.243797302246094, 18.180543899536133, 19.084627151489258, 16.653593063354492, 19.42336654663086, 25.8449649810791, 28.00027084350586, 64.33724975585938, 20.613759994506836, 30.434385299682617, 48.77387619018555, 98.57711029052734, 127.83673095703125, 132.07196044921875, 36.02611541748047, 522.0494384765625, 183.4764862060547, 188.8765869140625, 233.60533142089844, 39.98133087158203, 55.351436614990234, 68.3696060180664, 55.52035140991211, 186.9532928466797, 366.1158447265625, 139.33876037597656, 490.3083190917969, 443.1614685058594, 190.4726104736328, 522.433349609375, 244.9667205810547, 132.90721130371094, 238.62908935546875, 122.13054656982422, 75.06541442871094, 47.435367584228516, 41.96833419799805, 32.52976989746094, 32.36919403076172, 32.342124938964844, 30.368289947509766, 45.11235809326172, 29.035694122314453, 28.01064682006836, 56.90512466430664, 29.61061668395996, 48.204872131347656, 24.24907875061035, 20.840312957763672, 19.34320831298828, 19.963512420654297, 21.907630920410156, 18.951793670654297, 18.996557235717773, 18.74407386779785, 20.70611572265625, 33.39725875854492, 19.242673873901367, 17.259178161621094, 18.63365364074707, 28.434038162231445, 1078.9918212890625, 47.55516815185547, 42.91868209838867, 154.97991943359375, 49.57170867919922, 32.62147903442383, 47.87577819824219, 67.70882415771484, 148.98681640625, 60.33089065551758, 74.14189147949219, 49.60312271118164, 38.72488021850586, 89.76078796386719, 71.37578582763672, 240.50457763671875, 770.7673950195312, 139.33876037597656, 366.1158447265625, 102.20459747314453, 443.1614685058594, 522.0494384765625, 135.17831420898438, 127.70540618896484, 157.50111389160156, 88.6680908203125, 62.61920928955078, 118.49172973632812, 49.261409759521484, 44.096500396728516, 75.58358764648438, 41.11260986328125, 33.13516616821289, 31.939964294433594, 37.043312072753906, 57.937103271484375, 31.672056198120117, 24.311511993408203, 24.186033248901367, 22.26723289489746, 20.51272201538086, 74.27204895019531, 54.601722717285156, 70.48365020751953, 101.89083862304688, 21.641620635986328, 15.156933784484863, 44.580074310302734, 13.980010986328125, 32.058380126953125, 12.741952896118164, 14.396123886108398, 70.84349060058594, 192.0922088623047, 61.515193939208984, 85.11820983886719, 92.79275512695312, 68.24585723876953, 97.6526107788086, 62.75230026245117, 258.7017822265625, 186.90208435058594, 86.55396270751953, 52.23638916015625, 73.95135498046875, 350.0981140136719, 462.6642150878906, 240.50457763671875, 145.2226104736328, 113.8763427734375, 81.95889282226562, 770.7673950195312, 143.0624237060547, 100.8045425415039, 100.3729248046875, 62.506622314453125, 58.93468475341797, 50.89949417114258, 47.50160598754883, 36.06914520263672, 168.07688903808594, 22.25757598876953, 21.403759002685547, 21.375627517700195, 20.09772491455078, 43.23444747924805, 19.33075714111328, 20.79928207397461, 16.220394134521484, 122.15637969970703, 27.145187377929688, 14.426674842834473, 13.980081558227539, 184.443603515625, 12.576648712158203, 18.65166664123535, 15.155153274536133, 20.350101470947266, 11.5770902633667, 55.16463851928711, 11.070693969726562, 15.540379524230957, 97.01139831542969, 37.14124298095703, 155.00498962402344, 40.1612434387207, 50.82822799682617, 36.72899627685547, 86.73379516601562, 94.74847412109375, 54.555137634277344, 64.58055114746094, 490.3083190917969, 105.7597427368164, 175.17547607421875, 185.9561309814453, 111.90746307373047, 335.28515625, 102.20459747314453, 443.1614685058594, 186.9532928466797, 69.31867980957031, 185.90765380859375, 522.0494384765625, 73.29704284667969, 1078.9918212890625, 337.4767761230469, 84.6058120727539, 79.1249771118164, 43.81462097167969, 40.203556060791016, 40.40541076660156, 35.65650177001953, 30.543643951416016, 48.81538772583008, 35.31363296508789, 29.021459579467773, 25.644641876220703, 31.63715171813965, 57.41501235961914, 38.21305465698242, 192.22369384765625, 59.20039367675781, 42.54733657836914, 24.515201568603516, 24.30360221862793, 19.887754440307617, 17.652629852294922, 153.88174438476562, 16.07587242126465, 15.101608276367188, 55.76417541503906, 58.24489974975586, 15.448430061340332, 22.511072158813477, 16.667871475219727, 98.23448181152344, 38.52289962768555, 197.07232666015625, 56.146636962890625, 57.88862228393555, 58.99280548095703, 196.06646728515625, 195.440673828125, 59.72438049316406, 58.667236328125, 87.37763214111328, 112.59767150878906, 48.30826950073242, 350.0981140136719, 183.4764862060547, 188.8765869140625, 200.12542724609375, 522.0494384765625, 335.28515625, 185.9561309814453, 490.3083190917969], \"Category\": [\"Default\", \"Default\", \"Default\", \"Default\", \"Default\", \"Default\", \"Default\", \"Default\", \"Default\", \"Default\", \"Default\", \"Default\", \"Default\", \"Default\", \"Default\", \"Default\", \"Default\", \"Default\", \"Default\", \"Default\", \"Default\", \"Default\", \"Default\", \"Default\", \"Default\", \"Default\", \"Default\", \"Default\", \"Default\", \"Default\", \"Topic1\", \"Topic1\", \"Topic1\", \"Topic1\", \"Topic1\", \"Topic1\", \"Topic1\", \"Topic1\", \"Topic1\", \"Topic1\", \"Topic1\", \"Topic1\", \"Topic1\", \"Topic1\", \"Topic1\", \"Topic1\", \"Topic1\", \"Topic1\", \"Topic1\", \"Topic1\", \"Topic1\", \"Topic1\", \"Topic1\", \"Topic1\", \"Topic1\", \"Topic1\", \"Topic1\", \"Topic1\", \"Topic1\", \"Topic1\", \"Topic1\", \"Topic1\", \"Topic1\", \"Topic1\", \"Topic1\", \"Topic1\", \"Topic1\", \"Topic1\", \"Topic1\", \"Topic1\", \"Topic1\", \"Topic1\", \"Topic1\", \"Topic1\", \"Topic1\", \"Topic1\", \"Topic1\", \"Topic1\", \"Topic1\", \"Topic1\", \"Topic1\", \"Topic1\", \"Topic1\", \"Topic1\", \"Topic1\", \"Topic2\", \"Topic2\", \"Topic2\", \"Topic2\", \"Topic2\", \"Topic2\", \"Topic2\", \"Topic2\", \"Topic2\", \"Topic2\", \"Topic2\", \"Topic2\", \"Topic2\", \"Topic2\", \"Topic2\", \"Topic2\", \"Topic2\", \"Topic2\", \"Topic2\", \"Topic2\", \"Topic2\", \"Topic2\", \"Topic2\", \"Topic2\", \"Topic2\", \"Topic2\", \"Topic2\", \"Topic2\", \"Topic2\", \"Topic2\", \"Topic2\", \"Topic2\", \"Topic2\", \"Topic2\", \"Topic2\", \"Topic2\", \"Topic2\", \"Topic2\", \"Topic2\", \"Topic2\", \"Topic2\", \"Topic2\", \"Topic2\", \"Topic2\", \"Topic2\", \"Topic2\", \"Topic2\", \"Topic2\", \"Topic2\", \"Topic2\", \"Topic2\", \"Topic2\", \"Topic2\", \"Topic2\", \"Topic3\", \"Topic3\", \"Topic3\", \"Topic3\", \"Topic3\", \"Topic3\", \"Topic3\", \"Topic3\", \"Topic3\", \"Topic3\", \"Topic3\", \"Topic3\", \"Topic3\", \"Topic3\", \"Topic3\", \"Topic3\", \"Topic3\", \"Topic3\", \"Topic3\", \"Topic3\", \"Topic3\", \"Topic3\", \"Topic3\", \"Topic3\", \"Topic3\", \"Topic3\", \"Topic3\", \"Topic3\", \"Topic3\", \"Topic3\", \"Topic3\", \"Topic3\", \"Topic3\", \"Topic3\", \"Topic3\", \"Topic3\", \"Topic3\", \"Topic3\", \"Topic3\", \"Topic3\", \"Topic3\", \"Topic3\", \"Topic3\", \"Topic3\", \"Topic3\", \"Topic3\", \"Topic3\", \"Topic3\", \"Topic3\", \"Topic3\", \"Topic3\", \"Topic3\", \"Topic3\", \"Topic4\", \"Topic4\", \"Topic4\", \"Topic4\", \"Topic4\", \"Topic4\", \"Topic4\", \"Topic4\", \"Topic4\", \"Topic4\", \"Topic4\", \"Topic4\", \"Topic4\", \"Topic4\", \"Topic4\", \"Topic4\", \"Topic4\", \"Topic4\", \"Topic4\", \"Topic4\", \"Topic4\", \"Topic4\", \"Topic4\", \"Topic4\", \"Topic4\", \"Topic4\", \"Topic4\", \"Topic4\", \"Topic4\", \"Topic4\", \"Topic4\", \"Topic4\", \"Topic4\", \"Topic4\", \"Topic4\", \"Topic4\", \"Topic4\", \"Topic4\", \"Topic4\", \"Topic4\", \"Topic4\", \"Topic4\", \"Topic4\", \"Topic4\", \"Topic4\", \"Topic4\", \"Topic4\", \"Topic4\", \"Topic4\", \"Topic4\", \"Topic5\", \"Topic5\", \"Topic5\", \"Topic5\", \"Topic5\", \"Topic5\", \"Topic5\", \"Topic5\", \"Topic5\", \"Topic5\", \"Topic5\", \"Topic5\", \"Topic5\", \"Topic5\", \"Topic5\", \"Topic5\", \"Topic5\", \"Topic5\", \"Topic5\", \"Topic5\", \"Topic5\", \"Topic5\", \"Topic5\", \"Topic5\", \"Topic5\", \"Topic5\", \"Topic5\", \"Topic5\", \"Topic5\", \"Topic5\", \"Topic5\", \"Topic5\", \"Topic5\", \"Topic5\", \"Topic5\", \"Topic5\", \"Topic5\", \"Topic5\", \"Topic5\", \"Topic5\", \"Topic5\", \"Topic5\", \"Topic5\", \"Topic5\", \"Topic5\", \"Topic5\", \"Topic5\", \"Topic5\", \"Topic5\", \"Topic5\", \"Topic5\", \"Topic5\", \"Topic5\", \"Topic5\", \"Topic6\", \"Topic6\", \"Topic6\", \"Topic6\", \"Topic6\", \"Topic6\", \"Topic6\", \"Topic6\", \"Topic6\", \"Topic6\", \"Topic6\", \"Topic6\", \"Topic6\", \"Topic6\", \"Topic6\", \"Topic6\", \"Topic6\", \"Topic6\", \"Topic6\", \"Topic6\", \"Topic6\", \"Topic6\", \"Topic6\", \"Topic6\", \"Topic6\", \"Topic6\", \"Topic6\", \"Topic6\", \"Topic6\", \"Topic6\", \"Topic6\", \"Topic6\", \"Topic6\", \"Topic6\", \"Topic6\", \"Topic6\", \"Topic6\", \"Topic6\", \"Topic6\", \"Topic6\", \"Topic6\", \"Topic6\", \"Topic6\", \"Topic6\", \"Topic6\", \"Topic6\", \"Topic6\", \"Topic6\", \"Topic6\", \"Topic6\", \"Topic6\"], \"logprob\": [30.0, 29.0, 28.0, 27.0, 26.0, 25.0, 24.0, 23.0, 22.0, 21.0, 20.0, 19.0, 18.0, 17.0, 16.0, 15.0, 14.0, 13.0, 12.0, 11.0, 10.0, 9.0, 8.0, 7.0, 6.0, 5.0, 4.0, 3.0, 2.0, 1.0, -3.1331000328063965, -3.5897998809814453, -4.380300045013428, -3.8817999362945557, -4.6346001625061035, -4.932000160217285, -5.043900012969971, -4.565100193023682, -5.265600204467773, -5.285299777984619, -5.805500030517578, -5.762599945068359, -5.839700222015381, -5.900300025939941, -5.819399833679199, -5.859799861907959, -6.009900093078613, -6.025000095367432, -6.065800189971924, -6.122700214385986, -5.7779998779296875, -5.953499794006348, -6.308199882507324, -6.376100063323975, -6.213200092315674, -6.429200172424316, -6.2307000160217285, -5.261199951171875, -6.083799839019775, -6.593800067901611, -3.648699998855591, -4.333700180053711, -4.673099994659424, -2.8798000812530518, -4.677700042724609, -4.838699817657471, -5.7453999519348145, -2.838900089263916, -5.0945000648498535, -2.511399984359741, -5.018799781799316, -4.421999931335449, -3.334700107574463, -3.611999988555908, -5.013199806213379, -4.9953999519348145, -4.953199863433838, -5.092899799346924, -4.495100021362305, -4.470300197601318, -4.504700183868408, -4.350800037384033, -4.942999839782715, -4.97730016708374, -4.915299892425537, -3.188499927520752, -4.360000133514404, -4.660600185394287, -3.1910998821258545, -4.723800182342529, -3.7314000129699707, -4.790599822998047, -4.869500160217285, -4.87470006942749, -4.402400016784668, -3.235300064086914, -5.315299987792969, -5.371099948883057, -5.380499839782715, -5.21589994430542, -5.424699783325195, -5.499100208282471, -4.983799934387207, -5.585599899291992, -5.633500099182129, -4.901299953460693, -5.7179999351501465, -5.7270002365112305, -4.763199806213379, -5.7154998779296875, -5.8755998611450195, -5.827400207519531, -5.964600086212158, -5.8109002113342285, -5.525400161743164, -5.449100017547607, -4.627600193023682, -5.752799987792969, -5.3867998123168945, -4.950099945068359, -4.339200019836426, -4.123300075531006, -4.1331000328063965, -5.259099960327148, -3.1410000324249268, -4.006899833679199, -4.006899833679199, -3.924799919128418, -5.194699764251709, -4.970200061798096, -4.863399982452393, -5.008900165557861, -4.3171000480651855, -3.9465999603271484, -4.509799957275391, -3.831399917602539, -3.9907000064849854, -4.520999908447266, -4.445799827575684, -3.2095000743865967, -3.824399948120117, -3.2411999702453613, -3.911799907684326, -4.399199962615967, -4.865699768066406, -4.9893999099731445, -5.250199794769287, -5.255199909210205, -5.257900238037109, -5.320899963378906, -4.92579984664917, -5.367000102996826, -5.4039998054504395, -4.698200225830078, -5.352399826049805, -4.865799903869629, -5.557600021362305, -5.710400104522705, -5.788300037384033, -5.756800174713135, -5.664599895477295, -5.810500144958496, -5.8084001541137695, -5.822400093078613, -5.723100185394287, -5.24560022354126, -5.798399925231934, -5.907800197601318, -5.832200050354004, -5.412300109863281, -1.819599986076355, -4.91540002822876, -5.022799968719482, -3.790299892425537, -4.899899959564209, -5.302700042724609, -4.977499961853027, -4.683700084686279, -3.998300075531006, -4.78879976272583, -4.640600204467773, -4.982900142669678, -5.188600063323975, -4.8165998458862305, -5.00029993057251, -4.546599864959717, -4.345300197601318, -4.916600227355957, -4.9079999923706055, -5.089799880981445, -4.934599876403809, -5.051300048828125, -3.8046000003814697, -3.861799955368042, -3.6521999835968018, -4.229499816894531, -4.581500053405762, -3.9447999000549316, -4.825200080871582, -4.93779993057251, -4.399199962615967, -5.012899875640869, -5.229800224304199, -5.267600059509277, -5.119900226593018, -4.6753997802734375, -5.281099796295166, -5.548799991607666, -5.554500102996826, -5.644199848175049, -5.731299877166748, -4.4456000328063965, -4.753600120544434, -4.501200199127197, -4.133500099182129, -5.683000087738037, -6.0457000732421875, -4.9679999351501465, -6.128600120544434, -5.304900169372559, -6.229400157928467, -6.110300064086914, -4.535699844360352, -3.559499979019165, -4.677999973297119, -4.368800163269043, -4.311100006103516, -4.61959981918335, -4.298399925231934, -4.708499908447266, -3.509700059890747, -3.803299903869629, -4.459099769592285, -4.894400119781494, -4.642600059509277, -3.598599910736084, -3.4175000190734863, -3.8671998977661133, -4.210400104522705, -4.497499942779541, -4.656300067901611, -4.5630998611450195, -3.693700075149536, -4.048799991607666, -4.053800106048584, -4.530399799346924, -4.59089994430542, -4.73859977722168, -4.8078999519348145, -5.093200206756592, -3.5566000938415527, -5.586699962615967, -5.627099990844727, -5.63040018081665, -5.692399978637695, -4.927700042724609, -5.73330020904541, -5.662700176239014, -5.917300224304199, -3.898400068283081, -5.404600143432617, -6.0406999588012695, -6.07450008392334, -3.499500036239624, -6.187099933624268, -5.7941999435424805, -6.003900051116943, -5.710999965667725, -6.276899814605713, -4.716800212860107, -6.3242998123168945, -5.986999988555908, -4.1717000007629395, -5.124100208282471, -3.776400089263916, -5.085400104522705, -4.86929988861084, -5.172999858856201, -4.374800205230713, -4.295599937438965, -4.807400226593018, -4.685100078582764, -2.9256999492645264, -4.262199878692627, -3.836699962615967, -3.84060001373291, -4.352099895477295, -3.583199977874756, -4.509200096130371, -3.538800001144409, -4.17549991607666, -4.769400119781494, -4.242800235748291, -3.898900032043457, -4.811100006103516, -4.74970006942749, -2.8232998847961426, -4.213200092315674, -4.280799865722656, -4.879799842834473, -4.968100070953369, -4.964200019836426, -5.089799880981445, -5.250899791717529, -4.782400131225586, -5.1072001457214355, -5.303699970245361, -5.4278998374938965, -5.218299865722656, -4.624300003051758, -5.031499862670898, -3.416100025177002, -4.59660005569458, -4.930099964141846, -5.482500076293945, -5.491399765014648, -5.691999912261963, -5.815400123596191, -3.6526999473571777, -5.913599967956543, -5.979300022125244, -4.673399925231934, -4.63040018081665, -5.959099769592285, -5.582799911499023, -5.883600234985352, -4.113900184631348, -5.049600124359131, -3.436800003051758, -4.690499782562256, -4.667099952697754, -4.661799907684326, -3.5292000770568848, -3.570199966430664, -4.663000106811523, -4.691999912261963, -4.486299991607666, -4.334400177001953, -4.938499927520752, -3.786900043487549, -4.387899875640869, -4.387700080871582, -4.566699981689453, -4.385499954223633, -4.603899955749512, -4.790800094604492, -4.9028000831604], \"loglift\": [30.0, 29.0, 28.0, 27.0, 26.0, 25.0, 24.0, 23.0, 22.0, 21.0, 20.0, 19.0, 18.0, 17.0, 16.0, 15.0, 14.0, 13.0, 12.0, 11.0, 10.0, 9.0, 8.0, 7.0, 6.0, 5.0, 4.0, 3.0, 2.0, 1.0, 1.667099952697754, 1.6627999544143677, 1.6603000164031982, 1.6540000438690186, 1.6533000469207764, 1.6531000137329102, 1.6512999534606934, 1.6502000093460083, 1.6469000577926636, 1.6390999555587769, 1.6306999921798706, 1.6296000480651855, 1.6295000314712524, 1.6263999938964844, 1.6217999458312988, 1.6210999488830566, 1.6202000379562378, 1.6196999549865723, 1.6181999444961548, 1.6164000034332275, 1.611899971961975, 1.607699990272522, 1.6060999631881714, 1.601199984550476, 1.5986000299453735, 1.5951000452041626, 1.5928000211715698, 1.5886000394821167, 1.5860999822616577, 1.585800051689148, 1.5853999853134155, 1.5748000144958496, 1.5745999813079834, 1.5157999992370605, 1.5506000518798828, 1.5543999671936035, 1.5820000171661377, 1.4075000286102295, 1.5463999509811401, 1.3460999727249146, 1.5162999629974365, 1.416100025177002, 1.0332000255584717, 0.9900000095367432, 1.3504999876022339, 1.3295999765396118, 1.3040000200271606, 1.2796000242233276, 0.7602999806404114, 0.7357000112533569, 0.546500027179718, 0.3391000032424927, 0.3961000144481659, 0.30230000615119934, -0.2685999870300293, 1.771399974822998, 1.7662999629974365, 1.763700008392334, 1.7632999420166016, 1.7623000144958496, 1.7620999813079834, 1.7618999481201172, 1.7604999542236328, 1.7585999965667725, 1.756700038909912, 1.7515000104904175, 1.751099944114685, 1.7497999668121338, 1.749500036239624, 1.7483999729156494, 1.7482999563217163, 1.7455999851226807, 1.7440999746322632, 1.743299961090088, 1.7415000200271606, 1.7409000396728516, 1.7382999658584595, 1.7376999855041504, 1.7371000051498413, 1.7333999872207642, 1.7288999557495117, 1.728600025177002, 1.7275999784469604, 1.7274999618530273, 1.7273999452590942, 1.7236000299453735, 1.7130999565124512, 1.726199984550476, 1.7024999856948853, 1.6676000356674194, 1.5748000144958496, 1.5307999849319458, 1.4884999990463257, 1.6614999771118164, 1.1060999631881714, 1.2858999967575073, 1.2568999528884888, 1.1263999938964844, 1.6217999458312988, 1.5210000276565552, 1.416599988937378, 1.479200005531311, 0.9569000005722046, 0.6553999781608582, 1.0580999851226807, 0.47839999198913574, 0.420199990272522, 0.7343999743461609, -0.19939999282360077, 1.7942999601364136, 1.7907999753952026, 1.7888000011444092, 1.7879999876022339, 1.7874000072479248, 1.7798000574111938, 1.7785999774932861, 1.7726000547409058, 1.7725000381469727, 1.7706999778747559, 1.7705999612808228, 1.7698999643325806, 1.7694000005722046, 1.7683000564575195, 1.7653000354766846, 1.7644000053405762, 1.7635999917984009, 1.7589000463485718, 1.757599949836731, 1.7542999982833862, 1.7541999816894531, 1.7533999681472778, 1.752500057220459, 1.7523000240325928, 1.7517000436782837, 1.7512999773025513, 1.7509000301361084, 1.749400019645691, 1.7487000226974487, 1.7476999759674072, 1.7450000047683716, 1.7015000581741333, 1.7275999784469604, 1.7228000164031982, 1.6713000535964966, 1.7015999555587769, 1.7172000408172607, 1.6588000059127808, 1.6059999465942383, 1.5026999711990356, 1.6162999868392944, 1.55840003490448, 1.617900013923645, 1.6598000526428223, 1.1912000179290771, 1.2366000413894653, 0.4754999876022339, -0.4878000020980835, 0.6514000296592712, -0.3059999942779541, 0.788100004196167, -0.5235999822616577, -0.804099977016449, 1.7936999797821045, 1.7934000492095947, 1.7933000326156616, 1.7905000448226929, 1.7863999605178833, 1.7851999998092651, 1.7826000452041626, 1.7806999683380127, 1.780500054359436, 1.7756999731063843, 1.7745000123977661, 1.7733999490737915, 1.7728999853134155, 1.7702000141143799, 1.768399953842163, 1.7652000188827515, 1.7647000551223755, 1.7575000524520874, 1.7525999546051025, 1.7516000270843506, 1.7512999773025513, 1.7482999563217163, 1.7474000453948975, 1.7473000288009644, 1.7408000230789185, 1.7395999431610107, 1.738700032234192, 1.7324999570846558, 1.7305999994277954, 1.7275999784469604, 1.7086999416351318, 1.6875, 1.7075999975204468, 1.6920000314712524, 1.6634999513626099, 1.6620999574661255, 1.625, 1.6571999788284302, 1.4394999742507935, 1.4709999561309814, 1.5851000547409058, 1.6547000408172607, 1.558899998664856, 1.0480999946594238, 0.9503999948501587, 1.1548999547958374, 1.3162000179290771, 1.2723000049591064, 1.4422999620437622, -0.7056000232696533, 1.8480000495910645, 1.842900037765503, 1.8422000408172607, 1.8393000364303589, 1.8375999927520752, 1.8365000486373901, 1.836300015449524, 1.826300024986267, 1.823799967765808, 1.815600037574768, 1.8142000436782837, 1.8121999502182007, 1.811900019645691, 1.8106000423431396, 1.8099000453948975, 1.8072999715805054, 1.8013999462127686, 1.801200032234192, 1.7991000413894653, 1.7950999736785889, 1.792799949645996, 1.788100004196167, 1.7860000133514404, 1.7848000526428223, 1.7826999425888062, 1.7807999849319458, 1.7790000438690186, 1.7777999639511108, 1.7762999534606934, 1.7745000123977661, 1.7582999467849731, 1.7661000490188599, 1.684999942779541, 1.7266000509262085, 1.7071000337600708, 1.7282999753952026, 1.6672999858856201, 1.6581000089645386, 1.6983000040054321, 1.6518000364303589, 1.3841999769210815, 1.5815999507904053, 1.502500057220459, 1.4387999773025513, 1.4350999593734741, 1.1066999435424805, 1.3687000274658203, 0.8722000122070312, 1.0986000299453735, 1.4967999458312988, 1.0368000268936157, 0.3481999933719635, 1.3992999792099, -1.228600025177002, 1.8601000308990479, 1.853700041770935, 1.8530999422073364, 1.8451000452041626, 1.8428000211715698, 1.8417999744415283, 1.8411999940872192, 1.8348000049591064, 1.8344999551773071, 1.8335000276565552, 1.8330999612808228, 1.8325999975204468, 1.8322999477386475, 1.830299973487854, 1.830299973487854, 1.830199956893921, 1.8273999691009521, 1.8242000341415405, 1.823099970817566, 1.8229000568389893, 1.8228000402450562, 1.818600058555603, 1.816100001335144, 1.8140000104904175, 1.8107999563217163, 1.8104000091552734, 1.8098000288009644, 1.8083000183105469, 1.8080999851226807, 1.807800054550171, 1.8036999702453613, 1.8041000366210938, 1.784500002861023, 1.7863999605178833, 1.7792999744415283, 1.7656999826431274, 1.6971999406814575, 1.659500002861023, 1.7522000074386597, 1.7410000562667847, 1.5484000444412231, 1.4466999769210815, 1.6887999773025513, 0.8597999811172485, 0.9049999713897705, 0.8761000037193298, 0.6392999887466431, -0.13840000331401825, 0.08609999716281891, 0.4885999858379364, -0.5929999947547913]}, \"token.table\": {\"Topic\": [3, 5, 2, 1, 2, 3, 4, 6, 2, 4, 1, 4, 5, 5, 1, 5, 6, 3, 4, 6, 1, 3, 1, 3, 4, 2, 6, 6, 4, 5, 6, 2, 2, 4, 5, 4, 5, 4, 6, 5, 1, 4, 5, 6, 3, 6, 6, 1, 2, 4, 5, 6, 3, 1, 6, 3, 4, 5, 1, 3, 3, 2, 6, 6, 4, 1, 3, 4, 5, 6, 1, 2, 3, 4, 5, 6, 5, 1, 2, 4, 5, 6, 1, 2, 3, 4, 5, 6, 1, 2, 3, 5, 1, 2, 3, 4, 5, 6, 1, 4, 2, 1, 2, 1, 2, 3, 4, 5, 6, 1, 2, 3, 4, 1, 4, 3, 4, 3, 1, 2, 3, 4, 5, 6, 3, 3, 1, 3, 5, 2, 4, 5, 6, 1, 4, 2, 1, 2, 4, 5, 6, 3, 3, 6, 1, 2, 4, 6, 1, 2, 3, 4, 1, 6, 1, 2, 2, 6, 2, 5, 1, 2, 3, 4, 5, 1, 2, 3, 4, 5, 1, 2, 3, 4, 5, 6, 3, 5, 2, 5, 6, 1, 3, 1, 6, 4, 4, 5, 6, 1, 2, 3, 5, 6, 1, 2, 4, 5, 6, 1, 3, 4, 5, 6, 3, 1, 2, 1, 2, 1, 1, 4, 5, 1, 2, 6, 1, 2, 3, 4, 5, 6, 6, 1, 3, 1, 5, 3, 4, 1, 1, 2, 3, 4, 5, 4, 2, 4, 4, 1, 2, 3, 4, 5, 6, 1, 3, 4, 5, 6, 5, 1, 2, 3, 4, 5, 6, 1, 5, 6, 6, 6, 6, 1, 4, 1, 2, 4, 1, 1, 2, 3, 4, 5, 6, 6, 1, 2, 3, 4, 5, 6, 3, 4, 1, 2, 6, 2, 1, 3, 2, 1, 1, 2, 3, 6, 3, 1, 4, 5, 6, 6, 1, 2, 3, 4, 5, 4, 1, 2, 3, 5, 2, 6, 2, 5, 6, 5, 5, 4, 5, 6, 1, 5, 6, 1, 2, 3, 5, 6, 2, 5, 3, 4, 6, 4, 6, 2, 6, 1, 2, 4, 5, 2, 3, 5, 5, 1, 2, 3, 4, 5, 6, 3, 4, 6, 2, 3, 5, 6, 4, 2, 1, 2, 3, 5, 6, 3, 4, 3, 4, 2, 1, 2, 3, 6, 3, 2, 1, 2, 4, 6, 1, 2, 3, 4, 6, 3, 6, 4, 4, 5, 4, 4, 2, 1, 3, 6, 6, 2, 3, 6, 3, 5, 5, 4, 1, 1, 3, 6, 1, 3, 4, 6, 1, 3, 4, 5, 5, 1, 2, 4, 5, 2, 3, 5, 5, 4, 2, 3, 4, 5, 2, 3, 4, 2, 3, 5, 3, 6, 1, 1, 3, 4, 5, 3, 1, 2, 3, 3, 1, 2, 3, 4, 5, 6, 1, 2, 3, 4, 5, 6, 1, 3, 5, 5, 5, 2, 1, 4, 1, 4, 3, 1, 2, 3, 4, 5, 1, 3, 4, 1, 3, 5, 6, 2, 5, 6, 6, 1, 3, 1, 4, 3, 5, 1, 3, 4, 5, 6, 6, 2, 1, 6, 1, 1, 2, 1, 2, 4, 5, 6, 1, 2, 3, 4, 5, 6, 4, 2, 5, 1, 2, 3, 4, 5, 6, 2, 3, 4, 1, 2, 3, 4, 5, 6, 1, 3, 5, 6, 4, 6, 1, 2, 5, 6, 6, 2, 4, 6, 6, 4, 5, 1, 3, 5, 6, 2, 1, 3, 4, 5, 6, 2, 2, 3, 5, 2, 4, 5, 6, 5, 1, 1, 2, 3, 6, 2, 1, 2, 4, 6, 3, 4, 6, 6, 1, 3, 6, 2, 2, 1, 2, 2, 2, 6, 2, 3, 4, 5, 1, 4, 3, 4, 2, 3, 4, 6, 1, 2, 3, 6, 1, 2, 3, 5, 1, 3, 5, 2, 3, 4, 5, 4, 1, 2, 1, 3, 5, 6, 5, 5, 2, 5, 5, 1, 1, 1, 4, 5, 1, 2, 5, 3, 3, 1, 3, 6, 1, 3, 4, 3, 5, 3], \"Freq\": [0.9769270420074463, 0.9828895926475525, 0.943167507648468, 0.1071065366268158, 0.030601866543293, 0.010200622491538525, 0.005100311245769262, 0.8466516733169556, 0.9614534974098206, 0.022891748696565628, 0.1180446445941925, 0.019674107432365417, 0.8656607270240784, 0.9615716338157654, 0.07332031428813934, 0.8615137338638306, 0.07332031428813934, 0.9753425121307373, 0.9657413363456726, 0.9928395748138428, 0.9592370390892029, 0.9585022926330566, 0.7803986668586731, 0.06581675261259079, 0.15043829381465912, 0.02350323460996151, 0.9636325836181641, 0.982201099395752, 0.9705709218978882, 0.9336562752723694, 0.049139805138111115, 0.9267188310623169, 0.014187687076628208, 0.950575053691864, 0.028375374153256416, 0.9460538625717163, 0.9925736784934998, 0.03433777019381523, 0.9442886710166931, 0.9894402027130127, 0.017762357369065285, 0.008881178684532642, 0.31084123253822327, 0.657207190990448, 0.990743100643158, 0.008187959901988506, 0.9270535707473755, 0.014276730827987194, 0.27329742908477783, 0.002039533108472824, 0.6261366605758667, 0.08566038310527802, 0.9885942935943604, 0.966895341873169, 0.9599305987358093, 0.15484538674354553, 0.015484537929296494, 0.8206804990768433, 0.9063984751701355, 0.07081238180398941, 0.9858068823814392, 0.017417047172784805, 0.9753546714782715, 0.9815881848335266, 0.9030208587646484, 0.010148558765649796, 0.005074279382824898, 0.05074279010295868, 0.010148558765649796, 0.9235188364982605, 0.1700800061225891, 0.011596363969147205, 0.09277091175317764, 0.6957818269729614, 0.02319272793829441, 0.0077309091575443745, 0.9453806281089783, 0.2528136968612671, 0.053790148347616196, 0.22053959965705872, 0.44107919931411743, 0.026895074173808098, 0.006452448666095734, 0.006452448666095734, 0.8775330185890198, 0.05161958932876587, 0.006452448666095734, 0.05161958932876587, 0.7315400838851929, 0.015903044492006302, 0.06361217796802521, 0.19083654880523682, 0.04456288740038872, 0.18939228355884552, 0.5458953976631165, 0.10026650130748749, 0.01114072185009718, 0.10026650130748749, 0.917221188545227, 0.04169187322258949, 0.9800025224685669, 0.990097165107727, 0.9702256917953491, 0.26544567942619324, 0.01789521425962448, 0.005965071730315685, 0.06859832257032394, 0.47422319650650024, 0.17000454664230347, 0.02675197646021843, 0.12305908650159836, 0.1284094899892807, 0.7223033308982849, 0.9342462420463562, 0.9787808060646057, 0.04486309364438057, 0.9421249628067017, 0.965994119644165, 0.7239538431167603, 0.009081858210265636, 0.10119784623384476, 0.081736721098423, 0.03762483969330788, 0.04800410568714142, 0.9643303155899048, 0.951736330986023, 0.8843886852264404, 0.09826540946960449, 0.9541492462158203, 0.7020663619041443, 0.04387914761900902, 0.014626381918787956, 0.2340221107006073, 0.031193092465400696, 0.9357927441596985, 0.9645721912384033, 0.005116641987115145, 0.15349926054477692, 0.015349926427006721, 0.01023328397423029, 0.8135461211204529, 0.990821897983551, 0.016891779378056526, 0.962831437587738, 0.007571629714220762, 0.7495913505554199, 0.007571629714220762, 0.2271488904953003, 0.07574578374624252, 0.11706165969371796, 0.19280743598937988, 0.6197382211685181, 0.07124201953411102, 0.9261462688446045, 0.8797639012336731, 0.9755443930625916, 0.6104324460029602, 0.38152027130126953, 0.053848493844270706, 0.9154244065284729, 0.011553485877811909, 0.16174881160259247, 0.011553485877811909, 0.8087440133094788, 0.011553485877811909, 0.05861161649227142, 0.014652904123067856, 0.014652904123067856, 0.864521324634552, 0.04395871236920357, 0.857746958732605, 0.0066664270125329494, 0.053331416100263596, 0.06666427105665207, 0.004444284830242395, 0.011110711842775345, 0.9270429611206055, 0.9920187592506409, 0.02455868385732174, 0.949602484703064, 0.016372457146644592, 0.9582021236419678, 0.9837142825126648, 0.7005160450935364, 0.30022117495536804, 0.9912832379341125, 0.019354214891791344, 0.8451340794563293, 0.1290281116962433, 0.005949657876044512, 0.005949657876044512, 0.005949657876044512, 0.9697942733764648, 0.011899315752089024, 0.5295417308807373, 0.008645579218864441, 0.42795616388320923, 0.03242092207074165, 0.0021613948047161102, 0.04234686866402626, 0.014115623198449612, 0.9175155162811279, 0.028231246396899223, 0.014115623198449612, 0.9658982157707214, 0.974585235118866, 0.9909376502037048, 0.021012531593441963, 0.9665764570236206, 0.9636351466178894, 0.09571871161460876, 0.8614684343338013, 0.019143743440508842, 0.05551528185606003, 0.8882445096969604, 0.027757640928030014, 0.404257595539093, 0.35175660252571106, 0.005250098649412394, 0.22050414979457855, 0.010500197298824787, 0.010500197298824787, 0.9330753087997437, 0.06130930036306381, 0.9196394681930542, 0.6738316416740417, 0.30482861399650574, 0.9889824986457825, 0.008381207473576069, 0.9956904649734497, 0.7694761157035828, 0.1378166228532791, 0.007656479254364967, 0.015312958508729935, 0.07082243263721466, 0.9924652576446533, 0.9200119972229004, 0.06571514159440994, 0.923669695854187, 0.09477358311414719, 0.2572425901889801, 0.09703009575605392, 0.12185174971818924, 0.37458130717277527, 0.054156333208084106, 0.0272862296551466, 0.0136431148275733, 0.30014854669570923, 0.6412264108657837, 0.0136431148275733, 0.986321747303009, 0.16631700098514557, 0.004157925024628639, 0.2661072015762329, 0.5238985419273376, 0.008315850049257278, 0.029105475172400475, 0.9474287629127502, 0.9114466905593872, 0.05361451208591461, 0.9328742623329163, 0.9748625159263611, 0.9630293250083923, 0.013230385258793831, 0.9790485501289368, 0.9320144653320312, 0.04438164085149765, 0.9729375243186951, 0.9751400351524353, 0.026744648814201355, 0.4386122226715088, 0.010697859339416027, 0.021395718678832054, 0.4707058072090149, 0.03744250535964966, 0.9700634479522705, 0.0038310547824949026, 0.5114458203315735, 0.074705570936203, 0.05555029585957527, 0.2222011834383011, 0.13600245118141174, 0.9305591583251953, 0.9417708516120911, 0.9608514904975891, 0.02616906724870205, 0.9682555198669434, 0.9485714435577393, 0.9733909368515015, 0.9475401043891907, 0.9618564248085022, 0.9761572480201721, 0.07383203506469727, 0.134240061044693, 0.7450323700904846, 0.04027201980352402, 0.9484896659851074, 0.008935954421758652, 0.008935954421758652, 0.6612606048583984, 0.32169437408447266, 0.946361780166626, 0.9785727262496948, 0.78224778175354, 0.156449556350708, 0.04693486541509628, 0.00782247819006443, 0.9750046730041504, 0.032530270516872406, 0.0054217115975916386, 0.021686846390366554, 0.9379560947418213, 0.03586532175540924, 0.9504309892654419, 0.021108519285917282, 0.8232322335243225, 0.14775963127613068, 0.9824272990226746, 0.9704245924949646, 0.9559450745582581, 0.02692802995443344, 0.01346401497721672, 0.0816793367266655, 0.8712462186813354, 0.9553617835044861, 0.005377612542361021, 0.04302090033888817, 0.03764328733086586, 0.6614463329315186, 0.2527477741241455, 0.8503969311714172, 0.1250583678483963, 0.011748366989195347, 0.8928759098052979, 0.09398693591356277, 0.025958586484193802, 0.9345090985298157, 0.9752097725868225, 0.024079253897070885, 0.9868072867393494, 0.006949347443878651, 0.006949347443878651, 0.006949347443878651, 0.02329987660050392, 0.9319950938224792, 0.02329987660050392, 0.9841403365135193, 0.2797195315361023, 0.00570856174454093, 0.00570856174454093, 0.00570856174454093, 0.7021530866622925, 0.00570856174454093, 0.11154969781637192, 0.8605262041091919, 0.01593567058444023, 0.07746957242488861, 0.8779885172843933, 0.025823190808296204, 0.025823190808296204, 0.9298990964889526, 0.9858251810073853, 0.14877949655056, 0.0572228841483593, 0.0457783080637455, 0.011444577015936375, 0.732452929019928, 0.11854373663663864, 0.8729130029678345, 0.9603034853935242, 0.9751340746879578, 0.96730637550354, 0.9528920650482178, 0.5929797887802124, 0.031766775995492935, 0.37061238288879395, 0.958570122718811, 0.9633973240852356, 0.0946568176150322, 0.054089609533548355, 0.784299373626709, 0.06761201471090317, 0.016951220110058784, 0.016951220110058784, 0.016951220110058784, 0.03390244022011757, 0.9153658747673035, 0.14490272104740143, 0.8487159609794617, 0.9904691576957703, 0.8397113084793091, 0.15360572934150696, 0.994476318359375, 0.9743935465812683, 0.9796728491783142, 0.9871909618377686, 0.013710984960198402, 0.9814075827598572, 0.97097247838974, 0.8115473985671997, 0.16230948269367218, 0.020288685336709023, 0.9931740760803223, 0.9811360836029053, 0.943498969078064, 0.9509620666503906, 0.9586124420166016, 0.01657525636255741, 0.8287628293037415, 0.1326020509004593, 0.1961449533700943, 0.5744245052337646, 0.014010353945195675, 0.21015530824661255, 0.9206313490867615, 0.9878725409507751, 0.02312970533967018, 0.9483178853988647, 0.9703584313392639, 0.7191289067268372, 0.22950921952724457, 0.015300614759325981, 0.030601229518651962, 0.018127555027604103, 0.05438266322016716, 0.9245052933692932, 0.9918949007987976, 0.9901115298271179, 0.9021222591400146, 0.041005559265613556, 0.020502779632806778, 0.041005559265613556, 0.9325857162475586, 0.015543094836175442, 0.031086189672350883, 0.7768542766571045, 0.10839827358722687, 0.10839827358722687, 0.9960536360740662, 0.9628009796142578, 0.9877667427062988, 0.02088738977909088, 0.8772703409194946, 0.08354955911636353, 0.02088738977909088, 0.9596784710884094, 0.018231451511383057, 0.9662669897079468, 0.018231451511383057, 0.949566125869751, 0.3947524428367615, 0.1049341931939125, 0.08494672924280167, 0.05496552959084511, 0.06995613127946854, 0.2948151230812073, 0.16210271418094635, 0.7384679317474365, 0.018011413514614105, 0.018011413514614105, 0.054034240543842316, 0.018011413514614105, 0.01757310889661312, 0.9665210247039795, 0.01757310889661312, 0.9298944473266602, 0.9237781763076782, 0.9603495001792908, 0.9922508597373962, 0.9718353748321533, 0.9395555853843689, 0.058722224086523056, 0.9639191627502441, 0.3253350257873535, 0.5222483277320862, 0.1112988293170929, 0.012842172756791115, 0.02568434551358223, 0.018314439803361893, 0.018314439803361893, 0.952350914478302, 0.014769123867154121, 0.827070951461792, 0.13292211294174194, 0.029538247734308243, 0.9834415316581726, 0.957812488079071, 0.036838941276073456, 0.985782265663147, 0.8889767527580261, 0.09723183512687683, 0.8813607692718506, 0.10492390394210815, 0.8265608549118042, 0.14112015068531036, 0.005205833353102207, 0.04164666682481766, 0.8954033255577087, 0.02602916583418846, 0.031235000118613243, 0.9789844155311584, 0.9414512515068054, 0.03899097815155983, 0.9552789926528931, 0.9481420516967773, 0.003907182719558477, 0.992424488067627, 0.026344366371631622, 0.07025164365768433, 0.5883575081825256, 0.00878145545721054, 0.2985694706439972, 0.9200184941291809, 0.03597837686538696, 0.005139768123626709, 0.030838608741760254, 0.005139768123626709, 0.005139768123626709, 0.9430897831916809, 0.09959851205348969, 0.8714869618415833, 0.14281710982322693, 0.005712684243917465, 0.0028563421219587326, 0.4712964594364166, 0.008569026365876198, 0.3656117916107178, 0.00843940768390894, 0.00843940768390894, 0.9874106645584106, 0.00463395519182086, 0.012048284523189068, 0.9073284864425659, 0.026876941323280334, 0.04541276395320892, 0.0027803732082247734, 0.8494154214859009, 0.01887589879333973, 0.03775179758667946, 0.05662769451737404, 0.020485343411564827, 0.9628111720085144, 0.014426126144826412, 0.27409639954566956, 0.7068801522254944, 0.014426126144826412, 0.9648032784461975, 0.010179724544286728, 0.04071889817714691, 0.9467144012451172, 0.9798606634140015, 0.0824645385146141, 0.9071099162101746, 0.11529531329870224, 0.011529531329870224, 0.8301262259483337, 0.046118125319480896, 0.9582453370094299, 0.024402476847171783, 0.036603715270757675, 0.6954705715179443, 0.20742104947566986, 0.024402476847171783, 0.935065507888794, 0.009784295223653316, 0.3620189428329468, 0.6164106130599976, 0.017045289278030396, 0.06818115711212158, 0.017045289278030396, 0.8863550424575806, 0.9823280572891235, 0.9439365267753601, 0.05023074150085449, 0.03348716348409653, 0.016743581742048264, 0.8874098062515259, 0.9595264196395874, 0.009814425371587276, 0.019628850743174553, 0.9519992470741272, 0.019628850743174553, 0.01040454488247633, 0.02080908976495266, 0.9676226377487183, 0.9899664521217346, 0.9947493076324463, 0.005235522519797087, 0.9985872507095337, 0.9564898610115051, 0.9787794947624207, 0.012960691936314106, 0.9850125908851624, 0.9607536196708679, 0.9642763733863831, 0.03571394085884094, 0.48801925778388977, 0.3157771825790405, 0.1865956038236618, 0.00717675406485796, 0.017260096967220306, 0.9665654301643372, 0.9581624865531921, 0.029942577704787254, 0.9885662794113159, 0.9252411723136902, 0.04205641895532608, 0.02102820947766304, 0.9309859275817871, 0.025860721245408058, 0.025860721245408058, 0.025860721245408058, 0.5080358982086182, 0.3250337243080139, 0.12291191518306732, 0.04370201379060745, 0.02017279714345932, 0.90777587890625, 0.06051839143037796, 0.026975303888320923, 0.7822837829589844, 0.16185182332992554, 0.026975303888320923, 0.9703524708747864, 0.013323301449418068, 0.9859243035316467, 0.009455393999814987, 0.20801866054534912, 0.7658869028091431, 0.018910787999629974, 0.9501523971557617, 0.9032857418060303, 0.0643484964966774, 0.90087890625, 0.9247617721557617, 0.9721366167068481, 0.9747873544692993, 0.04876843839883804, 0.9103441834449768, 0.03251229226589203, 0.007770932745188475, 0.986908495426178, 0.0038854663725942373, 0.9793784618377686, 0.9354209303855896, 0.01727455109357834, 0.051823657006025314, 0.9155512452125549, 0.9079726338386536, 0.04035433754324913, 0.04035433754324913, 0.9750051498413086, 0.020744791254401207, 0.9497781991958618], \"Term\": [\"access\", \"account\", \"actual\", \"add\", \"add\", \"add\", \"add\", \"add\", \"admin\", \"admin\", \"agent\", \"agent\", \"agent\", \"amazon\", \"ansible\", \"ansible\", \"ansible\", \"api\", \"app\", \"apply\", \"apps\", \"args\", \"available\", \"available\", \"available\", \"back\", \"back\", \"background\", \"become\", \"boot\", \"boot\", \"bootstrap\", \"build\", \"build\", \"build\", \"builds\", \"ca\", \"catalog\", \"catalog\", \"cert\", \"certificate\", \"certificate\", \"certificate\", \"certificate\", \"certificates\", \"certificates\", \"changes\", \"check\", \"check\", \"check\", \"check\", \"check\", \"checking\", \"checks\", \"chronyd\", \"cis\", \"cis\", \"cis\", \"clean\", \"clean\", \"cli\", \"command\", \"command\", \"common\", \"compile\", \"complete\", \"complete\", \"complete\", \"complete\", \"complete\", \"config\", \"config\", \"config\", \"config\", \"config\", \"config\", \"configs\", \"configuration\", \"configuration\", \"configuration\", \"configuration\", \"configuration\", \"configure\", \"configure\", \"configure\", \"configure\", \"configure\", \"configure\", \"configured\", \"configured\", \"configured\", \"configured\", \"container\", \"container\", \"container\", \"container\", \"container\", \"container\", \"containerized\", \"containerized\", \"containers\", \"content\", \"convert\", \"copy\", \"copy\", \"copy\", \"copy\", \"copy\", \"copy\", \"copying\", \"copying\", \"copying\", \"copying\", \"cores\", \"correct\", \"count\", \"count\", \"cpu\", \"create\", \"create\", \"create\", \"create\", \"create\", \"create\", \"credentials\", \"crontab\", \"current\", \"current\", \"currently\", \"db\", \"db\", \"db\", \"db\", \"debian\", \"debian\", \"debug\", \"default\", \"default\", \"default\", \"default\", \"default\", \"defaults\", \"define\", \"define\", \"delete\", \"delete\", \"delete\", \"delete\", \"deploy\", \"deploy\", \"deploy\", \"deploy\", \"deployed\", \"deployed\", \"destination\", \"detect\", \"developers\", \"developers\", \"device\", \"device\", \"dir\", \"dir\", \"dir\", \"dir\", \"dir\", \"directories\", \"directories\", \"directories\", \"directories\", \"directories\", \"directory\", \"directory\", \"directory\", \"directory\", \"directory\", \"directory\", \"disk\", \"distribution\", \"docker\", \"docker\", \"docker\", \"documentation\", \"downloaded\", \"drop\", \"drop\", \"elasticsearch\", \"enable\", \"enable\", \"enable\", \"enabled\", \"enabled\", \"enabled\", \"enabled\", \"enabled\", \"ensure\", \"ensure\", \"ensure\", \"ensure\", \"ensure\", \"ensuring\", \"ensuring\", \"ensuring\", \"ensuring\", \"ensuring\", \"entry\", \"env\", \"environment\", \"error\", \"error\", \"execute\", \"exist\", \"exist\", \"exist\", \"existing\", \"existing\", \"existing\", \"exists\", \"exists\", \"exists\", \"exists\", \"exists\", \"exists\", \"expose\", \"extra\", \"extra\", \"extract\", \"extract\", \"fact\", \"fact\", \"facts\", \"fail\", \"fail\", \"fail\", \"fail\", \"fail\", \"failed\", \"failure\", \"failure\", \"family\", \"file\", \"file\", \"file\", \"file\", \"file\", \"file\", \"filebeat\", \"filebeat\", \"filebeat\", \"filebeat\", \"filebeat\", \"filename\", \"files\", \"files\", \"files\", \"files\", \"files\", \"files\", \"filter\", \"firewall\", \"firewall\", \"firewalld\", \"fix\", \"flush\", \"folder\", \"folder\", \"folders\", \"folders\", \"following\", \"gather\", \"generate\", \"generate\", \"generate\", \"generate\", \"generate\", \"generate\", \"generated\", \"get\", \"get\", \"get\", \"get\", \"get\", \"get\", \"git\", \"github\", \"global\", \"go\", \"go\", \"guid\", \"ha\", \"handlers\", \"hash\", \"home\", \"host\", \"host\", \"host\", \"host\", \"hostname\", \"hosts\", \"hosts\", \"hosts\", \"hosts\", \"html\", \"identify\", \"image\", \"image\", \"image\", \"image\", \"importing\", \"install\", \"install\", \"install\", \"install\", \"installation\", \"installation\", \"installing\", \"installing\", \"installing\", \"integration\", \"interface\", \"inventory\", \"inventory\", \"inventory\", \"ip\", \"ip\", \"kafka\", \"key\", \"key\", \"key\", \"key\", \"key\", \"keys\", \"keys\", \"kibana\", \"kibana\", \"kibana\", \"label\", \"label\", \"lack\", \"lack\", \"legacy\", \"legacy\", \"legacy\", \"legacy\", \"limit\", \"limit\", \"limit\", \"linux\", \"list\", \"list\", \"list\", \"list\", \"list\", \"list\", \"local\", \"local\", \"local\", \"log\", \"log\", \"log\", \"log\", \"logstash\", \"lookup\", \"make\", \"make\", \"make\", \"make\", \"make\", \"master\", \"master\", \"min\", \"missing\", \"mode\", \"modify\", \"molecule\", \"molecule\", \"molecule\", \"monitoring\", \"move\", \"name\", \"name\", \"name\", \"name\", \"namespace\", \"namespace\", \"namespace\", \"namespace\", \"namespace\", \"neutron\", \"neutron\", \"node\", \"nodes\", \"nodes\", \"nova\", \"number\", \"oc\", \"old\", \"old\", \"openstack\", \"original\", \"output\", \"output\", \"output\", \"overcloud\", \"ovs\", \"pacemaker\", \"parameter\", \"passed\", \"password\", \"password\", \"password\", \"path\", \"path\", \"path\", \"path\", \"per\", \"permission\", \"permissions\", \"permissions\", \"place\", \"playbook\", \"playbook\", \"playbook\", \"playbook\", \"plugin\", \"plugin\", \"plugin\", \"podman\", \"point\", \"policy\", \"policy\", \"policy\", \"policy\", \"pool\", \"pool\", \"pool\", \"pools\", \"pools\", \"pools\", \"populate\", \"prefix\", \"prepare\", \"present\", \"present\", \"present\", \"present\", \"previous\", \"principal\", \"principal\", \"principal\", \"print\", \"project\", \"project\", \"project\", \"project\", \"project\", \"project\", \"projects\", \"projects\", \"projects\", \"projects\", \"projects\", \"projects\", \"provided\", \"provided\", \"provided\", \"pub\", \"public\", \"pv\", \"rabbitmq\", \"ready\", \"redhat\", \"redhat\", \"register\", \"remove\", \"remove\", \"remove\", \"remove\", \"remove\", \"removing\", \"removing\", \"removing\", \"repo\", \"repo\", \"repo\", \"repo\", \"report\", \"repos\", \"repos\", \"repositories\", \"repository\", \"repository\", \"requested\", \"requested\", \"resources\", \"resources\", \"restart\", \"restart\", \"restart\", \"restart\", \"restart\", \"resume\", \"rhel\", \"role\", \"role\", \"rules\", \"run\", \"run\", \"running\", \"running\", \"running\", \"running\", \"running\", \"script\", \"script\", \"script\", \"script\", \"script\", \"script\", \"secret\", \"security\", \"security\", \"service\", \"service\", \"service\", \"service\", \"service\", \"service\", \"services\", \"services\", \"services\", \"set\", \"set\", \"set\", \"set\", \"set\", \"set\", \"setting\", \"setting\", \"setting\", \"setting\", \"settings\", \"settings\", \"setup\", \"setup\", \"setup\", \"setup\", \"skipped\", \"software\", \"software\", \"software\", \"specified\", \"ssh\", \"ssh\", \"ssl\", \"ssl\", \"ssl\", \"ssl\", \"stack\", \"started\", \"started\", \"started\", \"started\", \"started\", \"stats\", \"status\", \"status\", \"status\", \"step\", \"step\", \"step\", \"step\", \"successful\", \"support\", \"sure\", \"sure\", \"sure\", \"sure\", \"sync\", \"systemd\", \"systemd\", \"systemd\", \"systemd\", \"tasks\", \"tasks\", \"tasks\", \"tempest\", \"test\", \"test\", \"testing\", \"tests\", \"timeout\", \"tree\", \"tree\", \"try\", \"ubuntu\", \"ubuntu\", \"undercloud\", \"undercloud\", \"undercloud\", \"undercloud\", \"unit\", \"unit\", \"updated\", \"updated\", \"upgrade\", \"url\", \"url\", \"url\", \"usable\", \"usable\", \"usable\", \"usable\", \"user\", \"user\", \"user\", \"user\", \"using\", \"using\", \"using\", \"value\", \"value\", \"value\", \"value\", \"values\", \"verify\", \"verify\", \"version\", \"version\", \"version\", \"version\", \"via\", \"virtual\", \"vm\", \"vm\", \"vms\", \"vols\", \"volumes\", \"wait\", \"wait\", \"wait\", \"warn\", \"warn\", \"warn\", \"without\", \"working\", \"workload\", \"workload\", \"workload\", \"workspace\", \"workspace\", \"workspace\", \"write\", \"write\", \"zuul\"]}, \"R\": 30, \"lambda.step\": 0.01, \"plot.opts\": {\"xlab\": \"PC1\", \"ylab\": \"PC2\"}, \"topic.order\": [5, 2, 4, 1, 3, 6]};\n",
       "\n",
       "function LDAvis_load_lib(url, callback){\n",
       "  var s = document.createElement('script');\n",
       "  s.src = url;\n",
       "  s.async = true;\n",
       "  s.onreadystatechange = s.onload = callback;\n",
       "  s.onerror = function(){console.warn(\"failed to load library \" + url);};\n",
       "  document.getElementsByTagName(\"head\")[0].appendChild(s);\n",
       "}\n",
       "\n",
       "if(typeof(LDAvis) !== \"undefined\"){\n",
       "   // already loaded: just create the visualization\n",
       "   !function(LDAvis){\n",
       "       new LDAvis(\"#\" + \"ldavis_el198081144914965207370284195\", ldavis_el198081144914965207370284195_data);\n",
       "   }(LDAvis);\n",
       "}else if(typeof define === \"function\" && define.amd){\n",
       "   // require.js is available: use it to load d3/LDAvis\n",
       "   require.config({paths: {d3: \"https://cdnjs.cloudflare.com/ajax/libs/d3/3.5.5/d3.min\"}});\n",
       "   require([\"d3\"], function(d3){\n",
       "      window.d3 = d3;\n",
       "      LDAvis_load_lib(\"https://cdn.rawgit.com/bmabey/pyLDAvis/files/ldavis.v1.0.0.js\", function(){\n",
       "        new LDAvis(\"#\" + \"ldavis_el198081144914965207370284195\", ldavis_el198081144914965207370284195_data);\n",
       "      });\n",
       "    });\n",
       "}else{\n",
       "    // require.js not available: dynamically load d3 & LDAvis\n",
       "    LDAvis_load_lib(\"https://cdnjs.cloudflare.com/ajax/libs/d3/3.5.5/d3.min.js\", function(){\n",
       "         LDAvis_load_lib(\"https://cdn.rawgit.com/bmabey/pyLDAvis/files/ldavis.v1.0.0.js\", function(){\n",
       "                 new LDAvis(\"#\" + \"ldavis_el198081144914965207370284195\", ldavis_el198081144914965207370284195_data);\n",
       "            })\n",
       "         });\n",
       "}\n",
       "</script>"
      ],
      "text/plain": [
       "PreparedData(topic_coordinates=              x         y  topics  cluster       Freq\n",
       "topic                                                \n",
       "4      0.103234  0.131921       1        1  18.827614\n",
       "1     -0.164185 -0.080633       2        1  16.906885\n",
       "3      0.170838 -0.260889       3        1  16.549232\n",
       "0      0.168511  0.169446       4        1  16.529551\n",
       "2     -0.088628 -0.031845       5        1  15.663092\n",
       "5     -0.189770  0.071999       6        1  15.523620, topic_info=           Term         Freq        Total Category  logprob  loglift\n",
       "20          set  1078.000000  1078.000000  Default  30.0000  30.0000\n",
       "1083    testing   337.000000   337.000000  Default  29.0000  29.0000\n",
       "3        create   770.000000   770.000000  Default  28.0000  28.0000\n",
       "794       facts   300.000000   300.000000  Default  27.0000  27.0000\n",
       "5     directory   450.000000   450.000000  Default  26.0000  26.0000\n",
       "...         ...          ...          ...      ...      ...      ...\n",
       "1217    project    58.873466   200.125427   Topic6  -4.5667   0.6393\n",
       "286         get    70.568878   522.049438   Topic6  -4.3855  -0.1384\n",
       "83         copy    56.725830   335.285156   Topic6  -4.6039   0.0861\n",
       "110         key    47.054043   185.956131   Topic6  -4.7908   0.4886\n",
       "9         check    42.067234   490.308319   Topic6  -4.9028  -0.5930\n",
       "\n",
       "[347 rows x 6 columns], token_table=      Topic      Freq       Term\n",
       "term                            \n",
       "583       3  0.976927     access\n",
       "528       5  0.982890    account\n",
       "160       2  0.943168     actual\n",
       "223       1  0.107107        add\n",
       "223       2  0.030602        add\n",
       "...     ...       ...        ...\n",
       "2152      3  0.040354  workspace\n",
       "2152      4  0.040354  workspace\n",
       "178       3  0.975005      write\n",
       "178       5  0.020745      write\n",
       "1916      3  0.949778       zuul\n",
       "\n",
       "[654 rows x 3 columns], R=30, lambda_step=0.01, plot_opts={'xlab': 'PC1', 'ylab': 'PC2'}, topic_order=[5, 2, 4, 1, 3, 6])"
      ]
     },
     "execution_count": 61,
     "metadata": {},
     "output_type": "execute_result"
    }
   ],
   "source": [
    "pyLDAvis.gensim.prepare(lda_model, corpus_1_tasks, dictionary)"
   ]
  },
  {
   "cell_type": "code",
   "execution_count": 62,
   "metadata": {
    "scrolled": false
   },
   "outputs": [
    {
     "data": {
      "text/html": [
       "\n",
       "<link rel=\"stylesheet\" type=\"text/css\" href=\"https://cdn.rawgit.com/bmabey/pyLDAvis/files/ldavis.v1.0.0.css\">\n",
       "\n",
       "\n",
       "<div id=\"ldavis_el198081144963170006919709821\"></div>\n",
       "<script type=\"text/javascript\">\n",
       "\n",
       "var ldavis_el198081144963170006919709821_data = {\"mdsDat\": {\"x\": [0.21289696470462602, -0.21615304425426066, -0.10120281514857941, 0.1084651241314291, -0.11381744106168364, 0.10981121162846828], \"y\": [0.03745036758506123, -0.12342059151370921, -0.07750960814146325, 0.06049852050760496, 0.2699362452820088, -0.16695493371950265], \"topics\": [1, 2, 3, 4, 5, 6], \"cluster\": [1, 1, 1, 1, 1, 1], \"Freq\": [17.29815673828125, 17.220855712890625, 17.158422470092773, 16.475597381591797, 16.25447654724121, 15.592500686645508]}, \"tinfo\": {\"Term\": [\"set\", \"create\", \"fail\", \"testing\", \"populate\", \"facts\", \"ensure\", \"directory\", \"check\", \"fact\", \"warn\", \"run\", \"lack\", \"test\", \"install\", \"config\", \"service\", \"node\", \"add\", \"script\", \"restart\", \"ca\", \"tasks\", \"overcloud\", \"verify\", \"configure\", \"elasticsearch\", \"certificates\", \"complete\", \"nova\", \"verify\", \"populate\", \"warn\", \"run\", \"environment\", \"containers\", \"oc\", \"timeout\", \"detect\", \"move\", \"lookup\", \"debug\", \"sync\", \"go\", \"tree\", \"pv\", \"hash\", \"guid\", \"tests\", \"admin\", \"error\", \"ubuntu\", \"back\", \"rhel\", \"convert\", \"swap\", \"command\", \"lack\", \"report\", \"bootstrap\", \"image\", \"principal\", \"upgrade\", \"existing\", \"sure\", \"pools\", \"remove\", \"delete\", \"output\", \"developers\", \"default\", \"molecule\", \"exists\", \"user\", \"get\", \"make\", \"generate\", \"check\", \"file\", \"project\", \"hiera\", \"elasticsearch\", \"failed\", \"nova\", \"services\", \"point\", \"node\", \"folder\", \"missing\", \"number\", \"app\", \"args\", \"correct\", \"disabled\", \"parameter\", \"unit\", \"local\", \"count\", \"removing\", \"importing\", \"updated\", \"logstash\", \"name\", \"inventory\", \"runs\", \"compile\", \"github\", \"build\", \"software\", \"loop\", \"counts\", \"systemd\", \"restart\", \"ensuring\", \"exist\", \"master\", \"legacy\", \"config\", \"nodes\", \"ensure\", \"copying\", \"files\", \"directories\", \"workspace\", \"dir\", \"service\", \"deploy\", \"file\", \"directory\", \"facts\", \"test\", \"rabbitmq\", \"content\", \"execute\", \"gather\", \"prepare\", \"clean\", \"home\", \"identify\", \"global\", \"old\", \"cores\", \"vols\", \"ha\", \"modify\", \"folders\", \"repository\", \"usable\", \"script\", \"documentation\", \"rules\", \"per\", \"succeed\", \"requirements\", \"based\", \"names\", \"filter\", \"rename\", \"symlink\", \"containerized\", \"fail\", \"available\", \"create\", \"directory\", \"extract\", \"database\", \"current\", \"playbook\", \"network\", \"cluster\", \"template\", \"user\", \"copy\", \"exists\", \"ensure\", \"validation\", \"project\", \"hiera\", \"list\", \"files\", \"service\", \"distribution\", \"ca\", \"podman\", \"cert\", \"successful\", \"linux\", \"filename\", \"place\", \"volume\", \"failure\", \"configs\", \"ready\", \"account\", \"ovs\", \"security\", \"amazon\", \"volumes\", \"become\", \"builds\", \"permissions\", \"vms\", \"repos\", \"install\", \"pub\", \"vm\", \"interface\", \"following\", \"request\", \"virtual\", \"ip\", \"firewall\", \"docker\", \"ssh\", \"ansible\", \"find\", \"device\", \"list\", \"check\", \"installing\", \"cis\", \"version\", \"hosts\", \"key\", \"file\", \"copy\", \"setup\", \"generate\", \"wait\", \"get\", \"status\", \"configuration\", \"plugin\", \"ssl\", \"enabled\", \"set\", \"custom\", \"certificates\", \"cli\", \"overcloud\", \"defaults\", \"fact\", \"access\", \"define\", \"downloaded\", \"permission\", \"credentials\", \"register\", \"checking\", \"write\", \"without\", \"extra\", \"previous\", \"servers\", \"zuul\", \"handlers\", \"min\", \"cpu\", \"monitoring\", \"manager\", \"print\", \"url\", \"found\", \"tenant\", \"using\", \"idempotency\", \"stack\", \"configure\", \"set\", \"present\", \"repo\", \"hostname\", \"host\", \"log\", \"password\", \"path\", \"value\", \"location\", \"undercloud\", \"container\", \"resources\", \"status\", \"get\", \"files\", \"create\", \"user\", \"file\", \"deploy\", \"testing\", \"repositories\", \"openstack\", \"generated\", \"tempest\", \"installation\", \"background\", \"settings\", \"checks\", \"skipped\", \"heat\", \"fix\", \"specified\", \"provided\", \"catalog\", \"kafka\", \"resume\", \"flush\", \"tasks\", \"certificate\", \"prefix\", \"deployed\", \"changes\", \"expose\", \"chronyd\", \"original\", \"temp\", \"firewalld\", \"add\", \"protocol\", \"apply\", \"dns\", \"drop\", \"role\", \"complete\", \"images\", \"enable\", \"setting\", \"token\", \"installed\", \"enabled\", \"service\", \"running\", \"namespace\", \"kibana\", \"start\", \"get\", \"developers\", \"molecule\", \"key\", \"copy\", \"configuration\", \"check\"], \"Freq\": [1162.0, 754.0, 505.0, 290.0, 300.0, 290.0, 464.0, 440.0, 501.0, 257.0, 248.0, 247.0, 232.0, 184.0, 196.0, 266.0, 348.0, 162.0, 176.0, 188.0, 198.0, 152.0, 162.0, 143.0, 145.0, 164.0, 139.0, 131.0, 166.0, 131.0, 144.1393280029297, 298.1880187988281, 246.93203735351562, 245.18856811523438, 76.19249725341797, 56.397525787353516, 49.46699905395508, 45.50294876098633, 45.45753479003906, 29.283321380615234, 32.35964584350586, 26.21797752380371, 24.377464294433594, 28.749679565429688, 70.81088256835938, 22.314571380615234, 21.32033920288086, 19.625267028808594, 19.454139709472656, 40.56192398071289, 44.088531494140625, 25.86271858215332, 31.87512969970703, 19.62472915649414, 18.943449020385742, 14.298340797424316, 42.66743469238281, 219.5240478515625, 26.621585845947266, 17.57373046875, 116.06515502929688, 47.308006286621094, 48.50686264038086, 32.199951171875, 42.414493560791016, 48.45589828491211, 177.61126708984375, 96.37964630126953, 76.48284149169922, 102.70341491699219, 98.04689025878906, 102.7098159790039, 101.05702209472656, 150.8164825439453, 164.81246948242188, 49.9431037902832, 82.5193862915039, 116.06026458740234, 103.2242202758789, 64.78738403320312, 48.20909881591797, 138.7416229248047, 90.6976318359375, 130.57237243652344, 120.54085540771484, 63.67539596557617, 160.1620330810547, 76.66973114013672, 44.62190628051758, 49.796607971191406, 33.35972213745117, 35.29827880859375, 31.66269874572754, 31.22519302368164, 24.108245849609375, 57.61096954345703, 62.41749954223633, 44.17572021484375, 54.0206413269043, 20.2474308013916, 35.524322509765625, 13.580863952636719, 70.11746215820312, 72.24185943603516, 22.66670036315918, 13.88422966003418, 12.309825897216797, 68.20291900634766, 66.77839660644531, 11.477702140808105, 12.802651405334473, 96.53486633300781, 181.1840362548828, 67.12886810302734, 49.42073440551758, 86.26486206054688, 123.54570007324219, 221.50550842285156, 85.17152404785156, 327.97320556640625, 139.54104614257812, 133.42857360839844, 54.29204177856445, 65.40384674072266, 61.311100006103516, 119.3772201538086, 75.94377136230469, 71.17497253417969, 60.61114501953125, 289.48724365234375, 183.2957763671875, 47.9561767578125, 82.66716766357422, 34.34941864013672, 33.705326080322266, 63.54064178466797, 66.43621063232422, 20.020496368408203, 20.90421485900879, 19.345922470092773, 67.68494415283203, 19.797096252441406, 19.042470932006836, 16.0108699798584, 15.377786636352539, 20.567270278930664, 66.1790771484375, 35.30030059814453, 176.13905334472656, 11.344319343566895, 17.12942123413086, 10.669745445251465, 14.501032829284668, 19.378454208374023, 13.841410636901855, 46.56243133544922, 13.126405715942383, 9.647148132324219, 9.477540016174316, 21.1165771484375, 436.6988525390625, 91.85228729248047, 587.789306640625, 345.2328186035156, 51.02201843261719, 17.80070686340332, 45.022857666015625, 45.610992431640625, 36.71708297729492, 42.010711669921875, 65.41524505615234, 136.94894409179688, 109.89642333984375, 73.57404327392578, 120.66661834716797, 29.553800582885742, 60.5750617980957, 37.79685974121094, 42.18213653564453, 42.9779167175293, 42.936424255371094, 106.08621215820312, 150.4588165283203, 65.61614990234375, 49.82234191894531, 53.33291244506836, 61.721256256103516, 104.93352508544922, 37.5160026550293, 31.42645835876465, 28.412870407104492, 20.567453384399414, 38.86190414428711, 19.74456787109375, 21.856353759765625, 40.618621826171875, 21.176403045654297, 45.736934661865234, 33.26741027832031, 25.33742332458496, 43.881805419921875, 16.427570343017578, 27.4144287109375, 186.24966430664062, 14.017030715942383, 15.554454803466797, 14.38198184967041, 41.98512268066406, 11.860368728637695, 10.91125202178955, 36.280845642089844, 18.277231216430664, 114.54297637939453, 90.1878662109375, 49.94254684448242, 27.509645462036133, 34.9074821472168, 137.0534210205078, 328.5941467285156, 76.18955993652344, 55.78481674194336, 79.3422622680664, 77.95693969726562, 105.35008239746094, 185.26890563964844, 147.01107788085938, 51.570068359375, 91.34030151367188, 47.45969772338867, 129.7665252685547, 60.079715728759766, 72.86064147949219, 44.014347076416016, 49.250938415527344, 55.53676223754883, 66.14447784423828, 49.61872863769531, 130.33319091796875, 80.0539321899414, 141.6884307861328, 50.24701690673828, 252.54443359375, 44.31349182128906, 40.291893005371094, 34.2008056640625, 31.861534118652344, 30.42156219482422, 29.32466697692871, 33.799503326416016, 50.31080627441406, 30.868051528930664, 33.7635383605957, 21.58518409729004, 28.866859436035156, 19.54631996154785, 19.572154998779297, 19.284170150756836, 19.18231201171875, 22.504446029663086, 16.816085815429688, 29.08917999267578, 48.47209930419922, 15.757293701171875, 16.682043075561523, 50.09392166137695, 13.037460327148438, 23.455663681030273, 152.3871307373047, 1027.40234375, 47.03947067260742, 64.31689453125, 24.403047561645508, 116.8364028930664, 36.253684997558594, 51.69916915893555, 56.99483108520508, 60.9805908203125, 30.849374771118164, 76.89653015136719, 56.04936599731445, 39.208919525146484, 47.20299530029297, 77.2608871459961, 55.905338287353516, 62.54995346069336, 47.83999252319336, 43.360774993896484, 35.594764709472656, 289.8076477050781, 66.77118682861328, 37.06049346923828, 33.93892288208008, 34.0645866394043, 47.212039947509766, 25.65645408630371, 40.87055206298828, 22.558956146240234, 24.318727493286133, 40.6470947265625, 21.423824310302734, 26.444454193115234, 73.84221649169922, 48.969886779785156, 16.482582092285156, 20.27290916442871, 14.541144371032715, 153.7247772216797, 103.07186126708984, 28.628931045532227, 46.30339813232422, 12.344679832458496, 13.042595863342285, 13.59085464477539, 12.603824615478516, 24.230985641479492, 18.306459426879883, 164.61505126953125, 13.801200866699219, 65.97676086425781, 74.43547821044922, 68.69986724853516, 117.98980712890625, 147.54441833496094, 49.206077575683594, 133.25332641601562, 50.90129089355469, 47.46490478515625, 62.84733581542969, 116.96678161621094, 181.33712768554688, 77.63383483886719, 39.289306640625, 53.87577819824219, 46.48833465576172, 108.99681091308594, 65.4874267578125, 65.49549865722656, 62.693389892578125, 55.504207611083984, 48.418548583984375, 48.095760345458984], \"Total\": [1162.0, 754.0, 505.0, 290.0, 300.0, 290.0, 464.0, 440.0, 501.0, 257.0, 248.0, 247.0, 232.0, 184.0, 196.0, 266.0, 348.0, 162.0, 176.0, 188.0, 198.0, 152.0, 162.0, 143.0, 145.0, 164.0, 139.0, 131.0, 166.0, 131.0, 145.19146728515625, 300.4442443847656, 248.98609924316406, 247.30926513671875, 77.03665924072266, 57.20002365112305, 50.308223724365234, 46.41703414916992, 46.522483825683594, 30.10357093811035, 33.348087310791016, 27.061004638671875, 25.191190719604492, 29.800546646118164, 73.40337371826172, 23.152301788330078, 22.12095069885254, 20.427200317382812, 20.259750366210938, 42.26189041137695, 45.99073791503906, 27.000886917114258, 33.361698150634766, 20.54538345336914, 19.961864471435547, 15.101872444152832, 45.11310577392578, 232.74415588378906, 28.39737892150879, 18.747329711914062, 128.7676544189453, 51.957275390625, 53.704383850097656, 34.95667266845703, 47.867515563964844, 55.516571044921875, 236.2210235595703, 124.48843383789062, 96.61712646484375, 169.06985473632812, 162.225341796875, 174.69161987304688, 189.978759765625, 365.4632263183594, 514.4154052734375, 73.35611724853516, 188.69984436035156, 501.5185852050781, 451.80047607421875, 188.62908935546875, 104.10326385498047, 139.57676696777344, 91.53751373291016, 131.85203552246094, 122.34544372558594, 64.63993835449219, 162.58953857421875, 78.03929138183594, 45.494632720947266, 50.82994842529297, 34.176937103271484, 36.378475189208984, 32.675235748291016, 32.254634857177734, 24.932361602783203, 59.723731994628906, 65.03942108154297, 46.1046257019043, 56.39752960205078, 21.159343719482422, 37.48851013183594, 14.393296241760254, 74.33438873291016, 76.77401733398438, 24.09403419494629, 14.825910568237305, 13.1461763381958, 72.8732681274414, 71.61396026611328, 12.321791648864746, 13.776878356933594, 104.81934356689453, 198.29473876953125, 73.05345916748047, 53.79057312011719, 96.71382141113281, 142.38015747070312, 266.0809326171875, 101.29902648925781, 464.88861083984375, 192.7913818359375, 249.10406494140625, 70.93339538574219, 96.42068481445312, 88.83684539794922, 348.4965515136719, 147.81993103027344, 451.80047607421875, 440.8671569824219, 290.62322998046875, 184.90408325195312, 48.7816162109375, 84.09884643554688, 35.165000915527344, 34.78080749511719, 65.87135314941406, 69.0552978515625, 20.83608627319336, 21.777976989746094, 20.15996551513672, 70.78510284423828, 20.776758193969727, 20.0194091796875, 16.923620223999023, 16.267005920410156, 21.83390998840332, 70.6080551147461, 37.72903823852539, 188.3928680419922, 12.16285514831543, 18.40634536743164, 11.59387493133545, 15.788837432861328, 21.100502014160156, 15.077014923095703, 50.850311279296875, 14.348353385925293, 10.573920249938965, 10.408364295959473, 23.332347869873047, 505.1532287597656, 104.66436004638672, 754.8798828125, 440.8671569824219, 61.25058364868164, 19.8291015625, 59.5806999206543, 63.431087493896484, 51.18394470214844, 63.05313491821289, 119.31161499023438, 365.4632263183594, 335.02020263671875, 189.978759765625, 464.88861083984375, 43.13153076171875, 188.62908935546875, 104.10326385498047, 182.4752197265625, 249.10406494140625, 348.4965515136719, 107.4709243774414, 152.5098876953125, 66.61592864990234, 50.627140045166016, 54.199005126953125, 62.781578063964844, 106.89073944091797, 38.43571853637695, 32.23102951049805, 29.224233627319336, 21.36894989013672, 40.42949295043945, 20.555431365966797, 22.756345748901367, 42.346168518066406, 22.10126304626465, 47.738433837890625, 34.797698974609375, 26.55967140197754, 46.026180267333984, 17.233558654785156, 28.776247024536133, 196.25938415527344, 14.82464599609375, 16.469778060913086, 15.311919212341309, 44.81623840332031, 12.70596981048584, 11.736239433288574, 39.05771255493164, 19.782194137573242, 129.65719604492188, 102.95018005371094, 57.26450729370117, 30.435134887695312, 39.35499572753906, 182.4752197265625, 501.5185852050781, 96.84077453613281, 67.8405990600586, 111.95052337646484, 110.86604309082031, 190.39459228515625, 451.80047607421875, 335.02020263671875, 71.84325408935547, 188.69984436035156, 66.00064849853516, 514.4154052734375, 108.46207427978516, 197.44039916992188, 57.63390350341797, 92.11858367919922, 190.53407287597656, 1162.1470947265625, 131.3928680419922, 131.6484832763672, 80.91807556152344, 143.3717498779297, 51.10519027709961, 257.52691650390625, 45.21822738647461, 41.169307708740234, 35.019412994384766, 32.6869010925293, 31.249370574951172, 30.142017364501953, 34.85844039916992, 51.89066696166992, 31.855215072631836, 34.901878356933594, 22.402740478515625, 29.960308074951172, 20.3775634765625, 20.41423988342285, 20.135448455810547, 20.030902862548828, 23.551366806030273, 17.63883399963379, 30.542144775390625, 50.993709564208984, 16.57902717590332, 17.580928802490234, 53.15028381347656, 13.875697135925293, 25.02511978149414, 164.5123748779297, 1162.1470947265625, 51.17997741699219, 71.8018798828125, 26.183609008789062, 153.70523071289062, 41.15414047241211, 63.58278274536133, 71.4029769897461, 79.19380187988281, 36.681488037109375, 137.718505859375, 92.06765747070312, 54.0057487487793, 108.46207427978516, 514.4154052734375, 249.10406494140625, 754.8798828125, 365.4632263183594, 451.80047607421875, 147.81993103027344, 290.71484375, 68.11083221435547, 37.84326171875, 34.746097564697266, 34.92612075805664, 48.549537658691406, 26.477582931518555, 42.259544372558594, 23.34172248840332, 25.16879653930664, 42.08689498901367, 22.203041076660156, 27.413089752197266, 76.61842346191406, 50.882347106933594, 17.272747039794922, 21.24820327758789, 15.321569442749023, 162.0767364501953, 109.0145492553711, 30.326398849487305, 49.100101470947266, 13.125100135803223, 13.887922286987305, 14.492496490478516, 13.441487312316895, 25.89178466796875, 19.563400268554688, 176.22378540039062, 14.82120132446289, 71.88166046142578, 81.43464660644531, 75.30303955078125, 131.81544494628906, 166.91497802734375, 57.0385627746582, 174.1832275390625, 61.02922821044922, 56.62519073486328, 84.47772216796875, 190.53407287597656, 348.4965515136719, 118.97178649902344, 49.989566802978516, 94.7542495727539, 79.30197143554688, 514.4154052734375, 169.06985473632812, 174.69161987304688, 190.39459228515625, 335.02020263671875, 197.44039916992188, 501.5185852050781], \"Category\": [\"Default\", \"Default\", \"Default\", \"Default\", \"Default\", \"Default\", \"Default\", \"Default\", \"Default\", \"Default\", \"Default\", \"Default\", \"Default\", \"Default\", \"Default\", \"Default\", \"Default\", \"Default\", \"Default\", \"Default\", \"Default\", \"Default\", \"Default\", \"Default\", \"Default\", \"Default\", \"Default\", \"Default\", \"Default\", \"Default\", \"Topic1\", \"Topic1\", \"Topic1\", \"Topic1\", \"Topic1\", \"Topic1\", \"Topic1\", \"Topic1\", \"Topic1\", \"Topic1\", \"Topic1\", \"Topic1\", \"Topic1\", \"Topic1\", \"Topic1\", \"Topic1\", \"Topic1\", \"Topic1\", \"Topic1\", \"Topic1\", \"Topic1\", \"Topic1\", \"Topic1\", \"Topic1\", \"Topic1\", \"Topic1\", \"Topic1\", \"Topic1\", \"Topic1\", \"Topic1\", \"Topic1\", \"Topic1\", \"Topic1\", \"Topic1\", \"Topic1\", \"Topic1\", \"Topic1\", \"Topic1\", \"Topic1\", \"Topic1\", \"Topic1\", \"Topic1\", \"Topic1\", \"Topic1\", \"Topic1\", \"Topic1\", \"Topic1\", \"Topic1\", \"Topic1\", \"Topic1\", \"Topic1\", \"Topic2\", \"Topic2\", \"Topic2\", \"Topic2\", \"Topic2\", \"Topic2\", \"Topic2\", \"Topic2\", \"Topic2\", \"Topic2\", \"Topic2\", \"Topic2\", \"Topic2\", \"Topic2\", \"Topic2\", \"Topic2\", \"Topic2\", \"Topic2\", \"Topic2\", \"Topic2\", \"Topic2\", \"Topic2\", \"Topic2\", \"Topic2\", \"Topic2\", \"Topic2\", \"Topic2\", \"Topic2\", \"Topic2\", \"Topic2\", \"Topic2\", \"Topic2\", \"Topic2\", \"Topic2\", \"Topic2\", \"Topic2\", \"Topic2\", \"Topic2\", \"Topic2\", \"Topic2\", \"Topic2\", \"Topic2\", \"Topic2\", \"Topic2\", \"Topic2\", \"Topic2\", \"Topic2\", \"Topic2\", \"Topic3\", \"Topic3\", \"Topic3\", \"Topic3\", \"Topic3\", \"Topic3\", \"Topic3\", \"Topic3\", \"Topic3\", \"Topic3\", \"Topic3\", \"Topic3\", \"Topic3\", \"Topic3\", \"Topic3\", \"Topic3\", \"Topic3\", \"Topic3\", \"Topic3\", \"Topic3\", \"Topic3\", \"Topic3\", \"Topic3\", \"Topic3\", \"Topic3\", \"Topic3\", \"Topic3\", \"Topic3\", \"Topic3\", \"Topic3\", \"Topic3\", \"Topic3\", \"Topic3\", \"Topic3\", \"Topic3\", \"Topic3\", \"Topic3\", \"Topic3\", \"Topic3\", \"Topic3\", \"Topic3\", \"Topic3\", \"Topic3\", \"Topic3\", \"Topic3\", \"Topic3\", \"Topic3\", \"Topic3\", \"Topic3\", \"Topic3\", \"Topic3\", \"Topic3\", \"Topic4\", \"Topic4\", \"Topic4\", \"Topic4\", \"Topic4\", \"Topic4\", \"Topic4\", \"Topic4\", \"Topic4\", \"Topic4\", \"Topic4\", \"Topic4\", \"Topic4\", \"Topic4\", \"Topic4\", \"Topic4\", \"Topic4\", \"Topic4\", \"Topic4\", \"Topic4\", \"Topic4\", \"Topic4\", \"Topic4\", \"Topic4\", \"Topic4\", \"Topic4\", \"Topic4\", \"Topic4\", \"Topic4\", \"Topic4\", \"Topic4\", \"Topic4\", \"Topic4\", \"Topic4\", \"Topic4\", \"Topic4\", \"Topic4\", \"Topic4\", \"Topic4\", \"Topic4\", \"Topic4\", \"Topic4\", \"Topic4\", \"Topic4\", \"Topic4\", \"Topic4\", \"Topic4\", \"Topic4\", \"Topic4\", \"Topic4\", \"Topic4\", \"Topic4\", \"Topic4\", \"Topic4\", \"Topic4\", \"Topic4\", \"Topic5\", \"Topic5\", \"Topic5\", \"Topic5\", \"Topic5\", \"Topic5\", \"Topic5\", \"Topic5\", \"Topic5\", \"Topic5\", \"Topic5\", \"Topic5\", \"Topic5\", \"Topic5\", \"Topic5\", \"Topic5\", \"Topic5\", \"Topic5\", \"Topic5\", \"Topic5\", \"Topic5\", \"Topic5\", \"Topic5\", \"Topic5\", \"Topic5\", \"Topic5\", \"Topic5\", \"Topic5\", \"Topic5\", \"Topic5\", \"Topic5\", \"Topic5\", \"Topic5\", \"Topic5\", \"Topic5\", \"Topic5\", \"Topic5\", \"Topic5\", \"Topic5\", \"Topic5\", \"Topic5\", \"Topic5\", \"Topic5\", \"Topic5\", \"Topic5\", \"Topic5\", \"Topic5\", \"Topic5\", \"Topic5\", \"Topic5\", \"Topic5\", \"Topic6\", \"Topic6\", \"Topic6\", \"Topic6\", \"Topic6\", \"Topic6\", \"Topic6\", \"Topic6\", \"Topic6\", \"Topic6\", \"Topic6\", \"Topic6\", \"Topic6\", \"Topic6\", \"Topic6\", \"Topic6\", \"Topic6\", \"Topic6\", \"Topic6\", \"Topic6\", \"Topic6\", \"Topic6\", \"Topic6\", \"Topic6\", \"Topic6\", \"Topic6\", \"Topic6\", \"Topic6\", \"Topic6\", \"Topic6\", \"Topic6\", \"Topic6\", \"Topic6\", \"Topic6\", \"Topic6\", \"Topic6\", \"Topic6\", \"Topic6\", \"Topic6\", \"Topic6\", \"Topic6\", \"Topic6\", \"Topic6\", \"Topic6\", \"Topic6\", \"Topic6\", \"Topic6\", \"Topic6\", \"Topic6\", \"Topic6\", \"Topic6\", \"Topic6\", \"Topic6\"], \"logprob\": [30.0, 29.0, 28.0, 27.0, 26.0, 25.0, 24.0, 23.0, 22.0, 21.0, 20.0, 19.0, 18.0, 17.0, 16.0, 15.0, 14.0, 13.0, 12.0, 11.0, 10.0, 9.0, 8.0, 7.0, 6.0, 5.0, 4.0, 3.0, 2.0, 1.0, -3.7795000076293945, -3.0525999069213867, -3.2411999702453613, -3.248300075531006, -4.417099952697754, -4.717899799346924, -4.848999977111816, -4.932600021362305, -4.933599948883057, -5.373300075531006, -5.273399829864502, -5.48390007019043, -5.556700229644775, -5.39169979095459, -4.490300178527832, -5.645100116729736, -5.690700054168701, -5.773499965667725, -5.782299995422363, -5.047500133514404, -4.964099884033203, -5.497499942779541, -5.28849983215332, -5.773499965667725, -5.808899879455566, -6.090199947357178, -4.9969000816345215, -3.3589000701904297, -5.468599796295166, -5.883900165557861, -3.9962000846862793, -4.893599987030029, -4.868599891662598, -5.27839994430542, -5.002799987792969, -4.869699954986572, -3.57069993019104, -4.182000160217285, -4.413300037384033, -4.118500232696533, -4.164899826049805, -4.1184000968933105, -4.1346001625061035, -3.734299898147583, -3.6454999446868896, -4.839399814605713, -4.337299823760986, -3.9962000846862793, -4.113399982452393, -4.57919979095459, -4.874800205230713, -3.813199996948242, -4.23829984664917, -3.8738999366760254, -3.953900098800659, -4.592100143432617, -3.6696999073028564, -4.406300067901611, -4.9475998878479, -4.837900161743164, -5.238500118255615, -5.182000160217285, -5.2906999588012695, -5.304599761962891, -5.563300132751465, -4.6921000480651855, -4.611999988555908, -4.957699775695801, -4.756499767303467, -5.737800121307373, -5.175600051879883, -6.137199878692627, -4.495699882507324, -4.465799808502197, -5.625, -6.115099906921387, -6.235499858856201, -4.523399829864502, -4.54449987411499, -6.3053998947143555, -6.196199893951416, -4.175899982452393, -3.546299934387207, -4.5391998291015625, -4.8454999923706055, -4.288400173187256, -3.9291999340057373, -3.345400094985962, -4.301199913024902, -2.952899932861328, -3.807499885559082, -3.852299928665161, -4.751500129699707, -4.565299987792969, -4.629899978637695, -3.963599920272827, -4.415900230407715, -4.4807000160217285, -4.64139986038208, -3.0741000175476074, -3.531100034713745, -4.8719000816345215, -4.327400207519531, -5.205599784851074, -5.224599838256836, -4.5904998779296875, -4.546000003814697, -5.745500087738037, -5.702300071716309, -5.779699802398682, -4.527400016784668, -5.756700038909912, -5.795499801635742, -5.968999862670898, -6.009300231933594, -5.718500137329102, -4.549900054931641, -5.178299903869629, -3.5708999633789062, -6.313499927520752, -5.901400089263916, -6.374800205230713, -6.067999839782715, -5.77810001373291, -6.11460018157959, -4.901400089263916, -6.167600154876709, -6.475599765777588, -6.493299961090088, -5.692200183868408, -2.6630001068115234, -4.2220001220703125, -2.365799903869629, -2.8980000019073486, -4.809999942779541, -5.86299991607666, -4.934999942779541, -4.922100067138672, -5.138999938964844, -5.004300117492676, -4.561500072479248, -3.8225998878479004, -4.042699813842773, -4.443900108337402, -3.949199914932251, -5.355999946594238, -4.638299942016602, -5.110000133514404, -5.000199794769287, -4.981500148773193, -4.982500076293945, -4.037399768829346, -3.6879000663757324, -4.5177998542785645, -4.793099880218506, -4.725100040435791, -4.578999996185303, -4.048299789428711, -5.0767998695373535, -5.254000186920166, -5.354800224304199, -5.6778998374938965, -5.041600227355957, -5.718699932098389, -5.617099761962891, -4.997399806976318, -5.64870023727417, -4.878699779510498, -5.197000026702881, -5.469299793243408, -4.920100212097168, -5.902599811553955, -5.390500068664551, -3.4744999408721924, -6.061299800872803, -5.957300186157227, -6.035600185394287, -4.964300155639648, -6.228400230407715, -6.311800003051758, -5.110300064086914, -5.796000003814697, -3.960700035095215, -4.199699878692627, -4.7906999588012695, -5.3871002197265625, -5.148900032043457, -3.7811999320983887, -2.9068000316619873, -4.3684000968933105, -4.680099964141846, -4.3277997970581055, -4.3454999923706055, -4.044300079345703, -3.47979998588562, -3.7111001014709473, -4.758699893951416, -4.186999797821045, -4.841700077056885, -3.835900068283081, -4.605899810791016, -4.413099765777588, -4.917099952697754, -4.804699897766113, -4.684599876403809, -4.509799957275391, -4.7972002029418945, -3.818000078201294, -4.3053998947143555, -3.734499931335449, -4.771100044250488, -3.1565001010894775, -4.8968000411987305, -4.9918999671936035, -5.155799865722656, -5.2266998291015625, -5.272900104522705, -5.309700012207031, -5.167699813842773, -4.769899845123291, -5.258399963378906, -5.168700218200684, -5.616099834442139, -5.325399875640869, -5.7153000831604, -5.714000225067139, -5.728799819946289, -5.734099864959717, -5.574399948120117, -5.865799903869629, -5.317699909210205, -4.80709981918335, -5.930799961090088, -5.873799800872803, -4.774199962615967, -6.120299816131592, -5.5329999923706055, -3.6617000102996826, -1.7532999515533447, -4.837100028991699, -4.5243000984191895, -5.4934000968933105, -3.927299976348877, -5.097599983215332, -4.742700099945068, -4.645100116729736, -4.577499866485596, -5.258999824523926, -4.345600128173828, -4.661900043487549, -5.019199848175049, -4.833600044250488, -4.34089994430542, -4.664400100708008, -4.55210018157959, -4.820199966430664, -4.918499946594238, -5.115900039672852, -2.977299928665161, -4.445199966430664, -5.033999919891357, -5.122000217437744, -5.118299961090088, -4.791900157928467, -5.401700019836426, -4.936100006103516, -5.530399799346924, -5.4552998542785645, -4.9415998458862305, -5.581999778747559, -5.371500015258789, -4.344600200653076, -4.755300045013428, -5.844200134277344, -5.637199878692627, -5.9695000648498535, -3.6113998889923096, -4.011099815368652, -5.292099952697754, -4.811299800872803, -6.133299827575684, -6.0782999992370605, -6.037099838256836, -6.112500190734863, -5.458899974822998, -5.739299774169922, -3.5429000854492188, -6.0218000411987305, -4.457200050354004, -4.336599826812744, -4.416800022125244, -3.8759000301361084, -3.652400016784668, -4.750500202178955, -3.754300117492676, -4.716599941253662, -4.786499977111816, -4.505799770355225, -3.8845999240875244, -3.446199893951416, -4.29449987411499, -4.975599765777588, -4.659800052642822, -4.807300090789795, -3.955199956893921, -4.464700222015381, -4.4644999504089355, -4.508299827575684, -4.630099773406982, -4.766600131988525, -4.7733001708984375], \"loglift\": [30.0, 29.0, 28.0, 27.0, 26.0, 25.0, 24.0, 23.0, 22.0, 21.0, 20.0, 19.0, 18.0, 17.0, 16.0, 15.0, 14.0, 13.0, 12.0, 11.0, 10.0, 9.0, 8.0, 7.0, 6.0, 5.0, 4.0, 3.0, 2.0, 1.0, 1.7473000288009644, 1.746999979019165, 1.7462999820709229, 1.746000051498413, 1.7436000108718872, 1.740399956703186, 1.7376999855041504, 1.7346999645233154, 1.7314000129699707, 1.7268999814987183, 1.7244999408721924, 1.7229000329971313, 1.7216999530792236, 1.7187000513076782, 1.7186000347137451, 1.7177000045776367, 1.7177000045776367, 1.7144999504089355, 1.7139999866485596, 1.7135000228881836, 1.7122999429702759, 1.7115000486373901, 1.7089999914169312, 1.7086999416351318, 1.7022000551223755, 1.6999000310897827, 1.698799967765808, 1.6960999965667725, 1.690000057220459, 1.6899000406265259, 1.6506999731063843, 1.6607999801635742, 1.6527999639511108, 1.6723999977111816, 1.6335999965667725, 1.618499994277954, 1.4694000482559204, 1.4987000226974487, 1.520900011062622, 1.256100058555603, 1.2510000467300415, 1.2235000133514404, 1.1232999563217163, 0.8694999814033508, 0.6162999868392944, 1.3701000213623047, 0.9273999929428101, 0.29100000858306885, 0.2782000005245209, 0.6858999729156494, 0.9847000241279602, 1.753000020980835, 1.7497999668121338, 1.7493000030517578, 1.7441999912261963, 1.74399995803833, 1.74399995803833, 1.7412999868392944, 1.7396999597549438, 1.7384999990463257, 1.7347999811172485, 1.7288999557495117, 1.7275999784469604, 1.7266000509262085, 1.7253999710083008, 1.7230000495910645, 1.717900037765503, 1.7163000106811523, 1.715999960899353, 1.715000033378601, 1.705199956893921, 1.7008999586105347, 1.700600028038025, 1.698199987411499, 1.6979999542236328, 1.6934000253677368, 1.6933000087738037, 1.6928000450134277, 1.6891000270843506, 1.688099980354309, 1.6857000589370728, 1.6766999959945679, 1.6687999963760376, 1.6744999885559082, 1.674299955368042, 1.644700050354004, 1.6172000169754028, 1.575700044631958, 1.5856000185012817, 1.4101999998092651, 1.4357999563217163, 1.1346999406814575, 1.4917000532150269, 1.37090003490448, 1.388200044631958, 0.6876999735832214, 1.093000054359436, -0.08910000324249268, -0.22519999742507935, 1.7588000297546387, 1.7539000511169434, 1.7455999851226807, 1.7454999685287476, 1.7391999959945679, 1.7312999963760376, 1.726699948310852, 1.7239999771118164, 1.7228000164031982, 1.7216999530792236, 1.721500039100647, 1.717900037765503, 1.714400053024292, 1.7127000093460083, 1.707200050354004, 1.7065000534057617, 1.7029000520706177, 1.6979000568389893, 1.6960999965667725, 1.6953999996185303, 1.6929999589920044, 1.6907999515533447, 1.6796000003814697, 1.6776000261306763, 1.6775000095367432, 1.6771999597549438, 1.6746000051498413, 1.673699975013733, 1.6710000038146973, 1.6690000295639038, 1.6628999710083008, 1.6171000003814697, 1.632099986076355, 1.5125000476837158, 1.5182000398635864, 1.5800000429153442, 1.6548000574111938, 1.4824999570846558, 1.4328999519348145, 1.4305000305175781, 1.356600046157837, 1.1617000102996826, 0.7810999751091003, 0.6480000019073486, 0.8141000270843506, 0.4138999879360199, 1.384600043296814, 0.626800000667572, 0.7494999766349792, 0.29809999465942383, 0.005499999970197678, -0.3312000036239624, 1.7903000116348267, 1.7898000478744507, 1.7882000207901, 1.7872999906539917, 1.7871999740600586, 1.7862999439239502, 1.7848000526428223, 1.779099941253662, 1.777999997138977, 1.7750999927520752, 1.7651000022888184, 1.763700008392334, 1.7630000114440918, 1.7628999948501587, 1.7616000175476074, 1.7604999542236328, 1.7604999542236328, 1.7582999467849731, 1.7561999559402466, 1.7555999755859375, 1.7553999423980713, 1.7547999620437622, 1.7509000301361084, 1.7473000288009644, 1.7460999488830566, 1.7405999898910522, 1.7380000352859497, 1.7344000339508057, 1.7303999662399292, 1.7295000553131104, 1.7242000102996826, 1.6792999505996704, 1.6708999872207642, 1.6664999723434448, 1.7022000551223755, 1.68340003490448, 1.5169999599456787, 1.3804999589920044, 1.5634000301361084, 1.6075999736785889, 1.4589999914169312, 1.4510999917984009, 1.2115000486373901, 0.911899983882904, 0.9796000123023987, 1.4716999530792236, 1.0777000188827515, 1.4735000133514404, 0.4259999990463257, 1.2125999927520752, 0.8064000010490417, 1.5336999893188477, 1.1770999431610107, 0.5705000162124634, -1.0628999471664429, 0.8295000195503235, 1.8068000078201294, 1.8061000108718872, 1.8049999475479126, 1.7999000549316406, 1.7972999811172485, 1.7965999841690063, 1.795300006866455, 1.7930999994277954, 1.791200041770935, 1.7899999618530273, 1.7892999649047852, 1.7860000133514404, 1.7858999967575073, 1.7853000164031982, 1.7835999727249146, 1.7796000242233276, 1.7796000242233276, 1.7752000093460083, 1.7747000455856323, 1.7735999822616577, 1.7734999656677246, 1.771299958229065, 1.7690000534057617, 1.7681000232696533, 1.7661000490188599, 1.7660000324249268, 1.764299988746643, 1.757599949836731, 1.7545000314712524, 1.7519999742507935, 1.7402000427246094, 1.693600058555603, 1.7323999404907227, 1.7066999673843384, 1.746399998664856, 1.5425000190734863, 1.690000057220459, 1.6098999977111816, 1.5914000272750854, 1.5555000305175781, 1.6435999870300293, 1.2340999841690063, 1.3205000162124634, 1.4966000318527222, 0.9848999977111816, -0.07900000363588333, 0.32260000705718994, -0.673799991607666, -0.21649999916553497, -0.5268999934196472, 0.3930000066757202, 1.855299949645996, 1.8385000228881836, 1.837499976158142, 1.8349000215530396, 1.833400011062622, 1.830399990081787, 1.8269000053405762, 1.8250000476837158, 1.8243000507354736, 1.8240000009536743, 1.8236000537872314, 1.822700023651123, 1.8223999738693237, 1.8214999437332153, 1.820099949836731, 1.8115999698638916, 1.811400055885315, 1.8061000108718872, 1.8055000305175781, 1.802299976348877, 1.8007999658584595, 1.7997000217437744, 1.7970999479293823, 1.7956000566482544, 1.794100046157837, 1.7940000295639038, 1.792099952697754, 1.7920000553131104, 1.7901999950408936, 1.7870999574661255, 1.7726999521255493, 1.7684999704360962, 1.7666000127792358, 1.7475999593734741, 1.7350000143051147, 1.7107000350952148, 1.590499997138977, 1.676900029182434, 1.6819000244140625, 1.562600016593933, 1.3703999519348145, 1.2051000595092773, 1.43149995803833, 1.6174999475479126, 1.2937999963760376, 1.3243000507354736, 0.3066999912261963, 0.9099000096321106, 0.8773000240325928, 0.7475000023841858, 0.060600001364946365, 0.4528000056743622, -0.4860999882221222]}, \"token.table\": {\"Topic\": [5, 4, 1, 2, 3, 4, 5, 6, 1, 2, 4, 3, 4, 6, 2, 2, 6, 2, 2, 3, 5, 1, 3, 6, 6, 3, 2, 4, 1, 1, 2, 4, 4, 5, 2, 6, 4, 2, 3, 4, 6, 5, 6, 6, 1, 2, 3, 4, 6, 5, 6, 6, 2, 4, 5, 1, 3, 5, 5, 1, 3, 4, 1, 6, 2, 1, 2, 3, 4, 5, 6, 1, 2, 3, 4, 5, 6, 4, 1, 2, 3, 4, 5, 6, 1, 2, 4, 5, 6, 1, 2, 3, 4, 5, 6, 2, 3, 1, 2, 3, 1, 1, 2, 3, 4, 5, 6, 1, 2, 3, 4, 5, 6, 3, 2, 2, 5, 2, 5, 1, 2, 3, 4, 5, 6, 5, 3, 5, 2, 3, 4, 5, 6, 3, 4, 6, 1, 1, 2, 3, 4, 6, 5, 5, 1, 2, 3, 4, 6, 1, 2, 3, 5, 3, 6, 1, 1, 6, 1, 4, 1, 2, 3, 4, 5, 1, 2, 3, 4, 5, 1, 2, 3, 4, 5, 6, 2, 4, 3, 6, 1, 4, 6, 3, 5, 3, 6, 2, 2, 4, 6, 1, 2, 3, 4, 5, 6, 1, 2, 3, 4, 6, 2, 3, 4, 5, 6, 1, 1, 3, 3, 2, 3, 4, 5, 1, 3, 6, 1, 2, 3, 4, 5, 6, 6, 5, 3, 4, 2, 5, 3, 1, 2, 3, 4, 5, 6, 2, 4, 1, 2, 3, 4, 5, 6, 3, 4, 5, 1, 2, 3, 4, 5, 6, 3, 4, 2, 4, 6, 4, 6, 6, 6, 6, 2, 1, 3, 2, 3, 4, 5, 3, 1, 2, 3, 4, 5, 6, 6, 1, 2, 3, 4, 5, 6, 2, 3, 1, 1, 3, 5, 1, 4, 6, 1, 2, 3, 5, 3, 1, 2, 3, 5, 6, 1, 5, 2, 3, 4, 5, 6, 5, 3, 1, 2, 3, 4, 5, 2, 6, 2, 1, 3, 4, 5, 6, 1, 3, 4, 5, 6, 1, 4, 4, 2, 4, 6, 3, 4, 6, 6, 1, 3, 4, 5, 6, 2, 5, 6, 1, 6, 1, 2, 3, 4, 1, 2, 3, 4, 5, 6, 2, 5, 2, 3, 4, 5, 1, 2, 3, 5, 6, 2, 1, 2, 1, 3, 4, 5, 6, 5, 1, 2, 5, 5, 2, 3, 1, 2, 3, 6, 5, 1, 1, 2, 6, 3, 6, 1, 2, 3, 5, 6, 2, 3, 5, 6, 2, 3, 2, 4, 2, 2, 1, 3, 4, 5, 6, 6, 1, 2, 3, 4, 5, 6, 2, 5, 4, 2, 1, 3, 5, 6, 2, 3, 4, 5, 6, 3, 5, 2, 4, 4, 1, 2, 3, 4, 4, 5, 4, 2, 1, 2, 4, 1, 5, 5, 6, 3, 6, 2, 3, 4, 5, 5, 1, 3, 4, 5, 6, 5, 1, 2, 3, 4, 5, 6, 6, 4, 5, 6, 4, 1, 3, 2, 4, 5, 1, 2, 3, 4, 5, 6, 2, 3, 5, 3, 1, 3, 4, 5, 6, 1, 3, 4, 6, 5, 6, 3, 4, 5, 4, 1, 3, 4, 4, 5, 2, 3, 4, 5, 6, 6, 1, 2, 3, 4, 6, 3, 1, 3, 6, 1, 2, 3, 4, 6, 2, 4, 1, 2, 3, 4, 5, 6, 1, 4, 5, 1, 2, 3, 4, 6, 1, 2, 5, 1, 2, 3, 4, 5, 6, 2, 4, 5, 6, 2, 6, 1, 3, 4, 6, 6, 1, 2, 5, 6, 6, 2, 4, 3, 4, 5, 6, 1, 5, 2, 3, 4, 6, 4, 5, 3, 4, 4, 1, 3, 5, 6, 1, 3, 1, 1, 2, 3, 4, 5, 6, 2, 3, 5, 6, 2, 6, 6, 1, 2, 3, 4, 5, 6, 5, 3, 5, 6, 1, 1, 2, 3, 5, 6, 1, 3, 1, 1, 2, 3, 4, 5, 6, 2, 3, 2, 5, 1, 4, 2, 5, 1, 3, 4, 5, 1, 3, 4, 5, 1, 4, 5, 3, 6, 1, 2, 4, 5, 1, 3, 4, 5, 6, 4, 4, 4, 3, 4, 3, 4, 2, 3, 4, 1, 3, 5, 2, 3, 5, 4, 5, 5], \"Freq\": [0.9730589389801025, 0.9729788303375244, 0.017023809254169464, 0.005674602929502726, 0.02837301418185234, 0.005674602929502726, 0.011349205859005451, 0.9363094568252563, 0.9701411724090576, 0.023661980405449867, 0.950171947479248, 0.052388470619916916, 0.8731411695480347, 0.06985129415988922, 0.9655634164810181, 0.0695587694644928, 0.9181757569313049, 0.9621074199676514, 0.08598915487527847, 0.8790002465248108, 0.02866305224597454, 0.9591838121414185, 0.029974494129419327, 0.029974494129419327, 0.9819627404212952, 0.9285658001899719, 0.02873753197491169, 0.9483385682106018, 0.9601367115974426, 0.05488981306552887, 0.9331268072128296, 0.9412767291069031, 0.983542799949646, 0.006556951906532049, 0.019653180614113808, 0.9630059003829956, 0.9876125454902649, 0.01834617555141449, 0.009173087775707245, 0.01834617555141449, 0.9448280334472656, 0.9874781370162964, 0.007595985662192106, 0.9142787456512451, 0.23129750788211823, 0.001993943937122822, 0.015951551496982574, 0.6560075879096985, 0.09570931643247604, 0.9753735065460205, 0.9853600263595581, 0.9660171270370483, 0.01474043633788824, 0.8254644274711609, 0.14740435779094696, 0.01448114775121212, 0.9557557702064514, 0.01448114775121212, 0.9886542558670044, 0.2061753123998642, 0.6661048531532288, 0.12687711417675018, 0.9531598091125488, 0.04433301463723183, 0.9442927837371826, 0.005991074256598949, 0.04193751886487007, 0.05391966551542282, 0.005991074256598949, 0.011982148513197899, 0.8866789937019348, 0.0075165098533034325, 0.8343325853347778, 0.0977146327495575, 0.015033019706606865, 0.04134080559015274, 0.0037582549266517162, 0.9827343225479126, 0.0658426582813263, 0.16713905334472656, 0.14687976241111755, 0.3697318434715271, 0.005064819473773241, 0.24311134219169617, 0.006078570149838924, 0.030392849817872047, 0.006078570149838924, 0.9239426255226135, 0.030392849817872047, 0.1520620882511139, 0.07603104412555695, 0.03258473426103592, 0.021723154932260513, 0.6082483530044556, 0.09775419533252716, 0.04285895451903343, 0.9000380039215088, 0.9790205955505371, 0.011890769936144352, 0.9869338870048523, 0.9518148899078369, 0.014924473129212856, 0.04178852587938309, 0.3283384144306183, 0.4387795031070709, 0.008954684250056744, 0.16715410351753235, 0.11929994076490402, 0.7261735200881958, 0.015560861676931381, 0.0051869540475308895, 0.12448689341545105, 0.010373908095061779, 0.9626140594482422, 0.9793349504470825, 0.9543510675430298, 0.021689796820282936, 0.9436100125312805, 0.948534369468689, 0.005298856180161238, 0.06623570621013641, 0.7789318561553955, 0.045040279626846313, 0.08345698565244675, 0.02119542472064495, 0.9600193500518799, 0.7552781105041504, 0.2349754273891449, 0.35009509325027466, 0.12938296794891357, 0.3805381655693054, 0.09132915735244751, 0.05327534303069115, 0.9077566862106323, 0.05043092742562294, 0.05043092742562294, 0.9607921242713928, 0.6040979623794556, 0.024657059460878372, 0.006164264865219593, 0.1356138288974762, 0.22807779908180237, 0.978374183177948, 0.9715976119041443, 0.7711559534072876, 0.008032875135540962, 0.008032875135540962, 0.008032875135540962, 0.1927889883518219, 0.04058992490172386, 0.5141390562057495, 0.2029496282339096, 0.24353955686092377, 0.04073311388492584, 0.9368616342544556, 0.9672742486000061, 0.6092156171798706, 0.38445648550987244, 0.10163893550634384, 0.8893406987190247, 0.21387521922588348, 0.6866520047187805, 0.0787961333990097, 0.011256590485572815, 0.011256590485572815, 0.014097732491791248, 0.7612775564193726, 0.028195464983582497, 0.18327051401138306, 0.014097732491791248, 0.009073027409613132, 0.13836367428302765, 0.7825486660003662, 0.004536513704806566, 0.054438166320323944, 0.011341284960508347, 0.9611021876335144, 0.9863132834434509, 0.07367871701717377, 0.9087041616439819, 0.10026439279317856, 0.8869542479515076, 0.015425290912389755, 0.9043928980827332, 0.9708900451660156, 0.07967805862426758, 0.9162976741790771, 0.9958677291870117, 0.022964322939515114, 0.20093783736228943, 0.7635637521743774, 0.015745215117931366, 0.005248405039310455, 0.06298086047172546, 0.2939106822013855, 0.015745215117931366, 0.6140633821487427, 0.023661581799387932, 0.7055453658103943, 0.2602773904800415, 0.00860421173274517, 0.0021510529331862926, 0.9171366095542908, 0.013688605278730392, 0.04106581583619118, 0.013688605278730392, 0.013688605278730392, 0.9865432977676392, 0.956714391708374, 0.02174350805580616, 0.9668704271316528, 0.9109402894973755, 0.018590617924928665, 0.03718123584985733, 0.018590617924928665, 0.9154189229011536, 0.02860684134066105, 0.0572136826813221, 0.5316383838653564, 0.05263746157288551, 0.389517217874527, 0.010527492500841618, 0.005263746250420809, 0.010527492500841618, 0.936065137386322, 0.9741595983505249, 0.8326451182365417, 0.14693737030029297, 0.015532356686890125, 0.9824215769767761, 0.9944146871566772, 0.07918389141559601, 0.00791838951408863, 0.8650840520858765, 0.039591945707798004, 0.00791838951408863, 0.0019795973785221577, 0.9941279292106628, 0.9581089615821838, 0.2279767394065857, 0.15714901685714722, 0.05754752829670906, 0.409472793340683, 0.09517475217580795, 0.050907429307699203, 0.009355347603559494, 0.982311487197876, 0.009355347603559494, 0.012043159455060959, 0.5339134335517883, 0.17261862754821777, 0.008028772659599781, 0.22480563819408417, 0.04415825009346008, 0.9060273170471191, 0.0696944072842598, 0.032856762409210205, 0.9199893474578857, 0.032856762409210205, 0.909909188747406, 0.05055050924420357, 0.9200854301452637, 0.9458163976669312, 0.9790119528770447, 0.9866824746131897, 0.04580031707882881, 0.9618066549301147, 0.02231334149837494, 0.02231334149837494, 0.937160313129425, 0.9650747179985046, 0.9775506258010864, 0.4398519694805145, 0.010598842985928059, 0.03709594905376434, 0.48224735260009766, 0.015898264944553375, 0.010598842985928059, 0.9785271286964417, 0.32075244188308716, 0.052486762404441833, 0.01360767986625433, 0.25271403789520264, 0.14968447387218475, 0.21189101040363312, 0.9128129482269287, 0.9424619078636169, 0.9731364846229553, 0.979086697101593, 0.9454241991043091, 0.9797083139419556, 0.9493262767791748, 0.023760365322232246, 0.974174976348877, 0.4610806405544281, 0.10566431283950806, 0.3650221824645996, 0.05763508006930351, 0.9598731398582458, 0.01301191933453083, 0.006505959667265415, 0.20168474316596985, 0.7611972689628601, 0.01951787807047367, 0.03819183260202408, 0.9166039824485779, 0.009019894525408745, 0.009019894525408745, 0.7035517692565918, 0.045099470764398575, 0.23451726138591766, 0.9368898868560791, 0.964276909828186, 0.9008473753929138, 0.03882962837815285, 0.015531850978732109, 0.015531850978732109, 0.02329777553677559, 0.12272398918867111, 0.8590679168701172, 0.9452089071273804, 0.005095297936350107, 0.010190595872700214, 0.9477253556251526, 0.03566708415746689, 0.968083381652832, 0.10653696209192276, 0.03551232069730759, 0.02367488108575344, 0.08286207914352417, 0.7457587718963623, 0.2065245807170868, 0.7847933769226074, 0.9143204092979431, 0.9378172755241394, 0.03907572105526924, 0.013025240041315556, 0.02560313791036606, 0.9217129349708557, 0.02560313791036606, 0.9263147115707397, 0.06302700191736221, 0.005252250004559755, 0.5514862537384033, 0.04727024957537651, 0.33089175820350647, 0.4115910530090332, 0.010553616099059582, 0.5698952674865723, 0.9452439546585083, 0.051558759063482285, 0.007023450452834368, 0.8709078431129456, 0.11939866095781326, 0.9875508546829224, 0.005480196326971054, 0.005480196326971054, 0.23016823828220367, 0.7507869005203247, 0.005480196326971054, 0.005480196326971054, 0.9532679915428162, 0.030750581994652748, 0.05452341586351395, 0.027261707931756973, 0.08178512006998062, 0.8451129198074341, 0.07289667427539825, 0.02429889142513275, 0.02429889142513275, 0.874760091304779, 0.02429889142513275, 0.9726750254631042, 0.9595752954483032, 0.8927273154258728, 0.6816064119338989, 0.19084979593753815, 0.02726425603032112, 0.04089638590812683, 0.06816063821315765, 0.963782548904419, 0.020679567009210587, 0.8892214298248291, 0.0723784863948822, 0.9436094760894775, 0.9891276955604553, 0.9221119284629822, 0.5896103978157043, 0.017173118889331818, 0.017173118889331818, 0.37208425998687744, 0.9765887260437012, 0.9633408784866333, 0.026905447244644165, 0.9416906833648682, 0.026905447244644165, 0.9242814779281616, 0.07866225391626358, 0.06001252308487892, 0.06001252308487892, 0.04000834748148918, 0.04000834748148918, 0.7801628112792969, 0.11722426116466522, 0.7228829264640808, 0.1367616355419159, 0.01953737623989582, 0.9840731620788574, 0.012300914153456688, 0.8390998840332031, 0.14807644486427307, 0.993537962436676, 0.9836720824241638, 0.9739958047866821, 0.9606541395187378, 0.02825453318655491, 0.014127266593277454, 0.9777169823646545, 0.967154860496521, 0.7866100072860718, 0.010350131429731846, 0.02070026285946369, 0.010350131429731846, 0.15525197982788086, 0.010350131429731846, 0.006974874995648861, 0.9904322028160095, 0.9667633175849915, 0.9626043438911438, 0.047182586044073105, 0.01572752743959427, 0.8178314566612244, 0.12582021951675415, 0.014005018398165703, 0.014005018398165703, 0.014005018398165703, 0.7982860207557678, 0.15405520796775818, 0.9487768411636353, 0.9789854288101196, 0.021726764738559723, 0.9559776782989502, 0.9886637330055237, 0.204946830868721, 0.01576513983309269, 0.7251964807510376, 0.04729542136192322, 0.7634395360946655, 0.22556167840957642, 0.9907540082931519, 0.9900999665260315, 0.8646067380905151, 0.0180126391351223, 0.10807584226131439, 0.9918645620346069, 0.0033284046221524477, 0.032974570989608765, 0.9562625885009766, 0.9715908169746399, 0.030362213030457497, 0.03907778114080429, 0.019538890570402145, 0.019538890570402145, 0.9183278679847717, 0.9820227026939392, 0.9045894145965576, 0.038493163883686066, 0.019246581941843033, 0.019246581941843033, 0.019246581941843033, 0.9495076537132263, 0.34459158778190613, 0.03180845454335213, 0.32338595390319824, 0.15374086797237396, 0.10072677582502365, 0.04771268367767334, 0.9445927739143372, 0.013051691465079784, 0.013051691465079784, 0.9658251404762268, 0.9443733096122742, 0.9502294659614563, 0.9839772582054138, 0.024734418839216232, 0.964642345905304, 0.9621121287345886, 0.7535315752029419, 0.05079988017678261, 0.07619982212781906, 0.03386658802628517, 0.08466646820306778, 0.0042333235032856464, 0.9574887752532959, 0.01773127354681492, 0.01773127354681492, 0.9457230567932129, 0.013927211984992027, 0.013927211984992027, 0.06963606178760529, 0.8913415670394897, 0.013927211984992027, 0.9507919549942017, 0.03521451726555824, 0.9382738471031189, 0.03475088253617287, 0.014681952074170113, 0.9836907982826233, 0.9347375631332397, 0.014162690378725529, 0.04248806834220886, 0.9444379210472107, 0.047392237931489944, 0.9004524946212769, 0.047392237931489944, 0.25923165678977966, 0.7221453189849854, 0.9127826690673828, 0.005042998120188713, 0.01512899436056614, 0.025214990600943565, 0.040343984961509705, 0.941256046295166, 0.9734547138214111, 0.030345458537340164, 0.0682772770524025, 0.007586364634335041, 0.8951910138130188, 0.9235945343971252, 0.9906624555587769, 0.004043519962579012, 0.004043519962579012, 0.07564818859100342, 0.01681070774793625, 0.22694456577301025, 0.025216061621904373, 0.6556175947189331, 0.9545931220054626, 0.04150405153632164, 0.01592417061328888, 0.03184834122657776, 0.9342179298400879, 0.005308056715875864, 0.005308056715875864, 0.005308056715875864, 0.02361488714814186, 0.9682103991508484, 0.9679473042488098, 0.008608406409621239, 0.3414667844772339, 0.1233871579170227, 0.005738937761634588, 0.5193738341331482, 0.00817357748746872, 0.9890028834342957, 0.00817357748746872, 0.008604763075709343, 0.043023813515901566, 0.0034419051371514797, 0.056791432201862335, 0.8837091326713562, 0.0034419051371514797, 0.04915677383542061, 0.09831354767084122, 0.01638559065759182, 0.8356651663780212, 0.023663293570280075, 0.9701950550079346, 0.2505454421043396, 0.013919191434979439, 0.7237979769706726, 0.013919191434979439, 0.9535616636276245, 0.013963758014142513, 0.9355717897415161, 0.013963758014142513, 0.027927516028285027, 0.9484519958496094, 0.11656123399734497, 0.8742092251777649, 0.1519780158996582, 0.5319230556488037, 0.05427786335349083, 0.24967817962169647, 0.039959847927093506, 0.9190765023231506, 0.012610026635229588, 0.2774205803871155, 0.12610027194023132, 0.5800612568855286, 0.5531887412071228, 0.4333311915397644, 0.9500382542610168, 0.06333588808774948, 0.9778777360916138, 0.8774217367172241, 0.041781987994909286, 0.020890993997454643, 0.041781987994909286, 0.9270373582839966, 0.8646891713142395, 0.9527140259742737, 0.047701120376586914, 0.9254016876220703, 0.009540223516523838, 0.009540223516523838, 0.009540223516523838, 0.009540223516523838, 0.030849585309624672, 0.006169917061924934, 0.012339834123849869, 0.950167179107666, 0.03862228989601135, 0.9269349575042725, 0.9734834432601929, 0.008381413295865059, 0.025144241750240326, 0.5447918772697449, 0.25144240260124207, 0.05028848350048065, 0.11733978986740112, 0.9669568538665771, 0.9897023439407349, 0.005408209282904863, 0.997541069984436, 0.9378200173377991, 0.9910154938697815, 0.035319969058036804, 0.017659984529018402, 0.12361989170312881, 0.8300192952156067, 0.9672579765319824, 0.027246704325079918, 0.9629313349723816, 0.29044753313064575, 0.11617901176214218, 0.029044752940535545, 0.007261188235133886, 0.559111475944519, 0.007261188235133886, 0.9711382389068604, 0.01674376241862774, 0.960294246673584, 0.026674840599298477, 0.9124022126197815, 0.09310226887464523, 0.039220523089170456, 0.9412925839424133, 0.02650478295981884, 0.9276674389839172, 0.02650478295981884, 0.02650478295981884, 0.41317427158355713, 0.3748667240142822, 0.07935135066509247, 0.1313401609659195, 0.0188145749270916, 0.0188145749270916, 0.9407287240028381, 0.6955468654632568, 0.30140364170074463, 0.025254501029849052, 0.18940876424312592, 0.012627250514924526, 0.7702623009681702, 0.9917938113212585, 0.00893251784145832, 0.7056688666343689, 0.26797550916671753, 0.00893251784145832, 0.9372678399085999, 0.9714763760566711, 0.928421139717102, 0.9490789771080017, 0.961806058883667, 0.02094748243689537, 0.9635841846466064, 0.015151366591453552, 0.2575732171535492, 0.7121142148971558, 0.992023229598999, 0.004016288556158543, 0.9731530547142029, 0.6741291880607605, 0.2696516811847687, 0.04148487374186516, 0.019271288067102432, 0.963564395904541, 0.981471598148346], \"Term\": [\"access\", \"account\", \"add\", \"add\", \"add\", \"add\", \"add\", \"add\", \"admin\", \"admin\", \"amazon\", \"ansible\", \"ansible\", \"ansible\", \"app\", \"apply\", \"apply\", \"args\", \"available\", \"available\", \"available\", \"back\", \"back\", \"back\", \"background\", \"based\", \"become\", \"become\", \"bootstrap\", \"build\", \"build\", \"builds\", \"ca\", \"ca\", \"catalog\", \"catalog\", \"cert\", \"certificate\", \"certificate\", \"certificate\", \"certificate\", \"certificates\", \"certificates\", \"changes\", \"check\", \"check\", \"check\", \"check\", \"check\", \"checking\", \"checks\", \"chronyd\", \"cis\", \"cis\", \"cis\", \"clean\", \"clean\", \"clean\", \"cli\", \"cluster\", \"cluster\", \"cluster\", \"command\", \"command\", \"compile\", \"complete\", \"complete\", \"complete\", \"complete\", \"complete\", \"complete\", \"config\", \"config\", \"config\", \"config\", \"config\", \"config\", \"configs\", \"configuration\", \"configuration\", \"configuration\", \"configuration\", \"configuration\", \"configuration\", \"configure\", \"configure\", \"configure\", \"configure\", \"configure\", \"container\", \"container\", \"container\", \"container\", \"container\", \"container\", \"containerized\", \"containerized\", \"containers\", \"content\", \"content\", \"convert\", \"copy\", \"copy\", \"copy\", \"copy\", \"copy\", \"copy\", \"copying\", \"copying\", \"copying\", \"copying\", \"copying\", \"copying\", \"cores\", \"correct\", \"count\", \"count\", \"counts\", \"cpu\", \"create\", \"create\", \"create\", \"create\", \"create\", \"create\", \"credentials\", \"current\", \"current\", \"custom\", \"custom\", \"custom\", \"custom\", \"custom\", \"database\", \"database\", \"database\", \"debug\", \"default\", \"default\", \"default\", \"default\", \"default\", \"defaults\", \"define\", \"delete\", \"delete\", \"delete\", \"delete\", \"delete\", \"deploy\", \"deploy\", \"deploy\", \"deploy\", \"deployed\", \"deployed\", \"detect\", \"developers\", \"developers\", \"device\", \"device\", \"dir\", \"dir\", \"dir\", \"dir\", \"dir\", \"directories\", \"directories\", \"directories\", \"directories\", \"directories\", \"directory\", \"directory\", \"directory\", \"directory\", \"directory\", \"directory\", \"disabled\", \"distribution\", \"dns\", \"dns\", \"docker\", \"docker\", \"docker\", \"documentation\", \"downloaded\", \"drop\", \"drop\", \"elasticsearch\", \"enable\", \"enable\", \"enable\", \"enabled\", \"enabled\", \"enabled\", \"enabled\", \"enabled\", \"enabled\", \"ensure\", \"ensure\", \"ensure\", \"ensure\", \"ensure\", \"ensuring\", \"ensuring\", \"ensuring\", \"ensuring\", \"ensuring\", \"environment\", \"error\", \"error\", \"execute\", \"exist\", \"exist\", \"exist\", \"exist\", \"existing\", \"existing\", \"existing\", \"exists\", \"exists\", \"exists\", \"exists\", \"exists\", \"exists\", \"expose\", \"extra\", \"extract\", \"extract\", \"fact\", \"fact\", \"facts\", \"fail\", \"fail\", \"fail\", \"fail\", \"fail\", \"fail\", \"failed\", \"failure\", \"file\", \"file\", \"file\", \"file\", \"file\", \"file\", \"filename\", \"filename\", \"filename\", \"files\", \"files\", \"files\", \"files\", \"files\", \"files\", \"filter\", \"filter\", \"find\", \"find\", \"find\", \"firewall\", \"firewall\", \"firewalld\", \"fix\", \"flush\", \"folder\", \"folders\", \"folders\", \"following\", \"following\", \"following\", \"found\", \"gather\", \"generate\", \"generate\", \"generate\", \"generate\", \"generate\", \"generate\", \"generated\", \"get\", \"get\", \"get\", \"get\", \"get\", \"get\", \"github\", \"global\", \"go\", \"guid\", \"ha\", \"handlers\", \"hash\", \"heat\", \"heat\", \"hiera\", \"hiera\", \"hiera\", \"hiera\", \"home\", \"host\", \"host\", \"host\", \"host\", \"host\", \"hostname\", \"hostname\", \"hosts\", \"hosts\", \"hosts\", \"hosts\", \"hosts\", \"idempotency\", \"identify\", \"image\", \"image\", \"image\", \"image\", \"image\", \"images\", \"images\", \"importing\", \"install\", \"install\", \"install\", \"install\", \"installation\", \"installed\", \"installed\", \"installed\", \"installed\", \"installed\", \"installing\", \"installing\", \"interface\", \"inventory\", \"inventory\", \"inventory\", \"ip\", \"ip\", \"ip\", \"kafka\", \"key\", \"key\", \"key\", \"key\", \"key\", \"kibana\", \"kibana\", \"kibana\", \"lack\", \"lack\", \"legacy\", \"legacy\", \"legacy\", \"linux\", \"list\", \"list\", \"list\", \"list\", \"list\", \"list\", \"local\", \"local\", \"location\", \"location\", \"location\", \"location\", \"log\", \"log\", \"log\", \"log\", \"log\", \"logstash\", \"lookup\", \"loop\", \"make\", \"make\", \"make\", \"make\", \"make\", \"manager\", \"master\", \"master\", \"master\", \"min\", \"missing\", \"modify\", \"molecule\", \"molecule\", \"molecule\", \"molecule\", \"monitoring\", \"move\", \"name\", \"name\", \"name\", \"names\", \"names\", \"namespace\", \"namespace\", \"namespace\", \"namespace\", \"namespace\", \"network\", \"network\", \"network\", \"network\", \"node\", \"node\", \"nodes\", \"nodes\", \"nova\", \"number\", \"oc\", \"old\", \"old\", \"old\", \"openstack\", \"original\", \"output\", \"output\", \"output\", \"output\", \"output\", \"output\", \"overcloud\", \"overcloud\", \"ovs\", \"parameter\", \"password\", \"password\", \"password\", \"password\", \"path\", \"path\", \"path\", \"path\", \"path\", \"per\", \"permission\", \"permissions\", \"permissions\", \"place\", \"playbook\", \"playbook\", \"playbook\", \"playbook\", \"plugin\", \"plugin\", \"podman\", \"point\", \"pools\", \"pools\", \"pools\", \"populate\", \"populate\", \"prefix\", \"prefix\", \"prepare\", \"prepare\", \"present\", \"present\", \"present\", \"present\", \"previous\", \"principal\", \"principal\", \"principal\", \"principal\", \"principal\", \"print\", \"project\", \"project\", \"project\", \"project\", \"project\", \"project\", \"protocol\", \"provided\", \"provided\", \"provided\", \"pub\", \"pv\", \"rabbitmq\", \"ready\", \"ready\", \"register\", \"remove\", \"remove\", \"remove\", \"remove\", \"remove\", \"remove\", \"removing\", \"removing\", \"removing\", \"rename\", \"repo\", \"repo\", \"repo\", \"repo\", \"repo\", \"report\", \"report\", \"repos\", \"repos\", \"repositories\", \"repositories\", \"repository\", \"repository\", \"repository\", \"request\", \"requirements\", \"requirements\", \"requirements\", \"resources\", \"resources\", \"restart\", \"restart\", \"restart\", \"restart\", \"restart\", \"resume\", \"rhel\", \"role\", \"role\", \"role\", \"role\", \"rules\", \"run\", \"run\", \"run\", \"running\", \"running\", \"running\", \"running\", \"running\", \"runs\", \"runs\", \"script\", \"script\", \"script\", \"script\", \"script\", \"script\", \"security\", \"security\", \"servers\", \"service\", \"service\", \"service\", \"service\", \"service\", \"services\", \"services\", \"services\", \"set\", \"set\", \"set\", \"set\", \"set\", \"set\", \"setting\", \"setting\", \"setting\", \"setting\", \"settings\", \"settings\", \"setup\", \"setup\", \"setup\", \"setup\", \"skipped\", \"software\", \"software\", \"software\", \"software\", \"specified\", \"ssh\", \"ssh\", \"ssl\", \"ssl\", \"ssl\", \"ssl\", \"stack\", \"stack\", \"start\", \"start\", \"start\", \"start\", \"status\", \"status\", \"succeed\", \"succeed\", \"successful\", \"sure\", \"sure\", \"sure\", \"sure\", \"swap\", \"symlink\", \"sync\", \"systemd\", \"systemd\", \"systemd\", \"systemd\", \"systemd\", \"systemd\", \"tasks\", \"tasks\", \"tasks\", \"tasks\", \"temp\", \"temp\", \"tempest\", \"template\", \"template\", \"template\", \"template\", \"template\", \"template\", \"tenant\", \"test\", \"test\", \"testing\", \"tests\", \"timeout\", \"token\", \"token\", \"token\", \"token\", \"tree\", \"tree\", \"ubuntu\", \"undercloud\", \"undercloud\", \"undercloud\", \"undercloud\", \"undercloud\", \"undercloud\", \"unit\", \"unit\", \"updated\", \"updated\", \"upgrade\", \"upgrade\", \"url\", \"url\", \"usable\", \"usable\", \"usable\", \"usable\", \"user\", \"user\", \"user\", \"user\", \"using\", \"using\", \"using\", \"validation\", \"validation\", \"value\", \"value\", \"value\", \"value\", \"verify\", \"version\", \"version\", \"version\", \"version\", \"virtual\", \"vm\", \"vms\", \"vols\", \"volume\", \"volumes\", \"volumes\", \"wait\", \"wait\", \"wait\", \"warn\", \"warn\", \"without\", \"workspace\", \"workspace\", \"workspace\", \"write\", \"write\", \"zuul\"]}, \"R\": 30, \"lambda.step\": 0.01, \"plot.opts\": {\"xlab\": \"PC1\", \"ylab\": \"PC2\"}, \"topic.order\": [2, 1, 5, 3, 4, 6]};\n",
       "\n",
       "function LDAvis_load_lib(url, callback){\n",
       "  var s = document.createElement('script');\n",
       "  s.src = url;\n",
       "  s.async = true;\n",
       "  s.onreadystatechange = s.onload = callback;\n",
       "  s.onerror = function(){console.warn(\"failed to load library \" + url);};\n",
       "  document.getElementsByTagName(\"head\")[0].appendChild(s);\n",
       "}\n",
       "\n",
       "if(typeof(LDAvis) !== \"undefined\"){\n",
       "   // already loaded: just create the visualization\n",
       "   !function(LDAvis){\n",
       "       new LDAvis(\"#\" + \"ldavis_el198081144963170006919709821\", ldavis_el198081144963170006919709821_data);\n",
       "   }(LDAvis);\n",
       "}else if(typeof define === \"function\" && define.amd){\n",
       "   // require.js is available: use it to load d3/LDAvis\n",
       "   require.config({paths: {d3: \"https://cdnjs.cloudflare.com/ajax/libs/d3/3.5.5/d3.min\"}});\n",
       "   require([\"d3\"], function(d3){\n",
       "      window.d3 = d3;\n",
       "      LDAvis_load_lib(\"https://cdn.rawgit.com/bmabey/pyLDAvis/files/ldavis.v1.0.0.js\", function(){\n",
       "        new LDAvis(\"#\" + \"ldavis_el198081144963170006919709821\", ldavis_el198081144963170006919709821_data);\n",
       "      });\n",
       "    });\n",
       "}else{\n",
       "    // require.js not available: dynamically load d3 & LDAvis\n",
       "    LDAvis_load_lib(\"https://cdnjs.cloudflare.com/ajax/libs/d3/3.5.5/d3.min.js\", function(){\n",
       "         LDAvis_load_lib(\"https://cdn.rawgit.com/bmabey/pyLDAvis/files/ldavis.v1.0.0.js\", function(){\n",
       "                 new LDAvis(\"#\" + \"ldavis_el198081144963170006919709821\", ldavis_el198081144963170006919709821_data);\n",
       "            })\n",
       "         });\n",
       "}\n",
       "</script>"
      ],
      "text/plain": [
       "PreparedData(topic_coordinates=              x         y  topics  cluster       Freq\n",
       "topic                                                \n",
       "1      0.212897  0.037450       1        1  17.298157\n",
       "0     -0.216153 -0.123421       2        1  17.220856\n",
       "4     -0.101203 -0.077510       3        1  17.158422\n",
       "2      0.108465  0.060499       4        1  16.475597\n",
       "3     -0.113817  0.269936       5        1  16.254477\n",
       "5      0.109811 -0.166955       6        1  15.592501, topic_info=               Term         Freq        Total Category  logprob  loglift\n",
       "20              set  1162.000000  1162.000000  Default  30.0000  30.0000\n",
       "3            create   754.000000   754.000000  Default  29.0000  29.0000\n",
       "39             fail   505.000000   505.000000  Default  28.0000  28.0000\n",
       "1083        testing   290.000000   290.000000  Default  27.0000  27.0000\n",
       "980        populate   300.000000   300.000000  Default  26.0000  26.0000\n",
       "...             ...          ...          ...      ...      ...      ...\n",
       "2440       molecule    65.495499   174.691620   Topic6  -4.4645   0.8773\n",
       "110             key    62.693390   190.394592   Topic6  -4.5083   0.7475\n",
       "83             copy    55.504208   335.020203   Topic6  -4.6301   0.0606\n",
       "6     configuration    48.418549   197.440399   Topic6  -4.7666   0.4528\n",
       "9             check    48.095760   501.518585   Topic6  -4.7733  -0.4861\n",
       "\n",
       "[341 rows x 6 columns], token_table=      Topic      Freq       Term\n",
       "term                            \n",
       "583       5  0.973059     access\n",
       "528       4  0.972979    account\n",
       "223       1  0.017024        add\n",
       "223       2  0.005675        add\n",
       "223       3  0.028373        add\n",
       "...     ...       ...        ...\n",
       "2152      3  0.269652  workspace\n",
       "2152      5  0.041485  workspace\n",
       "178       4  0.019271      write\n",
       "178       5  0.963564      write\n",
       "1916      5  0.981472       zuul\n",
       "\n",
       "[689 rows x 3 columns], R=30, lambda_step=0.01, plot_opts={'xlab': 'PC1', 'ylab': 'PC2'}, topic_order=[2, 1, 5, 3, 4, 6])"
      ]
     },
     "execution_count": 62,
     "metadata": {},
     "output_type": "execute_result"
    }
   ],
   "source": [
    "pyLDAvis.gensim.prepare(lda_model_1, corpus_1_tasks, dictionary)"
   ]
  },
  {
   "cell_type": "code",
   "execution_count": 63,
   "metadata": {},
   "outputs": [],
   "source": [
    "weight_topic = lda_model_1.top_topics(corpus=corpus_1_tasks, dictionary=dictionary, topn=30)"
   ]
  },
  {
   "cell_type": "markdown",
   "metadata": {},
   "source": [
    "<h4>Top unigrams before removing stop words</h4>"
   ]
  },
  {
   "cell_type": "code",
   "execution_count": 64,
   "metadata": {},
   "outputs": [
    {
     "name": "stdout",
     "output_type": "stream",
     "text": [
      "for 1221\n",
      "the 1121\n",
      "create 1010\n",
      "set 952\n",
      "to 930\n",
      "file 756\n",
      "user 617\n",
      "if 580\n",
      "check 568\n",
      "directory 505\n",
      "copy 496\n",
      "config 468\n",
      "project 404\n",
      "ensure 395\n",
      "get 392\n",
      "is 389\n",
      "service 385\n",
      "remove 383\n",
      "and 381\n",
      "files 361\n"
     ]
    }
   ],
   "source": [
    "def get_top_n_words(corpus, n=None):\n",
    "    vec = CountVectorizer().fit(corpus)\n",
    "    bag_of_words = vec.transform(corpus)\n",
    "    sum_words = bag_of_words.sum(axis=0) \n",
    "    words_freq = [(word, sum_words[0, idx]) for word, idx in vec.vocabulary_.items()]\n",
    "    words_freq =sorted(words_freq, key = lambda x: x[1], reverse=True)\n",
    "    return words_freq[:n]\n",
    "common_words = get_top_n_words(tasks['token_task_names_one_string'], 20)\n",
    "for word, freq in common_words:\n",
    "    print(word, freq)\n",
    "df1 = pd.DataFrame(common_words, columns = ['token_task_names_one_string' , 'count'])"
   ]
  },
  {
   "cell_type": "markdown",
   "metadata": {},
   "source": [
    "<h4>Top unigrams after removing stop words</h4>"
   ]
  },
  {
   "cell_type": "code",
   "execution_count": 65,
   "metadata": {},
   "outputs": [
    {
     "name": "stdout",
     "output_type": "stream",
     "text": [
      "create 1010\n",
      "set 952\n",
      "file 756\n",
      "user 617\n",
      "check 568\n",
      "directory 505\n",
      "copy 496\n",
      "config 468\n",
      "project 404\n",
      "ensure 395\n",
      "service 385\n",
      "remove 383\n",
      "files 361\n",
      "generate 338\n",
      "restart 313\n",
      "copying 304\n",
      "complete 289\n",
      "tasks 269\n",
      "exists 250\n",
      "run 249\n"
     ]
    }
   ],
   "source": [
    "def get_top_n_words(corpus, n=None):\n",
    "    vec = CountVectorizer(stop_words = 'english').fit(corpus)\n",
    "    bag_of_words = vec.transform(corpus)\n",
    "    sum_words = bag_of_words.sum(axis=0) \n",
    "    words_freq = [(word, sum_words[0, idx]) for word, idx in vec.vocabulary_.items()]\n",
    "    words_freq =sorted(words_freq, key = lambda x: x[1], reverse=True)\n",
    "    return words_freq[:n]\n",
    "common_words = get_top_n_words(tasks['token_task_names_one_string'], 20)\n",
    "for word, freq in common_words:\n",
    "    print(word, freq)\n",
    "df2 = pd.DataFrame(common_words, columns = ['token_task_names_one_string' , 'count'])"
   ]
  },
  {
   "cell_type": "markdown",
   "metadata": {},
   "source": [
    "<h4>Top bigrams before removing stop words</h4>"
   ]
  },
  {
   "cell_type": "code",
   "execution_count": 66,
   "metadata": {},
   "outputs": [
    {
     "name": "stdout",
     "output_type": "stream",
     "text": [
      "copying over 265\n",
      "tasks complete 246\n",
      "flight check 183\n",
      "check if 169\n",
      "remove user 164\n",
      "post_workload tasks 138\n",
      "fail if 133\n",
      "set fact 123\n",
      "fact for 120\n",
      "wait for 112\n",
      "ensure legacy 108\n",
      "legacy workspace 108\n",
      "workspace directory 108\n",
      "user quota 105\n",
      "create the 99\n",
      "make sure 96\n",
      "hosts file 94\n",
      "files for 92\n",
      "check for 92\n",
      "step 00xxxxx 89\n"
     ]
    }
   ],
   "source": [
    "def get_top_n_bigram(corpus, n=None):\n",
    "    vec = CountVectorizer(ngram_range=(2, 2)).fit(corpus)\n",
    "    bag_of_words = vec.transform(corpus)\n",
    "    sum_words = bag_of_words.sum(axis=0) \n",
    "    words_freq = [(word, sum_words[0, idx]) for word, idx in vec.vocabulary_.items()]\n",
    "    words_freq =sorted(words_freq, key = lambda x: x[1], reverse=True)\n",
    "    return words_freq[:n]\n",
    "common_words = get_top_n_bigram(tasks['token_task_names_one_string'], 20)\n",
    "for word, freq in common_words:\n",
    "    print(word, freq)\n",
    "df3 = pd.DataFrame(common_words, columns = ['token_task_names_one_string' , 'count'])"
   ]
  },
  {
   "cell_type": "markdown",
   "metadata": {},
   "source": [
    "<h4>Top bigrams after removing stop words</h4>"
   ]
  },
  {
   "cell_type": "code",
   "execution_count": 67,
   "metadata": {},
   "outputs": [
    {
     "name": "stdout",
     "output_type": "stream",
     "text": [
      "tasks complete 246\n",
      "flight check 183\n",
      "remove user 164\n",
      "post_workload tasks 138\n",
      "set fact 123\n",
      "ensure legacy 108\n",
      "legacy workspace 108\n",
      "workspace directory 108\n",
      "user quota 105\n",
      "hosts file 96\n",
      "make sure 96\n",
      "step 00xxxxx 89\n",
      "ansible hosts 88\n",
      "directory exists 86\n",
      "directories exist 82\n",
      "ensuring config 81\n",
      "create user 80\n",
      "generate ssh 77\n",
      "config directories 77\n",
      "policy file 76\n"
     ]
    }
   ],
   "source": [
    "def get_top_n_bigram(corpus, n=None):\n",
    "    vec = CountVectorizer(ngram_range=(2, 2), stop_words='english').fit(corpus)\n",
    "    bag_of_words = vec.transform(corpus)\n",
    "    sum_words = bag_of_words.sum(axis=0) \n",
    "    words_freq = [(word, sum_words[0, idx]) for word, idx in vec.vocabulary_.items()]\n",
    "    words_freq =sorted(words_freq, key = lambda x: x[1], reverse=True)\n",
    "    return words_freq[:n]\n",
    "common_words = get_top_n_bigram(tasks['token_task_names_one_string'], 20)\n",
    "for word, freq in common_words:\n",
    "    print(word, freq)\n",
    "df4 = pd.DataFrame(common_words, columns = ['token_task_names_one_string' , 'count'])"
   ]
  },
  {
   "cell_type": "markdown",
   "metadata": {},
   "source": [
    "<h4>Top trigrams before removing stop words</h4>"
   ]
  },
  {
   "cell_type": "code",
   "execution_count": 68,
   "metadata": {},
   "outputs": [
    {
     "name": "stdout",
     "output_type": "stream",
     "text": [
      "post_workload tasks complete 136\n",
      "set fact for 108\n",
      "ensure legacy workspace 108\n",
      "legacy workspace directory 108\n",
      "ansible hosts file 81\n",
      "config directories exist 76\n",
      "ensuring config directories 73\n",
      "config json files 73\n",
      "copying over config 70\n",
      "over config json 70\n",
      "presoftware flight check 69\n",
      "files for services 69\n",
      "json files for 67\n",
      "software flight check 64\n",
      "remove user quota 61\n",
      "user quota oc 61\n",
      "quota oc delete 61\n",
      "oc delete clusterresourcequota 61\n",
      "configure all hosts 60\n",
      "all hosts with 60\n"
     ]
    }
   ],
   "source": [
    "def get_top_n_trigram(corpus, n=None):\n",
    "    vec = CountVectorizer(ngram_range=(3, 3)).fit(corpus)\n",
    "    bag_of_words = vec.transform(corpus)\n",
    "    sum_words = bag_of_words.sum(axis=0) \n",
    "    words_freq = [(word, sum_words[0, idx]) for word, idx in vec.vocabulary_.items()]\n",
    "    words_freq =sorted(words_freq, key = lambda x: x[1], reverse=True)\n",
    "    return words_freq[:n]\n",
    "common_words = get_top_n_trigram(tasks['token_task_names_one_string'], 20)\n",
    "for word, freq in common_words:\n",
    "    print(word, freq)\n",
    "df5 = pd.DataFrame(common_words, columns = ['token_task_names_one_string' , 'count'])"
   ]
  },
  {
   "cell_type": "code",
   "execution_count": 169,
   "metadata": {},
   "outputs": [
    {
     "name": "stdout",
     "output_type": "stream",
     "text": [
      "post_workload tasks complete 136\n",
      "ensure legacy workspace 108\n",
      "legacy workspace directory 108\n",
      "ansible hosts file 81\n",
      "config directories exist 76\n",
      "ensuring config directories 73\n",
      "config json files 73\n",
      "copying config json 70\n",
      "presoftware flight check 69\n",
      "software flight check 64\n",
      "json files services 64\n",
      "remove user quota 61\n",
      "user quota oc 61\n",
      "quota oc delete 61\n",
      "oc delete clusterresourcequota 61\n",
      "configure hosts repositories 60\n",
      "hosts repositories common 60\n",
      "repositories common files 60\n",
      "common files set 60\n",
      "files set environment 60\n"
     ]
    }
   ],
   "source": [
    "def get_top_n_trigram(corpus, n=None):\n",
    "    vec = CountVectorizer(ngram_range=(3, 3), stop_words='english').fit(corpus)\n",
    "    bag_of_words = vec.transform(corpus)\n",
    "    sum_words = bag_of_words.sum(axis=0) \n",
    "    words_freq = [(word, sum_words[0, idx]) for word, idx in vec.vocabulary_.items()]\n",
    "    words_freq =sorted(words_freq, key = lambda x: x[1], reverse=True)\n",
    "    return words_freq[:n]\n",
    "common_words = get_top_n_trigram(tasks['token_task_names_one_string'], 20)\n",
    "for word, freq in common_words:\n",
    "    print(word, freq)\n",
    "df6 = pd.DataFrame(common_words, columns = ['token_task_names_one_string' , 'count'])"
   ]
  },
  {
   "cell_type": "markdown",
   "metadata": {},
   "source": [
    "<h4>Topic Modeling with LSA</h4>"
   ]
  },
  {
   "cell_type": "code",
   "execution_count": 69,
   "metadata": {},
   "outputs": [],
   "source": [
    "stop_words = stopwords.words('english')\n",
    "stop_words.extend(['for','the','flight','copying','get'])"
   ]
  },
  {
   "cell_type": "code",
   "execution_count": 70,
   "metadata": {},
   "outputs": [],
   "source": [
    "reindexed_data = tasks_clean_no_stem\n",
    "tfidf_vectorizer = TfidfVectorizer(stop_words=stop_words, use_idf=True, smooth_idf=True)\n",
    "# reindexed_data = reindexed_data.values\n",
    "document_term_matrix = tfidf_vectorizer.fit_transform(reindexed_data)"
   ]
  },
  {
   "cell_type": "code",
   "execution_count": 71,
   "metadata": {},
   "outputs": [],
   "source": [
    "n_topics = 6\n",
    "lsa_model = TruncatedSVD(n_components=n_topics)\n",
    "lsa_topic_matrix = lsa_model.fit_transform(document_term_matrix)"
   ]
  },
  {
   "cell_type": "code",
   "execution_count": 72,
   "metadata": {},
   "outputs": [],
   "source": [
    "def get_keys(topic_matrix):\n",
    "    '''\n",
    "    returns an integer list of predicted topic \n",
    "    categories for a given topic matrix\n",
    "    '''\n",
    "    keys = topic_matrix.argmax(axis=1).tolist()\n",
    "    return keys\n",
    "\n",
    "def keys_to_counts(keys):\n",
    "    '''\n",
    "    returns a tuple of topic categories and their \n",
    "    accompanying magnitudes for a given list of keys\n",
    "    '''\n",
    "    count_pairs = Counter(keys).items()\n",
    "    categories = [pair[0] for pair in count_pairs]\n",
    "    counts = [pair[1] for pair in count_pairs]\n",
    "    return (categories, counts)"
   ]
  },
  {
   "cell_type": "code",
   "execution_count": 73,
   "metadata": {},
   "outputs": [],
   "source": [
    "lsa_keys = get_keys(lsa_topic_matrix)\n",
    "lsa_categories, lsa_counts = keys_to_counts(lsa_keys)"
   ]
  },
  {
   "cell_type": "code",
   "execution_count": 74,
   "metadata": {},
   "outputs": [],
   "source": [
    "def get_top_n_words(n, keys, document_term_matrix, tfidf_vectorizer):\n",
    "    '''\n",
    "    returns a list of n_topic strings, where each string contains the n most common \n",
    "    words in a predicted category, in order\n",
    "    '''\n",
    "    top_word_indices = []\n",
    "    for topic in range(n_topics):\n",
    "        temp_vector_sum = 0\n",
    "        for i in range(len(keys)):\n",
    "            if keys[i] == topic:\n",
    "                temp_vector_sum += document_term_matrix[i]\n",
    "        temp_vector_sum = temp_vector_sum.toarray()\n",
    "        top_n_word_indices = np.flip(np.argsort(temp_vector_sum)[0][-n:],0)\n",
    "        top_word_indices.append(top_n_word_indices)   \n",
    "    top_words = []\n",
    "    for topic in top_word_indices:\n",
    "        topic_words = []\n",
    "        for index in topic:\n",
    "            temp_word_vector = np.zeros((1,document_term_matrix.shape[1]))\n",
    "            temp_word_vector[:,index] = 1\n",
    "            the_word = tfidf_vectorizer.inverse_transform(temp_word_vector)[0][0]\n",
    "            topic_words.append(the_word.encode('ascii').decode('utf-8'))\n",
    "        top_words.append(\" \".join(topic_words))         \n",
    "    return top_words"
   ]
  },
  {
   "cell_type": "code",
   "execution_count": 75,
   "metadata": {},
   "outputs": [
    {
     "name": "stdout",
     "output_type": "stream",
     "text": [
      "Topic 1:  complete tasks workload succeed started\n",
      "Topic 2:  create project service add script\n",
      "Topic 3:  set restart fact run fail\n",
      "Topic 4:  ensure directory exists legacy workspace\n",
      "Topic 5:  copy file software generate config\n",
      "Topic 6:  user remove check files delete\n"
     ]
    }
   ],
   "source": [
    "top_n_words_lsa = get_top_n_words(5, lsa_keys, document_term_matrix, tfidf_vectorizer)\n",
    "\n",
    "for i in range(len(top_n_words_lsa)):\n",
    "    print(\"Topic {}: \".format(i+1), top_n_words_lsa[i])"
   ]
  },
  {
   "cell_type": "code",
   "execution_count": 78,
   "metadata": {},
   "outputs": [
    {
     "data": {
      "image/png": "[encoded data removed]",
      "text/plain": [
       "<Figure size 1152x576 with 1 Axes>"
      ]
     },
     "metadata": {
      "needs_background": "light"
     },
     "output_type": "display_data"
    }
   ],
   "source": [
    "top_3_words = get_top_n_words(3, lsa_keys, document_term_matrix, tfidf_vectorizer)\n",
    "labels = ['Topic {}: \\n'.format(i) + top_3_words[i] for i in lsa_categories]\n",
    "\n",
    "fig, ax = plt.subplots(figsize=(16,8))\n",
    "ax.grid(False)\n",
    "ax.bar(lsa_categories, lsa_counts);\n",
    "ax.set_xticks(lsa_categories);\n",
    "ax.set_xticklabels(labels);\n",
    "# ax.set_ylabel('Number of tasks');\n",
    "ax.set_title('LSA topic counts');\n",
    "# plt.bar(lsa_categories,lsa_counts)\n",
    "plt.xticks(fontsize=11,rotation=0)\n",
    "# plt.yticks(fontsize=14)\n",
    "# plt.xlabel('Top words per topic', fontsize=15,labelpad=15)\n",
    "plt.ylabel('Number of tasks',fontsize=12,rotation=0,labelpad=55)\n",
    "plt.savefig('lsa_tasks.jpg',bbox_inches = 'tight')\n",
    "plt.show()"
   ]
  },
  {
   "cell_type": "code",
   "execution_count": 77,
   "metadata": {
    "scrolled": false
   },
   "outputs": [
    {
     "name": "stdout",
     "output_type": "stream",
     "text": [
      "[t-SNE] Computing 151 nearest neighbors...\n",
      "[t-SNE] Indexed 10396 samples in 0.010s...\n",
      "[t-SNE] Computed neighbors for 10396 samples in 0.764s...\n",
      "[t-SNE] Computed conditional probabilities for sample 1000 / 10396\n",
      "[t-SNE] Computed conditional probabilities for sample 2000 / 10396\n",
      "[t-SNE] Computed conditional probabilities for sample 3000 / 10396\n",
      "[t-SNE] Computed conditional probabilities for sample 4000 / 10396\n",
      "[t-SNE] Computed conditional probabilities for sample 5000 / 10396\n",
      "[t-SNE] Computed conditional probabilities for sample 6000 / 10396\n",
      "[t-SNE] Computed conditional probabilities for sample 7000 / 10396\n",
      "[t-SNE] Computed conditional probabilities for sample 8000 / 10396\n",
      "[t-SNE] Computed conditional probabilities for sample 9000 / 10396\n",
      "[t-SNE] Computed conditional probabilities for sample 10000 / 10396\n",
      "[t-SNE] Computed conditional probabilities for sample 10396 / 10396\n",
      "[t-SNE] Mean sigma: 0.000000\n",
      "[t-SNE] KL divergence after 250 iterations with early exaggeration: 63.655609\n",
      "[t-SNE] KL divergence after 2000 iterations: 0.452543\n"
     ]
    }
   ],
   "source": [
    "tsne_lsa_model = TSNE(n_components=2, perplexity=50, learning_rate=100, \n",
    "                        n_iter=2000, verbose=1, random_state=0, angle=0.75)\n",
    "tsne_lsa_vectors = tsne_lsa_model.fit_transform(lsa_topic_matrix)"
   ]
  },
  {
   "cell_type": "code",
   "execution_count": 79,
   "metadata": {},
   "outputs": [],
   "source": [
    "def get_mean_topic_vectors(keys, two_dim_vectors):\n",
    "    '''\n",
    "    returns a list of centroid vectors from each predicted topic category\n",
    "    '''\n",
    "    mean_topic_vectors = []\n",
    "    for t in range(n_topics):\n",
    "        reviews_in_that_topic = []\n",
    "        for i in range(len(keys)):\n",
    "            if keys[i] == t:\n",
    "                reviews_in_that_topic.append(two_dim_vectors[i])    \n",
    "        \n",
    "        reviews_in_that_topic = np.vstack(reviews_in_that_topic)\n",
    "        mean_review_in_that_topic = np.mean(reviews_in_that_topic, axis=0)\n",
    "        mean_topic_vectors.append(mean_review_in_that_topic)\n",
    "    return mean_topic_vectors"
   ]
  },
  {
   "cell_type": "code",
   "execution_count": 80,
   "metadata": {},
   "outputs": [],
   "source": [
    "colormap = np.array([\n",
    "    \"#1f77b4\", \"#aec7e8\", \"#ff7f0e\", \"#ffbb78\", \"#2ca02c\",\n",
    "    \"#98df8a\", \"#d62728\", \"#ff9896\", \"#9467bd\", \"#c5b0d5\",\n",
    "    \"#8c564b\", \"#c49c94\", \"#e377c2\", \"#f7b6d2\", \"#7f7f7f\",\n",
    "    \"#c7c7c7\", \"#bcbd22\", \"#dbdb8d\", \"#17becf\", \"#9edae5\" ])\n",
    "colormap = colormap[:n_topics]"
   ]
  },
  {
   "cell_type": "code",
   "execution_count": 82,
   "metadata": {},
   "outputs": [
    {
     "name": "stderr",
     "output_type": "stream",
     "text": [
      "BokehUserWarning: ColumnDataSource's columns must be of the same length. Current lengths: ('color', 6), ('label', 6), ('x', 10396), ('y', 10396)\n"
     ]
    }
   ],
   "source": [
    "top_3_words_lsa = get_top_n_words(3, lsa_keys, document_term_matrix, tfidf_vectorizer)\n",
    "lsa_mean_topic_vectors = get_mean_topic_vectors(lsa_keys, tsne_lsa_vectors)\n",
    "\n",
    "source = ColumnDataSource(dict(\n",
    "    x=tsne_lsa_vectors[:,0],\n",
    "    y=tsne_lsa_vectors[:,1],\n",
    "    color=colormap,\n",
    "    label=top_3_words_lsa,\n",
    "))\n",
    "\n",
    "plot = figure(title=\"t-SNE Clustering of {} LSA Topics\".format(n_topics), plot_width=700, plot_height=700)\n",
    "plot.scatter(x='x', y='y', color='color',legend_field='label', source = source)\n",
    "    \n",
    "show(plot)"
   ]
  },
  {
   "cell_type": "code",
   "execution_count": null,
   "metadata": {},
   "outputs": [],
   "source": []
  }
 ],
 "metadata": {
  "kernelspec": {
   "display_name": "Python 3",
   "language": "python",
   "name": "python3"
  },
  "language_info": {
   "codemirror_mode": {
    "name": "ipython",
    "version": 3
   },
   "file_extension": ".py",
   "mimetype": "text/x-python",
   "name": "python",
   "nbconvert_exporter": "python",
   "pygments_lexer": "ipython3",
   "version": "3.7.4"
  }
 },
 "nbformat": 4,
 "nbformat_minor": 4
}
