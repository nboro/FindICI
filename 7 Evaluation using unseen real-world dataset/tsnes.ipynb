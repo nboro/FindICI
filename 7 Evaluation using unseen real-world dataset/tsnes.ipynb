{
 "cells": [
  {
   "cell_type": "code",
   "execution_count": 49,
   "metadata": {},
   "outputs": [],
   "source": [
    "import pandas as pd\n",
    "import numpy as np\n",
    "import pickle \n",
    "from copy import deepcopy"
   ]
  },
  {
   "cell_type": "code",
   "execution_count": 207,
   "metadata": {},
   "outputs": [],
   "source": [
    "import spacy \n",
    "from gensim.models import Word2Vec\n",
    "from gensim.models import KeyedVectors\n",
    "from sklearn.manifold import TSNE\n",
    "import matplotlib.pyplot as plt\n",
    "%matplotlib inline"
   ]
  },
  {
   "cell_type": "code",
   "execution_count": 472,
   "metadata": {},
   "outputs": [
    {
     "data": {
      "text/plain": [
       "(851, 3)"
      ]
     },
     "execution_count": 472,
     "metadata": {},
     "output_type": "execute_result"
    }
   ],
   "source": [
    "with open('saved_observations/test_obs_df_shell.pkl','rb') as input_file:\n",
    "    test_shell = pickle.load(input_file)\n",
    "test_shell.shape"
   ]
  },
  {
   "cell_type": "code",
   "execution_count": 580,
   "metadata": {},
   "outputs": [],
   "source": [
    "w2v = Word2Vec.load('w2vec_models/w2vec_model_shell.bin')"
   ]
  },
  {
   "cell_type": "code",
   "execution_count": 581,
   "metadata": {},
   "outputs": [
    {
     "data": {
      "text/plain": [
       "9651"
      ]
     },
     "execution_count": 581,
     "metadata": {},
     "output_type": "execute_result"
    }
   ],
   "source": [
    "vocab = list(w2v.wv.vocab)\n",
    "len(vocab)"
   ]
  },
  {
   "cell_type": "code",
   "execution_count": 494,
   "metadata": {},
   "outputs": [],
   "source": [
    "# w2v.wv['file_descriptors']"
   ]
  },
  {
   "cell_type": "code",
   "execution_count": 495,
   "metadata": {},
   "outputs": [],
   "source": [
    "test_shell = test_shell.reset_index()"
   ]
  },
  {
   "cell_type": "code",
   "execution_count": 496,
   "metadata": {},
   "outputs": [],
   "source": [
    "# test_shell"
   ]
  },
  {
   "cell_type": "code",
   "execution_count": 497,
   "metadata": {},
   "outputs": [],
   "source": [
    "df = deepcopy(test_shell)"
   ]
  },
  {
   "cell_type": "code",
   "execution_count": 517,
   "metadata": {},
   "outputs": [
    {
     "name": "stdout",
     "output_type": "stream",
     "text": [
      "(392, 5)\n",
      "(28, 5)\n"
     ]
    }
   ],
   "source": [
    "# consistent_1 = df[(df['label'] == 1) & (df['pred_label'] == 1)]\n",
    "consistent_0 = df[(df['label'] == 0) & (df['pred_label'] == 0)]\n",
    "consistent_0 = consistent_0.reset_index(drop=True)\n",
    "# consistent_0 = consistent_0.reset_index(drop=True)\n",
    "print(consistent_0.shape)\n",
    "inconsistent_0 = df[(df['label'] == 1) & (df['pred_label'] == 0)]\n",
    "# inconsistent_1 = df[df['label'] == 1 and df['pred_label'] == 0]\n",
    "inconsistent_0 = inconsistent_0.reset_index(drop=True)\n",
    "# inconsistent_1 = inconsistent_1.reset_index(drop=True)\n",
    "print(inconsistent_0.shape)"
   ]
  },
  {
   "cell_type": "code",
   "execution_count": 542,
   "metadata": {},
   "outputs": [
    {
     "data": {
      "text/plain": [
       "(390, 5)"
      ]
     },
     "execution_count": 542,
     "metadata": {},
     "output_type": "execute_result"
    }
   ],
   "source": [
    "con = consistent_0[consistent_0['task'].map(len) < 100].reset_index(drop=True)\n",
    "# con = consistent_0\n",
    "con.shape"
   ]
  },
  {
   "cell_type": "code",
   "execution_count": 543,
   "metadata": {},
   "outputs": [],
   "source": [
    "def shell_in(row):\n",
    "    return 'shell' in row\n",
    "con['shell_in'] = con['task'].apply(lambda x: shell_in(x))"
   ]
  },
  {
   "cell_type": "code",
   "execution_count": 544,
   "metadata": {},
   "outputs": [],
   "source": [
    "con = con[con['shell_in'] == True].reset_index(drop=True)"
   ]
  },
  {
   "cell_type": "code",
   "execution_count": 545,
   "metadata": {},
   "outputs": [
    {
     "data": {
      "text/plain": [
       "(3, 6)"
      ]
     },
     "execution_count": 545,
     "metadata": {},
     "output_type": "execute_result"
    }
   ],
   "source": [
    "con.shape"
   ]
  },
  {
   "cell_type": "code",
   "execution_count": 546,
   "metadata": {},
   "outputs": [
    {
     "data": {
      "text/html": [
       "<div>\n",
       "<style scoped>\n",
       "    .dataframe tbody tr th:only-of-type {\n",
       "        vertical-align: middle;\n",
       "    }\n",
       "\n",
       "    .dataframe tbody tr th {\n",
       "        vertical-align: top;\n",
       "    }\n",
       "\n",
       "    .dataframe thead th {\n",
       "        text-align: right;\n",
       "    }\n",
       "</style>\n",
       "<table border=\"1\" class=\"dataframe\">\n",
       "  <thead>\n",
       "    <tr style=\"text-align: right;\">\n",
       "      <th></th>\n",
       "      <th>level_0</th>\n",
       "      <th>index</th>\n",
       "      <th>task</th>\n",
       "      <th>label</th>\n",
       "      <th>pred_label</th>\n",
       "      <th>shell_in</th>\n",
       "    </tr>\n",
       "  </thead>\n",
       "  <tbody>\n",
       "    <tr>\n",
       "      <th>0</th>\n",
       "      <td>20</td>\n",
       "      <td>20552</td>\n",
       "      <td>[AnsibleTask, TaskName, Get, file_descriptors,...</td>\n",
       "      <td>0</td>\n",
       "      <td>0</td>\n",
       "      <td>True</td>\n",
       "    </tr>\n",
       "    <tr>\n",
       "      <th>1</th>\n",
       "      <td>202</td>\n",
       "      <td>16917</td>\n",
       "      <td>[AnsibleTask, TaskName, execute, ansible-playb...</td>\n",
       "      <td>0</td>\n",
       "      <td>0</td>\n",
       "      <td>True</td>\n",
       "    </tr>\n",
       "    <tr>\n",
       "      <th>2</th>\n",
       "      <td>526</td>\n",
       "      <td>15985</td>\n",
       "      <td>[AnsibleTask, TaskName, Get, docker, device, T...</td>\n",
       "      <td>0</td>\n",
       "      <td>0</td>\n",
       "      <td>True</td>\n",
       "    </tr>\n",
       "  </tbody>\n",
       "</table>\n",
       "</div>"
      ],
      "text/plain": [
       "   level_0  index                                               task  label  \\\n",
       "0       20  20552  [AnsibleTask, TaskName, Get, file_descriptors,...      0   \n",
       "1      202  16917  [AnsibleTask, TaskName, execute, ansible-playb...      0   \n",
       "2      526  15985  [AnsibleTask, TaskName, Get, docker, device, T...      0   \n",
       "\n",
       "   pred_label  shell_in  \n",
       "0           0      True  \n",
       "1           0      True  \n",
       "2           0      True  "
      ]
     },
     "execution_count": 546,
     "metadata": {},
     "output_type": "execute_result"
    }
   ],
   "source": [
    "con"
   ]
  },
  {
   "cell_type": "code",
   "execution_count": 571,
   "metadata": {},
   "outputs": [
    {
     "data": {
      "text/plain": [
       "['AnsibleTask',\n",
       " 'TaskName',\n",
       " 'Get',\n",
       " 'file_descriptors',\n",
       " 'total_limit',\n",
       " 'TaskDescription',\n",
       " 'shell',\n",
       " 'openshift_cli',\n",
       " 'get',\n",
       " 'project',\n",
       " 'project_dev',\n",
       " 'register',\n",
       " 'result',\n",
       " 'ignore_errors',\n",
       " 'True',\n",
       " 'changed_when',\n",
       " 'False']"
      ]
     },
     "execution_count": 571,
     "metadata": {},
     "output_type": "execute_result"
    }
   ],
   "source": [
    "#shell,command 113 old, 1-1\n",
    "#shell \n",
    "consistent_obser = con['task'][0]\n",
    "# consistent_obser.remove(':')\n",
    "consistent_obser"
   ]
  },
  {
   "cell_type": "code",
   "execution_count": 548,
   "metadata": {},
   "outputs": [],
   "source": [
    "# 'shell' in inconsistent['tasks'][0]\n",
    "def shell_in(row):\n",
    "    return 'shell' in row\n",
    "inconsistent_0['shell_in'] = inconsistent_0['task'].apply(lambda x: shell_in(x))"
   ]
  },
  {
   "cell_type": "code",
   "execution_count": null,
   "metadata": {},
   "outputs": [],
   "source": []
  },
  {
   "cell_type": "code",
   "execution_count": 549,
   "metadata": {},
   "outputs": [],
   "source": [
    "inc = inconsistent_0[inconsistent_0['shell_in'] == True].reset_index(drop=True)"
   ]
  },
  {
   "cell_type": "code",
   "execution_count": 550,
   "metadata": {},
   "outputs": [],
   "source": [
    "incon = inc[inc['task'].map(len) < 25].reset_index(drop=True)"
   ]
  },
  {
   "cell_type": "code",
   "execution_count": 551,
   "metadata": {},
   "outputs": [
    {
     "data": {
      "text/plain": [
       "(19, 6)"
      ]
     },
     "execution_count": 551,
     "metadata": {},
     "output_type": "execute_result"
    }
   ],
   "source": [
    "incon.shape"
   ]
  },
  {
   "cell_type": "code",
   "execution_count": 552,
   "metadata": {},
   "outputs": [
    {
     "data": {
      "text/plain": [
       "['AnsibleTask',\n",
       " 'TaskName',\n",
       " 'Save',\n",
       " 'the',\n",
       " 'iptables',\n",
       " 'rules',\n",
       " 'TaskDescription',\n",
       " 'shell',\n",
       " 'iptables-save',\n",
       " '/etc/sysconfig/iptables',\n",
       " 'become',\n",
       " 'True',\n",
       " 'changed_when',\n",
       " 'True']"
      ]
     },
     "execution_count": 552,
     "metadata": {},
     "output_type": "execute_result"
    }
   ],
   "source": [
    "#shell 3\n",
    "incon_obs = incon['task'][3]\n",
    "incon_obs"
   ]
  },
  {
   "cell_type": "code",
   "execution_count": null,
   "metadata": {},
   "outputs": [],
   "source": []
  },
  {
   "cell_type": "code",
   "execution_count": 576,
   "metadata": {},
   "outputs": [],
   "source": [
    "incon_dict = {}\n",
    "for tok in incon_obs:\n",
    "    if (tok == 'AnsibleTask') or (tok == 'TaskDescription') or (tok == 'TaskName'):\n",
    "        continue\n",
    "    else:\n",
    "        try:\n",
    "            incon_dict[tok] = w2v.wv[tok]\n",
    "        except:\n",
    "            incon_dict[tok] = np.zeros((100, ))\n",
    "        \n",
    "    \n",
    "const_dict = {}\n",
    "for tok in consistent_obser:\n",
    "    if (tok == 'AnsibleTask') or (tok == 'TaskDescription') or (tok == 'TaskName'):\n",
    "        continue\n",
    "    else:\n",
    "        try:\n",
    "            const_dict[tok] = w2v.wv[tok]\n",
    "        except:\n",
    "            const_dict[tok] = np.zeros((100, ))\n",
    "            \n",
    "a = np.zeros((100, ))\n",
    "gget = np.zeros((100, ))\n",
    "for t in const_dict:\n",
    "    if not t == 'Get':\n",
    "        continue\n",
    "    else:\n",
    "        gget = const_dict[t]\n",
    "        a = np.random.lognormal(sigma=0.1, size=const_dict[t].shape)\n",
    "    \n",
    "avg = gget * a\n",
    "    \n",
    "for n in const_dict:\n",
    "    if not const_dict[n].any():\n",
    "        const_dict[n] = avg\n",
    "        \n",
    "            \n",
    "def removekey(d, key):\n",
    "    r = deepcopy(d)\n",
    "    del r[key]\n",
    "    return r\n",
    "\n",
    "# for k in const_dict:\n",
    "#     if not const_dict[k].any():\n",
    "#         const_dict = removekey(const_dict,k)\n",
    "        \n",
    "for k in incon_dict:\n",
    "    if not incon_dict[k].any():\n",
    "        incon_dict = removekey(incon_dict,k)"
   ]
  },
  {
   "cell_type": "code",
   "execution_count": 577,
   "metadata": {},
   "outputs": [
    {
     "data": {
      "text/plain": [
       "array([-6.2719118 ,  4.12483557,  4.97982694, -0.78085234, -2.67176686,\n",
       "        3.43078797,  8.26924917, -3.27955359,  5.92930372, -1.79735344,\n",
       "        0.31205308,  7.87438445,  0.33597022,  4.5923145 , -0.43293634,\n",
       "        3.44909026, -3.92067733, -3.30014209,  1.31361475, -1.760067  ,\n",
       "        0.37034046, -1.27177927, -3.09260682, -1.26741328,  0.75829816,\n",
       "       -6.77016511,  5.60552402, -7.57813542, -6.34578953, -0.8359609 ,\n",
       "       -3.93523667, -1.12442797,  7.74726769,  1.36069096, -4.7197146 ,\n",
       "       -4.15470754,  6.26224296,  3.43537088, -6.3553246 , -1.81838254,\n",
       "        8.3358118 , -3.74643985, -3.1207587 , -1.30798495, -3.47255316,\n",
       "        2.68017853, -7.47448436,  0.57795004,  1.0434653 ,  0.40243362,\n",
       "       -2.46116454, -9.02809324,  0.05656382, -6.80700366,  3.52675761,\n",
       "       -6.67099685,  2.9472855 ,  2.28618208,  1.27328678,  0.79982254,\n",
       "       -0.39205557,  1.46454098,  4.20979665,  2.26864008,  3.96817252,\n",
       "        4.99489874,  2.84990091,  6.37660438, -0.21477702, -0.3484525 ,\n",
       "        1.97174503, -3.49830251, -1.44627781,  3.76924426,  2.37981125,\n",
       "        0.15222774,  3.51129339,  3.00282544,  0.97157318,  5.91910297,\n",
       "        3.06548149, -2.4476    , -5.85657239,  1.03575583, -7.55338758,\n",
       "        1.50901371, -0.91429058,  2.43414629,  1.16452508,  2.76503611,\n",
       "       -1.19578659,  0.49124856, -3.76024624, -2.77044821,  8.19456471,\n",
       "        3.19558519,  4.03256394,  1.26182142, -1.54318843,  5.23140059])"
      ]
     },
     "execution_count": 577,
     "metadata": {},
     "output_type": "execute_result"
    }
   ],
   "source": [
    "const_dict['file_descriptors']"
   ]
  },
  {
   "cell_type": "code",
   "execution_count": 512,
   "metadata": {},
   "outputs": [],
   "source": [
    "# list(w2v.wv.vocab)"
   ]
  },
  {
   "cell_type": "code",
   "execution_count": 578,
   "metadata": {},
   "outputs": [],
   "source": [
    "def tsne_plot(task_dict,obs):\n",
    "    \"Creates and TSNE model and plots it\"\n",
    "    labels = []\n",
    "    tokens = []\n",
    "\n",
    "    for word in task_dict.keys():\n",
    "        tokens.append(task_dict[word])\n",
    "        labels.append(word)\n",
    "    \n",
    "    tsne_model = TSNE(perplexity=10, n_components=2, init='pca', n_iter=1000)\n",
    "    new_values = tsne_model.fit_transform(tokens)\n",
    "\n",
    "    x = []\n",
    "    y = []\n",
    "    for value in new_values:\n",
    "        x.append(value[0])\n",
    "        y.append(value[1])\n",
    "        \n",
    "    plt.figure(figsize=(8, 8)) \n",
    "    for i in range(len(x)):\n",
    "        plt.scatter(x[i],y[i])\n",
    "        plt.annotate(labels[i],\n",
    "                     xy=(x[i], y[i]),\n",
    "                     xytext=(5, 2),\n",
    "                     textcoords='offset points',\n",
    "                     ha='right',\n",
    "                     va='bottom')\n",
    "        if (obs == 'consistent'):\n",
    "            plt.savefig('tsne/tsne_consistent_00_shell.png')\n",
    "        else:\n",
    "            plt.savefig('tsne/tsne_inconsistent_01_shell.png')\n",
    "    plt.show()"
   ]
  },
  {
   "cell_type": "code",
   "execution_count": 569,
   "metadata": {},
   "outputs": [
    {
     "data": {
      "image/png": "[encoded data removed]",
      "text/plain": [
       "<Figure size 576x576 with 1 Axes>"
      ]
     },
     "metadata": {
      "needs_background": "light"
     },
     "output_type": "display_data"
    }
   ],
   "source": [
    "tsne_plot(incon_dict,'inconsistent')"
   ]
  },
  {
   "cell_type": "code",
   "execution_count": 579,
   "metadata": {},
   "outputs": [
    {
     "data": {
      "image/png": "[encoded data removed]",
      "text/plain": [
       "<Figure size 576x576 with 1 Axes>"
      ]
     },
     "metadata": {
      "needs_background": "light"
     },
     "output_type": "display_data"
    }
   ],
   "source": [
    "tsne_plot(const_dict,'consistent')"
   ]
  },
  {
   "cell_type": "code",
   "execution_count": 96,
   "metadata": {},
   "outputs": [],
   "source": [
    "# most_similar = w2v.wv.most_similar(positive=['shell'], topn = 9650)\n",
    "# most_similar"
   ]
  },
  {
   "cell_type": "code",
   "execution_count": 97,
   "metadata": {},
   "outputs": [],
   "source": [
    "# most_similar"
   ]
  },
  {
   "cell_type": "code",
   "execution_count": 322,
   "metadata": {},
   "outputs": [],
   "source": [
    "dict_1= dict(most_similar)"
   ]
  },
  {
   "cell_type": "code",
   "execution_count": 318,
   "metadata": {},
   "outputs": [
    {
     "data": {
      "text/plain": [
       "{'-rf', '/tmp/', 'Remove', 'any', 'files', 'guid', 'lingering', 'rm', 'tmp'}"
      ]
     },
     "execution_count": 318,
     "metadata": {},
     "output_type": "execute_result"
    }
   ],
   "source": [
    "cs = set(const_dict) & set(ms)\n",
    "cs"
   ]
  },
  {
   "cell_type": "code",
   "execution_count": 323,
   "metadata": {},
   "outputs": [
    {
     "name": "stdout",
     "output_type": "stream",
     "text": [
      "-0.12922970950603485\n",
      "0.11908363550901413\n",
      "-0.23340706527233124\n",
      "-0.10124753415584564\n",
      "-0.22650593519210815\n",
      "-0.13229884207248688\n",
      "-0.08270986378192902\n",
      "0.01736731268465519\n",
      "-0.038337063044309616\n"
     ]
    }
   ],
   "source": [
    "for key in cs:\n",
    "    print(dict_1[key])"
   ]
  },
  {
   "cell_type": "markdown",
   "metadata": {},
   "source": [
    "<h3>External datatset</h3>"
   ]
  },
  {
   "cell_type": "code",
   "execution_count": 313,
   "metadata": {},
   "outputs": [],
   "source": [
    "df_valid = pd.read_excel('sample380_inconst.xlsx')"
   ]
  },
  {
   "cell_type": "code",
   "execution_count": 314,
   "metadata": {},
   "outputs": [
    {
     "data": {
      "text/plain": [
       "12022    [AnsibleTask, TaskName, docker, check, existin...\n",
       "10322    [AnsibleTask, TaskName, Register, Provider, Fi...\n",
       "9748     [AnsibleTask, TaskName, Establishing, Variable...\n",
       "3040     [AnsibleTask, TaskName, Check, if, the, device...\n",
       "9249     [AnsibleTask, TaskName, lan, TaskDescription, ...\n",
       "                               ...                        \n",
       "4122     [AnsibleTask, TaskName, fail, if, dedicated_de...\n",
       "3484     [AnsibleTask, TaskName, fail, if, osd, and, md...\n",
       "4913     [AnsibleTask, TaskName, Fail, if, not, a, new,...\n",
       "3671     [AnsibleTask, TaskName, check, if, lvm_osds, i...\n",
       "3693     [AnsibleTask, TaskName, verify, osd_objectstor...\n",
       "Name: task_complete, Length: 380, dtype: object"
      ]
     },
     "execution_count": 314,
     "metadata": {},
     "output_type": "execute_result"
    }
   ],
   "source": [
    "with open('test_task_complete.pkl','rb') as input_file:\n",
    "    test_task_complete = pickle.load(input_file)\n",
    "test_task_complete"
   ]
  },
  {
   "cell_type": "code",
   "execution_count": 315,
   "metadata": {},
   "outputs": [
    {
     "data": {
      "text/plain": [
       "(380, 10)"
      ]
     },
     "execution_count": 315,
     "metadata": {},
     "output_type": "execute_result"
    }
   ],
   "source": [
    "# df_valid = df_valid.drop(columns=['Unnamed: 0'])\n",
    "df_valid.shape"
   ]
  },
  {
   "cell_type": "code",
   "execution_count": 316,
   "metadata": {},
   "outputs": [],
   "source": [
    "def Convert(string):\n",
    "    li = list(string.split(\" \"))\n",
    "    return li"
   ]
  },
  {
   "cell_type": "code",
   "execution_count": 317,
   "metadata": {},
   "outputs": [],
   "source": [
    "df_valid['task_name_toks'] = df_valid['task_name'].apply(lambda x: Convert(x))"
   ]
  },
  {
   "cell_type": "code",
   "execution_count": 318,
   "metadata": {},
   "outputs": [
    {
     "data": {
      "text/plain": [
       "0               [docker, |, check, existing, secret_key]\n",
       "1                      [Register, Provider, First, Time]\n",
       "2                               [Establishing, Variable]\n",
       "3      [Check, if, the, device, is, a, partition, or,...\n",
       "4                                                  [lan]\n",
       "                             ...                        \n",
       "375    [fail, if, dedicated_device, is, not, the, siz...\n",
       "376    [fail, if, osd, and, mds, range, is, filtered,...\n",
       "377       [Fail, if, not, a, new, release, of, Red, Hat]\n",
       "378    [check, if, lvm_osds, is, supported, by, the, ...\n",
       "379    [verify, osd_objectstore, is, 'filestore', whe...\n",
       "Name: task_name_toks, Length: 380, dtype: object"
      ]
     },
     "execution_count": 318,
     "metadata": {},
     "output_type": "execute_result"
    }
   ],
   "source": [
    "df_valid['task_name_toks']"
   ]
  },
  {
   "cell_type": "code",
   "execution_count": 321,
   "metadata": {},
   "outputs": [],
   "source": [
    "df_valid['task_complete'] = test_task_complete.values"
   ]
  },
  {
   "cell_type": "code",
   "execution_count": 322,
   "metadata": {},
   "outputs": [
    {
     "data": {
      "text/html": [
       "<div>\n",
       "<style scoped>\n",
       "    .dataframe tbody tr th:only-of-type {\n",
       "        vertical-align: middle;\n",
       "    }\n",
       "\n",
       "    .dataframe tbody tr th {\n",
       "        vertical-align: top;\n",
       "    }\n",
       "\n",
       "    .dataframe thead th {\n",
       "        text-align: right;\n",
       "    }\n",
       "</style>\n",
       "<table border=\"1\" class=\"dataframe\">\n",
       "  <thead>\n",
       "    <tr style=\"text-align: right;\">\n",
       "      <th></th>\n",
       "      <th>Unnamed: 0</th>\n",
       "      <th>task_name</th>\n",
       "      <th>method_description</th>\n",
       "      <th>mod_keys_found_string</th>\n",
       "      <th>pred_label</th>\n",
       "      <th>reviewer_1</th>\n",
       "      <th>reviewer_2</th>\n",
       "      <th>review_agreement</th>\n",
       "      <th>actual_label</th>\n",
       "      <th>is_prediction_correct</th>\n",
       "      <th>task_name_toks</th>\n",
       "      <th>task_complete</th>\n",
       "    </tr>\n",
       "  </thead>\n",
       "  <tbody>\n",
       "    <tr>\n",
       "      <th>0</th>\n",
       "      <td>12022</td>\n",
       "      <td>docker | check existing secret_key</td>\n",
       "      <td>{'shell': \"cat /etc/docket/prod.yaml | awk '/^...</td>\n",
       "      <td>shell</td>\n",
       "      <td>0</td>\n",
       "      <td>0</td>\n",
       "      <td>0</td>\n",
       "      <td>yes</td>\n",
       "      <td>0</td>\n",
       "      <td>1</td>\n",
       "      <td>[docker, |, check, existing, secret_key]</td>\n",
       "      <td>[AnsibleTask, TaskName, docker, check, existin...</td>\n",
       "    </tr>\n",
       "    <tr>\n",
       "      <th>1</th>\n",
       "      <td>10322</td>\n",
       "      <td>Register Provider First Time</td>\n",
       "      <td>{'shell': 'cat /var/plexguide/server.provider'...</td>\n",
       "      <td>shell</td>\n",
       "      <td>0</td>\n",
       "      <td>0</td>\n",
       "      <td>0</td>\n",
       "      <td>yes</td>\n",
       "      <td>0</td>\n",
       "      <td>1</td>\n",
       "      <td>[Register, Provider, First, Time]</td>\n",
       "      <td>[AnsibleTask, TaskName, Register, Provider, Fi...</td>\n",
       "    </tr>\n",
       "    <tr>\n",
       "      <th>2</th>\n",
       "      <td>9748</td>\n",
       "      <td>Establishing Variable</td>\n",
       "      <td>{'shell': 'echo {{program_var.stdout}}', 'regi...</td>\n",
       "      <td>shell</td>\n",
       "      <td>0</td>\n",
       "      <td>0</td>\n",
       "      <td>0</td>\n",
       "      <td>yes</td>\n",
       "      <td>0</td>\n",
       "      <td>1</td>\n",
       "      <td>[Establishing, Variable]</td>\n",
       "      <td>[AnsibleTask, TaskName, Establishing, Variable...</td>\n",
       "    </tr>\n",
       "    <tr>\n",
       "      <th>3</th>\n",
       "      <td>3040</td>\n",
       "      <td>Check if the device is a partition or a disk</td>\n",
       "      <td>{'shell': \"echo '{{ item }}' | egrep '/dev/(([...</td>\n",
       "      <td>shell</td>\n",
       "      <td>0</td>\n",
       "      <td>1</td>\n",
       "      <td>1</td>\n",
       "      <td>yes</td>\n",
       "      <td>1</td>\n",
       "      <td>0</td>\n",
       "      <td>[Check, if, the, device, is, a, partition, or,...</td>\n",
       "      <td>[AnsibleTask, TaskName, Check, if, the, device...</td>\n",
       "    </tr>\n",
       "    <tr>\n",
       "      <th>4</th>\n",
       "      <td>9249</td>\n",
       "      <td>lan</td>\n",
       "      <td>{'shell': \"hostname -I | awk '{print $1}' | se...</td>\n",
       "      <td>shell</td>\n",
       "      <td>0</td>\n",
       "      <td>0</td>\n",
       "      <td>0</td>\n",
       "      <td>yes</td>\n",
       "      <td>0</td>\n",
       "      <td>1</td>\n",
       "      <td>[lan]</td>\n",
       "      <td>[AnsibleTask, TaskName, lan, TaskDescription, ...</td>\n",
       "    </tr>\n",
       "  </tbody>\n",
       "</table>\n",
       "</div>"
      ],
      "text/plain": [
       "   Unnamed: 0                                     task_name  \\\n",
       "0       12022            docker | check existing secret_key   \n",
       "1       10322                  Register Provider First Time   \n",
       "2        9748                         Establishing Variable   \n",
       "3        3040  Check if the device is a partition or a disk   \n",
       "4        9249                                           lan   \n",
       "\n",
       "                                  method_description mod_keys_found_string  \\\n",
       "0  {'shell': \"cat /etc/docket/prod.yaml | awk '/^...                 shell   \n",
       "1  {'shell': 'cat /var/plexguide/server.provider'...                 shell   \n",
       "2  {'shell': 'echo {{program_var.stdout}}', 'regi...                 shell   \n",
       "3  {'shell': \"echo '{{ item }}' | egrep '/dev/(([...                 shell   \n",
       "4  {'shell': \"hostname -I | awk '{print $1}' | se...                 shell   \n",
       "\n",
       "   pred_label  reviewer_1  reviewer_2 review_agreement  actual_label  \\\n",
       "0           0           0           0              yes             0   \n",
       "1           0           0           0              yes             0   \n",
       "2           0           0           0              yes             0   \n",
       "3           0           1           1              yes             1   \n",
       "4           0           0           0              yes             0   \n",
       "\n",
       "   is_prediction_correct                                     task_name_toks  \\\n",
       "0                      1           [docker, |, check, existing, secret_key]   \n",
       "1                      1                  [Register, Provider, First, Time]   \n",
       "2                      1                           [Establishing, Variable]   \n",
       "3                      0  [Check, if, the, device, is, a, partition, or,...   \n",
       "4                      1                                              [lan]   \n",
       "\n",
       "                                       task_complete  \n",
       "0  [AnsibleTask, TaskName, docker, check, existin...  \n",
       "1  [AnsibleTask, TaskName, Register, Provider, Fi...  \n",
       "2  [AnsibleTask, TaskName, Establishing, Variable...  \n",
       "3  [AnsibleTask, TaskName, Check, if, the, device...  \n",
       "4  [AnsibleTask, TaskName, lan, TaskDescription, ...  "
      ]
     },
     "execution_count": 322,
     "metadata": {},
     "output_type": "execute_result"
    }
   ],
   "source": [
    "df_valid.head()"
   ]
  },
  {
   "cell_type": "code",
   "execution_count": 425,
   "metadata": {},
   "outputs": [],
   "source": [
    "df_valid2 = deepcopy(df_valid)"
   ]
  },
  {
   "cell_type": "code",
   "execution_count": 426,
   "metadata": {},
   "outputs": [
    {
     "name": "stdout",
     "output_type": "stream",
     "text": [
      "(193, 12)\n",
      "(187, 12)\n"
     ]
    }
   ],
   "source": [
    "consistent_0_val = df_valid2[(df_valid2['actual_label'] == 0) & (df_valid2['pred_label'] == 0)]\n",
    "# consistent_0 = df[df['label'] == 0 and df['pred_label'] == 0]\n",
    "consistent_0_val = consistent_0_val.reset_index(drop=True)\n",
    "# consistent_0 = consistent_0.reset_index(drop=True)\n",
    "print(consistent_0_val.shape)\n",
    "inconsistent_0_val = df_valid2[(df_valid2['actual_label'] == 1) & (df_valid2['pred_label'] == 0)]\n",
    "# inconsistent_1 = df[df['label'] == 1 and df['pred_label'] == 0]\n",
    "inconsistent_0_val = inconsistent_0_val.reset_index(drop=True)\n",
    "# inconsistent_1 = inconsistent_1.reset_index(drop=True)\n",
    "print(inconsistent_0_val.shape)"
   ]
  },
  {
   "cell_type": "code",
   "execution_count": 427,
   "metadata": {},
   "outputs": [
    {
     "data": {
      "text/plain": [
       "(121, 12)"
      ]
     },
     "execution_count": 427,
     "metadata": {},
     "output_type": "execute_result"
    }
   ],
   "source": [
    "con_val = consistent_0_val[consistent_0_val['task_complete'].map(len) < 25].reset_index(drop=True)\n",
    "# con = consistent_0\n",
    "con_val.shape"
   ]
  },
  {
   "cell_type": "code",
   "execution_count": 428,
   "metadata": {},
   "outputs": [],
   "source": [
    "def shell_in(row):\n",
    "    return 'shell' in row\n",
    "con_val['shell_in'] = con_val['task_complete'].apply(lambda x: shell_in(x))"
   ]
  },
  {
   "cell_type": "code",
   "execution_count": 429,
   "metadata": {},
   "outputs": [],
   "source": [
    "con_val = con_val[con_val['shell_in'] == True].reset_index(drop=True)"
   ]
  },
  {
   "cell_type": "code",
   "execution_count": 430,
   "metadata": {},
   "outputs": [
    {
     "data": {
      "text/plain": [
       "(17, 13)"
      ]
     },
     "execution_count": 430,
     "metadata": {},
     "output_type": "execute_result"
    }
   ],
   "source": [
    "con_val.shape"
   ]
  },
  {
   "cell_type": "code",
   "execution_count": 435,
   "metadata": {},
   "outputs": [
    {
     "data": {
      "text/plain": [
       "['AnsibleTask',\n",
       " 'TaskName',\n",
       " 'Java',\n",
       " 'Source',\n",
       " 'environment',\n",
       " 'variables',\n",
       " 'TaskDescription',\n",
       " 'shell',\n",
       " 'source',\n",
       " '/etc/profile',\n",
       " 'args',\n",
       " 'executable',\n",
       " '/bin/bash',\n",
       " 'changed_when',\n",
       " 'False',\n",
       " 'tags',\n",
       " 'skip_ansible_lint']"
      ]
     },
     "execution_count": 435,
     "metadata": {},
     "output_type": "execute_result"
    }
   ],
   "source": [
    "consistent_obser_val = con_val['task_complete'][5]\n",
    "# consistent_obser.remove(':')\n",
    "consistent_obser_val"
   ]
  },
  {
   "cell_type": "code",
   "execution_count": 437,
   "metadata": {},
   "outputs": [
    {
     "data": {
      "text/plain": [
       "(128, 13)"
      ]
     },
     "execution_count": 437,
     "metadata": {},
     "output_type": "execute_result"
    }
   ],
   "source": [
    "incon_val = inconsistent_0_val[inconsistent_0_val['task_complete'].map(len) < 25].reset_index(drop=True)\n",
    "# con = consistent_0\n",
    "incon_val.shape"
   ]
  },
  {
   "cell_type": "code",
   "execution_count": 436,
   "metadata": {},
   "outputs": [],
   "source": [
    "# 'shell' in inconsistent['tasks'][0]\n",
    "def shell_in(row):\n",
    "    return 'shell' in row\n",
    "inconsistent_0_val['shell_in'] = inconsistent_0_val['task_complete'].apply(lambda x: shell_in(x))"
   ]
  },
  {
   "cell_type": "code",
   "execution_count": 438,
   "metadata": {},
   "outputs": [],
   "source": [
    "incon_val = incon_val[incon_val['shell_in'] == True].reset_index(drop=True)"
   ]
  },
  {
   "cell_type": "code",
   "execution_count": 439,
   "metadata": {},
   "outputs": [
    {
     "data": {
      "text/plain": [
       "(12, 13)"
      ]
     },
     "execution_count": 439,
     "metadata": {},
     "output_type": "execute_result"
    }
   ],
   "source": [
    "incon_val.shape"
   ]
  },
  {
   "cell_type": "code",
   "execution_count": 447,
   "metadata": {},
   "outputs": [
    {
     "data": {
      "text/plain": [
       "['AnsibleTask',\n",
       " 'TaskName',\n",
       " 'reload',\n",
       " 'systemd',\n",
       " 'TaskDescription',\n",
       " 'shell',\n",
       " 'systemctl',\n",
       " 'daemon-reload',\n",
       " 'changed_when',\n",
       " 'False',\n",
       " 'when',\n",
       " 'mongodb_is_systemd']"
      ]
     },
     "execution_count": 447,
     "metadata": {},
     "output_type": "execute_result"
    }
   ],
   "source": [
    "inconsistent_obser_val = incon_val['task_complete'][6]\n",
    "# consistent_obser.remove(':')\n",
    "inconsistent_obser_val"
   ]
  },
  {
   "cell_type": "code",
   "execution_count": 448,
   "metadata": {},
   "outputs": [],
   "source": [
    "incon_dict_val = {}\n",
    "for tok in inconsistent_obser_val:\n",
    "    if (tok == 'AnsibleTask') or (tok == 'TaskDescription') or (tok == 'TaskName'):\n",
    "        continue\n",
    "    else:\n",
    "        try:\n",
    "            incon_dict_val[tok] = w2v.wv[tok]\n",
    "        except:\n",
    "            incon_dict_val[tok] = np.zeros((100, ))\n",
    "        \n",
    "    \n",
    "const_dict_val = {}\n",
    "for tok in consistent_obser_val:\n",
    "    if (tok == 'AnsibleTask') or (tok == 'TaskDescription') or (tok == 'TaskName'):\n",
    "        continue\n",
    "    else:\n",
    "        try:\n",
    "            const_dict_val[tok] = w2v.wv[tok]\n",
    "        except:\n",
    "            const_dict_val[tok] = np.zeros((100, ))\n",
    "            \n",
    "def removekey(d, key):\n",
    "    r = deepcopy(d)\n",
    "    del r[key]\n",
    "    return r\n",
    "\n",
    "for k in const_dict_val:\n",
    "    if not const_dict_val[k].any():\n",
    "        const_dict_val = removekey(const_dict_val,k)\n",
    "        \n",
    "for k in incon_dict_val:\n",
    "    if not incon_dict_val[k].any():\n",
    "        incon_dict_val = removekey(incon_dict_val,k)"
   ]
  },
  {
   "cell_type": "code",
   "execution_count": 449,
   "metadata": {},
   "outputs": [],
   "source": [
    "# const_dict_val"
   ]
  },
  {
   "cell_type": "code",
   "execution_count": 450,
   "metadata": {},
   "outputs": [],
   "source": [
    "# incon_dict_val"
   ]
  },
  {
   "cell_type": "code",
   "execution_count": 451,
   "metadata": {},
   "outputs": [],
   "source": [
    "def tsne_plot(task_dict,obs):\n",
    "    \"Creates and TSNE model and plots it\"\n",
    "    labels = []\n",
    "    tokens = []\n",
    "\n",
    "    for word in task_dict.keys():\n",
    "        tokens.append(task_dict[word])\n",
    "        labels.append(word)\n",
    "    \n",
    "    tsne_model = TSNE(perplexity=10, n_components=2, init='pca', n_iter=1000)\n",
    "    new_values = tsne_model.fit_transform(tokens)\n",
    "\n",
    "    x = []\n",
    "    y = []\n",
    "    for value in new_values:\n",
    "        x.append(value[0])\n",
    "        y.append(value[1])\n",
    "        \n",
    "    plt.figure(figsize=(8, 8)) \n",
    "    for i in range(len(x)):\n",
    "        plt.scatter(x[i],y[i])\n",
    "        plt.annotate(labels[i],\n",
    "                     xy=(x[i], y[i]),\n",
    "                     xytext=(5, 2),\n",
    "                     textcoords='offset points',\n",
    "                     ha='right',\n",
    "                     va='bottom')\n",
    "        if (obs == 'consistent'):\n",
    "            plt.savefig('tsne/tsne_consistent_00_shell_validation.png')\n",
    "        else:\n",
    "            plt.savefig('tsne/tsne_inconsistent_01_shell_validation.png')\n",
    "    plt.show()"
   ]
  },
  {
   "cell_type": "code",
   "execution_count": 453,
   "metadata": {},
   "outputs": [
    {
     "data": {
      "image/png": "[encoded data removed]",
      "text/plain": [
       "<Figure size 576x576 with 1 Axes>"
      ]
     },
     "metadata": {
      "needs_background": "light"
     },
     "output_type": "display_data"
    }
   ],
   "source": [
    "tsne_plot(incon_dict_val,'inconsistent')"
   ]
  },
  {
   "cell_type": "code",
   "execution_count": 446,
   "metadata": {},
   "outputs": [
    {
     "data": {
      "image/png": "[encoded data removed]",
      "text/plain": [
       "<Figure size 576x576 with 1 Axes>"
      ]
     },
     "metadata": {
      "needs_background": "light"
     },
     "output_type": "display_data"
    }
   ],
   "source": [
    "tsne_plot(const_dict_val,'consistent')"
   ]
  },
  {
   "cell_type": "code",
   "execution_count": 596,
   "metadata": {},
   "outputs": [
    {
     "data": {
      "text/plain": [
       "9651"
      ]
     },
     "execution_count": 596,
     "metadata": {},
     "output_type": "execute_result"
    }
   ],
   "source": [
    "len(vocab)"
   ]
  },
  {
   "cell_type": "code",
   "execution_count": 584,
   "metadata": {},
   "outputs": [
    {
     "data": {
      "text/plain": [
       "Index(['repo_count', 'task_name', 'method_description', 'mod_keys_found',\n",
       "       'mod_values_found', 'key_module_text', 'value_module_text', 'third_ast',\n",
       "       'token_task_names', 'third_tokens', 'descr_one_string',\n",
       "       'token_names_one_string', 'task_com', 'task_complete'],\n",
       "      dtype='object')"
      ]
     },
     "execution_count": 584,
     "metadata": {},
     "output_type": "execute_result"
    }
   ],
   "source": [
    "with open('val_set.pkl', 'rb') as input_file:\n",
    "    val_set = pickle.load(input_file)   \n",
    "val_set.columns"
   ]
  },
  {
   "cell_type": "code",
   "execution_count": 587,
   "metadata": {},
   "outputs": [],
   "source": [
    "def to_list(row):\n",
    "    \n",
    "    ll = list(row.split(\" \"))\n",
    "    \n",
    "    return ll\n",
    "    \n",
    "val_set['task_name2'] = val_set['task_name'].apply(lambda x: to_list(x))"
   ]
  },
  {
   "cell_type": "code",
   "execution_count": 589,
   "metadata": {},
   "outputs": [],
   "source": [
    "t_list = [task for task in val_set['task_name2']]"
   ]
  },
  {
   "cell_type": "code",
   "execution_count": 590,
   "metadata": {},
   "outputs": [],
   "source": [
    "unique_words_val = []\n",
    "for t in t_list:\n",
    "    for token in t:\n",
    "        if token not in unique_words_val:\n",
    "            unique_words_val.append(token)\n",
    "        else:\n",
    "            continue"
   ]
  },
  {
   "cell_type": "code",
   "execution_count": 592,
   "metadata": {},
   "outputs": [
    {
     "data": {
      "text/plain": [
       "4791"
      ]
     },
     "execution_count": 592,
     "metadata": {},
     "output_type": "execute_result"
    }
   ],
   "source": [
    "len(unique_words_val)"
   ]
  },
  {
   "cell_type": "code",
   "execution_count": 594,
   "metadata": {},
   "outputs": [
    {
     "data": {
      "text/plain": [
       "1316"
      ]
     },
     "execution_count": 594,
     "metadata": {},
     "output_type": "execute_result"
    }
   ],
   "source": [
    "len(list(set(unique_words_val) & set(vocab)))"
   ]
  },
  {
   "cell_type": "code",
   "execution_count": 595,
   "metadata": {},
   "outputs": [
    {
     "data": {
      "text/plain": [
       "0.2746816948445001"
      ]
     },
     "execution_count": 595,
     "metadata": {},
     "output_type": "execute_result"
    }
   ],
   "source": [
    "1316/4791"
   ]
  },
  {
   "cell_type": "code",
   "execution_count": null,
   "metadata": {},
   "outputs": [],
   "source": []
  }
 ],
 "metadata": {
  "kernelspec": {
   "display_name": "Python 3",
   "language": "python",
   "name": "python3"
  },
  "language_info": {
   "codemirror_mode": {
    "name": "ipython",
    "version": 3
   },
   "file_extension": ".py",
   "mimetype": "text/x-python",
   "name": "python",
   "nbconvert_exporter": "python",
   "pygments_lexer": "ipython3",
   "version": "3.8.3"
  }
 },
 "nbformat": 4,
 "nbformat_minor": 4
}
